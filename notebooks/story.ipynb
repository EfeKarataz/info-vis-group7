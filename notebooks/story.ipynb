{
 "cells": [
  {
   "cell_type": "code",
   "execution_count": 1,
   "id": "79f8afc5-0c6d-4173-bea1-a2df6ef24293",
   "metadata": {
    "tags": [
     "remove_input"
    ]
   },
   "outputs": [
    {
     "data": {
      "text/html": [
       "<style>\n",
       ".cartesianlayer .bars path,\n",
       ".colorbar .cbfills,\n",
       ".slider-rail-rect { clip-path: inset(0% 0% 0% 0% round 6px); }\n",
       "\n",
       ".legendundefined { clip-path: inset(0% 0% 0% 0% round 3px); }\n",
       "\n",
       ".gtitle .line:nth-of-type(2) { fill: grey; }\n",
       "\n",
       ".output_area:last-of-type,\n",
       ".cell_output {\n",
       "    filter: drop-shadow(0px 0px 10px rgba(0, 0, 0, 0.2));\n",
       "    -webkit-backdrop-filter: blur(0); // fixes a safari drop-shadow bug\n",
       "}\n",
       "\n",
       "#notebook-container img,\n",
       "main img {\n",
       "    box-shadow: 0px 0px 10px rgba(0, 0, 0, 0.2);\n",
       "}\n",
       "\n",
       "#notebook-container img,\n",
       "main img,\n",
       ".plotly-graph-div {\n",
       "    border-radius: 10px;\n",
       "    overflow: hidden;\n",
       "    border: 1px solid #d8bea1;\n",
       "}\n",
       "</style>\n"
      ],
      "text/plain": [
       "<IPython.core.display.HTML object>"
      ]
     },
     "metadata": {},
     "output_type": "display_data"
    }
   ],
   "source": [
    "%%html\n",
    "<style>\n",
    ".cartesianlayer .bars path,\n",
    ".colorbar .cbfills,\n",
    ".slider-rail-rect { clip-path: inset(0% 0% 0% 0% round 6px); }\n",
    "\n",
    ".legendundefined { clip-path: inset(0% 0% 0% 0% round 3px); }\n",
    "\n",
    ".gtitle .line:nth-of-type(2) { fill: grey; }\n",
    "\n",
    ".output_area:last-of-type,\n",
    ".cell_output {\n",
    "    filter: drop-shadow(0px 0px 10px rgba(0, 0, 0, 0.2));\n",
    "    -webkit-backdrop-filter: blur(0); // fixes a safari drop-shadow bug\n",
    "}\n",
    "\n",
    "#notebook-container img,\n",
    "main img {\n",
    "    box-shadow: 0px 0px 10px rgba(0, 0, 0, 0.2);\n",
    "}\n",
    "\n",
    "#notebook-container img,\n",
    "main img,\n",
    ".plotly-graph-div {\n",
    "    border-radius: 10px;\n",
    "    overflow: hidden;\n",
    "    border: 1px solid #d8bea1;\n",
    "}\n",
    "</style>"
   ]
  },
  {
   "cell_type": "markdown",
   "id": "0f385de2-31a8-470c-b0e3-f61d4a86a7d9",
   "metadata": {
    "tags": [
     "remove_input"
    ]
   },
   "source": [
    "# Gamen of Blokken? De Impact van Games op Studieprestaties\n",
    "![](../static/images/banner.png)"
   ]
  },
  {
   "cell_type": "markdown",
   "id": "4dfc0a71-359a-4714-a228-5097a83b5c8a",
   "metadata": {
    "tags": [
     "remove_input"
    ]
   },
   "source": [
    "## Argumenten, Perspectieven en Visualisaties"
   ]
  },
  {
   "cell_type": "markdown",
   "id": "ddf44e6f-2dc9-486d-a9a6-fa2d6c0840ff",
   "metadata": {
    "tags": [
     "remove_input"
    ]
   },
   "source": [
    "## Perspectief 1: Gamen heeft een positief invloed op studenten\n",
    "\n",
    "Dit perspectief stelt dat gamen een positieve bijdrage kan leveren aan het welzijn van studenten, zoals het verlagen van stress en het verbeteren van mentale gezondheid. Dit kan indirect leiden tot betere studieprestaties, mits gamen binnen gezonde grenzen blijft."
   ]
  },
  {
   "cell_type": "markdown",
   "id": "b7e1a4ad-0541-4442-9fa9-4e979adec65b",
   "metadata": {
    "tags": [
     "remove_input"
    ]
   },
   "source": [
    "### Argument 1 voor perspectief 1: Digitale toegang en ontspanning als sleutel tot betere prestaties\n",
    "\n",
    "De combinatie van digitale toegang en actieve ontspanning buiten school lijkt positief samen te hangen met betere prestaties."
   ]
  },
  {
   "cell_type": "code",
   "execution_count": 6,
   "id": "4bd6b11d-5273-4d66-b083-3be9a4d1c661",
   "metadata": {
    "tags": [
     "remove_input"
    ]
   },
   "outputs": [
    {
     "data": {
      "application/vnd.plotly.v1+json": {
       "config": {
        "plotlyServerURL": "https://plot.ly"
       },
       "data": [
        {
         "coloraxis": "coloraxis",
         "histfunc": "sum",
         "hovertemplate": "Internet_Access=%{x}<br>Extracurricular_Activities=%{y}<br>sum of Gemiddelde Examenscore=%{z}<extra></extra>",
         "name": "",
         "texttemplate": "%{z}",
         "type": "histogram2d",
         "x": [
          "No",
          "No",
          "Yes",
          "Yes"
         ],
         "xaxis": "x",
         "xbingroup": "x",
         "y": [
          "No",
          "Yes",
          "No",
          "Yes"
         ],
         "yaxis": "y",
         "ybingroup": "y",
         "z": {
          "_inputArray": {
           "0": 66.2,
           "1": 66.8,
           "2": 67,
           "3": 67.5,
           "bdata": "zczMzMyMUEAzMzMzM7NQQAAAAAAAwFBAAAAAAADgUEA=",
           "dtype": "f8",
           "shape": "4"
          },
          "bdata": "zczMzMyMUEAzMzMzM7NQQAAAAAAAwFBAAAAAAADgUEA=",
          "dtype": "f8"
         }
        }
       ],
       "layout": {
        "autosize": true,
        "coloraxis": {
         "colorbar": {
          "title": {
           "text": "Examenscore"
          }
         },
         "colorscale": [
          [
           0,
           "rgb(247,251,255)"
          ],
          [
           0.125,
           "rgb(222,235,247)"
          ],
          [
           0.25,
           "rgb(198,219,239)"
          ],
          [
           0.375,
           "rgb(158,202,225)"
          ],
          [
           0.5,
           "rgb(107,174,214)"
          ],
          [
           0.625,
           "rgb(66,146,198)"
          ],
          [
           0.75,
           "rgb(33,113,181)"
          ],
          [
           0.875,
           "rgb(8,81,156)"
          ],
          [
           1,
           "rgb(8,48,107)"
          ]
         ]
        },
        "legend": {
         "tracegroupgap": 0
        },
        "plot_bgcolor": "white",
        "template": {
         "data": {
          "bar": [
           {
            "error_x": {
             "color": "#2a3f5f"
            },
            "error_y": {
             "color": "#2a3f5f"
            },
            "marker": {
             "line": {
              "color": "#E5ECF6",
              "width": 0
             },
             "pattern": {
              "fillmode": "overlay",
              "size": 10,
              "solidity": 0.2
             }
            },
            "type": "bar"
           }
          ],
          "barpolar": [
           {
            "marker": {
             "line": {
              "color": "#E5ECF6",
              "width": 0.5
             },
             "pattern": {
              "fillmode": "overlay",
              "size": 10,
              "solidity": 0.2
             }
            },
            "type": "barpolar"
           }
          ],
          "carpet": [
           {
            "aaxis": {
             "endlinecolor": "#2a3f5f",
             "gridcolor": "white",
             "linecolor": "white",
             "minorgridcolor": "white",
             "startlinecolor": "#2a3f5f"
            },
            "baxis": {
             "endlinecolor": "#2a3f5f",
             "gridcolor": "white",
             "linecolor": "white",
             "minorgridcolor": "white",
             "startlinecolor": "#2a3f5f"
            },
            "type": "carpet"
           }
          ],
          "choropleth": [
           {
            "colorbar": {
             "outlinewidth": 0,
             "ticks": ""
            },
            "type": "choropleth"
           }
          ],
          "contour": [
           {
            "colorbar": {
             "outlinewidth": 0,
             "ticks": ""
            },
            "colorscale": [
             [
              0,
              "#0d0887"
             ],
             [
              0.1111111111111111,
              "#46039f"
             ],
             [
              0.2222222222222222,
              "#7201a8"
             ],
             [
              0.3333333333333333,
              "#9c179e"
             ],
             [
              0.4444444444444444,
              "#bd3786"
             ],
             [
              0.5555555555555556,
              "#d8576b"
             ],
             [
              0.6666666666666666,
              "#ed7953"
             ],
             [
              0.7777777777777778,
              "#fb9f3a"
             ],
             [
              0.8888888888888888,
              "#fdca26"
             ],
             [
              1,
              "#f0f921"
             ]
            ],
            "type": "contour"
           }
          ],
          "contourcarpet": [
           {
            "colorbar": {
             "outlinewidth": 0,
             "ticks": ""
            },
            "type": "contourcarpet"
           }
          ],
          "heatmap": [
           {
            "colorbar": {
             "outlinewidth": 0,
             "ticks": ""
            },
            "colorscale": [
             [
              0,
              "#0d0887"
             ],
             [
              0.1111111111111111,
              "#46039f"
             ],
             [
              0.2222222222222222,
              "#7201a8"
             ],
             [
              0.3333333333333333,
              "#9c179e"
             ],
             [
              0.4444444444444444,
              "#bd3786"
             ],
             [
              0.5555555555555556,
              "#d8576b"
             ],
             [
              0.6666666666666666,
              "#ed7953"
             ],
             [
              0.7777777777777778,
              "#fb9f3a"
             ],
             [
              0.8888888888888888,
              "#fdca26"
             ],
             [
              1,
              "#f0f921"
             ]
            ],
            "type": "heatmap"
           }
          ],
          "histogram": [
           {
            "marker": {
             "pattern": {
              "fillmode": "overlay",
              "size": 10,
              "solidity": 0.2
             }
            },
            "type": "histogram"
           }
          ],
          "histogram2d": [
           {
            "colorbar": {
             "outlinewidth": 0,
             "ticks": ""
            },
            "colorscale": [
             [
              0,
              "#0d0887"
             ],
             [
              0.1111111111111111,
              "#46039f"
             ],
             [
              0.2222222222222222,
              "#7201a8"
             ],
             [
              0.3333333333333333,
              "#9c179e"
             ],
             [
              0.4444444444444444,
              "#bd3786"
             ],
             [
              0.5555555555555556,
              "#d8576b"
             ],
             [
              0.6666666666666666,
              "#ed7953"
             ],
             [
              0.7777777777777778,
              "#fb9f3a"
             ],
             [
              0.8888888888888888,
              "#fdca26"
             ],
             [
              1,
              "#f0f921"
             ]
            ],
            "type": "histogram2d"
           }
          ],
          "histogram2dcontour": [
           {
            "colorbar": {
             "outlinewidth": 0,
             "ticks": ""
            },
            "colorscale": [
             [
              0,
              "#0d0887"
             ],
             [
              0.1111111111111111,
              "#46039f"
             ],
             [
              0.2222222222222222,
              "#7201a8"
             ],
             [
              0.3333333333333333,
              "#9c179e"
             ],
             [
              0.4444444444444444,
              "#bd3786"
             ],
             [
              0.5555555555555556,
              "#d8576b"
             ],
             [
              0.6666666666666666,
              "#ed7953"
             ],
             [
              0.7777777777777778,
              "#fb9f3a"
             ],
             [
              0.8888888888888888,
              "#fdca26"
             ],
             [
              1,
              "#f0f921"
             ]
            ],
            "type": "histogram2dcontour"
           }
          ],
          "mesh3d": [
           {
            "colorbar": {
             "outlinewidth": 0,
             "ticks": ""
            },
            "type": "mesh3d"
           }
          ],
          "parcoords": [
           {
            "line": {
             "colorbar": {
              "outlinewidth": 0,
              "ticks": ""
             }
            },
            "type": "parcoords"
           }
          ],
          "pie": [
           {
            "automargin": true,
            "type": "pie"
           }
          ],
          "scatter": [
           {
            "fillpattern": {
             "fillmode": "overlay",
             "size": 10,
             "solidity": 0.2
            },
            "type": "scatter"
           }
          ],
          "scatter3d": [
           {
            "line": {
             "colorbar": {
              "outlinewidth": 0,
              "ticks": ""
             }
            },
            "marker": {
             "colorbar": {
              "outlinewidth": 0,
              "ticks": ""
             }
            },
            "type": "scatter3d"
           }
          ],
          "scattercarpet": [
           {
            "marker": {
             "colorbar": {
              "outlinewidth": 0,
              "ticks": ""
             }
            },
            "type": "scattercarpet"
           }
          ],
          "scattergeo": [
           {
            "marker": {
             "colorbar": {
              "outlinewidth": 0,
              "ticks": ""
             }
            },
            "type": "scattergeo"
           }
          ],
          "scattergl": [
           {
            "marker": {
             "colorbar": {
              "outlinewidth": 0,
              "ticks": ""
             }
            },
            "type": "scattergl"
           }
          ],
          "scattermap": [
           {
            "marker": {
             "colorbar": {
              "outlinewidth": 0,
              "ticks": ""
             }
            },
            "type": "scattermap"
           }
          ],
          "scattermapbox": [
           {
            "marker": {
             "colorbar": {
              "outlinewidth": 0,
              "ticks": ""
             }
            },
            "type": "scattermapbox"
           }
          ],
          "scatterpolar": [
           {
            "marker": {
             "colorbar": {
              "outlinewidth": 0,
              "ticks": ""
             }
            },
            "type": "scatterpolar"
           }
          ],
          "scatterpolargl": [
           {
            "marker": {
             "colorbar": {
              "outlinewidth": 0,
              "ticks": ""
             }
            },
            "type": "scatterpolargl"
           }
          ],
          "scatterternary": [
           {
            "marker": {
             "colorbar": {
              "outlinewidth": 0,
              "ticks": ""
             }
            },
            "type": "scatterternary"
           }
          ],
          "surface": [
           {
            "colorbar": {
             "outlinewidth": 0,
             "ticks": ""
            },
            "colorscale": [
             [
              0,
              "#0d0887"
             ],
             [
              0.1111111111111111,
              "#46039f"
             ],
             [
              0.2222222222222222,
              "#7201a8"
             ],
             [
              0.3333333333333333,
              "#9c179e"
             ],
             [
              0.4444444444444444,
              "#bd3786"
             ],
             [
              0.5555555555555556,
              "#d8576b"
             ],
             [
              0.6666666666666666,
              "#ed7953"
             ],
             [
              0.7777777777777778,
              "#fb9f3a"
             ],
             [
              0.8888888888888888,
              "#fdca26"
             ],
             [
              1,
              "#f0f921"
             ]
            ],
            "type": "surface"
           }
          ],
          "table": [
           {
            "cells": {
             "fill": {
              "color": "#EBF0F8"
             },
             "line": {
              "color": "white"
             }
            },
            "header": {
             "fill": {
              "color": "#C8D4E3"
             },
             "line": {
              "color": "white"
             }
            },
            "type": "table"
           }
          ]
         },
         "layout": {
          "annotationdefaults": {
           "arrowcolor": "#343a42",
           "arrowhead": 0,
           "arrowwidth": 1
          },
          "autotypenumbers": "strict",
          "coloraxis": {
           "colorbar": {
            "outlinewidth": 0,
            "ticks": ""
           }
          },
          "colorscale": {
           "diverging": [
            [
             0,
             "#8e0152"
            ],
            [
             0.1,
             "#c51b7d"
            ],
            [
             0.2,
             "#de77ae"
            ],
            [
             0.3,
             "#f1b6da"
            ],
            [
             0.4,
             "#fde0ef"
            ],
            [
             0.5,
             "#f7f7f7"
            ],
            [
             0.6,
             "#e6f5d0"
            ],
            [
             0.7,
             "#b8e186"
            ],
            [
             0.8,
             "#7fbc41"
            ],
            [
             0.9,
             "#4d9221"
            ],
            [
             1,
             "#276419"
            ]
           ],
           "sequential": [
            [
             0,
             "#0d0887"
            ],
            [
             0.1111111111111111,
             "#46039f"
            ],
            [
             0.2222222222222222,
             "#7201a8"
            ],
            [
             0.3333333333333333,
             "#9c179e"
            ],
            [
             0.4444444444444444,
             "#bd3786"
            ],
            [
             0.5555555555555556,
             "#d8576b"
            ],
            [
             0.6666666666666666,
             "#ed7953"
            ],
            [
             0.7777777777777778,
             "#fb9f3a"
            ],
            [
             0.8888888888888888,
             "#fdca26"
            ],
            [
             1,
             "#f0f921"
            ]
           ],
           "sequentialminus": [
            [
             0,
             "#0d0887"
            ],
            [
             0.1111111111111111,
             "#46039f"
            ],
            [
             0.2222222222222222,
             "#7201a8"
            ],
            [
             0.3333333333333333,
             "#9c179e"
            ],
            [
             0.4444444444444444,
             "#bd3786"
            ],
            [
             0.5555555555555556,
             "#d8576b"
            ],
            [
             0.6666666666666666,
             "#ed7953"
            ],
            [
             0.7777777777777778,
             "#fb9f3a"
            ],
            [
             0.8888888888888888,
             "#fdca26"
            ],
            [
             1,
             "#f0f921"
            ]
           ]
          },
          "colorway": [
           "#343a42",
           "#4edcda",
           "#4c75eb",
           "#ef4de5",
           "#f74e4e",
           "#2d8923",
           "#f7b24e",
           "#2b9694",
           "#3a34b5",
           "#a736a0",
           "#b33c3c",
           "#2d8923"
          ],
          "font": {
           "color": "#343a42"
          },
          "geo": {
           "bgcolor": "white",
           "lakecolor": "white",
           "landcolor": "#E5ECF6",
           "showlakes": true,
           "showland": true,
           "subunitcolor": "white"
          },
          "hoverlabel": {
           "align": "left"
          },
          "hovermode": "closest",
          "mapbox": {
           "style": "light"
          },
          "paper_bgcolor": "#fdead4",
          "plot_bgcolor": "rgba(0, 0, 0, 0)",
          "polar": {
           "angularaxis": {
            "gridcolor": "white",
            "linecolor": "white",
            "ticks": ""
           },
           "bgcolor": "#E5ECF6",
           "radialaxis": {
            "gridcolor": "white",
            "linecolor": "white",
            "ticks": ""
           }
          },
          "scene": {
           "xaxis": {
            "backgroundcolor": "#E5ECF6",
            "gridcolor": "white",
            "gridwidth": 2,
            "linecolor": "white",
            "showbackground": true,
            "ticks": "",
            "zerolinecolor": "white"
           },
           "yaxis": {
            "backgroundcolor": "#E5ECF6",
            "gridcolor": "white",
            "gridwidth": 2,
            "linecolor": "white",
            "showbackground": true,
            "ticks": "",
            "zerolinecolor": "white"
           },
           "zaxis": {
            "backgroundcolor": "#E5ECF6",
            "gridcolor": "white",
            "gridwidth": 2,
            "linecolor": "white",
            "showbackground": true,
            "ticks": "",
            "zerolinecolor": "white"
           }
          },
          "shapedefaults": {
           "line": {
            "color": "#2a3f5f"
           }
          },
          "ternary": {
           "aaxis": {
            "gridcolor": "white",
            "linecolor": "white",
            "ticks": ""
           },
           "baxis": {
            "gridcolor": "white",
            "linecolor": "white",
            "ticks": ""
           },
           "bgcolor": "#E5ECF6",
           "caxis": {
            "gridcolor": "white",
            "linecolor": "white",
            "ticks": ""
           }
          },
          "title": {
           "x": 0.5
          },
          "xaxis": {
           "automargin": true,
           "gridcolor": "#d8bea1",
           "linecolor": "white",
           "ticks": "",
           "title": {
            "standoff": 15
           },
           "zerolinecolor": "#d8bea1",
           "zerolinewidth": 1
          },
          "yaxis": {
           "automargin": true,
           "gridcolor": "#d8bea1",
           "linecolor": "white",
           "ticks": "",
           "title": {
            "standoff": 15
           },
           "zerolinecolor": "#d8bea1",
           "zerolinewidth": 1
          }
         }
        },
        "title": {
         "font": {
          "size": 20
         },
         "text": "Gemiddelde Examenscore per Internettoegang en Activiteiten"
        },
        "xaxis": {
         "anchor": "y",
         "autorange": true,
         "domain": [
          0,
          1
         ],
         "range": [
          -0.5,
          1.5
         ],
         "title": {
          "text": "Internettoegang"
         },
         "type": "category"
        },
        "yaxis": {
         "anchor": "x",
         "autorange": true,
         "domain": [
          0,
          1
         ],
         "range": [
          -0.5,
          1.5
         ],
         "title": {
          "text": "Extracurriculaire Activiteiten"
         },
         "type": "category"
        }
       }
      },
      "image/png": "[encoded data removed]"
     },
     "metadata": {},
     "output_type": "display_data"
    }
   ],
   "source": [
    "%run InfoVisualisation1.ipynb"
   ]
  },
  {
   "cell_type": "markdown",
   "id": "555f0817-9c4e-4a8b-b5aa-406e4d694ac7",
   "metadata": {
    "tags": [
     "remove_input"
    ]
   },
   "source": [
    "Deze heatmap toont de gemiddelde examenscore (kleurenschaal) van leerlingen, verdeeld naar toegang tot internet (x-as) en deelname aan extracurriculaire activiteiten (y-as). Donkerdere kleuren duiden op hogere scores. De grafiek laat zien hoe deze twee factoren samenhangen met de prestaties. Toch kan het ook zo zijn dat studenten online iets anders doen dan gamen, wat dus niet uit de visualisatie gehaald kan worden.\n",
    "\n",
    "Uit de \"Gemiddelde Examenscore per Internettoegang en Activiteiten\" visualisatie blijkt dat studenten die toegang hebben tot internet en deelnemen aan activiteiten buiten school scoren gemiddeld beter op examens. Dit ondersteunt het idee dat afleiding en ontspanning, zoals gamen binnen gezonde grenzen, een positieve invloed kunnen hebben op het welzijn en de prestaties van studenten. Daarnaast toont het onderzoe van Fish et al. (2018) dat het spelen van simpele videogames stress kan verminderen en het humeur kan verbeteren. Deze combinatie van ontspanning en toegang tot digitale middelen ondersteunt het idee dat gamen, mits binnen gezonde grenzen, een positieve invloed kan hebben op het welzijn en de schoolprestaties van studenten."
   ]
  },
  {
   "cell_type": "markdown",
   "id": "8114cf73-7fb8-4cd8-a537-8aebfd2a61f7",
   "metadata": {
    "tags": [
     "remove_input"
    ]
   },
   "source": [
    "### Argument 2 voor perspectief 1: De invloed van speelfrequentie op cijfers\n",
    "\n",
    "De staafdiagram toont het verband tussen speelfrequentie en cijfers. Studenten die vaker gamen behalen gemiddeld lagere cijfers dan studenten die nooit gamen."
   ]
  },
  {
   "cell_type": "code",
   "execution_count": 9,
   "id": "577ad907-ac2b-4b9b-bb5e-52aeb66c515b",
   "metadata": {
    "tags": [
     "remove_input"
    ]
   },
   "outputs": [
    {
     "data": {
      "application/vnd.plotly.v1+json": {
       "config": {
        "plotlyServerURL": "https://plot.ly"
       },
       "data": [
        {
         "hovertemplate": "Playing Often=%{x}<br>Gemiddeld Cijfer=%{y}<br>Number of Students=%{text}<extra></extra>",
         "legendgroup": "",
         "marker": {
          "color": "#4C78A8",
          "pattern": {
           "shape": ""
          }
         },
         "name": "",
         "orientation": "v",
         "showlegend": false,
         "text": {
          "_inputArray": {
           "0": 226,
           "1": 115,
           "2": 72,
           "3": 112,
           "4": 88,
           "5": 156,
           "bdata": "AAAAAABAbEAAAAAAAMBcQAAAAAAAAFJAAAAAAAAAXEAAAAAAAABWQAAAAAAAgGNA",
           "dtype": "f8",
           "shape": "6"
          },
          "bdata": "AAAAAABAbEAAAAAAAMBcQAAAAAAAAFJAAAAAAAAAXEAAAAAAAABWQAAAAAAAgGNA",
          "dtype": "f8"
         },
         "textposition": "outside",
         "type": "bar",
         "x": {
          "_inputArray": {
           "0": 0,
           "1": 1,
           "2": 2,
           "3": 3,
           "4": 4,
           "5": 5,
           "bdata": "AAECAwQF",
           "dtype": "i1",
           "shape": "6"
          },
          "bdata": "AAECAwQF",
          "dtype": "i1"
         },
         "xaxis": "x",
         "y": {
          "_inputArray": {
           "0": 81.46446902654868,
           "1": 70.95782608695652,
           "2": 75.58583333333334,
           "3": 73.76785714285714,
           "4": 77.03181818181818,
           "5": 80.40660256410257,
           "bdata": "BcJL3LldVED4rskFTb1RQLLkF0t+5VJAkiRJkiRxUkDylCBPCUJTQJTSwsYFGlRA",
           "dtype": "f8",
           "shape": "6"
          },
          "bdata": "BcJL3LldVED4rskFTb1RQLLkF0t+5VJAkiRJkiRxUkDylCBPCUJTQJTSwsYFGlRA",
          "dtype": "f8"
         },
         "yaxis": "y"
        }
       ],
       "layout": {
        "autosize": true,
        "barmode": "relative",
        "legend": {
         "tracegroupgap": 0
        },
        "plot_bgcolor": "white",
        "showlegend": false,
        "template": {
         "data": {
          "bar": [
           {
            "error_x": {
             "color": "#2a3f5f"
            },
            "error_y": {
             "color": "#2a3f5f"
            },
            "marker": {
             "line": {
              "color": "#E5ECF6",
              "width": 0
             },
             "pattern": {
              "fillmode": "overlay",
              "size": 10,
              "solidity": 0.2
             }
            },
            "type": "bar"
           }
          ],
          "barpolar": [
           {
            "marker": {
             "line": {
              "color": "#E5ECF6",
              "width": 0.5
             },
             "pattern": {
              "fillmode": "overlay",
              "size": 10,
              "solidity": 0.2
             }
            },
            "type": "barpolar"
           }
          ],
          "carpet": [
           {
            "aaxis": {
             "endlinecolor": "#2a3f5f",
             "gridcolor": "white",
             "linecolor": "white",
             "minorgridcolor": "white",
             "startlinecolor": "#2a3f5f"
            },
            "baxis": {
             "endlinecolor": "#2a3f5f",
             "gridcolor": "white",
             "linecolor": "white",
             "minorgridcolor": "white",
             "startlinecolor": "#2a3f5f"
            },
            "type": "carpet"
           }
          ],
          "choropleth": [
           {
            "colorbar": {
             "outlinewidth": 0,
             "ticks": ""
            },
            "type": "choropleth"
           }
          ],
          "contour": [
           {
            "colorbar": {
             "outlinewidth": 0,
             "ticks": ""
            },
            "colorscale": [
             [
              0,
              "#0d0887"
             ],
             [
              0.1111111111111111,
              "#46039f"
             ],
             [
              0.2222222222222222,
              "#7201a8"
             ],
             [
              0.3333333333333333,
              "#9c179e"
             ],
             [
              0.4444444444444444,
              "#bd3786"
             ],
             [
              0.5555555555555556,
              "#d8576b"
             ],
             [
              0.6666666666666666,
              "#ed7953"
             ],
             [
              0.7777777777777778,
              "#fb9f3a"
             ],
             [
              0.8888888888888888,
              "#fdca26"
             ],
             [
              1,
              "#f0f921"
             ]
            ],
            "type": "contour"
           }
          ],
          "contourcarpet": [
           {
            "colorbar": {
             "outlinewidth": 0,
             "ticks": ""
            },
            "type": "contourcarpet"
           }
          ],
          "heatmap": [
           {
            "colorbar": {
             "outlinewidth": 0,
             "ticks": ""
            },
            "colorscale": [
             [
              0,
              "#0d0887"
             ],
             [
              0.1111111111111111,
              "#46039f"
             ],
             [
              0.2222222222222222,
              "#7201a8"
             ],
             [
              0.3333333333333333,
              "#9c179e"
             ],
             [
              0.4444444444444444,
              "#bd3786"
             ],
             [
              0.5555555555555556,
              "#d8576b"
             ],
             [
              0.6666666666666666,
              "#ed7953"
             ],
             [
              0.7777777777777778,
              "#fb9f3a"
             ],
             [
              0.8888888888888888,
              "#fdca26"
             ],
             [
              1,
              "#f0f921"
             ]
            ],
            "type": "heatmap"
           }
          ],
          "histogram": [
           {
            "marker": {
             "pattern": {
              "fillmode": "overlay",
              "size": 10,
              "solidity": 0.2
             }
            },
            "type": "histogram"
           }
          ],
          "histogram2d": [
           {
            "colorbar": {
             "outlinewidth": 0,
             "ticks": ""
            },
            "colorscale": [
             [
              0,
              "#0d0887"
             ],
             [
              0.1111111111111111,
              "#46039f"
             ],
             [
              0.2222222222222222,
              "#7201a8"
             ],
             [
              0.3333333333333333,
              "#9c179e"
             ],
             [
              0.4444444444444444,
              "#bd3786"
             ],
             [
              0.5555555555555556,
              "#d8576b"
             ],
             [
              0.6666666666666666,
              "#ed7953"
             ],
             [
              0.7777777777777778,
              "#fb9f3a"
             ],
             [
              0.8888888888888888,
              "#fdca26"
             ],
             [
              1,
              "#f0f921"
             ]
            ],
            "type": "histogram2d"
           }
          ],
          "histogram2dcontour": [
           {
            "colorbar": {
             "outlinewidth": 0,
             "ticks": ""
            },
            "colorscale": [
             [
              0,
              "#0d0887"
             ],
             [
              0.1111111111111111,
              "#46039f"
             ],
             [
              0.2222222222222222,
              "#7201a8"
             ],
             [
              0.3333333333333333,
              "#9c179e"
             ],
             [
              0.4444444444444444,
              "#bd3786"
             ],
             [
              0.5555555555555556,
              "#d8576b"
             ],
             [
              0.6666666666666666,
              "#ed7953"
             ],
             [
              0.7777777777777778,
              "#fb9f3a"
             ],
             [
              0.8888888888888888,
              "#fdca26"
             ],
             [
              1,
              "#f0f921"
             ]
            ],
            "type": "histogram2dcontour"
           }
          ],
          "mesh3d": [
           {
            "colorbar": {
             "outlinewidth": 0,
             "ticks": ""
            },
            "type": "mesh3d"
           }
          ],
          "parcoords": [
           {
            "line": {
             "colorbar": {
              "outlinewidth": 0,
              "ticks": ""
             }
            },
            "type": "parcoords"
           }
          ],
          "pie": [
           {
            "automargin": true,
            "type": "pie"
           }
          ],
          "scatter": [
           {
            "fillpattern": {
             "fillmode": "overlay",
             "size": 10,
             "solidity": 0.2
            },
            "type": "scatter"
           }
          ],
          "scatter3d": [
           {
            "line": {
             "colorbar": {
              "outlinewidth": 0,
              "ticks": ""
             }
            },
            "marker": {
             "colorbar": {
              "outlinewidth": 0,
              "ticks": ""
             }
            },
            "type": "scatter3d"
           }
          ],
          "scattercarpet": [
           {
            "marker": {
             "colorbar": {
              "outlinewidth": 0,
              "ticks": ""
             }
            },
            "type": "scattercarpet"
           }
          ],
          "scattergeo": [
           {
            "marker": {
             "colorbar": {
              "outlinewidth": 0,
              "ticks": ""
             }
            },
            "type": "scattergeo"
           }
          ],
          "scattergl": [
           {
            "marker": {
             "colorbar": {
              "outlinewidth": 0,
              "ticks": ""
             }
            },
            "type": "scattergl"
           }
          ],
          "scattermap": [
           {
            "marker": {
             "colorbar": {
              "outlinewidth": 0,
              "ticks": ""
             }
            },
            "type": "scattermap"
           }
          ],
          "scattermapbox": [
           {
            "marker": {
             "colorbar": {
              "outlinewidth": 0,
              "ticks": ""
             }
            },
            "type": "scattermapbox"
           }
          ],
          "scatterpolar": [
           {
            "marker": {
             "colorbar": {
              "outlinewidth": 0,
              "ticks": ""
             }
            },
            "type": "scatterpolar"
           }
          ],
          "scatterpolargl": [
           {
            "marker": {
             "colorbar": {
              "outlinewidth": 0,
              "ticks": ""
             }
            },
            "type": "scatterpolargl"
           }
          ],
          "scatterternary": [
           {
            "marker": {
             "colorbar": {
              "outlinewidth": 0,
              "ticks": ""
             }
            },
            "type": "scatterternary"
           }
          ],
          "surface": [
           {
            "colorbar": {
             "outlinewidth": 0,
             "ticks": ""
            },
            "colorscale": [
             [
              0,
              "#0d0887"
             ],
             [
              0.1111111111111111,
              "#46039f"
             ],
             [
              0.2222222222222222,
              "#7201a8"
             ],
             [
              0.3333333333333333,
              "#9c179e"
             ],
             [
              0.4444444444444444,
              "#bd3786"
             ],
             [
              0.5555555555555556,
              "#d8576b"
             ],
             [
              0.6666666666666666,
              "#ed7953"
             ],
             [
              0.7777777777777778,
              "#fb9f3a"
             ],
             [
              0.8888888888888888,
              "#fdca26"
             ],
             [
              1,
              "#f0f921"
             ]
            ],
            "type": "surface"
           }
          ],
          "table": [
           {
            "cells": {
             "fill": {
              "color": "#EBF0F8"
             },
             "line": {
              "color": "white"
             }
            },
            "header": {
             "fill": {
              "color": "#C8D4E3"
             },
             "line": {
              "color": "white"
             }
            },
            "type": "table"
           }
          ]
         },
         "layout": {
          "annotationdefaults": {
           "arrowcolor": "#343a42",
           "arrowhead": 0,
           "arrowwidth": 1
          },
          "autotypenumbers": "strict",
          "coloraxis": {
           "colorbar": {
            "outlinewidth": 0,
            "ticks": ""
           }
          },
          "colorscale": {
           "diverging": [
            [
             0,
             "#8e0152"
            ],
            [
             0.1,
             "#c51b7d"
            ],
            [
             0.2,
             "#de77ae"
            ],
            [
             0.3,
             "#f1b6da"
            ],
            [
             0.4,
             "#fde0ef"
            ],
            [
             0.5,
             "#f7f7f7"
            ],
            [
             0.6,
             "#e6f5d0"
            ],
            [
             0.7,
             "#b8e186"
            ],
            [
             0.8,
             "#7fbc41"
            ],
            [
             0.9,
             "#4d9221"
            ],
            [
             1,
             "#276419"
            ]
           ],
           "sequential": [
            [
             0,
             "#0d0887"
            ],
            [
             0.1111111111111111,
             "#46039f"
            ],
            [
             0.2222222222222222,
             "#7201a8"
            ],
            [
             0.3333333333333333,
             "#9c179e"
            ],
            [
             0.4444444444444444,
             "#bd3786"
            ],
            [
             0.5555555555555556,
             "#d8576b"
            ],
            [
             0.6666666666666666,
             "#ed7953"
            ],
            [
             0.7777777777777778,
             "#fb9f3a"
            ],
            [
             0.8888888888888888,
             "#fdca26"
            ],
            [
             1,
             "#f0f921"
            ]
           ],
           "sequentialminus": [
            [
             0,
             "#0d0887"
            ],
            [
             0.1111111111111111,
             "#46039f"
            ],
            [
             0.2222222222222222,
             "#7201a8"
            ],
            [
             0.3333333333333333,
             "#9c179e"
            ],
            [
             0.4444444444444444,
             "#bd3786"
            ],
            [
             0.5555555555555556,
             "#d8576b"
            ],
            [
             0.6666666666666666,
             "#ed7953"
            ],
            [
             0.7777777777777778,
             "#fb9f3a"
            ],
            [
             0.8888888888888888,
             "#fdca26"
            ],
            [
             1,
             "#f0f921"
            ]
           ]
          },
          "colorway": [
           "#343a42",
           "#4edcda",
           "#4c75eb",
           "#ef4de5",
           "#f74e4e",
           "#2d8923",
           "#f7b24e",
           "#2b9694",
           "#3a34b5",
           "#a736a0",
           "#b33c3c",
           "#2d8923"
          ],
          "font": {
           "color": "#343a42"
          },
          "geo": {
           "bgcolor": "white",
           "lakecolor": "white",
           "landcolor": "#E5ECF6",
           "showlakes": true,
           "showland": true,
           "subunitcolor": "white"
          },
          "hoverlabel": {
           "align": "left"
          },
          "hovermode": "closest",
          "mapbox": {
           "style": "light"
          },
          "paper_bgcolor": "#fdead4",
          "plot_bgcolor": "rgba(0, 0, 0, 0)",
          "polar": {
           "angularaxis": {
            "gridcolor": "white",
            "linecolor": "white",
            "ticks": ""
           },
           "bgcolor": "#E5ECF6",
           "radialaxis": {
            "gridcolor": "white",
            "linecolor": "white",
            "ticks": ""
           }
          },
          "scene": {
           "xaxis": {
            "backgroundcolor": "#E5ECF6",
            "gridcolor": "white",
            "gridwidth": 2,
            "linecolor": "white",
            "showbackground": true,
            "ticks": "",
            "zerolinecolor": "white"
           },
           "yaxis": {
            "backgroundcolor": "#E5ECF6",
            "gridcolor": "white",
            "gridwidth": 2,
            "linecolor": "white",
            "showbackground": true,
            "ticks": "",
            "zerolinecolor": "white"
           },
           "zaxis": {
            "backgroundcolor": "#E5ECF6",
            "gridcolor": "white",
            "gridwidth": 2,
            "linecolor": "white",
            "showbackground": true,
            "ticks": "",
            "zerolinecolor": "white"
           }
          },
          "shapedefaults": {
           "line": {
            "color": "#2a3f5f"
           }
          },
          "ternary": {
           "aaxis": {
            "gridcolor": "white",
            "linecolor": "white",
            "ticks": ""
           },
           "baxis": {
            "gridcolor": "white",
            "linecolor": "white",
            "ticks": ""
           },
           "bgcolor": "#E5ECF6",
           "caxis": {
            "gridcolor": "white",
            "linecolor": "white",
            "ticks": ""
           }
          },
          "title": {
           "x": 0.5
          },
          "xaxis": {
           "automargin": true,
           "gridcolor": "#d8bea1",
           "linecolor": "white",
           "ticks": "",
           "title": {
            "standoff": 15
           },
           "zerolinecolor": "#d8bea1",
           "zerolinewidth": 1
          },
          "yaxis": {
           "automargin": true,
           "gridcolor": "#d8bea1",
           "linecolor": "white",
           "ticks": "",
           "title": {
            "standoff": 15
           },
           "zerolinecolor": "#d8bea1",
           "zerolinewidth": 1
          }
         }
        },
        "title": {
         "text": "Gemiddeld Cijfer per Speelfrequentie"
        },
        "xaxis": {
         "anchor": "y",
         "autorange": true,
         "domain": [
          0,
          1
         ],
         "range": [
          -0.5,
          5.5
         ],
         "title": {
          "text": "Speelfrequentie (0 = nooit, 5 = zeer vaak)"
         },
         "type": "linear"
        },
        "yaxis": {
         "anchor": "x",
         "domain": [
          0,
          1
         ],
         "gridcolor": "lightgrey",
         "range": [
          60,
          85
         ],
         "title": {
          "text": "Gemiddeld Cijfer"
         },
         "type": "linear"
        }
       }
      },
      "image/png": "[encoded data removed]"
     },
     "metadata": {},
     "output_type": "display_data"
    }
   ],
   "source": [
    "%run InfoVisualisation2.ipynb"
   ]
  },
  {
   "cell_type": "markdown",
   "id": "b8b1ad56-806b-4223-b1d2-d44dcdf062ef",
   "metadata": {
    "tags": [
     "remove_input"
    ]
   },
   "source": [
    "De staafdiagram toont het verband tussen speelfrequentie en het gemiddelde cijfer, waarbij de data is opgedeeld in zes categorieën: van “0” (nooit gamen) tot “5” (zeer vaak gamen). Op de horizontale as staat de speelfrequentie, op de verticale as het gemiddelde cijfer. De hoogte van de balken vertegenwoordigt het gemiddelde cijfer per groep, terwijl het aantal studenten in elke categorie boven de balk staat vermeld.\n",
    "\n",
    "De grafiek toont dat studenten die niet gamen (categorie 0) gemiddeld de hoogste cijfers behalen. Naarmate de speelfrequentie toeneemt (categorieën 1 t/m 5), dalen de gemiddelde scores, met name bij categorie 1, 3 en 5. Hoewel de groep die het meest gamet iets hoger scoort dan enkele lagere categorieën, blijft hun gemiddelde duidelijk onder dat van niet-gamers.\n",
    "\n",
    "Dit wijst erop dat intensief gamen niet per se tot extreem lage prestaties leidt, maar dat geen gamen samenhangt met betere cijfers. De resultaten sluiten aan bij Ramírez et al. (2021), die vonden dat technologiegebruik, mede via slaapverstoring, samenhangt met lagere academische prestaties. Zowel hun studie als deze grafiek suggereren dat veel gamen een negatieve invloed kan hebben op schoolresultaten."
   ]
  },
  {
   "cell_type": "markdown",
   "id": "4551c4a1-6229-4f3b-9ee2-dfe1cb547a5f",
   "metadata": {
    "tags": [
     "remove_input"
    ]
   },
   "source": [
    "### 3.1.3 Argument 3 voor perspectief 1: Studie-inzet als buffer tegen negatieve effecten van gamen\n",
    "\n",
    "Studenten die matig gamen (bijvoorbeeld 0-1 uur per dag) behalen gemiddeld hogere cijfers dan studenten die helemaal niet gamen."
   ]
  },
  {
   "cell_type": "code",
   "execution_count": 12,
   "id": "1cef39f5-d353-46eb-8a14-1f099f664e2b",
   "metadata": {
    "tags": [
     "remove_input"
    ]
   },
   "outputs": [
    {
     "data": {
      "application/vnd.plotly.v1+json": {
       "config": {
        "plotlyServerURL": "https://plot.ly"
       },
       "data": [
        {
         "alignmentgroup": "True",
         "hovertemplate": "Dagelijkse gametijd=0-1 Hour<br>Dagelijkse studietijd=%{x}<br>Gemiddeld cijfer (CGPA)=%{y}<extra></extra>",
         "legendgroup": "0-1 Hour",
         "marker": {
          "color": "#343a42"
         },
         "name": "0-1 Hour",
         "notched": false,
         "offsetgroup": "0-1 Hour",
         "orientation": "v",
         "showlegend": true,
         "type": "box",
         "x": [
          "More than 3 Hours",
          "0-1 Hour",
          "0-1 Hour",
          "0-1 Hour",
          "2-3 Hours",
          "0-1 Hour",
          "0-1 Hour",
          "More than 3 Hours",
          "0-1 Hour",
          "0-1 Hour",
          "0-1 Hour",
          "0-1 Hour",
          "2-3 Hours",
          "2-3 Hours",
          "2-3 Hours",
          "2-3 Hours",
          "0-1 Hour",
          "0-1 Hour",
          "0-1 Hour",
          "2-3 Hours",
          "2-3 Hours",
          "2-3 Hours",
          "2-3 Hours",
          "2-3 Hours",
          "2-3 Hours",
          "2-3 Hours",
          "0-1 Hour",
          "2-3 Hours",
          "2-3 Hours",
          "2-3 Hours",
          "2-3 Hours",
          "2-3 Hours",
          "2-3 Hours",
          "2-3 Hours",
          "2-3 Hours",
          "2-3 Hours",
          "2-3 Hours",
          "2-3 Hours",
          "2-3 Hours",
          "2-3 Hours",
          "More than 3 Hours",
          "0-1 Hour",
          "2-3 Hours",
          "2-3 Hours",
          "0-1 Hour",
          "2-3 Hours",
          "0-1 Hour",
          "More than 3 Hours",
          "2-3 Hours",
          "2-3 Hours"
         ],
         "x0": " ",
         "xaxis": "x",
         "y": {
          "_inputArray": {
           "0": 3.35,
           "1": 3.467,
           "10": 3.5,
           "11": 3.54,
           "12": 3.65,
           "13": 3.65,
           "14": 3.78,
           "15": 3.78,
           "16": 3.8,
           "17": 3.8,
           "18": 3.84,
           "19": 3.87,
           "2": 1.8,
           "20": 3.88,
           "21": 3.88,
           "22": 3.88,
           "23": 3.88,
           "24": 3.88,
           "25": 3.88,
           "26": 3.93,
           "27": 3.94,
           "28": 3.94,
           "29": 3.94,
           "3": 2,
           "30": 3.94,
           "31": 3.94,
           "32": 3.94,
           "33": 3.94,
           "34": 3.94,
           "35": 3.94,
           "36": 3.94,
           "37": 3.94,
           "38": 3.94,
           "39": 3.94,
           "4": 2.5,
           "40": 3.95,
           "41": 4,
           "42": 3.33,
           "43": 3.6,
           "44": 3.8,
           "45": 3.17,
           "46": 3.5,
           "47": 3.5,
           "48": 3.78,
           "49": 3.94,
           "5": 2.79,
           "6": 3,
           "7": 3.11,
           "8": 3.39,
           "9": 3.5,
           "bdata": "zczMzMzMCkAj2/l+arwLQM3MzMzMzPw/AAAAAAAAAEAAAAAAAAAEQFK4HoXrUQZAAAAAAAAACEDhehSuR+EIQB+F61G4HgtAAAAAAAAADEAAAAAAAAAMQFK4HoXrUQxAMzMzMzMzDUAzMzMzMzMNQD0K16NwPQ5APQrXo3A9DkBmZmZmZmYOQGZmZmZmZg5AuB6F61G4DkD2KFyPwvUOQArXo3A9Cg9ACtejcD0KD0AK16NwPQoPQArXo3A9Cg9ACtejcD0KD0AK16NwPQoPQHE9CtejcA9AhetRuB6FD0CF61G4HoUPQIXrUbgehQ9AhetRuB6FD0CF61G4HoUPQIXrUbgehQ9AhetRuB6FD0CF61G4HoUPQIXrUbgehQ9AhetRuB6FD0CF61G4HoUPQIXrUbgehQ9AhetRuB6FD0CamZmZmZkPQAAAAAAAABBApHA9CtejCkDNzMzMzMwMQGZmZmZmZg5AXI/C9ShcCUAAAAAAAAAMQAAAAAAAAAxAPQrXo3A9DkCF61G4HoUPQA==",
           "dtype": "f8",
           "shape": "50"
          },
          "bdata": "zczMzMzMCkAj2/l+arwLQM3MzMzMzPw/AAAAAAAAAEAAAAAAAAAEQFK4HoXrUQZAAAAAAAAACEDhehSuR+EIQB+F61G4HgtAAAAAAAAADEAAAAAAAAAMQFK4HoXrUQxAMzMzMzMzDUAzMzMzMzMNQD0K16NwPQ5APQrXo3A9DkBmZmZmZmYOQGZmZmZmZg5AuB6F61G4DkD2KFyPwvUOQArXo3A9Cg9ACtejcD0KD0AK16NwPQoPQArXo3A9Cg9ACtejcD0KD0AK16NwPQoPQHE9CtejcA9AhetRuB6FD0CF61G4HoUPQIXrUbgehQ9AhetRuB6FD0CF61G4HoUPQIXrUbgehQ9AhetRuB6FD0CF61G4HoUPQIXrUbgehQ9AhetRuB6FD0CF61G4HoUPQIXrUbgehQ9AhetRuB6FD0CamZmZmZkPQAAAAAAAABBApHA9CtejCkDNzMzMzMwMQGZmZmZmZg5AXI/C9ShcCUAAAAAAAAAMQAAAAAAAAAxAPQrXo3A9DkCF61G4HoUPQA==",
          "dtype": "f8"
         },
         "y0": " ",
         "yaxis": "y"
        },
        {
         "alignmentgroup": "True",
         "hovertemplate": "Dagelijkse gametijd=2-3 Hours<br>Dagelijkse studietijd=%{x}<br>Gemiddeld cijfer (CGPA)=%{y}<extra></extra>",
         "legendgroup": "2-3 Hours",
         "marker": {
          "color": "#4edcda"
         },
         "name": "2-3 Hours",
         "notched": false,
         "offsetgroup": "2-3 Hours",
         "orientation": "v",
         "showlegend": true,
         "type": "box",
         "x": [
          "0-1 Hour",
          "0-1 Hour",
          "2-3 Hours",
          "0-1 Hour",
          "0-1 Hour",
          "2-3 Hours",
          "2-3 Hours",
          "2-3 Hours",
          "2-3 Hours",
          "2-3 Hours",
          "2-3 Hours",
          "2-3 Hours",
          "2-3 Hours",
          "2-3 Hours",
          "2-3 Hours",
          "2-3 Hours",
          "2-3 Hours",
          "2-3 Hours",
          "0-1 Hour",
          "2-3 Hours",
          "2-3 Hours",
          "2-3 Hours",
          "2-3 Hours",
          "2-3 Hours",
          "2-3 Hours",
          "2-3 Hours",
          "2-3 Hours",
          "2-3 Hours",
          "2-3 Hours",
          "2-3 Hours",
          "2-3 Hours",
          "2-3 Hours",
          "2-3 Hours",
          "2-3 Hours",
          "2-3 Hours",
          "2-3 Hours",
          "2-3 Hours",
          "2-3 Hours",
          "More than 3 Hours",
          "2-3 Hours",
          "2-3 Hours",
          "2-3 Hours",
          "2-3 Hours",
          "2-3 Hours",
          "2-3 Hours",
          "2-3 Hours",
          "2-3 Hours",
          "2-3 Hours",
          "2-3 Hours",
          "2-3 Hours",
          "2-3 Hours",
          "2-3 Hours",
          "2-3 Hours",
          "2-3 Hours",
          "2-3 Hours",
          "2-3 Hours",
          "2-3 Hours",
          "2-3 Hours",
          "2-3 Hours",
          "2-3 Hours",
          "2-3 Hours",
          "2-3 Hours",
          "2-3 Hours",
          "2-3 Hours",
          "2-3 Hours",
          "2-3 Hours",
          "2-3 Hours",
          "2-3 Hours",
          "2-3 Hours",
          "2-3 Hours",
          "2-3 Hours",
          "2-3 Hours",
          "2-3 Hours",
          "2-3 Hours",
          "2-3 Hours",
          "0-1 Hour",
          "0-1 Hour",
          "0-1 Hour",
          "0-1 Hour",
          "0-1 Hour",
          "2-3 Hours",
          "2-3 Hours",
          "2-3 Hours",
          "2-3 Hours",
          "2-3 Hours",
          "2-3 Hours",
          "2-3 Hours",
          "More than 3 Hours",
          "0-1 Hour",
          "2-3 Hours",
          "2-3 Hours",
          "2-3 Hours",
          "2-3 Hours",
          "2-3 Hours",
          "2-3 Hours",
          "More than 3 Hours",
          "More than 3 Hours",
          "More than 3 Hours",
          "2-3 Hours",
          "0-1 Hour",
          "0-1 Hour",
          "2-3 Hours",
          "2-3 Hours",
          "More than 3 Hours",
          "2-3 Hours",
          "2-3 Hours",
          "0-1 Hour",
          "0-1 Hour",
          "0-1 Hour",
          "0-1 Hour",
          "0-1 Hour",
          "0-1 Hour",
          "0-1 Hour",
          "0-1 Hour",
          "2-3 Hours",
          "2-3 Hours",
          "0-1 Hour",
          "2-3 Hours",
          "2-3 Hours",
          "More than 3 Hours",
          "2-3 Hours",
          "2-3 Hours",
          "2-3 Hours",
          "2-3 Hours",
          "2-3 Hours",
          "0-1 Hour",
          "More than 3 Hours",
          "0-1 Hour",
          "0-1 Hour",
          "2-3 Hours",
          "0-1 Hour",
          "0-1 Hour",
          "More than 3 Hours",
          "0-1 Hour",
          "0-1 Hour",
          "2-3 Hours",
          "More than 3 Hours",
          "2-3 Hours",
          "0-1 Hour",
          "More than 3 Hours",
          "More than 3 Hours"
         ],
         "x0": " ",
         "xaxis": "x",
         "y": {
          "_inputArray": {
           "0": 3.94,
           "1": 2.55,
           "10": 3.08,
           "100": 3.7,
           "101": 3.74,
           "102": 3.74,
           "103": 3.74,
           "104": 3.74,
           "105": 3.75,
           "106": 3.75,
           "107": 3.75,
           "108": 3.75,
           "109": 3.75,
           "11": 3.08,
           "110": 3.75,
           "111": 3.75,
           "112": 3.75,
           "113": 3.75,
           "114": 3.76,
           "115": 3.78,
           "116": 3.8,
           "117": 3.88,
           "118": 3.89,
           "119": 3.91,
           "12": 3.08,
           "120": 3.96,
           "121": 4,
           "122": 3.75,
           "123": 2.97,
           "124": 3.32,
           "125": 3.45,
           "126": 3.47,
           "127": 3.56,
           "128": 3.68,
           "129": 3.74,
           "13": 3.08,
           "130": 2.25,
           "131": 4,
           "132": 3.69,
           "133": 3.79,
           "134": 3.31,
           "135": 3.88,
           "136": 3.1,
           "137": 3.67,
           "138": 3.56,
           "139": 3.75,
           "14": 3.08,
           "140": 3.86,
           "15": 3.08,
           "16": 3.08,
           "17": 3.09,
           "18": 3.1,
           "19": 3.15,
           "2": 2.75,
           "20": 3.15,
           "21": 3.15,
           "22": 3.15,
           "23": 3.15,
           "24": 3.15,
           "25": 3.15,
           "26": 3.25,
           "27": 3.25,
           "28": 3.25,
           "29": 3.25,
           "3": 2.9,
           "30": 3.25,
           "31": 3.25,
           "32": 3.25,
           "33": 3.25,
           "34": 3.25,
           "35": 3.25,
           "36": 3.25,
           "37": 3.25,
           "38": 3.27,
           "39": 3.27,
           "4": 3,
           "40": 3.27,
           "41": 3.27,
           "42": 3.27,
           "43": 3.27,
           "44": 3.27,
           "45": 3.3,
           "46": 3.3,
           "47": 3.31,
           "48": 3.31,
           "49": 3.31,
           "5": 3.08,
           "50": 3.31,
           "51": 3.32,
           "52": 3.33,
           "53": 3.33,
           "54": 3.33,
           "55": 3.33,
           "56": 3.33,
           "57": 3.33,
           "58": 3.33,
           "59": 3.33,
           "6": 3.08,
           "60": 3.33,
           "61": 3.33,
           "62": 3.35,
           "63": 3.38,
           "64": 3.38,
           "65": 3.38,
           "66": 3.38,
           "67": 3.38,
           "68": 3.38,
           "69": 3.38,
           "7": 3.08,
           "70": 3.38,
           "71": 3.44,
           "72": 3.44,
           "73": 3.44,
           "74": 3.44,
           "75": 3.5,
           "76": 3.5,
           "77": 3.5,
           "78": 3.5,
           "79": 3.5,
           "8": 3.08,
           "80": 3.5,
           "81": 3.5,
           "82": 3.5,
           "83": 3.5,
           "84": 3.5,
           "85": 3.5,
           "86": 3.5,
           "87": 3.61,
           "88": 3.64,
           "89": 3.67,
           "9": 3.08,
           "90": 3.67,
           "91": 3.67,
           "92": 3.67,
           "93": 3.67,
           "94": 3.67,
           "95": 3.69,
           "96": 3.69,
           "97": 3.7,
           "98": 3.7,
           "99": 3.7,
           "bdata": "hetRuB6FD0BmZmZmZmYEQAAAAAAAAAZAMzMzMzMzB0AAAAAAAAAIQKRwPQrXowhApHA9CtejCECkcD0K16MIQKRwPQrXowhApHA9CtejCECkcD0K16MIQKRwPQrXowhApHA9CtejCECkcD0K16MIQKRwPQrXowhApHA9CtejCECkcD0K16MIQLgehetRuAhAzczMzMzMCEAzMzMzMzMJQDMzMzMzMwlAMzMzMzMzCUAzMzMzMzMJQDMzMzMzMwlAMzMzMzMzCUAzMzMzMzMJQAAAAAAAAApAAAAAAAAACkAAAAAAAAAKQAAAAAAAAApAAAAAAAAACkAAAAAAAAAKQAAAAAAAAApAAAAAAAAACkAAAAAAAAAKQAAAAAAAAApAAAAAAAAACkAAAAAAAAAKQClcj8L1KApAKVyPwvUoCkApXI/C9SgKQClcj8L1KApAKVyPwvUoCkApXI/C9SgKQClcj8L1KApAZmZmZmZmCkBmZmZmZmYKQHsUrkfhegpAexSuR+F6CkB7FK5H4XoKQHsUrkfhegpAj8L1KFyPCkCkcD0K16MKQKRwPQrXowpApHA9CtejCkCkcD0K16MKQKRwPQrXowpApHA9CtejCkCkcD0K16MKQKRwPQrXowpApHA9CtejCkCkcD0K16MKQM3MzMzMzApACtejcD0KC0AK16NwPQoLQArXo3A9CgtACtejcD0KC0AK16NwPQoLQArXo3A9CgtACtejcD0KC0AK16NwPQoLQIXrUbgehQtAhetRuB6FC0CF61G4HoULQIXrUbgehQtAAAAAAAAADEAAAAAAAAAMQAAAAAAAAAxAAAAAAAAADEAAAAAAAAAMQAAAAAAAAAxAAAAAAAAADEAAAAAAAAAMQAAAAAAAAAxAAAAAAAAADEAAAAAAAAAMQAAAAAAAAAxA4XoUrkfhDEAfhetRuB4NQFyPwvUoXA1AXI/C9ShcDUBcj8L1KFwNQFyPwvUoXA1AXI/C9ShcDUBcj8L1KFwNQIXrUbgehQ1AhetRuB6FDUCamZmZmZkNQJqZmZmZmQ1AmpmZmZmZDUCamZmZmZkNQOxRuB6F6w1A7FG4HoXrDUDsUbgehesNQOxRuB6F6w1AAAAAAAAADkAAAAAAAAAOQAAAAAAAAA5AAAAAAAAADkAAAAAAAAAOQAAAAAAAAA5AAAAAAAAADkAAAAAAAAAOQAAAAAAAAA5AFK5H4XoUDkA9CtejcD0OQGZmZmZmZg5ACtejcD0KD0AfhetRuB4PQEjhehSuRw9ArkfhehSuD0AAAAAAAAAQQAAAAAAAAA5Aw/UoXI/CB0CPwvUoXI8KQJqZmZmZmQtAw/UoXI/CC0B7FK5H4XoMQHE9CtejcA1A7FG4HoXrDUAAAAAAAAACQAAAAAAAABBAhetRuB6FDUBSuB6F61EOQHsUrkfhegpACtejcD0KD0DNzMzMzMwIQFyPwvUoXA1AexSuR+F6DEAAAAAAAAAOQOF6FK5H4Q5A",
           "dtype": "f8",
           "shape": "141"
          },
          "bdata": "hetRuB6FD0BmZmZmZmYEQAAAAAAAAAZAMzMzMzMzB0AAAAAAAAAIQKRwPQrXowhApHA9CtejCECkcD0K16MIQKRwPQrXowhApHA9CtejCECkcD0K16MIQKRwPQrXowhApHA9CtejCECkcD0K16MIQKRwPQrXowhApHA9CtejCECkcD0K16MIQLgehetRuAhAzczMzMzMCEAzMzMzMzMJQDMzMzMzMwlAMzMzMzMzCUAzMzMzMzMJQDMzMzMzMwlAMzMzMzMzCUAzMzMzMzMJQAAAAAAAAApAAAAAAAAACkAAAAAAAAAKQAAAAAAAAApAAAAAAAAACkAAAAAAAAAKQAAAAAAAAApAAAAAAAAACkAAAAAAAAAKQAAAAAAAAApAAAAAAAAACkAAAAAAAAAKQClcj8L1KApAKVyPwvUoCkApXI/C9SgKQClcj8L1KApAKVyPwvUoCkApXI/C9SgKQClcj8L1KApAZmZmZmZmCkBmZmZmZmYKQHsUrkfhegpAexSuR+F6CkB7FK5H4XoKQHsUrkfhegpAj8L1KFyPCkCkcD0K16MKQKRwPQrXowpApHA9CtejCkCkcD0K16MKQKRwPQrXowpApHA9CtejCkCkcD0K16MKQKRwPQrXowpApHA9CtejCkCkcD0K16MKQM3MzMzMzApACtejcD0KC0AK16NwPQoLQArXo3A9CgtACtejcD0KC0AK16NwPQoLQArXo3A9CgtACtejcD0KC0AK16NwPQoLQIXrUbgehQtAhetRuB6FC0CF61G4HoULQIXrUbgehQtAAAAAAAAADEAAAAAAAAAMQAAAAAAAAAxAAAAAAAAADEAAAAAAAAAMQAAAAAAAAAxAAAAAAAAADEAAAAAAAAAMQAAAAAAAAAxAAAAAAAAADEAAAAAAAAAMQAAAAAAAAAxA4XoUrkfhDEAfhetRuB4NQFyPwvUoXA1AXI/C9ShcDUBcj8L1KFwNQFyPwvUoXA1AXI/C9ShcDUBcj8L1KFwNQIXrUbgehQ1AhetRuB6FDUCamZmZmZkNQJqZmZmZmQ1AmpmZmZmZDUCamZmZmZkNQOxRuB6F6w1A7FG4HoXrDUDsUbgehesNQOxRuB6F6w1AAAAAAAAADkAAAAAAAAAOQAAAAAAAAA5AAAAAAAAADkAAAAAAAAAOQAAAAAAAAA5AAAAAAAAADkAAAAAAAAAOQAAAAAAAAA5AFK5H4XoUDkA9CtejcD0OQGZmZmZmZg5ACtejcD0KD0AfhetRuB4PQEjhehSuRw9ArkfhehSuD0AAAAAAAAAQQAAAAAAAAA5Aw/UoXI/CB0CPwvUoXI8KQJqZmZmZmQtAw/UoXI/CC0B7FK5H4XoMQHE9CtejcA1A7FG4HoXrDUAAAAAAAAACQAAAAAAAABBAhetRuB6FDUBSuB6F61EOQHsUrkfhegpACtejcD0KD0DNzMzMzMwIQFyPwvUoXA1AexSuR+F6DEAAAAAAAAAOQOF6FK5H4Q5A",
          "dtype": "f8"
         },
         "y0": " ",
         "yaxis": "y"
        },
        {
         "alignmentgroup": "True",
         "hovertemplate": "Dagelijkse gametijd=More than 3 Hours<br>Dagelijkse studietijd=%{x}<br>Gemiddeld cijfer (CGPA)=%{y}<extra></extra>",
         "legendgroup": "More than 3 Hours",
         "marker": {
          "color": "#4c75eb"
         },
         "name": "More than 3 Hours",
         "notched": false,
         "offsetgroup": "More than 3 Hours",
         "orientation": "v",
         "showlegend": true,
         "type": "box",
         "x": [
          "0-1 Hour",
          "More than 3 Hours",
          "0-1 Hour",
          "0-1 Hour",
          "2-3 Hours",
          "0-1 Hour",
          "0-1 Hour",
          "0-1 Hour",
          "0-1 Hour",
          "0-1 Hour",
          "0-1 Hour",
          "0-1 Hour",
          "0-1 Hour",
          "0-1 Hour",
          "0-1 Hour",
          "0-1 Hour",
          "0-1 Hour",
          "0-1 Hour",
          "0-1 Hour",
          "0-1 Hour",
          "0-1 Hour",
          "0-1 Hour",
          "0-1 Hour",
          "0-1 Hour",
          "2-3 Hours",
          "2-3 Hours",
          "0-1 Hour",
          "0-1 Hour",
          "0-1 Hour",
          "2-3 Hours",
          "0-1 Hour",
          "0-1 Hour",
          "0-1 Hour",
          "0-1 Hour",
          "0-1 Hour",
          "0-1 Hour",
          "0-1 Hour",
          "2-3 Hours",
          "0-1 Hour",
          "0-1 Hour",
          "2-3 Hours",
          "0-1 Hour",
          "2-3 Hours",
          "0-1 Hour",
          "0-1 Hour",
          "0-1 Hour",
          "More than 3 Hours",
          "0-1 Hour",
          "0-1 Hour",
          "0-1 Hour",
          "0-1 Hour",
          "0-1 Hour",
          "0-1 Hour",
          "0-1 Hour",
          "0-1 Hour",
          "0-1 Hour",
          "0-1 Hour",
          "2-3 Hours",
          "0-1 Hour",
          "0-1 Hour",
          "0-1 Hour",
          "2-3 Hours",
          "2-3 Hours",
          "0-1 Hour",
          "0-1 Hour",
          "2-3 Hours",
          "2-3 Hours",
          "0-1 Hour",
          "0-1 Hour",
          "0-1 Hour",
          "More than 3 Hours",
          "0-1 Hour",
          "0-1 Hour",
          "0-1 Hour",
          "0-1 Hour",
          "0-1 Hour",
          "0-1 Hour",
          "0-1 Hour",
          "0-1 Hour",
          "More than 3 Hours",
          "0-1 Hour",
          "0-1 Hour",
          "0-1 Hour",
          "0-1 Hour",
          "0-1 Hour",
          "0-1 Hour",
          "0-1 Hour",
          "0-1 Hour",
          "0-1 Hour",
          "0-1 Hour",
          "0-1 Hour",
          "0-1 Hour",
          "0-1 Hour",
          "0-1 Hour",
          "0-1 Hour",
          "0-1 Hour",
          "0-1 Hour",
          "0-1 Hour",
          "0-1 Hour",
          "0-1 Hour",
          "0-1 Hour",
          "0-1 Hour",
          "0-1 Hour",
          "0-1 Hour",
          "0-1 Hour",
          "0-1 Hour",
          "0-1 Hour",
          "0-1 Hour",
          "0-1 Hour",
          "0-1 Hour",
          "0-1 Hour",
          "0-1 Hour",
          "More than 3 Hours",
          "0-1 Hour",
          "0-1 Hour",
          "0-1 Hour",
          "0-1 Hour",
          "0-1 Hour",
          "0-1 Hour",
          "0-1 Hour",
          "0-1 Hour",
          "0-1 Hour",
          "0-1 Hour",
          "0-1 Hour",
          "0-1 Hour",
          "0-1 Hour",
          "0-1 Hour",
          "0-1 Hour",
          "0-1 Hour",
          "0-1 Hour",
          "0-1 Hour",
          "0-1 Hour",
          "0-1 Hour",
          "0-1 Hour",
          "0-1 Hour",
          "0-1 Hour",
          "0-1 Hour",
          "0-1 Hour",
          "0-1 Hour",
          "0-1 Hour",
          "0-1 Hour",
          "0-1 Hour",
          "0-1 Hour",
          "0-1 Hour",
          "0-1 Hour",
          "0-1 Hour",
          "0-1 Hour",
          "0-1 Hour",
          "0-1 Hour",
          "2-3 Hours",
          "2-3 Hours",
          "0-1 Hour",
          "More than 3 Hours",
          "0-1 Hour",
          "0-1 Hour",
          "0-1 Hour",
          "0-1 Hour",
          "0-1 Hour",
          "2-3 Hours",
          "2-3 Hours",
          "2-3 Hours",
          "2-3 Hours",
          "2-3 Hours",
          "2-3 Hours",
          "2-3 Hours",
          "2-3 Hours",
          "2-3 Hours",
          "2-3 Hours",
          "2-3 Hours",
          "2-3 Hours",
          "2-3 Hours",
          "2-3 Hours",
          "2-3 Hours",
          "More than 3 Hours",
          "2-3 Hours",
          "2-3 Hours",
          "2-3 Hours",
          "0-1 Hour",
          "2-3 Hours",
          "2-3 Hours",
          "2-3 Hours",
          "2-3 Hours",
          "2-3 Hours",
          "2-3 Hours",
          "2-3 Hours",
          "0-1 Hour",
          "2-3 Hours",
          "2-3 Hours",
          "2-3 Hours",
          "2-3 Hours",
          "0-1 Hour",
          "2-3 Hours",
          "More than 3 Hours",
          "More than 3 Hours",
          "More than 3 Hours",
          "More than 3 Hours",
          "2-3 Hours",
          "More than 3 Hours",
          "2-3 Hours",
          "More than 3 Hours",
          "2-3 Hours",
          "2-3 Hours",
          "0-1 Hour",
          "More than 3 Hours",
          "0-1 Hour",
          "0-1 Hour",
          "2-3 Hours",
          "0-1 Hour",
          "More than 3 Hours",
          "0-1 Hour",
          "More than 3 Hours",
          "More than 3 Hours",
          "More than 3 Hours",
          "More than 3 Hours",
          "2-3 Hours",
          "2-3 Hours",
          "2-3 Hours",
          "2-3 Hours",
          "2-3 Hours",
          "2-3 Hours",
          "2-3 Hours",
          "2-3 Hours",
          "2-3 Hours",
          "2-3 Hours",
          "2-3 Hours",
          "0-1 Hour",
          "2-3 Hours",
          "2-3 Hours",
          "2-3 Hours",
          "2-3 Hours",
          "2-3 Hours",
          "2-3 Hours",
          "2-3 Hours",
          "2-3 Hours",
          "2-3 Hours",
          "2-3 Hours",
          "2-3 Hours",
          "2-3 Hours",
          "2-3 Hours",
          "2-3 Hours",
          "2-3 Hours",
          "2-3 Hours",
          "2-3 Hours",
          "2-3 Hours",
          "2-3 Hours",
          "2-3 Hours",
          "0-1 Hour",
          "2-3 Hours",
          "2-3 Hours",
          "2-3 Hours",
          "2-3 Hours",
          "2-3 Hours",
          "2-3 Hours",
          "2-3 Hours",
          "2-3 Hours",
          "2-3 Hours",
          "2-3 Hours",
          "0-1 Hour",
          "0-1 Hour",
          "0-1 Hour",
          "0-1 Hour",
          "0-1 Hour",
          "0-1 Hour",
          "0-1 Hour",
          "0-1 Hour",
          "More than 3 Hours",
          "More than 3 Hours",
          "More than 3 Hours",
          "More than 3 Hours",
          "More than 3 Hours",
          "More than 3 Hours",
          "More than 3 Hours",
          "More than 3 Hours",
          "0-1 Hour",
          "0-1 Hour",
          "2-3 Hours",
          "0-1 Hour",
          "0-1 Hour",
          "0-1 Hour",
          "0-1 Hour",
          "0-1 Hour",
          "0-1 Hour",
          "0-1 Hour",
          "0-1 Hour",
          "0-1 Hour",
          "0-1 Hour",
          "0-1 Hour",
          "More than 3 Hours",
          "0-1 Hour",
          "More than 3 Hours",
          "2-3 Hours",
          "2-3 Hours",
          "2-3 Hours",
          "2-3 Hours",
          "2-3 Hours",
          "2-3 Hours",
          "2-3 Hours",
          "2-3 Hours",
          "0-1 Hour",
          "More than 3 Hours",
          "More than 3 Hours",
          "0-1 Hour"
         ],
         "x0": " ",
         "xaxis": "x",
         "y": {
          "_inputArray": {
           "0": 3.72,
           "1": 3.75,
           "10": 1.6,
           "100": 2.75,
           "101": 2.75,
           "102": 2.75,
           "103": 2.75,
           "104": 2.75,
           "105": 2.75,
           "106": 2.81,
           "107": 2.81,
           "108": 2.84,
           "109": 2.84,
           "11": 1.62,
           "110": 2.84,
           "111": 2.84,
           "112": 2.846,
           "113": 2.86,
           "114": 2.88,
           "115": 2.88,
           "116": 2.88,
           "117": 2.88,
           "118": 2.88,
           "119": 2.89,
           "12": 1.69,
           "120": 2.89,
           "121": 2.89,
           "122": 2.89,
           "123": 2.89,
           "124": 2.89,
           "125": 2.89,
           "126": 2.9,
           "127": 2.9,
           "128": 2.9,
           "129": 2.9,
           "13": 1.71,
           "130": 2.9,
           "131": 2.9,
           "132": 2.9,
           "133": 2.9,
           "134": 2.9,
           "135": 2.9,
           "136": 2.9,
           "137": 2.9,
           "138": 2.9,
           "139": 2.9,
           "14": 1.72,
           "140": 2.9,
           "141": 2.9,
           "142": 2.9,
           "143": 2.9,
           "144": 2.92,
           "145": 2.94,
           "146": 2.94,
           "147": 2.94,
           "148": 2.94,
           "149": 2.98,
           "15": 1.75,
           "150": 3,
           "151": 3,
           "152": 3,
           "153": 3,
           "154": 3,
           "155": 3,
           "156": 3,
           "157": 3,
           "158": 3.06,
           "159": 3.06,
           "16": 1.75,
           "160": 3.06,
           "161": 3.07,
           "162": 3.1,
           "163": 3.13,
           "164": 3.13,
           "165": 3.13,
           "166": 3.13,
           "167": 3.16,
           "168": 3.19,
           "169": 3.19,
           "17": 1.75,
           "170": 3.19,
           "171": 3.19,
           "172": 3.21,
           "173": 3.22,
           "174": 3.25,
           "175": 3.25,
           "176": 3.25,
           "177": 3.25,
           "178": 3.25,
           "179": 3.25,
           "18": 1.86,
           "180": 3.25,
           "181": 3.25,
           "182": 3.25,
           "183": 3.25,
           "184": 3.25,
           "185": 3.25,
           "186": 3.25,
           "187": 3.25,
           "188": 3.25,
           "189": 3.25,
           "19": 1.88,
           "190": 3.25,
           "191": 3.25,
           "192": 3.26,
           "193": 3.28,
           "194": 3.32,
           "195": 3.33,
           "196": 3.33,
           "197": 3.37,
           "198": 3.39,
           "199": 3.43,
           "2": 1,
           "20": 1.89,
           "200": 3.44,
           "201": 3.44,
           "202": 3.45,
           "203": 3.46,
           "204": 3.48,
           "205": 3.5,
           "206": 3.5,
           "207": 3.5,
           "208": 3.5,
           "209": 3.5,
           "21": 1.9,
           "210": 3.5,
           "211": 3.5,
           "212": 3.55,
           "213": 3.55,
           "214": 3.56,
           "215": 3.56,
           "216": 3.56,
           "217": 3.56,
           "218": 3.56,
           "219": 3.56,
           "22": 1.9,
           "220": 3.56,
           "221": 3.56,
           "222": 3.56,
           "223": 3.56,
           "224": 3.56,
           "225": 3.6,
           "226": 3.6,
           "227": 3.6,
           "228": 3.6,
           "229": 3.6,
           "23": 1.92,
           "230": 3.62,
           "231": 3.63,
           "232": 3.63,
           "233": 3.64,
           "234": 3.67,
           "235": 3.67,
           "236": 3.67,
           "237": 3.67,
           "238": 3.68,
           "239": 3.7,
           "24": 1.97,
           "240": 3.7,
           "241": 3.7,
           "242": 3.7,
           "243": 3.7,
           "244": 3.7,
           "245": 3.7,
           "246": 3.7,
           "247": 3.71,
           "248": 3.71,
           "249": 3.71,
           "25": 2,
           "250": 3.71,
           "251": 3.74,
           "252": 3.74,
           "253": 3.74,
           "254": 3.74,
           "255": 3.74,
           "256": 3.74,
           "257": 3.75,
           "258": 3.75,
           "259": 3.75,
           "26": 2.02,
           "260": 3.75,
           "261": 3.75,
           "262": 3.75,
           "263": 3.8,
           "264": 3.8,
           "265": 3.81,
           "266": 3.81,
           "267": 3.81,
           "268": 3.81,
           "269": 3.81,
           "27": 2.1,
           "270": 3.81,
           "271": 3.81,
           "272": 3.81,
           "273": 3.98,
           "274": 4,
           "275": 4,
           "276": 4,
           "277": 4,
           "278": 4,
           "279": 4,
           "28": 2.1,
           "280": 4,
           "281": 4,
           "282": 4,
           "283": 4,
           "284": 4,
           "285": 3.7,
           "286": 3.74,
           "287": 3.15,
           "288": 3.47,
           "289": 3.75,
           "29": 2.1,
           "290": 3.83,
           "291": 3.93,
           "292": 2.5,
           "293": 3,
           "294": 3.09,
           "295": 3.5,
           "296": 3.6,
           "297": 3.67,
           "298": 3.8,
           "299": 2.85,
           "3": 1.06,
           "30": 2.17,
           "300": 3.56,
           "301": 3.68,
           "31": 2.17,
           "32": 2.17,
           "33": 2.17,
           "34": 2.2,
           "35": 2.22,
           "36": 2.25,
           "37": 2.25,
           "38": 2.25,
           "39": 2.25,
           "4": 1.25,
           "40": 2.28,
           "41": 2.3,
           "42": 2.3,
           "43": 2.31,
           "44": 2.31,
           "45": 2.31,
           "46": 2.33,
           "47": 2.33,
           "48": 2.33,
           "49": 2.33,
           "5": 1.44,
           "50": 2.35,
           "51": 2.35,
           "52": 2.35,
           "53": 2.38,
           "54": 2.38,
           "55": 2.38,
           "56": 2.38,
           "57": 2.41,
           "58": 2.44,
           "59": 2.44,
           "6": 1.5,
           "60": 2.45,
           "61": 2.45,
           "62": 2.47,
           "63": 2.5,
           "64": 2.5,
           "65": 2.53,
           "66": 2.55,
           "67": 2.56,
           "68": 2.56,
           "69": 2.56,
           "7": 1.56,
           "70": 2.58,
           "71": 2.64,
           "72": 2.69,
           "73": 2.69,
           "74": 2.69,
           "75": 2.69,
           "76": 2.7,
           "77": 2.7,
           "78": 2.7,
           "79": 2.75,
           "8": 1.57,
           "80": 2.75,
           "81": 2.75,
           "82": 2.75,
           "83": 2.75,
           "84": 2.75,
           "85": 2.75,
           "86": 2.75,
           "87": 2.75,
           "88": 2.75,
           "89": 2.75,
           "9": 1.57,
           "90": 2.75,
           "91": 2.75,
           "92": 2.75,
           "93": 2.75,
           "94": 2.75,
           "95": 2.75,
           "96": 2.75,
           "97": 2.75,
           "98": 2.75,
           "99": 2.75,
           "bdata": "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",
           "dtype": "f8",
           "shape": "302"
          },
          "bdata": "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",
          "dtype": "f8"
         },
         "y0": " ",
         "yaxis": "y"
        }
       ],
       "layout": {
        "autosize": true,
        "boxmode": "group",
        "legend": {
         "title": {
          "text": "Dagelijkse gametijd"
         },
         "tracegroupgap": 0
        },
        "template": {
         "data": {
          "bar": [
           {
            "error_x": {
             "color": "#2a3f5f"
            },
            "error_y": {
             "color": "#2a3f5f"
            },
            "marker": {
             "line": {
              "color": "#E5ECF6",
              "width": 0
             },
             "pattern": {
              "fillmode": "overlay",
              "size": 10,
              "solidity": 0.2
             }
            },
            "type": "bar"
           }
          ],
          "barpolar": [
           {
            "marker": {
             "line": {
              "color": "#E5ECF6",
              "width": 0.5
             },
             "pattern": {
              "fillmode": "overlay",
              "size": 10,
              "solidity": 0.2
             }
            },
            "type": "barpolar"
           }
          ],
          "carpet": [
           {
            "aaxis": {
             "endlinecolor": "#2a3f5f",
             "gridcolor": "white",
             "linecolor": "white",
             "minorgridcolor": "white",
             "startlinecolor": "#2a3f5f"
            },
            "baxis": {
             "endlinecolor": "#2a3f5f",
             "gridcolor": "white",
             "linecolor": "white",
             "minorgridcolor": "white",
             "startlinecolor": "#2a3f5f"
            },
            "type": "carpet"
           }
          ],
          "choropleth": [
           {
            "colorbar": {
             "outlinewidth": 0,
             "ticks": ""
            },
            "type": "choropleth"
           }
          ],
          "contour": [
           {
            "colorbar": {
             "outlinewidth": 0,
             "ticks": ""
            },
            "colorscale": [
             [
              0,
              "#0d0887"
             ],
             [
              0.1111111111111111,
              "#46039f"
             ],
             [
              0.2222222222222222,
              "#7201a8"
             ],
             [
              0.3333333333333333,
              "#9c179e"
             ],
             [
              0.4444444444444444,
              "#bd3786"
             ],
             [
              0.5555555555555556,
              "#d8576b"
             ],
             [
              0.6666666666666666,
              "#ed7953"
             ],
             [
              0.7777777777777778,
              "#fb9f3a"
             ],
             [
              0.8888888888888888,
              "#fdca26"
             ],
             [
              1,
              "#f0f921"
             ]
            ],
            "type": "contour"
           }
          ],
          "contourcarpet": [
           {
            "colorbar": {
             "outlinewidth": 0,
             "ticks": ""
            },
            "type": "contourcarpet"
           }
          ],
          "heatmap": [
           {
            "colorbar": {
             "outlinewidth": 0,
             "ticks": ""
            },
            "colorscale": [
             [
              0,
              "#0d0887"
             ],
             [
              0.1111111111111111,
              "#46039f"
             ],
             [
              0.2222222222222222,
              "#7201a8"
             ],
             [
              0.3333333333333333,
              "#9c179e"
             ],
             [
              0.4444444444444444,
              "#bd3786"
             ],
             [
              0.5555555555555556,
              "#d8576b"
             ],
             [
              0.6666666666666666,
              "#ed7953"
             ],
             [
              0.7777777777777778,
              "#fb9f3a"
             ],
             [
              0.8888888888888888,
              "#fdca26"
             ],
             [
              1,
              "#f0f921"
             ]
            ],
            "type": "heatmap"
           }
          ],
          "histogram": [
           {
            "marker": {
             "pattern": {
              "fillmode": "overlay",
              "size": 10,
              "solidity": 0.2
             }
            },
            "type": "histogram"
           }
          ],
          "histogram2d": [
           {
            "colorbar": {
             "outlinewidth": 0,
             "ticks": ""
            },
            "colorscale": [
             [
              0,
              "#0d0887"
             ],
             [
              0.1111111111111111,
              "#46039f"
             ],
             [
              0.2222222222222222,
              "#7201a8"
             ],
             [
              0.3333333333333333,
              "#9c179e"
             ],
             [
              0.4444444444444444,
              "#bd3786"
             ],
             [
              0.5555555555555556,
              "#d8576b"
             ],
             [
              0.6666666666666666,
              "#ed7953"
             ],
             [
              0.7777777777777778,
              "#fb9f3a"
             ],
             [
              0.8888888888888888,
              "#fdca26"
             ],
             [
              1,
              "#f0f921"
             ]
            ],
            "type": "histogram2d"
           }
          ],
          "histogram2dcontour": [
           {
            "colorbar": {
             "outlinewidth": 0,
             "ticks": ""
            },
            "colorscale": [
             [
              0,
              "#0d0887"
             ],
             [
              0.1111111111111111,
              "#46039f"
             ],
             [
              0.2222222222222222,
              "#7201a8"
             ],
             [
              0.3333333333333333,
              "#9c179e"
             ],
             [
              0.4444444444444444,
              "#bd3786"
             ],
             [
              0.5555555555555556,
              "#d8576b"
             ],
             [
              0.6666666666666666,
              "#ed7953"
             ],
             [
              0.7777777777777778,
              "#fb9f3a"
             ],
             [
              0.8888888888888888,
              "#fdca26"
             ],
             [
              1,
              "#f0f921"
             ]
            ],
            "type": "histogram2dcontour"
           }
          ],
          "mesh3d": [
           {
            "colorbar": {
             "outlinewidth": 0,
             "ticks": ""
            },
            "type": "mesh3d"
           }
          ],
          "parcoords": [
           {
            "line": {
             "colorbar": {
              "outlinewidth": 0,
              "ticks": ""
             }
            },
            "type": "parcoords"
           }
          ],
          "pie": [
           {
            "automargin": true,
            "type": "pie"
           }
          ],
          "scatter": [
           {
            "fillpattern": {
             "fillmode": "overlay",
             "size": 10,
             "solidity": 0.2
            },
            "type": "scatter"
           }
          ],
          "scatter3d": [
           {
            "line": {
             "colorbar": {
              "outlinewidth": 0,
              "ticks": ""
             }
            },
            "marker": {
             "colorbar": {
              "outlinewidth": 0,
              "ticks": ""
             }
            },
            "type": "scatter3d"
           }
          ],
          "scattercarpet": [
           {
            "marker": {
             "colorbar": {
              "outlinewidth": 0,
              "ticks": ""
             }
            },
            "type": "scattercarpet"
           }
          ],
          "scattergeo": [
           {
            "marker": {
             "colorbar": {
              "outlinewidth": 0,
              "ticks": ""
             }
            },
            "type": "scattergeo"
           }
          ],
          "scattergl": [
           {
            "marker": {
             "colorbar": {
              "outlinewidth": 0,
              "ticks": ""
             }
            },
            "type": "scattergl"
           }
          ],
          "scattermap": [
           {
            "marker": {
             "colorbar": {
              "outlinewidth": 0,
              "ticks": ""
             }
            },
            "type": "scattermap"
           }
          ],
          "scattermapbox": [
           {
            "marker": {
             "colorbar": {
              "outlinewidth": 0,
              "ticks": ""
             }
            },
            "type": "scattermapbox"
           }
          ],
          "scatterpolar": [
           {
            "marker": {
             "colorbar": {
              "outlinewidth": 0,
              "ticks": ""
             }
            },
            "type": "scatterpolar"
           }
          ],
          "scatterpolargl": [
           {
            "marker": {
             "colorbar": {
              "outlinewidth": 0,
              "ticks": ""
             }
            },
            "type": "scatterpolargl"
           }
          ],
          "scatterternary": [
           {
            "marker": {
             "colorbar": {
              "outlinewidth": 0,
              "ticks": ""
             }
            },
            "type": "scatterternary"
           }
          ],
          "surface": [
           {
            "colorbar": {
             "outlinewidth": 0,
             "ticks": ""
            },
            "colorscale": [
             [
              0,
              "#0d0887"
             ],
             [
              0.1111111111111111,
              "#46039f"
             ],
             [
              0.2222222222222222,
              "#7201a8"
             ],
             [
              0.3333333333333333,
              "#9c179e"
             ],
             [
              0.4444444444444444,
              "#bd3786"
             ],
             [
              0.5555555555555556,
              "#d8576b"
             ],
             [
              0.6666666666666666,
              "#ed7953"
             ],
             [
              0.7777777777777778,
              "#fb9f3a"
             ],
             [
              0.8888888888888888,
              "#fdca26"
             ],
             [
              1,
              "#f0f921"
             ]
            ],
            "type": "surface"
           }
          ],
          "table": [
           {
            "cells": {
             "fill": {
              "color": "#EBF0F8"
             },
             "line": {
              "color": "white"
             }
            },
            "header": {
             "fill": {
              "color": "#C8D4E3"
             },
             "line": {
              "color": "white"
             }
            },
            "type": "table"
           }
          ]
         },
         "layout": {
          "annotationdefaults": {
           "arrowcolor": "#343a42",
           "arrowhead": 0,
           "arrowwidth": 1
          },
          "autotypenumbers": "strict",
          "coloraxis": {
           "colorbar": {
            "outlinewidth": 0,
            "ticks": ""
           }
          },
          "colorscale": {
           "diverging": [
            [
             0,
             "#8e0152"
            ],
            [
             0.1,
             "#c51b7d"
            ],
            [
             0.2,
             "#de77ae"
            ],
            [
             0.3,
             "#f1b6da"
            ],
            [
             0.4,
             "#fde0ef"
            ],
            [
             0.5,
             "#f7f7f7"
            ],
            [
             0.6,
             "#e6f5d0"
            ],
            [
             0.7,
             "#b8e186"
            ],
            [
             0.8,
             "#7fbc41"
            ],
            [
             0.9,
             "#4d9221"
            ],
            [
             1,
             "#276419"
            ]
           ],
           "sequential": [
            [
             0,
             "#0d0887"
            ],
            [
             0.1111111111111111,
             "#46039f"
            ],
            [
             0.2222222222222222,
             "#7201a8"
            ],
            [
             0.3333333333333333,
             "#9c179e"
            ],
            [
             0.4444444444444444,
             "#bd3786"
            ],
            [
             0.5555555555555556,
             "#d8576b"
            ],
            [
             0.6666666666666666,
             "#ed7953"
            ],
            [
             0.7777777777777778,
             "#fb9f3a"
            ],
            [
             0.8888888888888888,
             "#fdca26"
            ],
            [
             1,
             "#f0f921"
            ]
           ],
           "sequentialminus": [
            [
             0,
             "#0d0887"
            ],
            [
             0.1111111111111111,
             "#46039f"
            ],
            [
             0.2222222222222222,
             "#7201a8"
            ],
            [
             0.3333333333333333,
             "#9c179e"
            ],
            [
             0.4444444444444444,
             "#bd3786"
            ],
            [
             0.5555555555555556,
             "#d8576b"
            ],
            [
             0.6666666666666666,
             "#ed7953"
            ],
            [
             0.7777777777777778,
             "#fb9f3a"
            ],
            [
             0.8888888888888888,
             "#fdca26"
            ],
            [
             1,
             "#f0f921"
            ]
           ]
          },
          "colorway": [
           "#343a42",
           "#4edcda",
           "#4c75eb",
           "#ef4de5",
           "#f74e4e",
           "#2d8923",
           "#f7b24e",
           "#2b9694",
           "#3a34b5",
           "#a736a0",
           "#b33c3c",
           "#2d8923"
          ],
          "font": {
           "color": "#343a42"
          },
          "geo": {
           "bgcolor": "white",
           "lakecolor": "white",
           "landcolor": "#E5ECF6",
           "showlakes": true,
           "showland": true,
           "subunitcolor": "white"
          },
          "hoverlabel": {
           "align": "left"
          },
          "hovermode": "closest",
          "mapbox": {
           "style": "light"
          },
          "paper_bgcolor": "#fdead4",
          "plot_bgcolor": "rgba(0, 0, 0, 0)",
          "polar": {
           "angularaxis": {
            "gridcolor": "white",
            "linecolor": "white",
            "ticks": ""
           },
           "bgcolor": "#E5ECF6",
           "radialaxis": {
            "gridcolor": "white",
            "linecolor": "white",
            "ticks": ""
           }
          },
          "scene": {
           "xaxis": {
            "backgroundcolor": "#E5ECF6",
            "gridcolor": "white",
            "gridwidth": 2,
            "linecolor": "white",
            "showbackground": true,
            "ticks": "",
            "zerolinecolor": "white"
           },
           "yaxis": {
            "backgroundcolor": "#E5ECF6",
            "gridcolor": "white",
            "gridwidth": 2,
            "linecolor": "white",
            "showbackground": true,
            "ticks": "",
            "zerolinecolor": "white"
           },
           "zaxis": {
            "backgroundcolor": "#E5ECF6",
            "gridcolor": "white",
            "gridwidth": 2,
            "linecolor": "white",
            "showbackground": true,
            "ticks": "",
            "zerolinecolor": "white"
           }
          },
          "shapedefaults": {
           "line": {
            "color": "#2a3f5f"
           }
          },
          "ternary": {
           "aaxis": {
            "gridcolor": "white",
            "linecolor": "white",
            "ticks": ""
           },
           "baxis": {
            "gridcolor": "white",
            "linecolor": "white",
            "ticks": ""
           },
           "bgcolor": "#E5ECF6",
           "caxis": {
            "gridcolor": "white",
            "linecolor": "white",
            "ticks": ""
           }
          },
          "title": {
           "x": 0.5
          },
          "xaxis": {
           "automargin": true,
           "gridcolor": "#d8bea1",
           "linecolor": "white",
           "ticks": "",
           "title": {
            "standoff": 15
           },
           "zerolinecolor": "#d8bea1",
           "zerolinewidth": 1
          },
          "yaxis": {
           "automargin": true,
           "gridcolor": "#d8bea1",
           "linecolor": "white",
           "ticks": "",
           "title": {
            "standoff": 15
           },
           "zerolinecolor": "#d8bea1",
           "zerolinewidth": 1
          }
         }
        },
        "title": {
         "text": "Overall Score vs Study Preparation (gekleurd op Gamegedrag)"
        },
        "xaxis": {
         "anchor": "y",
         "autorange": true,
         "categoryarray": [
          "0-1 Hour",
          "2-3 Hours",
          "More than 3 Hours"
         ],
         "categoryorder": "array",
         "domain": [
          0,
          1
         ],
         "range": [
          -0.5108433734939759,
          2.5108433734939757
         ],
         "title": {
          "text": "Dagelijkse studietijd"
         },
         "type": "category"
        },
        "yaxis": {
         "anchor": "x",
         "autorange": true,
         "domain": [
          0,
          1
         ],
         "range": [
          0.8333333333333334,
          4.166666666666667
         ],
         "title": {
          "text": "Gemiddeld cijfer (CGPA)"
         },
         "type": "linear"
        }
       }
      },
      "image/png": "[encoded data removed]"
     },
     "metadata": {},
     "output_type": "display_data"
    }
   ],
   "source": [
    "%run InfoVisualisation3.ipynb"
   ]
  },
  {
   "cell_type": "markdown",
   "id": "549b1681-b88f-40b9-aefd-e313134c9f7b",
   "metadata": {
    "tags": [
     "remove_input"
    ]
   },
   "source": [
    "De boxplot toont de relatie tussen dagelijkse studietijd en het gemiddelde cijfer (CGPA), waarbij de data is opgedeeld op basis van dagelijks gamegedrag. Op de horizontale as staat de studietijd in drie categorieën: \"0–1 Hour\", \"2–3 Hours\" en \"More than 3 Hours\". De kleuren representeren het aantal uren dat studenten dagelijks gamen: blauw voor \"0–1 Hour\", rood voor \"2–3 Hours\" en groen voor \"More than 3 Hours\".\n",
    "\n",
    "De grafiek laat zien dat studenten die meer studeren gemiddeld hogere cijfers halen, ongeacht hun gametijd. Vooral bij weinig gamen (0–1 uur) zijn de cijfers vaak het hoogst. Veel gamen (>3 uur) gaat, vooral bij weinig studeren, samen met lagere en wisselende resultaten.\n",
    "\n",
    "Intensief studeren lijkt de negatieve effecten van veel gamen te compenseren. Dit ondersteunt het idee dat studietijd een sterkere voorspeller is van academisch succes dan gametijd. Zoals Gentile et al. (2011) aantonen, hoeft gamen niet schadelijk te zijn, maar vormt overmatig gamen gecombineerd met weinig studeren wel een risico voor lagere prestaties.\n"
   ]
  },
  {
   "cell_type": "markdown",
   "id": "e5b2b592-721a-4482-b1af-1b9fbafcba7c",
   "metadata": {
    "tags": [
     "remove_input"
    ]
   },
   "source": [
    "## 3.2 Perpectief 2: Gamen heeft een negatief invloed op studenten\n",
    "\n",
    "Volgens dit perspectief kan overmatig gamen ten koste gaan van studietijd, slaap en focus, wat kan leiden tot lagere academische prestaties en slechter studiegedrag."
   ]
  },
  {
   "cell_type": "markdown",
   "id": "98832f39-b8e6-4daa-8c81-f96ebdac95af",
   "metadata": {
    "tags": [
     "remove_input"
    ]
   },
   "source": [
    "### 3.2.1 Argument 1 voor perspectief 2: Meer gamen, minder presteren: het effect van dagelijkse speeltijd\n",
    "Studenten die meer dan 3 uur per dag gamen behalen significant lagere cijfers dan hun medestudenten."
   ]
  },
  {
   "cell_type": "code",
   "execution_count": 16,
   "id": "46edcfa0-89e1-4ff8-a081-8803b832f51d",
   "metadata": {
    "tags": [
     "remove_input"
    ]
   },
   "outputs": [
    {
     "data": {
      "application/vnd.plotly.v1+json": {
       "config": {
        "plotlyServerURL": "https://plot.ly"
       },
       "data": [
        {
         "marker": {
          "color": "steelblue"
         },
         "type": "bar",
         "x": {
          "_inputArray": {
           "0": 0,
           "1": 1,
           "2": 2,
           "3": 3,
           "4": 4,
           "5": 5,
           "bdata": "AAECAwQF",
           "dtype": "i1",
           "shape": "6"
          },
          "bdata": "AAECAwQF",
          "dtype": "i1"
         },
         "y": {
          "_inputArray": {
           "0": 81.46446902654868,
           "1": 77.44082901554404,
           "2": 75.2275138121547,
           "3": 75.75486725663716,
           "4": 72.80357142857143,
           "5": 72.33928571428571,
           "bdata": "BcJL3LldVEDuOOeKNlxTQO+lF5aPzlJA+wTBvk/wUkC3bdu2bTNSQNu2bdu2FVJA",
           "dtype": "f8",
           "shape": "6"
          },
          "bdata": "BcJL3LldVEDuOOeKNlxTQO+lF5aPzlJA+wTBvk/wUkC3bdu2bTNSQNu2bdu2FVJA",
          "dtype": "f8"
         }
        }
       ],
       "layout": {
        "autosize": true,
        "showlegend": false,
        "template": {
         "data": {
          "bar": [
           {
            "error_x": {
             "color": "#2a3f5f"
            },
            "error_y": {
             "color": "#2a3f5f"
            },
            "marker": {
             "line": {
              "color": "#E5ECF6",
              "width": 0
             },
             "pattern": {
              "fillmode": "overlay",
              "size": 10,
              "solidity": 0.2
             }
            },
            "type": "bar"
           }
          ],
          "barpolar": [
           {
            "marker": {
             "line": {
              "color": "#E5ECF6",
              "width": 0.5
             },
             "pattern": {
              "fillmode": "overlay",
              "size": 10,
              "solidity": 0.2
             }
            },
            "type": "barpolar"
           }
          ],
          "carpet": [
           {
            "aaxis": {
             "endlinecolor": "#2a3f5f",
             "gridcolor": "white",
             "linecolor": "white",
             "minorgridcolor": "white",
             "startlinecolor": "#2a3f5f"
            },
            "baxis": {
             "endlinecolor": "#2a3f5f",
             "gridcolor": "white",
             "linecolor": "white",
             "minorgridcolor": "white",
             "startlinecolor": "#2a3f5f"
            },
            "type": "carpet"
           }
          ],
          "choropleth": [
           {
            "colorbar": {
             "outlinewidth": 0,
             "ticks": ""
            },
            "type": "choropleth"
           }
          ],
          "contour": [
           {
            "colorbar": {
             "outlinewidth": 0,
             "ticks": ""
            },
            "colorscale": [
             [
              0,
              "#0d0887"
             ],
             [
              0.1111111111111111,
              "#46039f"
             ],
             [
              0.2222222222222222,
              "#7201a8"
             ],
             [
              0.3333333333333333,
              "#9c179e"
             ],
             [
              0.4444444444444444,
              "#bd3786"
             ],
             [
              0.5555555555555556,
              "#d8576b"
             ],
             [
              0.6666666666666666,
              "#ed7953"
             ],
             [
              0.7777777777777778,
              "#fb9f3a"
             ],
             [
              0.8888888888888888,
              "#fdca26"
             ],
             [
              1,
              "#f0f921"
             ]
            ],
            "type": "contour"
           }
          ],
          "contourcarpet": [
           {
            "colorbar": {
             "outlinewidth": 0,
             "ticks": ""
            },
            "type": "contourcarpet"
           }
          ],
          "heatmap": [
           {
            "colorbar": {
             "outlinewidth": 0,
             "ticks": ""
            },
            "colorscale": [
             [
              0,
              "#0d0887"
             ],
             [
              0.1111111111111111,
              "#46039f"
             ],
             [
              0.2222222222222222,
              "#7201a8"
             ],
             [
              0.3333333333333333,
              "#9c179e"
             ],
             [
              0.4444444444444444,
              "#bd3786"
             ],
             [
              0.5555555555555556,
              "#d8576b"
             ],
             [
              0.6666666666666666,
              "#ed7953"
             ],
             [
              0.7777777777777778,
              "#fb9f3a"
             ],
             [
              0.8888888888888888,
              "#fdca26"
             ],
             [
              1,
              "#f0f921"
             ]
            ],
            "type": "heatmap"
           }
          ],
          "histogram": [
           {
            "marker": {
             "pattern": {
              "fillmode": "overlay",
              "size": 10,
              "solidity": 0.2
             }
            },
            "type": "histogram"
           }
          ],
          "histogram2d": [
           {
            "colorbar": {
             "outlinewidth": 0,
             "ticks": ""
            },
            "colorscale": [
             [
              0,
              "#0d0887"
             ],
             [
              0.1111111111111111,
              "#46039f"
             ],
             [
              0.2222222222222222,
              "#7201a8"
             ],
             [
              0.3333333333333333,
              "#9c179e"
             ],
             [
              0.4444444444444444,
              "#bd3786"
             ],
             [
              0.5555555555555556,
              "#d8576b"
             ],
             [
              0.6666666666666666,
              "#ed7953"
             ],
             [
              0.7777777777777778,
              "#fb9f3a"
             ],
             [
              0.8888888888888888,
              "#fdca26"
             ],
             [
              1,
              "#f0f921"
             ]
            ],
            "type": "histogram2d"
           }
          ],
          "histogram2dcontour": [
           {
            "colorbar": {
             "outlinewidth": 0,
             "ticks": ""
            },
            "colorscale": [
             [
              0,
              "#0d0887"
             ],
             [
              0.1111111111111111,
              "#46039f"
             ],
             [
              0.2222222222222222,
              "#7201a8"
             ],
             [
              0.3333333333333333,
              "#9c179e"
             ],
             [
              0.4444444444444444,
              "#bd3786"
             ],
             [
              0.5555555555555556,
              "#d8576b"
             ],
             [
              0.6666666666666666,
              "#ed7953"
             ],
             [
              0.7777777777777778,
              "#fb9f3a"
             ],
             [
              0.8888888888888888,
              "#fdca26"
             ],
             [
              1,
              "#f0f921"
             ]
            ],
            "type": "histogram2dcontour"
           }
          ],
          "mesh3d": [
           {
            "colorbar": {
             "outlinewidth": 0,
             "ticks": ""
            },
            "type": "mesh3d"
           }
          ],
          "parcoords": [
           {
            "line": {
             "colorbar": {
              "outlinewidth": 0,
              "ticks": ""
             }
            },
            "type": "parcoords"
           }
          ],
          "pie": [
           {
            "automargin": true,
            "type": "pie"
           }
          ],
          "scatter": [
           {
            "fillpattern": {
             "fillmode": "overlay",
             "size": 10,
             "solidity": 0.2
            },
            "type": "scatter"
           }
          ],
          "scatter3d": [
           {
            "line": {
             "colorbar": {
              "outlinewidth": 0,
              "ticks": ""
             }
            },
            "marker": {
             "colorbar": {
              "outlinewidth": 0,
              "ticks": ""
             }
            },
            "type": "scatter3d"
           }
          ],
          "scattercarpet": [
           {
            "marker": {
             "colorbar": {
              "outlinewidth": 0,
              "ticks": ""
             }
            },
            "type": "scattercarpet"
           }
          ],
          "scattergeo": [
           {
            "marker": {
             "colorbar": {
              "outlinewidth": 0,
              "ticks": ""
             }
            },
            "type": "scattergeo"
           }
          ],
          "scattergl": [
           {
            "marker": {
             "colorbar": {
              "outlinewidth": 0,
              "ticks": ""
             }
            },
            "type": "scattergl"
           }
          ],
          "scattermap": [
           {
            "marker": {
             "colorbar": {
              "outlinewidth": 0,
              "ticks": ""
             }
            },
            "type": "scattermap"
           }
          ],
          "scattermapbox": [
           {
            "marker": {
             "colorbar": {
              "outlinewidth": 0,
              "ticks": ""
             }
            },
            "type": "scattermapbox"
           }
          ],
          "scatterpolar": [
           {
            "marker": {
             "colorbar": {
              "outlinewidth": 0,
              "ticks": ""
             }
            },
            "type": "scatterpolar"
           }
          ],
          "scatterpolargl": [
           {
            "marker": {
             "colorbar": {
              "outlinewidth": 0,
              "ticks": ""
             }
            },
            "type": "scatterpolargl"
           }
          ],
          "scatterternary": [
           {
            "marker": {
             "colorbar": {
              "outlinewidth": 0,
              "ticks": ""
             }
            },
            "type": "scatterternary"
           }
          ],
          "surface": [
           {
            "colorbar": {
             "outlinewidth": 0,
             "ticks": ""
            },
            "colorscale": [
             [
              0,
              "#0d0887"
             ],
             [
              0.1111111111111111,
              "#46039f"
             ],
             [
              0.2222222222222222,
              "#7201a8"
             ],
             [
              0.3333333333333333,
              "#9c179e"
             ],
             [
              0.4444444444444444,
              "#bd3786"
             ],
             [
              0.5555555555555556,
              "#d8576b"
             ],
             [
              0.6666666666666666,
              "#ed7953"
             ],
             [
              0.7777777777777778,
              "#fb9f3a"
             ],
             [
              0.8888888888888888,
              "#fdca26"
             ],
             [
              1,
              "#f0f921"
             ]
            ],
            "type": "surface"
           }
          ],
          "table": [
           {
            "cells": {
             "fill": {
              "color": "#EBF0F8"
             },
             "line": {
              "color": "white"
             }
            },
            "header": {
             "fill": {
              "color": "#C8D4E3"
             },
             "line": {
              "color": "white"
             }
            },
            "type": "table"
           }
          ]
         },
         "layout": {
          "annotationdefaults": {
           "arrowcolor": "#343a42",
           "arrowhead": 0,
           "arrowwidth": 1
          },
          "autotypenumbers": "strict",
          "coloraxis": {
           "colorbar": {
            "outlinewidth": 0,
            "ticks": ""
           }
          },
          "colorscale": {
           "diverging": [
            [
             0,
             "#8e0152"
            ],
            [
             0.1,
             "#c51b7d"
            ],
            [
             0.2,
             "#de77ae"
            ],
            [
             0.3,
             "#f1b6da"
            ],
            [
             0.4,
             "#fde0ef"
            ],
            [
             0.5,
             "#f7f7f7"
            ],
            [
             0.6,
             "#e6f5d0"
            ],
            [
             0.7,
             "#b8e186"
            ],
            [
             0.8,
             "#7fbc41"
            ],
            [
             0.9,
             "#4d9221"
            ],
            [
             1,
             "#276419"
            ]
           ],
           "sequential": [
            [
             0,
             "#0d0887"
            ],
            [
             0.1111111111111111,
             "#46039f"
            ],
            [
             0.2222222222222222,
             "#7201a8"
            ],
            [
             0.3333333333333333,
             "#9c179e"
            ],
            [
             0.4444444444444444,
             "#bd3786"
            ],
            [
             0.5555555555555556,
             "#d8576b"
            ],
            [
             0.6666666666666666,
             "#ed7953"
            ],
            [
             0.7777777777777778,
             "#fb9f3a"
            ],
            [
             0.8888888888888888,
             "#fdca26"
            ],
            [
             1,
             "#f0f921"
            ]
           ],
           "sequentialminus": [
            [
             0,
             "#0d0887"
            ],
            [
             0.1111111111111111,
             "#46039f"
            ],
            [
             0.2222222222222222,
             "#7201a8"
            ],
            [
             0.3333333333333333,
             "#9c179e"
            ],
            [
             0.4444444444444444,
             "#bd3786"
            ],
            [
             0.5555555555555556,
             "#d8576b"
            ],
            [
             0.6666666666666666,
             "#ed7953"
            ],
            [
             0.7777777777777778,
             "#fb9f3a"
            ],
            [
             0.8888888888888888,
             "#fdca26"
            ],
            [
             1,
             "#f0f921"
            ]
           ]
          },
          "colorway": [
           "#343a42",
           "#4edcda",
           "#4c75eb",
           "#ef4de5",
           "#f74e4e",
           "#2d8923",
           "#f7b24e",
           "#2b9694",
           "#3a34b5",
           "#a736a0",
           "#b33c3c",
           "#2d8923"
          ],
          "font": {
           "color": "#343a42"
          },
          "geo": {
           "bgcolor": "white",
           "lakecolor": "white",
           "landcolor": "#E5ECF6",
           "showlakes": true,
           "showland": true,
           "subunitcolor": "white"
          },
          "hoverlabel": {
           "align": "left"
          },
          "hovermode": "closest",
          "mapbox": {
           "style": "light"
          },
          "paper_bgcolor": "#fdead4",
          "plot_bgcolor": "rgba(0, 0, 0, 0)",
          "polar": {
           "angularaxis": {
            "gridcolor": "white",
            "linecolor": "white",
            "ticks": ""
           },
           "bgcolor": "#E5ECF6",
           "radialaxis": {
            "gridcolor": "white",
            "linecolor": "white",
            "ticks": ""
           }
          },
          "scene": {
           "xaxis": {
            "backgroundcolor": "#E5ECF6",
            "gridcolor": "white",
            "gridwidth": 2,
            "linecolor": "white",
            "showbackground": true,
            "ticks": "",
            "zerolinecolor": "white"
           },
           "yaxis": {
            "backgroundcolor": "#E5ECF6",
            "gridcolor": "white",
            "gridwidth": 2,
            "linecolor": "white",
            "showbackground": true,
            "ticks": "",
            "zerolinecolor": "white"
           },
           "zaxis": {
            "backgroundcolor": "#E5ECF6",
            "gridcolor": "white",
            "gridwidth": 2,
            "linecolor": "white",
            "showbackground": true,
            "ticks": "",
            "zerolinecolor": "white"
           }
          },
          "shapedefaults": {
           "line": {
            "color": "#2a3f5f"
           }
          },
          "ternary": {
           "aaxis": {
            "gridcolor": "white",
            "linecolor": "white",
            "ticks": ""
           },
           "baxis": {
            "gridcolor": "white",
            "linecolor": "white",
            "ticks": ""
           },
           "bgcolor": "#E5ECF6",
           "caxis": {
            "gridcolor": "white",
            "linecolor": "white",
            "ticks": ""
           }
          },
          "title": {
           "x": 0.5
          },
          "xaxis": {
           "automargin": true,
           "gridcolor": "#d8bea1",
           "linecolor": "white",
           "ticks": "",
           "title": {
            "standoff": 15
           },
           "zerolinecolor": "#d8bea1",
           "zerolinewidth": 1
          },
          "yaxis": {
           "automargin": true,
           "gridcolor": "#d8bea1",
           "linecolor": "white",
           "ticks": "",
           "title": {
            "standoff": 15
           },
           "zerolinecolor": "#d8bea1",
           "zerolinewidth": 1
          }
         }
        },
        "title": {
         "text": "Gemiddelde Cijfer per Speelduur"
        },
        "xaxis": {
         "autorange": true,
         "range": [
          -0.5,
          5.5
         ],
         "title": {
          "text": "Playing Hours per Day"
         },
         "type": "linear"
        },
        "yaxis": {
         "range": [
          70,
          86.46446902654868
         ],
         "title": {
          "text": "Gemiddelde Grade"
         },
         "type": "linear"
        }
       }
      },
      "image/png": "[encoded data removed]"
     },
     "metadata": {},
     "output_type": "display_data"
    }
   ],
   "source": [
    "%run InfoVisualisation4.ipynb"
   ]
  },
  {
   "cell_type": "markdown",
   "id": "cc8ad1ac-b84f-49ef-965c-850c9499d966",
   "metadata": {
    "tags": [
     "remove_input"
    ]
   },
   "source": [
    "Deze staafdiagram toont het gemiddelde schoolcijfer (y-as) van studenten per categorie speelduur in uren per dag (x-as). De y-as begint bij 70 om de verschillen tussen groepen duidelijker te laten uitkomen. De grafiek laat zien of er een verband is tussen hoeveel iemand gamet en hoe goed diegene scoort op school.\n",
    "\n",
    "De staafdiagram toont een duidelijke negatieve trend. Studenten die niet gamen behalen gemiddeld de hoogste cijfers (rond de 81), terwijl dit daalt naarmate de dagelijkse gametijd toeneemt, tot ongeveer 72 bij vijf uur gamen per dag. Dit verschil van ongeveer 9 punten wijst op een negatieve samenhang tussen gametijd en academische prestaties. Overmatig gamen lijkt ten koste te gaan van studietijd, concentratie en voorbereiding. Deze bevinding sluit aan bij het onderzoek van Tot et al. (2023), waarin onder 233 Servische studenten werd vastgesteld dat intensieve gamers tijdens de tentamenperiode een significant lagere GPA behaalden dan studenten die minder of niet gamen. Ook zij concludeerden dat studenten met hogere cijfers minder gameden en meer studeerden, wat het negatieve effect van buitensporig gamen op studieprestaties onderstreept."
   ]
  },
  {
   "cell_type": "markdown",
   "id": "b3767667-0648-4509-89fc-c03150a4e83a",
   "metadata": {
    "tags": [
     "remove_input"
    ]
   },
   "source": [
    "### 3.2.2 Argument 2 voor perspectief 2: Lange game-ervaring voorspelt geen betere schoolprestaties\n",
    "Meer game-ervaring wordt gecorreleerd met lagere cijfers."
   ]
  },
  {
   "cell_type": "code",
   "execution_count": 19,
   "id": "55c9e7f5-24e8-4553-a201-9890f1ccec8f",
   "metadata": {
    "tags": [
     "remove_input"
    ]
   },
   "outputs": [
    {
     "data": {
      "application/vnd.plotly.v1+json": {
       "config": {
        "plotlyServerURL": "https://plot.ly"
       },
       "data": [
        {
         "alignmentgroup": "True",
         "hovertemplate": "Playing Years=%{x}<br>Grade=%{y}<extra></extra>",
         "legendgroup": "1",
         "marker": {
          "color": "rgb(228,26,28)"
         },
         "name": "1",
         "notched": false,
         "offsetgroup": "1",
         "orientation": "v",
         "showlegend": true,
         "type": "box",
         "x": {
          "_inputArray": {
           "0": 1,
           "1": 1,
           "10": 1,
           "100": 1,
           "101": 1,
           "102": 1,
           "103": 1,
           "104": 1,
           "105": 1,
           "106": 1,
           "107": 1,
           "108": 1,
           "109": 1,
           "11": 1,
           "110": 1,
           "111": 1,
           "112": 1,
           "113": 1,
           "114": 1,
           "115": 1,
           "116": 1,
           "117": 1,
           "118": 1,
           "119": 1,
           "12": 1,
           "120": 1,
           "121": 1,
           "122": 1,
           "123": 1,
           "124": 1,
           "125": 1,
           "126": 1,
           "127": 1,
           "128": 1,
           "129": 1,
           "13": 1,
           "130": 1,
           "131": 1,
           "132": 1,
           "133": 1,
           "134": 1,
           "135": 1,
           "136": 1,
           "137": 1,
           "138": 1,
           "139": 1,
           "14": 1,
           "140": 1,
           "141": 1,
           "142": 1,
           "143": 1,
           "144": 1,
           "145": 1,
           "146": 1,
           "147": 1,
           "148": 1,
           "149": 1,
           "15": 1,
           "150": 1,
           "151": 1,
           "152": 1,
           "153": 1,
           "154": 1,
           "155": 1,
           "156": 1,
           "157": 1,
           "158": 1,
           "159": 1,
           "16": 1,
           "160": 1,
           "161": 1,
           "162": 1,
           "163": 1,
           "164": 1,
           "165": 1,
           "166": 1,
           "167": 1,
           "168": 1,
           "169": 1,
           "17": 1,
           "170": 1,
           "171": 1,
           "172": 1,
           "173": 1,
           "174": 1,
           "175": 1,
           "176": 1,
           "177": 1,
           "178": 1,
           "179": 1,
           "18": 1,
           "180": 1,
           "181": 1,
           "182": 1,
           "183": 1,
           "184": 1,
           "185": 1,
           "186": 1,
           "187": 1,
           "188": 1,
           "189": 1,
           "19": 1,
           "190": 1,
           "191": 1,
           "192": 1,
           "2": 1,
           "20": 1,
           "21": 1,
           "22": 1,
           "23": 1,
           "24": 1,
           "25": 1,
           "26": 1,
           "27": 1,
           "28": 1,
           "29": 1,
           "3": 1,
           "30": 1,
           "31": 1,
           "32": 1,
           "33": 1,
           "34": 1,
           "35": 1,
           "36": 1,
           "37": 1,
           "38": 1,
           "39": 1,
           "4": 1,
           "40": 1,
           "41": 1,
           "42": 1,
           "43": 1,
           "44": 1,
           "45": 1,
           "46": 1,
           "47": 1,
           "48": 1,
           "49": 1,
           "5": 1,
           "50": 1,
           "51": 1,
           "52": 1,
           "53": 1,
           "54": 1,
           "55": 1,
           "56": 1,
           "57": 1,
           "58": 1,
           "59": 1,
           "6": 1,
           "60": 1,
           "61": 1,
           "62": 1,
           "63": 1,
           "64": 1,
           "65": 1,
           "66": 1,
           "67": 1,
           "68": 1,
           "69": 1,
           "7": 1,
           "70": 1,
           "71": 1,
           "72": 1,
           "73": 1,
           "74": 1,
           "75": 1,
           "76": 1,
           "77": 1,
           "78": 1,
           "79": 1,
           "8": 1,
           "80": 1,
           "81": 1,
           "82": 1,
           "83": 1,
           "84": 1,
           "85": 1,
           "86": 1,
           "87": 1,
           "88": 1,
           "89": 1,
           "9": 1,
           "90": 1,
           "91": 1,
           "92": 1,
           "93": 1,
           "94": 1,
           "95": 1,
           "96": 1,
           "97": 1,
           "98": 1,
           "99": 1,
           "bdata": "AQEBAQEBAQEBAQEBAQEBAQEBAQEBAQEBAQEBAQEBAQEBAQEBAQEBAQEBAQEBAQEBAQEBAQEBAQEBAQEBAQEBAQEBAQEBAQEBAQEBAQEBAQEBAQEBAQEBAQEBAQEBAQEBAQEBAQEBAQEBAQEBAQEBAQEBAQEBAQEBAQEBAQEBAQEBAQEBAQEBAQEBAQEBAQEBAQEBAQEBAQEBAQEBAQEBAQEBAQEBAQEBAQEBAQEBAQEBAQEBAQEBAQEBAQEBAQEBAQ==",
           "dtype": "i1",
           "shape": "193"
          },
          "bdata": "AQEBAQEBAQEBAQEBAQEBAQEBAQEBAQEBAQEBAQEBAQEBAQEBAQEBAQEBAQEBAQEBAQEBAQEBAQEBAQEBAQEBAQEBAQEBAQEBAQEBAQEBAQEBAQEBAQEBAQEBAQEBAQEBAQEBAQEBAQEBAQEBAQEBAQEBAQEBAQEBAQEBAQEBAQEBAQEBAQEBAQEBAQEBAQEBAQEBAQEBAQEBAQEBAQEBAQEBAQEBAQEBAQEBAQEBAQEBAQEBAQEBAQEBAQEBAQEBAQ==",
          "dtype": "i1"
         },
         "x0": " ",
         "xaxis": "x",
         "y": {
          "_inputArray": {
           "0": 77.5,
           "1": 83,
           "10": 80,
           "100": 90,
           "101": 50,
           "102": 89,
           "103": 95,
           "104": 90,
           "105": 92.5,
           "106": 93,
           "107": 96.5,
           "108": 62,
           "109": 40,
           "11": 75,
           "110": 68,
           "111": 56,
           "112": 67.2,
           "113": 42.5,
           "114": 80,
           "115": 90,
           "116": 85,
           "117": 55,
           "118": 68,
           "119": 45,
           "12": 55,
           "120": 88,
           "121": 65,
           "122": 100,
           "123": 100,
           "124": 96.5,
           "125": 85,
           "126": 72.5,
           "127": 100,
           "128": 100,
           "129": 100,
           "13": 65,
           "130": 100,
           "131": 100,
           "132": 86,
           "133": 95,
           "134": 100,
           "135": 100,
           "136": 100,
           "137": 100,
           "138": 97,
           "139": 100,
           "14": 50,
           "140": 65,
           "141": 56,
           "142": 85,
           "143": 60,
           "144": 75,
           "145": 67,
           "146": 50,
           "147": 90,
           "148": 52,
           "149": 70,
           "15": 75,
           "150": 70,
           "151": 49.53,
           "152": 68,
           "153": 92.5,
           "154": 80,
           "155": 72.5,
           "156": 55,
           "157": 80,
           "158": 70,
           "159": 55,
           "16": 98,
           "160": 80,
           "161": 75,
           "162": 100,
           "163": 100,
           "164": 100,
           "165": 100,
           "166": 100,
           "167": 100,
           "168": 90,
           "169": 45,
           "17": 50,
           "170": 98,
           "171": 70,
           "172": 70,
           "173": 75,
           "174": 50,
           "175": 75.5,
           "176": 85,
           "177": 65,
           "178": 85,
           "179": 97,
           "18": 50,
           "180": 81,
           "181": 60.5,
           "182": 60,
           "183": 92.5,
           "184": 64,
           "185": 79,
           "186": 88,
           "187": 87,
           "188": 100,
           "189": 70,
           "19": 70,
           "190": 89,
           "191": 85,
           "192": 67.5,
           "2": 85,
           "20": 93,
           "21": 70,
           "22": 95,
           "23": 90.7,
           "24": 60,
           "25": 95,
           "26": 68,
           "27": 75,
           "28": 85,
           "29": 70,
           "3": 80,
           "30": 55,
           "31": 75,
           "32": 55,
           "33": 50,
           "34": 40,
           "35": 86,
           "36": 62,
           "37": 75,
           "38": 89,
           "39": 50,
           "4": 55,
           "40": 88,
           "41": 90,
           "42": 57.75,
           "43": 70,
           "44": 60,
           "45": 70,
           "46": 66,
           "47": 65,
           "48": 87,
           "49": 68,
           "5": 80,
           "50": 75,
           "51": 70,
           "52": 60,
           "53": 70,
           "54": 70,
           "55": 75,
           "56": 82.5,
           "57": 94.5,
           "58": 91,
           "59": 90,
           "6": 98,
           "60": 95.24,
           "61": 70,
           "62": 75,
           "63": 74,
           "64": 85,
           "65": 65.5,
           "66": 75,
           "67": 63,
           "68": 74,
           "69": 55,
           "7": 70,
           "70": 45,
           "71": 50,
           "72": 60,
           "73": 88,
           "74": 60,
           "75": 100,
           "76": 65,
           "77": 65,
           "78": 65,
           "79": 70,
           "8": 70,
           "80": 70,
           "81": 65,
           "82": 65,
           "83": 53,
           "84": 90,
           "85": 80,
           "86": 75,
           "87": 72,
           "88": 75,
           "89": 50,
           "9": 95,
           "90": 42.5,
           "91": 76,
           "92": 92.5,
           "93": 40,
           "94": 50,
           "95": 75,
           "96": 75,
           "97": 50.6,
           "98": 53,
           "99": 97.5,
           "bdata": "AAAAAABgU0AAAAAAAMBUQAAAAAAAQFVAAAAAAAAAVEAAAAAAAIBLQAAAAAAAAFRAAAAAAACAWEAAAAAAAIBRQAAAAAAAgFFAAAAAAADAV0AAAAAAAABUQAAAAAAAwFJAAAAAAACAS0AAAAAAAEBQQAAAAAAAAElAAAAAAADAUkAAAAAAAIBYQAAAAAAAAElAAAAAAAAASUAAAAAAAIBRQAAAAAAAQFdAAAAAAACAUUAAAAAAAMBXQM3MzMzMrFZAAAAAAAAATkAAAAAAAMBXQAAAAAAAAFFAAAAAAADAUkAAAAAAAEBVQAAAAAAAgFFAAAAAAACAS0AAAAAAAMBSQAAAAAAAgEtAAAAAAAAASUAAAAAAAABEQAAAAAAAgFVAAAAAAAAAT0AAAAAAAMBSQAAAAAAAQFZAAAAAAAAASUAAAAAAAABWQAAAAAAAgFZAAAAAAADgTEAAAAAAAIBRQAAAAAAAAE5AAAAAAACAUUAAAAAAAIBQQAAAAAAAQFBAAAAAAADAVUAAAAAAAABRQAAAAAAAwFJAAAAAAACAUUAAAAAAAABOQAAAAAAAgFFAAAAAAACAUUAAAAAAAMBSQAAAAAAAoFRAAAAAAACgV0AAAAAAAMBWQAAAAAAAgFZAj8L1KFzPV0AAAAAAAIBRQAAAAAAAwFJAAAAAAACAUkAAAAAAAEBVQAAAAAAAYFBAAAAAAADAUkAAAAAAAIBPQAAAAAAAgFJAAAAAAACAS0AAAAAAAIBGQAAAAAAAAElAAAAAAAAATkAAAAAAAABWQAAAAAAAAE5AAAAAAAAAWUAAAAAAAEBQQAAAAAAAQFBAAAAAAABAUEAAAAAAAIBRQAAAAAAAgFFAAAAAAABAUEAAAAAAAEBQQAAAAAAAgEpAAAAAAACAVkAAAAAAAABUQAAAAAAAwFJAAAAAAAAAUkAAAAAAAMBSQAAAAAAAAElAAAAAAABARUAAAAAAAABTQAAAAAAAIFdAAAAAAAAAREAAAAAAAABJQAAAAAAAwFJAAAAAAADAUkDNzMzMzExJQAAAAAAAgEpAAAAAAABgWEAAAAAAAIBWQAAAAAAAAElAAAAAAABAVkAAAAAAAMBXQAAAAAAAgFZAAAAAAAAgV0AAAAAAAEBXQAAAAAAAIFhAAAAAAAAAT0AAAAAAAABEQAAAAAAAAFFAAAAAAAAATEDNzMzMzMxQQAAAAAAAQEVAAAAAAAAAVEAAAAAAAIBWQAAAAAAAQFVAAAAAAACAS0AAAAAAAABRQAAAAAAAgEZAAAAAAAAAVkAAAAAAAEBQQAAAAAAAAFlAAAAAAAAAWUAAAAAAACBYQAAAAAAAQFVAAAAAAAAgUkAAAAAAAABZQAAAAAAAAFlAAAAAAAAAWUAAAAAAAABZQAAAAAAAAFlAAAAAAACAVUAAAAAAAMBXQAAAAAAAAFlAAAAAAAAAWUAAAAAAAABZQAAAAAAAAFlAAAAAAABAWEAAAAAAAABZQAAAAAAAQFBAAAAAAAAATEAAAAAAAEBVQAAAAAAAAE5AAAAAAADAUkAAAAAAAMBQQAAAAAAAAElAAAAAAACAVkAAAAAAAABKQAAAAAAAgFFAAAAAAACAUUCkcD0K18NIQAAAAAAAAFFAAAAAAAAgV0AAAAAAAABUQAAAAAAAIFJAAAAAAACAS0AAAAAAAABUQAAAAAAAgFFAAAAAAACAS0AAAAAAAABUQAAAAAAAwFJAAAAAAAAAWUAAAAAAAABZQAAAAAAAAFlAAAAAAAAAWUAAAAAAAABZQAAAAAAAAFlAAAAAAACAVkAAAAAAAIBGQAAAAAAAgFhAAAAAAACAUUAAAAAAAIBRQAAAAAAAwFJAAAAAAAAASUAAAAAAAOBSQAAAAAAAQFVAAAAAAABAUEAAAAAAAEBVQAAAAAAAQFhAAAAAAABAVEAAAAAAAEBOQAAAAAAAAE5AAAAAAAAgV0AAAAAAAABQQAAAAAAAwFNAAAAAAAAAVkAAAAAAAMBVQAAAAAAAAFlAAAAAAACAUUAAAAAAAEBWQAAAAAAAQFVAAAAAAADgUEA=",
           "dtype": "f8",
           "shape": "193"
          },
          "bdata": "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",
          "dtype": "f8"
         },
         "y0": " ",
         "yaxis": "y"
        },
        {
         "alignmentgroup": "True",
         "hovertemplate": "Playing Years=%{x}<br>Grade=%{y}<extra></extra>",
         "legendgroup": "0",
         "marker": {
          "color": "rgb(55,126,184)"
         },
         "name": "0",
         "notched": false,
         "offsetgroup": "0",
         "orientation": "v",
         "showlegend": true,
         "type": "box",
         "x": {
          "_inputArray": {
           "0": 0,
           "1": 0,
           "10": 0,
           "100": 0,
           "101": 0,
           "102": 0,
           "103": 0,
           "104": 0,
           "105": 0,
           "106": 0,
           "107": 0,
           "108": 0,
           "109": 0,
           "11": 0,
           "110": 0,
           "111": 0,
           "112": 0,
           "113": 0,
           "114": 0,
           "115": 0,
           "116": 0,
           "117": 0,
           "118": 0,
           "119": 0,
           "12": 0,
           "120": 0,
           "121": 0,
           "122": 0,
           "123": 0,
           "124": 0,
           "125": 0,
           "126": 0,
           "127": 0,
           "128": 0,
           "129": 0,
           "13": 0,
           "130": 0,
           "131": 0,
           "132": 0,
           "133": 0,
           "134": 0,
           "135": 0,
           "136": 0,
           "137": 0,
           "138": 0,
           "139": 0,
           "14": 0,
           "140": 0,
           "141": 0,
           "142": 0,
           "143": 0,
           "144": 0,
           "145": 0,
           "146": 0,
           "147": 0,
           "148": 0,
           "149": 0,
           "15": 0,
           "150": 0,
           "151": 0,
           "152": 0,
           "153": 0,
           "154": 0,
           "155": 0,
           "156": 0,
           "157": 0,
           "158": 0,
           "159": 0,
           "16": 0,
           "160": 0,
           "161": 0,
           "162": 0,
           "163": 0,
           "164": 0,
           "165": 0,
           "166": 0,
           "167": 0,
           "168": 0,
           "169": 0,
           "17": 0,
           "170": 0,
           "171": 0,
           "172": 0,
           "173": 0,
           "174": 0,
           "175": 0,
           "176": 0,
           "177": 0,
           "178": 0,
           "179": 0,
           "18": 0,
           "180": 0,
           "181": 0,
           "182": 0,
           "183": 0,
           "184": 0,
           "185": 0,
           "186": 0,
           "187": 0,
           "188": 0,
           "189": 0,
           "19": 0,
           "190": 0,
           "191": 0,
           "192": 0,
           "193": 0,
           "194": 0,
           "195": 0,
           "196": 0,
           "197": 0,
           "198": 0,
           "199": 0,
           "2": 0,
           "20": 0,
           "200": 0,
           "201": 0,
           "202": 0,
           "203": 0,
           "204": 0,
           "205": 0,
           "206": 0,
           "207": 0,
           "208": 0,
           "209": 0,
           "21": 0,
           "210": 0,
           "211": 0,
           "212": 0,
           "213": 0,
           "214": 0,
           "215": 0,
           "216": 0,
           "217": 0,
           "218": 0,
           "219": 0,
           "22": 0,
           "220": 0,
           "221": 0,
           "222": 0,
           "223": 0,
           "224": 0,
           "225": 0,
           "226": 0,
           "23": 0,
           "24": 0,
           "25": 0,
           "26": 0,
           "27": 0,
           "28": 0,
           "29": 0,
           "3": 0,
           "30": 0,
           "31": 0,
           "32": 0,
           "33": 0,
           "34": 0,
           "35": 0,
           "36": 0,
           "37": 0,
           "38": 0,
           "39": 0,
           "4": 0,
           "40": 0,
           "41": 0,
           "42": 0,
           "43": 0,
           "44": 0,
           "45": 0,
           "46": 0,
           "47": 0,
           "48": 0,
           "49": 0,
           "5": 0,
           "50": 0,
           "51": 0,
           "52": 0,
           "53": 0,
           "54": 0,
           "55": 0,
           "56": 0,
           "57": 0,
           "58": 0,
           "59": 0,
           "6": 0,
           "60": 0,
           "61": 0,
           "62": 0,
           "63": 0,
           "64": 0,
           "65": 0,
           "66": 0,
           "67": 0,
           "68": 0,
           "69": 0,
           "7": 0,
           "70": 0,
           "71": 0,
           "72": 0,
           "73": 0,
           "74": 0,
           "75": 0,
           "76": 0,
           "77": 0,
           "78": 0,
           "79": 0,
           "8": 0,
           "80": 0,
           "81": 0,
           "82": 0,
           "83": 0,
           "84": 0,
           "85": 0,
           "86": 0,
           "87": 0,
           "88": 0,
           "89": 0,
           "9": 0,
           "90": 0,
           "91": 0,
           "92": 0,
           "93": 0,
           "94": 0,
           "95": 0,
           "96": 0,
           "97": 0,
           "98": 0,
           "99": 0,
           "bdata": "AAAAAAAAAAAAAAAAAAAAAAAAAAAAAAAAAAAAAAAAAAAAAAAAAAAAAAAAAAAAAAAAAAAAAAAAAAAAAAAAAAAAAAAAAAAAAAAAAAAAAAAAAAAAAAAAAAAAAAAAAAAAAAAAAAAAAAAAAAAAAAAAAAAAAAAAAAAAAAAAAAAAAAAAAAAAAAAAAAAAAAAAAAAAAAAAAAAAAAAAAAAAAAAAAAAAAAAAAAAAAAAAAAAAAAAAAAAAAAAAAAAAAAAAAAAAAAAAAAAAAAAAAAAAAAAAAAAAAAAAAAAAAAAAAAAAAAAAAAAAAAA=",
           "dtype": "i1",
           "shape": "227"
          },
          "bdata": "AAAAAAAAAAAAAAAAAAAAAAAAAAAAAAAAAAAAAAAAAAAAAAAAAAAAAAAAAAAAAAAAAAAAAAAAAAAAAAAAAAAAAAAAAAAAAAAAAAAAAAAAAAAAAAAAAAAAAAAAAAAAAAAAAAAAAAAAAAAAAAAAAAAAAAAAAAAAAAAAAAAAAAAAAAAAAAAAAAAAAAAAAAAAAAAAAAAAAAAAAAAAAAAAAAAAAAAAAAAAAAAAAAAAAAAAAAAAAAAAAAAAAAAAAAAAAAAAAAAAAAAAAAAAAAAAAAAAAAAAAAAAAAAAAAAAAAAAAAAAAAA=",
          "dtype": "i1"
         },
         "x0": " ",
         "xaxis": "x",
         "y": {
          "_inputArray": {
           "0": 80,
           "1": 45,
           "10": 55,
           "100": 100,
           "101": 100,
           "102": 100,
           "103": 100,
           "104": 90,
           "105": 95,
           "106": 100,
           "107": 90,
           "108": 100,
           "109": 100,
           "11": 70,
           "110": 100,
           "111": 100,
           "112": 100,
           "113": 100,
           "114": 95,
           "115": 98,
           "116": 100,
           "117": 100,
           "118": 90,
           "119": 97,
           "12": 67,
           "120": 75,
           "121": 67.5,
           "122": 80,
           "123": 80,
           "124": 95,
           "125": 90,
           "126": 100,
           "127": 75,
           "128": 87.5,
           "129": 87.5,
           "13": 55,
           "130": 90,
           "131": 90,
           "132": 83,
           "133": 77.5,
           "134": 95,
           "135": 95,
           "136": 65,
           "137": 85.5,
           "138": 53,
           "139": 70.5,
           "14": 95,
           "140": 80.5,
           "141": 92,
           "142": 75,
           "143": 95,
           "144": 80,
           "145": 96,
           "146": 72,
           "147": 80,
           "148": 75,
           "149": 94.5,
           "15": 36.5,
           "150": 60,
           "151": 90,
           "152": 50,
           "153": 75,
           "154": 60,
           "155": 80,
           "156": 50,
           "157": 85,
           "158": 89,
           "159": 85,
           "16": 50,
           "160": 95,
           "161": 45,
           "162": 60,
           "163": 75.6,
           "164": 88,
           "165": 74,
           "166": 75,
           "167": 85,
           "168": 98,
           "169": 67,
           "17": 90,
           "170": 100,
           "171": 80,
           "172": 100,
           "173": 100,
           "174": 85,
           "175": 100,
           "176": 100,
           "177": 100,
           "178": 100,
           "179": 100,
           "18": 90,
           "180": 100,
           "181": 100,
           "182": 100,
           "183": 100,
           "184": 85,
           "185": 100,
           "186": 100,
           "187": 90,
           "188": 100,
           "189": 100,
           "19": 60,
           "190": 100,
           "191": 100,
           "192": 100,
           "193": 100,
           "194": 100,
           "195": 80,
           "196": 84,
           "197": 95.33,
           "198": 90,
           "199": 100,
           "2": 55,
           "20": 100,
           "200": 63,
           "201": 75,
           "202": 80,
           "203": 62,
           "204": 80,
           "205": 67,
           "206": 46.5,
           "207": 91,
           "208": 70,
           "209": 90,
           "21": 75,
           "210": 82.2,
           "211": 75,
           "212": 65,
           "213": 75,
           "214": 70,
           "215": 70,
           "216": 70.5,
           "217": 72,
           "218": 85,
           "219": 86,
           "22": 70,
           "220": 90,
           "221": 75,
           "222": 45,
           "223": 100,
           "224": 60,
           "225": 64.75,
           "226": 94,
           "23": 72.5,
           "24": 85,
           "25": 60,
           "26": 75,
           "27": 70,
           "28": 94,
           "29": 75,
           "3": 80,
           "30": 98,
           "31": 78.5,
           "32": 85.5,
           "33": 90.8,
           "34": 80,
           "35": 85,
           "36": 87,
           "37": 65,
           "38": 68,
           "39": 70,
           "4": 45,
           "40": 75,
           "41": 80,
           "42": 90,
           "43": 90,
           "44": 86,
           "45": 65,
           "46": 85,
           "47": 65,
           "48": 85,
           "49": 88,
           "5": 95,
           "50": 70,
           "51": 65,
           "52": 65,
           "53": 65,
           "54": 60,
           "55": 50,
           "56": 86,
           "57": 59,
           "58": 55,
           "59": 92.6,
           "6": 85,
           "60": 50,
           "61": 70,
           "62": 85,
           "63": 77.5,
           "64": 60,
           "65": 80,
           "66": 80,
           "67": 70,
           "68": 89,
           "69": 80,
           "7": 99,
           "70": 70,
           "71": 87,
           "72": 70,
           "73": 85,
           "74": 50,
           "75": 90,
           "76": 62,
           "77": 55,
           "78": 86,
           "79": 85,
           "8": 90,
           "80": 75,
           "81": 76,
           "82": 70,
           "83": 97,
           "84": 75,
           "85": null,
           "86": 70,
           "87": 85,
           "88": 59.69,
           "89": 87.5,
           "9": 99,
           "90": 77,
           "91": 75,
           "92": 90,
           "93": 100,
           "94": 85,
           "95": 90,
           "96": 100,
           "97": 100,
           "98": 98,
           "99": 100,
           "bdata": "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",
           "dtype": "f8",
           "shape": "227"
          },
          "bdata": "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",
          "dtype": "f8"
         },
         "y0": " ",
         "yaxis": "y"
        },
        {
         "alignmentgroup": "True",
         "hovertemplate": "Playing Years=%{x}<br>Grade=%{y}<extra></extra>",
         "legendgroup": "3",
         "marker": {
          "color": "rgb(77,175,74)"
         },
         "name": "3",
         "notched": false,
         "offsetgroup": "3",
         "orientation": "v",
         "showlegend": true,
         "type": "box",
         "x": {
          "_inputArray": {
           "0": 3,
           "1": 3,
           "10": 3,
           "11": 3,
           "12": 3,
           "13": 3,
           "14": 3,
           "15": 3,
           "16": 3,
           "17": 3,
           "18": 3,
           "19": 3,
           "2": 3,
           "20": 3,
           "21": 3,
           "22": 3,
           "23": 3,
           "24": 3,
           "25": 3,
           "26": 3,
           "27": 3,
           "28": 3,
           "29": 3,
           "3": 3,
           "30": 3,
           "31": 3,
           "32": 3,
           "33": 3,
           "34": 3,
           "35": 3,
           "36": 3,
           "37": 3,
           "38": 3,
           "39": 3,
           "4": 3,
           "40": 3,
           "41": 3,
           "42": 3,
           "43": 3,
           "44": 3,
           "45": 3,
           "46": 3,
           "47": 3,
           "48": 3,
           "49": 3,
           "5": 3,
           "50": 3,
           "51": 3,
           "52": 3,
           "53": 3,
           "54": 3,
           "55": 3,
           "56": 3,
           "57": 3,
           "58": 3,
           "59": 3,
           "6": 3,
           "60": 3,
           "61": 3,
           "62": 3,
           "63": 3,
           "64": 3,
           "65": 3,
           "66": 3,
           "67": 3,
           "68": 3,
           "69": 3,
           "7": 3,
           "70": 3,
           "71": 3,
           "72": 3,
           "73": 3,
           "74": 3,
           "75": 3,
           "76": 3,
           "77": 3,
           "78": 3,
           "79": 3,
           "8": 3,
           "80": 3,
           "81": 3,
           "82": 3,
           "83": 3,
           "84": 3,
           "85": 3,
           "86": 3,
           "87": 3,
           "88": 3,
           "89": 3,
           "9": 3,
           "90": 3,
           "91": 3,
           "92": 3,
           "93": 3,
           "94": 3,
           "95": 3,
           "96": 3,
           "97": 3,
           "98": 3,
           "bdata": "AwMDAwMDAwMDAwMDAwMDAwMDAwMDAwMDAwMDAwMDAwMDAwMDAwMDAwMDAwMDAwMDAwMDAwMDAwMDAwMDAwMDAwMDAwMDAwMDAwMDAwMDAwMDAwMDAwMDAwMDAwMDAwMDAwMD",
           "dtype": "i1",
           "shape": "99"
          },
          "bdata": "AwMDAwMDAwMDAwMDAwMDAwMDAwMDAwMDAwMDAwMDAwMDAwMDAwMDAwMDAwMDAwMDAwMDAwMDAwMDAwMDAwMDAwMDAwMDAwMDAwMDAwMDAwMDAwMDAwMDAwMDAwMDAwMDAwMD",
          "dtype": "i1"
         },
         "x0": " ",
         "xaxis": "x",
         "y": {
          "_inputArray": {
           "0": 45,
           "1": 90,
           "10": 40,
           "11": 48,
           "12": 90,
           "13": 86,
           "14": 55,
           "15": 80,
           "16": 70,
           "17": 57,
           "18": 80,
           "19": 80,
           "2": 95,
           "20": 76,
           "21": 55,
           "22": 98,
           "23": 50,
           "24": 60,
           "25": 75,
           "26": 50,
           "27": 55,
           "28": 70,
           "29": 50,
           "3": 87,
           "30": 50,
           "31": 90,
           "32": 85,
           "33": 60,
           "34": 70,
           "35": 80.5,
           "36": 95,
           "37": 55.5,
           "38": 80,
           "39": 75,
           "4": 45,
           "40": 52,
           "41": 62,
           "42": 88,
           "43": 60,
           "44": 95,
           "45": 65,
           "46": 90.5,
           "47": 90,
           "48": 100,
           "49": 100,
           "5": 100,
           "50": 92,
           "51": 85,
           "52": 85,
           "53": 100,
           "54": 100,
           "55": 100,
           "56": 100,
           "57": 100,
           "58": 100,
           "59": 100,
           "6": 65,
           "60": 85,
           "61": 90,
           "62": 90,
           "63": 100,
           "64": 100,
           "65": 100,
           "66": 50,
           "67": 72,
           "68": 85,
           "69": 78,
           "7": 90,
           "70": 85.3,
           "71": 92.5,
           "72": 60,
           "73": 90,
           "74": 80,
           "75": 65,
           "76": 85,
           "77": 79,
           "78": 90,
           "79": 90,
           "8": 50,
           "80": 100,
           "81": 100,
           "82": 85,
           "83": 70,
           "84": 80,
           "85": 90,
           "86": 90,
           "87": 70,
           "88": 77,
           "89": 96,
           "9": 65,
           "90": 85,
           "91": 85,
           "92": 55,
           "93": 60,
           "94": 55.5,
           "95": 89,
           "96": 40,
           "97": 57,
           "98": 50,
           "bdata": "AAAAAACARkAAAAAAAIBWQAAAAAAAwFdAAAAAAADAVUAAAAAAAIBGQAAAAAAAAFlAAAAAAABAUEAAAAAAAIBWQAAAAAAAAElAAAAAAABAUEAAAAAAAABEQAAAAAAAAEhAAAAAAACAVkAAAAAAAIBVQAAAAAAAgEtAAAAAAAAAVEAAAAAAAIBRQAAAAAAAgExAAAAAAAAAVEAAAAAAAABUQAAAAAAAAFNAAAAAAACAS0AAAAAAAIBYQAAAAAAAAElAAAAAAAAATkAAAAAAAMBSQAAAAAAAAElAAAAAAACAS0AAAAAAAIBRQAAAAAAAAElAAAAAAAAASUAAAAAAAIBWQAAAAAAAQFVAAAAAAAAATkAAAAAAAIBRQAAAAAAAIFRAAAAAAADAV0AAAAAAAMBLQAAAAAAAAFRAAAAAAADAUkAAAAAAAABKQAAAAAAAAE9AAAAAAAAAVkAAAAAAAABOQAAAAAAAwFdAAAAAAABAUEAAAAAAAKBWQAAAAAAAgFZAAAAAAAAAWUAAAAAAAABZQAAAAAAAAFdAAAAAAABAVUAAAAAAAEBVQAAAAAAAAFlAAAAAAAAAWUAAAAAAAABZQAAAAAAAAFlAAAAAAAAAWUAAAAAAAABZQAAAAAAAAFlAAAAAAABAVUAAAAAAAIBWQAAAAAAAgFZAAAAAAAAAWUAAAAAAAABZQAAAAAAAAFlAAAAAAAAASUAAAAAAAABSQAAAAAAAQFVAAAAAAACAU0AzMzMzM1NVQAAAAAAAIFdAAAAAAAAATkAAAAAAAIBWQAAAAAAAAFRAAAAAAABAUEAAAAAAAEBVQAAAAAAAwFNAAAAAAACAVkAAAAAAAIBWQAAAAAAAAFlAAAAAAAAAWUAAAAAAAEBVQAAAAAAAgFFAAAAAAAAAVEAAAAAAAIBWQAAAAAAAgFZAAAAAAACAUUAAAAAAAEBTQAAAAAAAAFhAAAAAAABAVUAAAAAAAEBVQAAAAAAAgEtAAAAAAAAATkAAAAAAAMBLQAAAAAAAQFZAAAAAAAAAREAAAAAAAIBMQAAAAAAAAElA",
           "dtype": "f8",
           "shape": "99"
          },
          "bdata": "AAAAAACARkAAAAAAAIBWQAAAAAAAwFdAAAAAAADAVUAAAAAAAIBGQAAAAAAAAFlAAAAAAABAUEAAAAAAAIBWQAAAAAAAAElAAAAAAABAUEAAAAAAAABEQAAAAAAAAEhAAAAAAACAVkAAAAAAAIBVQAAAAAAAgEtAAAAAAAAAVEAAAAAAAIBRQAAAAAAAgExAAAAAAAAAVEAAAAAAAABUQAAAAAAAAFNAAAAAAACAS0AAAAAAAIBYQAAAAAAAAElAAAAAAAAATkAAAAAAAMBSQAAAAAAAAElAAAAAAACAS0AAAAAAAIBRQAAAAAAAAElAAAAAAAAASUAAAAAAAIBWQAAAAAAAQFVAAAAAAAAATkAAAAAAAIBRQAAAAAAAIFRAAAAAAADAV0AAAAAAAMBLQAAAAAAAAFRAAAAAAADAUkAAAAAAAABKQAAAAAAAAE9AAAAAAAAAVkAAAAAAAABOQAAAAAAAwFdAAAAAAABAUEAAAAAAAKBWQAAAAAAAgFZAAAAAAAAAWUAAAAAAAABZQAAAAAAAAFdAAAAAAABAVUAAAAAAAEBVQAAAAAAAAFlAAAAAAAAAWUAAAAAAAABZQAAAAAAAAFlAAAAAAAAAWUAAAAAAAABZQAAAAAAAAFlAAAAAAABAVUAAAAAAAIBWQAAAAAAAgFZAAAAAAAAAWUAAAAAAAABZQAAAAAAAAFlAAAAAAAAASUAAAAAAAABSQAAAAAAAQFVAAAAAAACAU0AzMzMzM1NVQAAAAAAAIFdAAAAAAAAATkAAAAAAAIBWQAAAAAAAAFRAAAAAAABAUEAAAAAAAEBVQAAAAAAAwFNAAAAAAACAVkAAAAAAAIBWQAAAAAAAAFlAAAAAAAAAWUAAAAAAAEBVQAAAAAAAgFFAAAAAAAAAVEAAAAAAAIBWQAAAAAAAgFZAAAAAAACAUUAAAAAAAEBTQAAAAAAAAFhAAAAAAABAVUAAAAAAAEBVQAAAAAAAgEtAAAAAAAAATkAAAAAAAMBLQAAAAAAAQFZAAAAAAAAAREAAAAAAAIBMQAAAAAAAAElA",
          "dtype": "f8"
         },
         "y0": " ",
         "yaxis": "y"
        },
        {
         "alignmentgroup": "True",
         "hovertemplate": "Playing Years=%{x}<br>Grade=%{y}<extra></extra>",
         "legendgroup": "2",
         "marker": {
          "color": "rgb(152,78,163)"
         },
         "name": "2",
         "notched": false,
         "offsetgroup": "2",
         "orientation": "v",
         "showlegend": true,
         "type": "box",
         "x": {
          "_inputArray": {
           "0": 2,
           "1": 2,
           "10": 2,
           "100": 2,
           "101": 2,
           "102": 2,
           "103": 2,
           "104": 2,
           "105": 2,
           "106": 2,
           "107": 2,
           "108": 2,
           "109": 2,
           "11": 2,
           "110": 2,
           "111": 2,
           "112": 2,
           "113": 2,
           "114": 2,
           "115": 2,
           "116": 2,
           "117": 2,
           "118": 2,
           "119": 2,
           "12": 2,
           "120": 2,
           "121": 2,
           "122": 2,
           "123": 2,
           "124": 2,
           "125": 2,
           "126": 2,
           "127": 2,
           "128": 2,
           "129": 2,
           "13": 2,
           "130": 2,
           "131": 2,
           "132": 2,
           "133": 2,
           "134": 2,
           "135": 2,
           "136": 2,
           "14": 2,
           "15": 2,
           "16": 2,
           "17": 2,
           "18": 2,
           "19": 2,
           "2": 2,
           "20": 2,
           "21": 2,
           "22": 2,
           "23": 2,
           "24": 2,
           "25": 2,
           "26": 2,
           "27": 2,
           "28": 2,
           "29": 2,
           "3": 2,
           "30": 2,
           "31": 2,
           "32": 2,
           "33": 2,
           "34": 2,
           "35": 2,
           "36": 2,
           "37": 2,
           "38": 2,
           "39": 2,
           "4": 2,
           "40": 2,
           "41": 2,
           "42": 2,
           "43": 2,
           "44": 2,
           "45": 2,
           "46": 2,
           "47": 2,
           "48": 2,
           "49": 2,
           "5": 2,
           "50": 2,
           "51": 2,
           "52": 2,
           "53": 2,
           "54": 2,
           "55": 2,
           "56": 2,
           "57": 2,
           "58": 2,
           "59": 2,
           "6": 2,
           "60": 2,
           "61": 2,
           "62": 2,
           "63": 2,
           "64": 2,
           "65": 2,
           "66": 2,
           "67": 2,
           "68": 2,
           "69": 2,
           "7": 2,
           "70": 2,
           "71": 2,
           "72": 2,
           "73": 2,
           "74": 2,
           "75": 2,
           "76": 2,
           "77": 2,
           "78": 2,
           "79": 2,
           "8": 2,
           "80": 2,
           "81": 2,
           "82": 2,
           "83": 2,
           "84": 2,
           "85": 2,
           "86": 2,
           "87": 2,
           "88": 2,
           "89": 2,
           "9": 2,
           "90": 2,
           "91": 2,
           "92": 2,
           "93": 2,
           "94": 2,
           "95": 2,
           "96": 2,
           "97": 2,
           "98": 2,
           "99": 2,
           "bdata": "AgICAgICAgICAgICAgICAgICAgICAgICAgICAgICAgICAgICAgICAgICAgICAgICAgICAgICAgICAgICAgICAgICAgICAgICAgICAgICAgICAgICAgICAgICAgICAgICAgICAgICAgICAgICAgICAgICAgICAgICAgICAgICAgICAgICAgICAgI=",
           "dtype": "i1",
           "shape": "137"
          },
          "bdata": "AgICAgICAgICAgICAgICAgICAgICAgICAgICAgICAgICAgICAgICAgICAgICAgICAgICAgICAgICAgICAgICAgICAgICAgICAgICAgICAgICAgICAgICAgICAgICAgICAgICAgICAgICAgICAgICAgICAgICAgICAgICAgICAgICAgICAgICAgI=",
          "dtype": "i1"
         },
         "x0": " ",
         "xaxis": "x",
         "y": {
          "_inputArray": {
           "0": 60,
           "1": 88,
           "10": 80,
           "100": 65,
           "101": 70,
           "102": 55,
           "103": 100,
           "104": 79.8,
           "105": 70,
           "106": 80,
           "107": 60,
           "108": 87,
           "109": 75,
           "11": 95,
           "110": 67.5,
           "111": 90,
           "112": 100,
           "113": 100,
           "114": 80,
           "115": 80,
           "116": 60,
           "117": 98.5,
           "118": 72.5,
           "119": 62,
           "12": 60,
           "120": 92,
           "121": 95.5,
           "122": 80,
           "123": 63,
           "124": 85,
           "125": 80,
           "126": 65,
           "127": 60,
           "128": 78,
           "129": 65,
           "13": 45,
           "130": 55,
           "131": 50,
           "132": 45.5,
           "133": 100,
           "134": 75,
           "135": 77,
           "136": 100,
           "14": 79,
           "15": 70,
           "16": 80,
           "17": 78,
           "18": 64,
           "19": 42.35,
           "2": 50,
           "20": 65,
           "21": 63,
           "22": 90,
           "23": 70,
           "24": 55,
           "25": 75,
           "26": 91,
           "27": 71,
           "28": 88,
           "29": 75,
           "3": 90,
           "30": 70,
           "31": 87,
           "32": 97.66,
           "33": 98.5,
           "34": 65.5,
           "35": 90,
           "36": 93.5,
           "37": 86.7,
           "38": 70,
           "39": 60,
           "4": 95,
           "40": 50,
           "41": 70,
           "42": 67,
           "43": 85,
           "44": 70,
           "45": 90,
           "46": 90,
           "47": 80,
           "48": 75,
           "49": 82,
           "5": 65,
           "50": 60,
           "51": 99,
           "52": 70,
           "53": 60,
           "54": 98,
           "55": 55,
           "56": 89.5,
           "57": 75,
           "58": 50,
           "59": 80,
           "6": 61,
           "60": 85,
           "61": 43,
           "62": 65,
           "63": 70,
           "64": 75,
           "65": 71,
           "66": 100,
           "67": 100,
           "68": 100,
           "69": 85,
           "7": 77,
           "70": 100,
           "71": 85,
           "72": 85,
           "73": 100,
           "74": 75,
           "75": 100,
           "76": 90,
           "77": 100,
           "78": 100,
           "79": 90,
           "8": 100,
           "80": 100,
           "81": 85,
           "82": 87,
           "83": 95,
           "84": 65,
           "85": 75,
           "86": 82.5,
           "87": 60,
           "88": 40,
           "89": 75,
           "9": 70,
           "90": 70,
           "91": 65,
           "92": 50,
           "93": 33,
           "94": 50,
           "95": 72.1,
           "96": 40,
           "97": 80.33,
           "98": 90,
           "99": 56.5,
           "bdata": "AAAAAAAATkAAAAAAAABWQAAAAAAAAElAAAAAAACAVkAAAAAAAMBXQAAAAAAAQFBAAAAAAACATkAAAAAAAEBTQAAAAAAAAFlAAAAAAACAUUAAAAAAAABUQAAAAAAAwFdAAAAAAAAATkAAAAAAAIBGQAAAAAAAwFNAAAAAAACAUUAAAAAAAABUQAAAAAAAgFNAAAAAAAAAUEDNzMzMzCxFQAAAAAAAQFBAAAAAAACAT0AAAAAAAIBWQAAAAAAAgFFAAAAAAACAS0AAAAAAAMBSQAAAAAAAwFZAAAAAAADAUUAAAAAAAABWQAAAAAAAwFJAAAAAAACAUUAAAAAAAMBVQArXo3A9alhAAAAAAACgWEAAAAAAAGBQQAAAAAAAgFZAAAAAAABgV0DNzMzMzKxVQAAAAAAAgFFAAAAAAAAATkAAAAAAAABJQAAAAAAAgFFAAAAAAADAUEAAAAAAAEBVQAAAAAAAgFFAAAAAAACAVkAAAAAAAIBWQAAAAAAAAFRAAAAAAADAUkAAAAAAAIBUQAAAAAAAAE5AAAAAAADAWEAAAAAAAIBRQAAAAAAAAE5AAAAAAACAWEAAAAAAAIBLQAAAAAAAYFZAAAAAAADAUkAAAAAAAABJQAAAAAAAAFRAAAAAAABAVUAAAAAAAIBFQAAAAAAAQFBAAAAAAACAUUAAAAAAAMBSQAAAAAAAwFFAAAAAAAAAWUAAAAAAAABZQAAAAAAAAFlAAAAAAABAVUAAAAAAAABZQAAAAAAAQFVAAAAAAABAVUAAAAAAAABZQAAAAAAAwFJAAAAAAAAAWUAAAAAAAIBWQAAAAAAAAFlAAAAAAAAAWUAAAAAAAIBWQAAAAAAAAFlAAAAAAABAVUAAAAAAAMBVQAAAAAAAwFdAAAAAAABAUEAAAAAAAMBSQAAAAAAAoFRAAAAAAAAATkAAAAAAAABEQAAAAAAAwFJAAAAAAACAUUAAAAAAAEBQQAAAAAAAAElAAAAAAACAQEAAAAAAAABJQGZmZmZmBlJAAAAAAAAARECF61G4HhVUQAAAAAAAgFZAAAAAAABATEAAAAAAAEBQQAAAAAAAgFFAAAAAAACAS0AAAAAAAABZQDMzMzMz81NAAAAAAACAUUAAAAAAAABUQAAAAAAAAE5AAAAAAADAVUAAAAAAAMBSQAAAAAAA4FBAAAAAAACAVkAAAAAAAABZQAAAAAAAAFlAAAAAAAAAVEAAAAAAAABUQAAAAAAAAE5AAAAAAACgWEAAAAAAACBSQAAAAAAAAE9AAAAAAAAAV0AAAAAAAOBXQAAAAAAAAFRAAAAAAACAT0AAAAAAAEBVQAAAAAAAAFRAAAAAAABAUEAAAAAAAABOQAAAAAAAgFNAAAAAAABAUEAAAAAAAIBLQAAAAAAAAElAAAAAAADARkAAAAAAAABZQAAAAAAAwFJAAAAAAABAU0AAAAAAAABZQA==",
           "dtype": "f8",
           "shape": "137"
          },
          "bdata": "AAAAAAAATkAAAAAAAABWQAAAAAAAAElAAAAAAACAVkAAAAAAAMBXQAAAAAAAQFBAAAAAAACATkAAAAAAAEBTQAAAAAAAAFlAAAAAAACAUUAAAAAAAABUQAAAAAAAwFdAAAAAAAAATkAAAAAAAIBGQAAAAAAAwFNAAAAAAACAUUAAAAAAAABUQAAAAAAAgFNAAAAAAAAAUEDNzMzMzCxFQAAAAAAAQFBAAAAAAACAT0AAAAAAAIBWQAAAAAAAgFFAAAAAAACAS0AAAAAAAMBSQAAAAAAAwFZAAAAAAADAUUAAAAAAAABWQAAAAAAAwFJAAAAAAACAUUAAAAAAAMBVQArXo3A9alhAAAAAAACgWEAAAAAAAGBQQAAAAAAAgFZAAAAAAABgV0DNzMzMzKxVQAAAAAAAgFFAAAAAAAAATkAAAAAAAABJQAAAAAAAgFFAAAAAAADAUEAAAAAAAEBVQAAAAAAAgFFAAAAAAACAVkAAAAAAAIBWQAAAAAAAAFRAAAAAAADAUkAAAAAAAIBUQAAAAAAAAE5AAAAAAADAWEAAAAAAAIBRQAAAAAAAAE5AAAAAAACAWEAAAAAAAIBLQAAAAAAAYFZAAAAAAADAUkAAAAAAAABJQAAAAAAAAFRAAAAAAABAVUAAAAAAAIBFQAAAAAAAQFBAAAAAAACAUUAAAAAAAMBSQAAAAAAAwFFAAAAAAAAAWUAAAAAAAABZQAAAAAAAAFlAAAAAAABAVUAAAAAAAABZQAAAAAAAQFVAAAAAAABAVUAAAAAAAABZQAAAAAAAwFJAAAAAAAAAWUAAAAAAAIBWQAAAAAAAAFlAAAAAAAAAWUAAAAAAAIBWQAAAAAAAAFlAAAAAAABAVUAAAAAAAMBVQAAAAAAAwFdAAAAAAABAUEAAAAAAAMBSQAAAAAAAoFRAAAAAAAAATkAAAAAAAABEQAAAAAAAwFJAAAAAAACAUUAAAAAAAEBQQAAAAAAAAElAAAAAAACAQEAAAAAAAABJQGZmZmZmBlJAAAAAAAAARECF61G4HhVUQAAAAAAAgFZAAAAAAABATEAAAAAAAEBQQAAAAAAAgFFAAAAAAACAS0AAAAAAAABZQDMzMzMz81NAAAAAAACAUUAAAAAAAABUQAAAAAAAAE5AAAAAAADAVUAAAAAAAMBSQAAAAAAA4FBAAAAAAACAVkAAAAAAAABZQAAAAAAAAFlAAAAAAAAAVEAAAAAAAABUQAAAAAAAAE5AAAAAAACgWEAAAAAAACBSQAAAAAAAAE9AAAAAAAAAV0AAAAAAAOBXQAAAAAAAAFRAAAAAAACAT0AAAAAAAEBVQAAAAAAAAFRAAAAAAABAUEAAAAAAAABOQAAAAAAAgFNAAAAAAABAUEAAAAAAAIBLQAAAAAAAAElAAAAAAADARkAAAAAAAABZQAAAAAAAwFJAAAAAAABAU0AAAAAAAABZQA==",
          "dtype": "f8"
         },
         "y0": " ",
         "yaxis": "y"
        },
        {
         "alignmentgroup": "True",
         "hovertemplate": "Playing Years=%{x}<br>Grade=%{y}<extra></extra>",
         "legendgroup": "4",
         "marker": {
          "color": "rgb(255,127,0)"
         },
         "name": "4",
         "notched": false,
         "offsetgroup": "4",
         "orientation": "v",
         "showlegend": true,
         "type": "box",
         "x": {
          "_inputArray": {
           "0": 4,
           "1": 4,
           "10": 4,
           "100": 4,
           "101": 4,
           "102": 4,
           "103": 4,
           "104": 4,
           "105": 4,
           "106": 4,
           "107": 4,
           "108": 4,
           "109": 4,
           "11": 4,
           "110": 4,
           "111": 4,
           "112": 4,
           "113": 4,
           "12": 4,
           "13": 4,
           "14": 4,
           "15": 4,
           "16": 4,
           "17": 4,
           "18": 4,
           "19": 4,
           "2": 4,
           "20": 4,
           "21": 4,
           "22": 4,
           "23": 4,
           "24": 4,
           "25": 4,
           "26": 4,
           "27": 4,
           "28": 4,
           "29": 4,
           "3": 4,
           "30": 4,
           "31": 4,
           "32": 4,
           "33": 4,
           "34": 4,
           "35": 4,
           "36": 4,
           "37": 4,
           "38": 4,
           "39": 4,
           "4": 4,
           "40": 4,
           "41": 4,
           "42": 4,
           "43": 4,
           "44": 4,
           "45": 4,
           "46": 4,
           "47": 4,
           "48": 4,
           "49": 4,
           "5": 4,
           "50": 4,
           "51": 4,
           "52": 4,
           "53": 4,
           "54": 4,
           "55": 4,
           "56": 4,
           "57": 4,
           "58": 4,
           "59": 4,
           "6": 4,
           "60": 4,
           "61": 4,
           "62": 4,
           "63": 4,
           "64": 4,
           "65": 4,
           "66": 4,
           "67": 4,
           "68": 4,
           "69": 4,
           "7": 4,
           "70": 4,
           "71": 4,
           "72": 4,
           "73": 4,
           "74": 4,
           "75": 4,
           "76": 4,
           "77": 4,
           "78": 4,
           "79": 4,
           "8": 4,
           "80": 4,
           "81": 4,
           "82": 4,
           "83": 4,
           "84": 4,
           "85": 4,
           "86": 4,
           "87": 4,
           "88": 4,
           "89": 4,
           "9": 4,
           "90": 4,
           "91": 4,
           "92": 4,
           "93": 4,
           "94": 4,
           "95": 4,
           "96": 4,
           "97": 4,
           "98": 4,
           "99": 4,
           "bdata": "BAQEBAQEBAQEBAQEBAQEBAQEBAQEBAQEBAQEBAQEBAQEBAQEBAQEBAQEBAQEBAQEBAQEBAQEBAQEBAQEBAQEBAQEBAQEBAQEBAQEBAQEBAQEBAQEBAQEBAQEBAQEBAQEBAQEBAQEBAQEBAQEBAQEBAQE",
           "dtype": "i1",
           "shape": "114"
          },
          "bdata": "BAQEBAQEBAQEBAQEBAQEBAQEBAQEBAQEBAQEBAQEBAQEBAQEBAQEBAQEBAQEBAQEBAQEBAQEBAQEBAQEBAQEBAQEBAQEBAQEBAQEBAQEBAQEBAQEBAQEBAQEBAQEBAQEBAQEBAQEBAQEBAQEBAQEBAQE",
          "dtype": "i1"
         },
         "x0": " ",
         "xaxis": "x",
         "y": {
          "_inputArray": {
           "0": 80,
           "1": 74,
           "10": 80,
           "100": 70,
           "101": 75,
           "102": 55.3,
           "103": 70,
           "104": 70,
           "105": 60,
           "106": 60,
           "107": 65,
           "108": 61,
           "109": 70,
           "11": 65,
           "110": 70,
           "111": 75,
           "112": 82,
           "113": 100,
           "12": 70,
           "13": 92,
           "14": 85,
           "15": 93,
           "16": 77,
           "17": 93,
           "18": 55,
           "19": 50,
           "2": 76.5,
           "20": 65,
           "21": 50,
           "22": 55,
           "23": 40,
           "24": 50,
           "25": 45,
           "26": 71,
           "27": 70,
           "28": 87,
           "29": 86,
           "3": 80,
           "30": 45,
           "31": 88,
           "32": 80,
           "33": 67,
           "34": 73,
           "35": 40,
           "36": 80,
           "37": 55,
           "38": 50,
           "39": 55,
           "4": 50,
           "40": 75,
           "41": 75,
           "42": 80,
           "43": 98,
           "44": 99,
           "45": 87,
           "46": 70,
           "47": 60,
           "48": 70,
           "49": 90,
           "5": 69,
           "50": 83.5,
           "51": 70,
           "52": 67,
           "53": 88,
           "54": 75,
           "55": 91,
           "56": 93,
           "57": 50,
           "58": 80,
           "59": 85,
           "6": 60,
           "60": 95,
           "61": 85,
           "62": 65,
           "63": 40,
           "64": 100,
           "65": 80,
           "66": 100,
           "67": 80,
           "68": 90,
           "69": 85,
           "7": 60,
           "70": 100,
           "71": 100,
           "72": 70,
           "73": 100,
           "74": 100,
           "75": 97,
           "76": 90,
           "77": 80,
           "78": 95,
           "79": 100,
           "8": 65,
           "80": 100,
           "81": 100,
           "82": 60,
           "83": 100,
           "84": 100,
           "85": 87,
           "86": 65,
           "87": 63,
           "88": 50,
           "89": 76,
           "9": 95,
           "90": 80,
           "91": 65,
           "92": 90,
           "93": 85,
           "94": 80,
           "95": 65,
           "96": 60.5,
           "97": 55,
           "98": 66,
           "99": 83.5,
           "bdata": "AAAAAAAAVEAAAAAAAIBSQAAAAAAAIFNAAAAAAAAAVEAAAAAAAABJQAAAAAAAQFFAAAAAAAAATkAAAAAAAABOQAAAAAAAQFBAAAAAAADAV0AAAAAAAABUQAAAAAAAQFBAAAAAAACAUUAAAAAAAABXQAAAAAAAQFVAAAAAAABAV0AAAAAAAEBTQAAAAAAAQFdAAAAAAACAS0AAAAAAAABJQAAAAAAAQFBAAAAAAAAASUAAAAAAAIBLQAAAAAAAAERAAAAAAAAASUAAAAAAAIBGQAAAAAAAwFFAAAAAAACAUUAAAAAAAMBVQAAAAAAAgFVAAAAAAACARkAAAAAAAABWQAAAAAAAAFRAAAAAAADAUEAAAAAAAEBSQAAAAAAAAERAAAAAAAAAVEAAAAAAAIBLQAAAAAAAAElAAAAAAACAS0AAAAAAAMBSQAAAAAAAwFJAAAAAAAAAVEAAAAAAAIBYQAAAAAAAwFhAAAAAAADAVUAAAAAAAIBRQAAAAAAAAE5AAAAAAACAUUAAAAAAAIBWQAAAAAAA4FRAAAAAAACAUUAAAAAAAMBQQAAAAAAAAFZAAAAAAADAUkAAAAAAAMBWQAAAAAAAQFdAAAAAAAAASUAAAAAAAABUQAAAAAAAQFVAAAAAAADAV0AAAAAAAEBVQAAAAAAAQFBAAAAAAAAAREAAAAAAAABZQAAAAAAAAFRAAAAAAAAAWUAAAAAAAABUQAAAAAAAgFZAAAAAAABAVUAAAAAAAABZQAAAAAAAAFlAAAAAAACAUUAAAAAAAABZQAAAAAAAAFlAAAAAAABAWEAAAAAAAIBWQAAAAAAAAFRAAAAAAADAV0AAAAAAAABZQAAAAAAAAFlAAAAAAAAAWUAAAAAAAABOQAAAAAAAAFlAAAAAAAAAWUAAAAAAAMBVQAAAAAAAQFBAAAAAAACAT0AAAAAAAABJQAAAAAAAAFNAAAAAAAAAVEAAAAAAAEBQQAAAAAAAgFZAAAAAAABAVUAAAAAAAABUQAAAAAAAQFBAAAAAAABATkAAAAAAAIBLQAAAAAAAgFBAAAAAAADgVEAAAAAAAIBRQAAAAAAAwFJAZmZmZmamS0AAAAAAAIBRQAAAAAAAgFFAAAAAAAAATkAAAAAAAABOQAAAAAAAQFBAAAAAAACATkAAAAAAAIBRQAAAAAAAgFFAAAAAAADAUkAAAAAAAIBUQAAAAAAAAFlA",
           "dtype": "f8",
           "shape": "114"
          },
          "bdata": "AAAAAAAAVEAAAAAAAIBSQAAAAAAAIFNAAAAAAAAAVEAAAAAAAABJQAAAAAAAQFFAAAAAAAAATkAAAAAAAABOQAAAAAAAQFBAAAAAAADAV0AAAAAAAABUQAAAAAAAQFBAAAAAAACAUUAAAAAAAABXQAAAAAAAQFVAAAAAAABAV0AAAAAAAEBTQAAAAAAAQFdAAAAAAACAS0AAAAAAAABJQAAAAAAAQFBAAAAAAAAASUAAAAAAAIBLQAAAAAAAAERAAAAAAAAASUAAAAAAAIBGQAAAAAAAwFFAAAAAAACAUUAAAAAAAMBVQAAAAAAAgFVAAAAAAACARkAAAAAAAABWQAAAAAAAAFRAAAAAAADAUEAAAAAAAEBSQAAAAAAAAERAAAAAAAAAVEAAAAAAAIBLQAAAAAAAAElAAAAAAACAS0AAAAAAAMBSQAAAAAAAwFJAAAAAAAAAVEAAAAAAAIBYQAAAAAAAwFhAAAAAAADAVUAAAAAAAIBRQAAAAAAAAE5AAAAAAACAUUAAAAAAAIBWQAAAAAAA4FRAAAAAAACAUUAAAAAAAMBQQAAAAAAAAFZAAAAAAADAUkAAAAAAAMBWQAAAAAAAQFdAAAAAAAAASUAAAAAAAABUQAAAAAAAQFVAAAAAAADAV0AAAAAAAEBVQAAAAAAAQFBAAAAAAAAAREAAAAAAAABZQAAAAAAAAFRAAAAAAAAAWUAAAAAAAABUQAAAAAAAgFZAAAAAAABAVUAAAAAAAABZQAAAAAAAAFlAAAAAAACAUUAAAAAAAABZQAAAAAAAAFlAAAAAAABAWEAAAAAAAIBWQAAAAAAAAFRAAAAAAADAV0AAAAAAAABZQAAAAAAAAFlAAAAAAAAAWUAAAAAAAABOQAAAAAAAAFlAAAAAAAAAWUAAAAAAAMBVQAAAAAAAQFBAAAAAAACAT0AAAAAAAABJQAAAAAAAAFNAAAAAAAAAVEAAAAAAAEBQQAAAAAAAgFZAAAAAAABAVUAAAAAAAABUQAAAAAAAQFBAAAAAAABATkAAAAAAAIBLQAAAAAAAgFBAAAAAAADgVEAAAAAAAIBRQAAAAAAAwFJAZmZmZmamS0AAAAAAAIBRQAAAAAAAgFFAAAAAAAAATkAAAAAAAABOQAAAAAAAQFBAAAAAAACATkAAAAAAAIBRQAAAAAAAgFFAAAAAAADAUkAAAAAAAIBUQAAAAAAAAFlA",
          "dtype": "f8"
         },
         "y0": " ",
         "yaxis": "y"
        }
       ],
       "layout": {
        "autosize": true,
        "boxmode": "overlay",
        "legend": {
         "title": {
          "text": "Playing Years"
         },
         "tracegroupgap": 0
        },
        "margin": {
         "t": 60
        },
        "showlegend": false,
        "template": {
         "data": {
          "bar": [
           {
            "error_x": {
             "color": "#2a3f5f"
            },
            "error_y": {
             "color": "#2a3f5f"
            },
            "marker": {
             "line": {
              "color": "#E5ECF6",
              "width": 0
             },
             "pattern": {
              "fillmode": "overlay",
              "size": 10,
              "solidity": 0.2
             }
            },
            "type": "bar"
           }
          ],
          "barpolar": [
           {
            "marker": {
             "line": {
              "color": "#E5ECF6",
              "width": 0.5
             },
             "pattern": {
              "fillmode": "overlay",
              "size": 10,
              "solidity": 0.2
             }
            },
            "type": "barpolar"
           }
          ],
          "carpet": [
           {
            "aaxis": {
             "endlinecolor": "#2a3f5f",
             "gridcolor": "white",
             "linecolor": "white",
             "minorgridcolor": "white",
             "startlinecolor": "#2a3f5f"
            },
            "baxis": {
             "endlinecolor": "#2a3f5f",
             "gridcolor": "white",
             "linecolor": "white",
             "minorgridcolor": "white",
             "startlinecolor": "#2a3f5f"
            },
            "type": "carpet"
           }
          ],
          "choropleth": [
           {
            "colorbar": {
             "outlinewidth": 0,
             "ticks": ""
            },
            "type": "choropleth"
           }
          ],
          "contour": [
           {
            "colorbar": {
             "outlinewidth": 0,
             "ticks": ""
            },
            "colorscale": [
             [
              0,
              "#0d0887"
             ],
             [
              0.1111111111111111,
              "#46039f"
             ],
             [
              0.2222222222222222,
              "#7201a8"
             ],
             [
              0.3333333333333333,
              "#9c179e"
             ],
             [
              0.4444444444444444,
              "#bd3786"
             ],
             [
              0.5555555555555556,
              "#d8576b"
             ],
             [
              0.6666666666666666,
              "#ed7953"
             ],
             [
              0.7777777777777778,
              "#fb9f3a"
             ],
             [
              0.8888888888888888,
              "#fdca26"
             ],
             [
              1,
              "#f0f921"
             ]
            ],
            "type": "contour"
           }
          ],
          "contourcarpet": [
           {
            "colorbar": {
             "outlinewidth": 0,
             "ticks": ""
            },
            "type": "contourcarpet"
           }
          ],
          "heatmap": [
           {
            "colorbar": {
             "outlinewidth": 0,
             "ticks": ""
            },
            "colorscale": [
             [
              0,
              "#0d0887"
             ],
             [
              0.1111111111111111,
              "#46039f"
             ],
             [
              0.2222222222222222,
              "#7201a8"
             ],
             [
              0.3333333333333333,
              "#9c179e"
             ],
             [
              0.4444444444444444,
              "#bd3786"
             ],
             [
              0.5555555555555556,
              "#d8576b"
             ],
             [
              0.6666666666666666,
              "#ed7953"
             ],
             [
              0.7777777777777778,
              "#fb9f3a"
             ],
             [
              0.8888888888888888,
              "#fdca26"
             ],
             [
              1,
              "#f0f921"
             ]
            ],
            "type": "heatmap"
           }
          ],
          "histogram": [
           {
            "marker": {
             "pattern": {
              "fillmode": "overlay",
              "size": 10,
              "solidity": 0.2
             }
            },
            "type": "histogram"
           }
          ],
          "histogram2d": [
           {
            "colorbar": {
             "outlinewidth": 0,
             "ticks": ""
            },
            "colorscale": [
             [
              0,
              "#0d0887"
             ],
             [
              0.1111111111111111,
              "#46039f"
             ],
             [
              0.2222222222222222,
              "#7201a8"
             ],
             [
              0.3333333333333333,
              "#9c179e"
             ],
             [
              0.4444444444444444,
              "#bd3786"
             ],
             [
              0.5555555555555556,
              "#d8576b"
             ],
             [
              0.6666666666666666,
              "#ed7953"
             ],
             [
              0.7777777777777778,
              "#fb9f3a"
             ],
             [
              0.8888888888888888,
              "#fdca26"
             ],
             [
              1,
              "#f0f921"
             ]
            ],
            "type": "histogram2d"
           }
          ],
          "histogram2dcontour": [
           {
            "colorbar": {
             "outlinewidth": 0,
             "ticks": ""
            },
            "colorscale": [
             [
              0,
              "#0d0887"
             ],
             [
              0.1111111111111111,
              "#46039f"
             ],
             [
              0.2222222222222222,
              "#7201a8"
             ],
             [
              0.3333333333333333,
              "#9c179e"
             ],
             [
              0.4444444444444444,
              "#bd3786"
             ],
             [
              0.5555555555555556,
              "#d8576b"
             ],
             [
              0.6666666666666666,
              "#ed7953"
             ],
             [
              0.7777777777777778,
              "#fb9f3a"
             ],
             [
              0.8888888888888888,
              "#fdca26"
             ],
             [
              1,
              "#f0f921"
             ]
            ],
            "type": "histogram2dcontour"
           }
          ],
          "mesh3d": [
           {
            "colorbar": {
             "outlinewidth": 0,
             "ticks": ""
            },
            "type": "mesh3d"
           }
          ],
          "parcoords": [
           {
            "line": {
             "colorbar": {
              "outlinewidth": 0,
              "ticks": ""
             }
            },
            "type": "parcoords"
           }
          ],
          "pie": [
           {
            "automargin": true,
            "type": "pie"
           }
          ],
          "scatter": [
           {
            "fillpattern": {
             "fillmode": "overlay",
             "size": 10,
             "solidity": 0.2
            },
            "type": "scatter"
           }
          ],
          "scatter3d": [
           {
            "line": {
             "colorbar": {
              "outlinewidth": 0,
              "ticks": ""
             }
            },
            "marker": {
             "colorbar": {
              "outlinewidth": 0,
              "ticks": ""
             }
            },
            "type": "scatter3d"
           }
          ],
          "scattercarpet": [
           {
            "marker": {
             "colorbar": {
              "outlinewidth": 0,
              "ticks": ""
             }
            },
            "type": "scattercarpet"
           }
          ],
          "scattergeo": [
           {
            "marker": {
             "colorbar": {
              "outlinewidth": 0,
              "ticks": ""
             }
            },
            "type": "scattergeo"
           }
          ],
          "scattergl": [
           {
            "marker": {
             "colorbar": {
              "outlinewidth": 0,
              "ticks": ""
             }
            },
            "type": "scattergl"
           }
          ],
          "scattermap": [
           {
            "marker": {
             "colorbar": {
              "outlinewidth": 0,
              "ticks": ""
             }
            },
            "type": "scattermap"
           }
          ],
          "scattermapbox": [
           {
            "marker": {
             "colorbar": {
              "outlinewidth": 0,
              "ticks": ""
             }
            },
            "type": "scattermapbox"
           }
          ],
          "scatterpolar": [
           {
            "marker": {
             "colorbar": {
              "outlinewidth": 0,
              "ticks": ""
             }
            },
            "type": "scatterpolar"
           }
          ],
          "scatterpolargl": [
           {
            "marker": {
             "colorbar": {
              "outlinewidth": 0,
              "ticks": ""
             }
            },
            "type": "scatterpolargl"
           }
          ],
          "scatterternary": [
           {
            "marker": {
             "colorbar": {
              "outlinewidth": 0,
              "ticks": ""
             }
            },
            "type": "scatterternary"
           }
          ],
          "surface": [
           {
            "colorbar": {
             "outlinewidth": 0,
             "ticks": ""
            },
            "colorscale": [
             [
              0,
              "#0d0887"
             ],
             [
              0.1111111111111111,
              "#46039f"
             ],
             [
              0.2222222222222222,
              "#7201a8"
             ],
             [
              0.3333333333333333,
              "#9c179e"
             ],
             [
              0.4444444444444444,
              "#bd3786"
             ],
             [
              0.5555555555555556,
              "#d8576b"
             ],
             [
              0.6666666666666666,
              "#ed7953"
             ],
             [
              0.7777777777777778,
              "#fb9f3a"
             ],
             [
              0.8888888888888888,
              "#fdca26"
             ],
             [
              1,
              "#f0f921"
             ]
            ],
            "type": "surface"
           }
          ],
          "table": [
           {
            "cells": {
             "fill": {
              "color": "#EBF0F8"
             },
             "line": {
              "color": "white"
             }
            },
            "header": {
             "fill": {
              "color": "#C8D4E3"
             },
             "line": {
              "color": "white"
             }
            },
            "type": "table"
           }
          ]
         },
         "layout": {
          "annotationdefaults": {
           "arrowcolor": "#343a42",
           "arrowhead": 0,
           "arrowwidth": 1
          },
          "autotypenumbers": "strict",
          "coloraxis": {
           "colorbar": {
            "outlinewidth": 0,
            "ticks": ""
           }
          },
          "colorscale": {
           "diverging": [
            [
             0,
             "#8e0152"
            ],
            [
             0.1,
             "#c51b7d"
            ],
            [
             0.2,
             "#de77ae"
            ],
            [
             0.3,
             "#f1b6da"
            ],
            [
             0.4,
             "#fde0ef"
            ],
            [
             0.5,
             "#f7f7f7"
            ],
            [
             0.6,
             "#e6f5d0"
            ],
            [
             0.7,
             "#b8e186"
            ],
            [
             0.8,
             "#7fbc41"
            ],
            [
             0.9,
             "#4d9221"
            ],
            [
             1,
             "#276419"
            ]
           ],
           "sequential": [
            [
             0,
             "#0d0887"
            ],
            [
             0.1111111111111111,
             "#46039f"
            ],
            [
             0.2222222222222222,
             "#7201a8"
            ],
            [
             0.3333333333333333,
             "#9c179e"
            ],
            [
             0.4444444444444444,
             "#bd3786"
            ],
            [
             0.5555555555555556,
             "#d8576b"
            ],
            [
             0.6666666666666666,
             "#ed7953"
            ],
            [
             0.7777777777777778,
             "#fb9f3a"
            ],
            [
             0.8888888888888888,
             "#fdca26"
            ],
            [
             1,
             "#f0f921"
            ]
           ],
           "sequentialminus": [
            [
             0,
             "#0d0887"
            ],
            [
             0.1111111111111111,
             "#46039f"
            ],
            [
             0.2222222222222222,
             "#7201a8"
            ],
            [
             0.3333333333333333,
             "#9c179e"
            ],
            [
             0.4444444444444444,
             "#bd3786"
            ],
            [
             0.5555555555555556,
             "#d8576b"
            ],
            [
             0.6666666666666666,
             "#ed7953"
            ],
            [
             0.7777777777777778,
             "#fb9f3a"
            ],
            [
             0.8888888888888888,
             "#fdca26"
            ],
            [
             1,
             "#f0f921"
            ]
           ]
          },
          "colorway": [
           "#343a42",
           "#4edcda",
           "#4c75eb",
           "#ef4de5",
           "#f74e4e",
           "#2d8923",
           "#f7b24e",
           "#2b9694",
           "#3a34b5",
           "#a736a0",
           "#b33c3c",
           "#2d8923"
          ],
          "font": {
           "color": "#343a42"
          },
          "geo": {
           "bgcolor": "white",
           "lakecolor": "white",
           "landcolor": "#E5ECF6",
           "showlakes": true,
           "showland": true,
           "subunitcolor": "white"
          },
          "hoverlabel": {
           "align": "left"
          },
          "hovermode": "closest",
          "mapbox": {
           "style": "light"
          },
          "paper_bgcolor": "#fdead4",
          "plot_bgcolor": "rgba(0, 0, 0, 0)",
          "polar": {
           "angularaxis": {
            "gridcolor": "white",
            "linecolor": "white",
            "ticks": ""
           },
           "bgcolor": "#E5ECF6",
           "radialaxis": {
            "gridcolor": "white",
            "linecolor": "white",
            "ticks": ""
           }
          },
          "scene": {
           "xaxis": {
            "backgroundcolor": "#E5ECF6",
            "gridcolor": "white",
            "gridwidth": 2,
            "linecolor": "white",
            "showbackground": true,
            "ticks": "",
            "zerolinecolor": "white"
           },
           "yaxis": {
            "backgroundcolor": "#E5ECF6",
            "gridcolor": "white",
            "gridwidth": 2,
            "linecolor": "white",
            "showbackground": true,
            "ticks": "",
            "zerolinecolor": "white"
           },
           "zaxis": {
            "backgroundcolor": "#E5ECF6",
            "gridcolor": "white",
            "gridwidth": 2,
            "linecolor": "white",
            "showbackground": true,
            "ticks": "",
            "zerolinecolor": "white"
           }
          },
          "shapedefaults": {
           "line": {
            "color": "#2a3f5f"
           }
          },
          "ternary": {
           "aaxis": {
            "gridcolor": "white",
            "linecolor": "white",
            "ticks": ""
           },
           "baxis": {
            "gridcolor": "white",
            "linecolor": "white",
            "ticks": ""
           },
           "bgcolor": "#E5ECF6",
           "caxis": {
            "gridcolor": "white",
            "linecolor": "white",
            "ticks": ""
           }
          },
          "title": {
           "x": 0.5
          },
          "xaxis": {
           "automargin": true,
           "gridcolor": "#d8bea1",
           "linecolor": "white",
           "ticks": "",
           "title": {
            "standoff": 15
           },
           "zerolinecolor": "#d8bea1",
           "zerolinewidth": 1
          },
          "yaxis": {
           "automargin": true,
           "gridcolor": "#d8bea1",
           "linecolor": "white",
           "ticks": "",
           "title": {
            "standoff": 15
           },
           "zerolinecolor": "#d8bea1",
           "zerolinewidth": 1
          }
         }
        },
        "title": {
         "text": "Boxplot: Playing Years vs Grade"
        },
        "xaxis": {
         "anchor": "y",
         "autorange": true,
         "categoryarray": [
          1,
          0,
          3,
          2,
          4
         ],
         "categoryorder": "array",
         "domain": [
          0,
          1
         ],
         "range": [
          -0.5,
          4.5
         ],
         "title": {
          "text": "Playing Years"
         },
         "type": "linear"
        },
        "yaxis": {
         "anchor": "x",
         "autorange": true,
         "domain": [
          0,
          1
         ],
         "gridcolor": "lightgray",
         "range": [
          29.27777777777778,
          103.72222222222223
         ],
         "title": {
          "text": "Grade"
         },
         "type": "linear"
        }
       }
      },
      "image/png": "[encoded data removed]"
     },
     "metadata": {},
     "output_type": "display_data"
    }
   ],
   "source": [
    "%run InfoVisualisation5.ipynb"
   ]
  },
  {
   "cell_type": "markdown",
   "id": "5e6dbe49-f4df-44a5-95b4-716e0f4d18c6",
   "metadata": {
    "tags": [
     "remove_input"
    ]
   },
   "source": [
    "Deze boxplot visualiseert de verdeling van schoolcijfers per aantal jaren game-ervaring. Elke box geeft de spreiding van cijfers weer voor een specifieke groep, met de mediaan, kwartielen en mogelijke uitschieters. Door deze visualisatie zie je of langere game-ervaring samengaat met hogere of lagere cijfers, of dat er juist weinig verschil is. Het geeft ook inzicht in variatie binnen elke groep.\n",
    "\n",
    "De boxplot laat zien dat studenten zonder game-ervaring (0 jaar) gemiddeld het hoogste scoren, waarbij de mediaan 85 is. De mediaan bij 1 tot 4 jaar ervaring tussen de 75 en 81 ligt. Hoewel de spreiding van cijfers groot blijft, vertoont de groep met 3 jaar ervaring de kleinste variatie. Er is echter geen duidelijk verband tussen het aantal speeljaren en de cijfers, wat suggereert dat andere factoren zoals inzet of motivatie waarschijnlijk belangrijker zijn. Dit sluit aan bij Ward (2018), die op basis van tijdsbestedingsdata en videogameverkoop aantoont dat meer gamen leidt tot minder aanwezigheid in de klas en minder studie-inzet. Zijn onderzoek ondersteunt het idee dat toegenomen gametijd ten koste gaat van studietijd, wat kan bijdragen aan lagere academische prestaties."
   ]
  },
  {
   "cell_type": "markdown",
   "id": "1b68bf45-b82a-457f-9c84-9a73c236714d",
   "metadata": {
    "tags": [
     "remove_input"
    ]
   },
   "source": [
    "### 3.2.3 Argument 3 voor perspectief 2: Lage aanwezigheid en veel gamen schaden studieprestaties\n",
    "\n",
    "De bubble chart toont het verband tussen dagelijkse gametijd, schoolaanweziheid en cijfers (CGPA). Hieruit blijkt duidelijk dat meer gamen samenhangt met lagere studieprestaties."
   ]
  },
  {
   "cell_type": "code",
   "execution_count": 22,
   "id": "ef31d2a0-3120-480e-b1b9-4b0b7deba61a",
   "metadata": {
    "tags": [
     "remove_input"
    ]
   },
   "outputs": [
    {
     "data": {
      "application/vnd.plotly.v1+json": {
       "config": {
        "plotlyServerURL": "https://plot.ly"
       },
       "data": [
        {
         "hoverinfo": "skip",
         "marker": {
          "color": {
           "_inputArray": {
            "0": 3.35,
            "1": 3.467,
            "10": 1.56,
            "100": 2.75,
            "101": 2.75,
            "102": 2.75,
            "103": 2.75,
            "104": 2.75,
            "105": 2.75,
            "106": 2.75,
            "107": 2.75,
            "108": 2.75,
            "109": 2.75,
            "11": 1.57,
            "110": 2.75,
            "111": 2.75,
            "112": 2.75,
            "113": 2.75,
            "114": 2.79,
            "115": 2.81,
            "116": 2.81,
            "117": 2.84,
            "118": 2.84,
            "119": 2.84,
            "12": 1.57,
            "120": 2.84,
            "121": 2.846,
            "122": 2.86,
            "123": 2.88,
            "124": 2.88,
            "125": 2.88,
            "126": 2.88,
            "127": 2.88,
            "128": 2.89,
            "129": 2.89,
            "13": 1.6,
            "130": 2.89,
            "131": 2.89,
            "132": 2.89,
            "133": 2.89,
            "134": 2.89,
            "135": 2.9,
            "136": 2.9,
            "137": 2.9,
            "138": 2.9,
            "139": 2.9,
            "14": 1.62,
            "140": 2.9,
            "141": 2.9,
            "142": 2.9,
            "143": 2.9,
            "144": 2.9,
            "145": 2.9,
            "146": 2.9,
            "147": 2.9,
            "148": 2.9,
            "149": 2.9,
            "15": 1.69,
            "150": 2.9,
            "151": 2.9,
            "152": 2.9,
            "153": 2.9,
            "154": 2.92,
            "155": 2.94,
            "156": 2.94,
            "157": 2.94,
            "158": 2.94,
            "159": 2.98,
            "16": 1.71,
            "160": 3,
            "161": 3,
            "162": 3,
            "163": 3,
            "164": 3,
            "165": 3,
            "166": 3,
            "167": 3,
            "168": 3,
            "169": 3,
            "17": 1.72,
            "170": 3.06,
            "171": 3.06,
            "172": 3.06,
            "173": 3.07,
            "174": 3.08,
            "175": 3.08,
            "176": 3.08,
            "177": 3.08,
            "178": 3.08,
            "179": 3.08,
            "18": 1.75,
            "180": 3.08,
            "181": 3.08,
            "182": 3.08,
            "183": 3.08,
            "184": 3.08,
            "185": 3.08,
            "186": 3.09,
            "187": 3.1,
            "188": 3.1,
            "189": 3.11,
            "19": 1.75,
            "190": 3.13,
            "191": 3.13,
            "192": 3.13,
            "193": 3.13,
            "194": 3.15,
            "195": 3.15,
            "196": 3.15,
            "197": 3.15,
            "198": 3.15,
            "199": 3.15,
            "2": 3.72,
            "20": 1.75,
            "200": 3.15,
            "201": 3.16,
            "202": 3.19,
            "203": 3.19,
            "204": 3.19,
            "205": 3.19,
            "206": 3.21,
            "207": 3.22,
            "208": 3.25,
            "209": 3.25,
            "21": 1.8,
            "210": 3.25,
            "211": 3.25,
            "212": 3.25,
            "213": 3.25,
            "214": 3.25,
            "215": 3.25,
            "216": 3.25,
            "217": 3.25,
            "218": 3.25,
            "219": 3.25,
            "22": 1.86,
            "220": 3.25,
            "221": 3.25,
            "222": 3.25,
            "223": 3.25,
            "224": 3.25,
            "225": 3.25,
            "226": 3.25,
            "227": 3.25,
            "228": 3.25,
            "229": 3.25,
            "23": 1.88,
            "230": 3.25,
            "231": 3.25,
            "232": 3.25,
            "233": 3.25,
            "234": 3.25,
            "235": 3.25,
            "236": 3.25,
            "237": 3.25,
            "238": 3.26,
            "239": 3.27,
            "24": 1.89,
            "240": 3.27,
            "241": 3.27,
            "242": 3.27,
            "243": 3.27,
            "244": 3.27,
            "245": 3.27,
            "246": 3.28,
            "247": 3.3,
            "248": 3.3,
            "249": 3.31,
            "25": 1.9,
            "250": 3.31,
            "251": 3.31,
            "252": 3.31,
            "253": 3.32,
            "254": 3.32,
            "255": 3.33,
            "256": 3.33,
            "257": 3.33,
            "258": 3.33,
            "259": 3.33,
            "26": 1.9,
            "260": 3.33,
            "261": 3.33,
            "262": 3.33,
            "263": 3.33,
            "264": 3.33,
            "265": 3.33,
            "266": 3.33,
            "267": 3.35,
            "268": 3.37,
            "269": 3.38,
            "27": 1.92,
            "270": 3.38,
            "271": 3.38,
            "272": 3.38,
            "273": 3.38,
            "274": 3.38,
            "275": 3.38,
            "276": 3.38,
            "277": 3.39,
            "278": 3.39,
            "279": 3.43,
            "28": 1.97,
            "280": 3.44,
            "281": 3.44,
            "282": 3.44,
            "283": 3.44,
            "284": 3.44,
            "285": 3.44,
            "286": 3.45,
            "287": 3.46,
            "288": 3.48,
            "289": 3.5,
            "29": 2,
            "290": 3.5,
            "291": 3.5,
            "292": 3.5,
            "293": 3.5,
            "294": 3.5,
            "295": 3.5,
            "296": 3.5,
            "297": 3.5,
            "298": 3.5,
            "299": 3.5,
            "3": 3.75,
            "30": 2,
            "300": 3.5,
            "301": 3.5,
            "302": 3.5,
            "303": 3.5,
            "304": 3.5,
            "305": 3.5,
            "306": 3.5,
            "307": 3.5,
            "308": 3.5,
            "309": 3.5,
            "31": 2.02,
            "310": 3.54,
            "311": 3.55,
            "312": 3.55,
            "313": 3.56,
            "314": 3.56,
            "315": 3.56,
            "316": 3.56,
            "317": 3.56,
            "318": 3.56,
            "319": 3.56,
            "32": 2.1,
            "320": 3.56,
            "321": 3.56,
            "322": 3.56,
            "323": 3.56,
            "324": 3.6,
            "325": 3.6,
            "326": 3.6,
            "327": 3.6,
            "328": 3.6,
            "329": 3.61,
            "33": 2.1,
            "330": 3.62,
            "331": 3.63,
            "332": 3.63,
            "333": 3.64,
            "334": 3.64,
            "335": 3.65,
            "336": 3.65,
            "337": 3.67,
            "338": 3.67,
            "339": 3.67,
            "34": 2.1,
            "340": 3.67,
            "341": 3.67,
            "342": 3.67,
            "343": 3.67,
            "344": 3.67,
            "345": 3.67,
            "346": 3.67,
            "347": 3.68,
            "348": 3.69,
            "349": 3.69,
            "35": 2.17,
            "350": 3.7,
            "351": 3.7,
            "352": 3.7,
            "353": 3.7,
            "354": 3.7,
            "355": 3.7,
            "356": 3.7,
            "357": 3.7,
            "358": 3.7,
            "359": 3.7,
            "36": 2.17,
            "360": 3.7,
            "361": 3.7,
            "362": 3.71,
            "363": 3.71,
            "364": 3.71,
            "365": 3.71,
            "366": 3.74,
            "367": 3.74,
            "368": 3.74,
            "369": 3.74,
            "37": 2.17,
            "370": 3.74,
            "371": 3.74,
            "372": 3.74,
            "373": 3.74,
            "374": 3.74,
            "375": 3.74,
            "376": 3.75,
            "377": 3.75,
            "378": 3.75,
            "379": 3.75,
            "38": 2.17,
            "380": 3.75,
            "381": 3.75,
            "382": 3.75,
            "383": 3.75,
            "384": 3.75,
            "385": 3.75,
            "386": 3.75,
            "387": 3.75,
            "388": 3.75,
            "389": 3.75,
            "39": 2.2,
            "390": 3.75,
            "391": 3.76,
            "392": 3.78,
            "393": 3.78,
            "394": 3.78,
            "395": 3.8,
            "396": 3.8,
            "397": 3.8,
            "398": 3.8,
            "399": 3.8,
            "4": 3.94,
            "40": 2.22,
            "400": 3.81,
            "401": 3.81,
            "402": 3.81,
            "403": 3.81,
            "404": 3.81,
            "405": 3.81,
            "406": 3.81,
            "407": 3.81,
            "408": 3.84,
            "409": 3.87,
            "41": 2.25,
            "410": 3.88,
            "411": 3.88,
            "412": 3.88,
            "413": 3.88,
            "414": 3.88,
            "415": 3.88,
            "416": 3.88,
            "417": 3.89,
            "418": 3.91,
            "419": 3.93,
            "42": 2.25,
            "420": 3.94,
            "421": 3.94,
            "422": 3.94,
            "423": 3.94,
            "424": 3.94,
            "425": 3.94,
            "426": 3.94,
            "427": 3.94,
            "428": 3.94,
            "429": 3.94,
            "43": 2.25,
            "430": 3.94,
            "431": 3.94,
            "432": 3.94,
            "433": 3.95,
            "434": 3.96,
            "435": 3.98,
            "436": 4,
            "437": 4,
            "438": 4,
            "439": 4,
            "44": 2.25,
            "440": 4,
            "441": 4,
            "442": 4,
            "443": 4,
            "444": 4,
            "445": 4,
            "446": 4,
            "447": 4,
            "448": 3.7,
            "449": 3.74,
            "45": 2.28,
            "450": 3.75,
            "451": 4,
            "452": 2.97,
            "453": 3.15,
            "454": 3.32,
            "455": 3.33,
            "456": 3.45,
            "457": 3.47,
            "458": 3.47,
            "459": 3.56,
            "46": 2.3,
            "460": 3.6,
            "461": 3.68,
            "462": 3.74,
            "463": 3.75,
            "464": 3.8,
            "465": 3.83,
            "466": 3.93,
            "467": 2.25,
            "468": 2.5,
            "469": 3,
            "47": 2.3,
            "470": 3.09,
            "471": 3.17,
            "472": 3.5,
            "473": 3.5,
            "474": 3.5,
            "475": 3.6,
            "476": 3.67,
            "477": 3.78,
            "478": 3.8,
            "479": 4,
            "48": 2.31,
            "480": 3.69,
            "481": 3.79,
            "482": 2.85,
            "483": 3.31,
            "484": 3.56,
            "485": 3.68,
            "486": 3.88,
            "487": 3.94,
            "488": 3.1,
            "489": 3.67,
            "49": 2.31,
            "490": 3.56,
            "491": 3.75,
            "492": 3.86,
            "5": 1,
            "50": 2.31,
            "51": 2.33,
            "52": 2.33,
            "53": 2.33,
            "54": 2.33,
            "55": 2.35,
            "56": 2.35,
            "57": 2.35,
            "58": 2.38,
            "59": 2.38,
            "6": 1.06,
            "60": 2.38,
            "61": 2.38,
            "62": 2.41,
            "63": 2.44,
            "64": 2.44,
            "65": 2.45,
            "66": 2.45,
            "67": 2.47,
            "68": 2.5,
            "69": 2.5,
            "7": 1.25,
            "70": 2.5,
            "71": 2.53,
            "72": 2.55,
            "73": 2.55,
            "74": 2.56,
            "75": 2.56,
            "76": 2.56,
            "77": 2.58,
            "78": 2.64,
            "79": 2.69,
            "8": 1.44,
            "80": 2.69,
            "81": 2.69,
            "82": 2.69,
            "83": 2.7,
            "84": 2.7,
            "85": 2.7,
            "86": 2.75,
            "87": 2.75,
            "88": 2.75,
            "89": 2.75,
            "9": 1.5,
            "90": 2.75,
            "91": 2.75,
            "92": 2.75,
            "93": 2.75,
            "94": 2.75,
            "95": 2.75,
            "96": 2.75,
            "97": 2.75,
            "98": 2.75,
            "99": 2.75,
            "bdata": "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",
            "dtype": "f8",
            "shape": "493"
           },
           "bdata": "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",
           "dtype": "f8"
          },
          "colorscale": [
           [
            0,
            "#0d0887"
           ],
           [
            0.1111111111111111,
            "#46039f"
           ],
           [
            0.2222222222222222,
            "#7201a8"
           ],
           [
            0.3333333333333333,
            "#9c179e"
           ],
           [
            0.4444444444444444,
            "#bd3786"
           ],
           [
            0.5555555555555556,
            "#d8576b"
           ],
           [
            0.6666666666666666,
            "#ed7953"
           ],
           [
            0.7777777777777778,
            "#fb9f3a"
           ],
           [
            0.8888888888888888,
            "#fdca26"
           ],
           [
            1,
            "#f0f921"
           ]
          ],
          "showscale": true,
          "size": {
           "_inputArray": {
            "0": 50.25,
            "1": 52.005,
            "10": 23.400000000000002,
            "100": 41.25,
            "101": 41.25,
            "102": 41.25,
            "103": 41.25,
            "104": 41.25,
            "105": 41.25,
            "106": 41.25,
            "107": 41.25,
            "108": 41.25,
            "109": 41.25,
            "11": 23.55,
            "110": 41.25,
            "111": 41.25,
            "112": 41.25,
            "113": 41.25,
            "114": 41.85,
            "115": 42.15,
            "116": 42.15,
            "117": 42.599999999999994,
            "118": 42.599999999999994,
            "119": 42.599999999999994,
            "12": 23.55,
            "120": 42.599999999999994,
            "121": 42.69,
            "122": 42.9,
            "123": 43.199999999999996,
            "124": 43.199999999999996,
            "125": 43.199999999999996,
            "126": 43.199999999999996,
            "127": 43.199999999999996,
            "128": 43.35,
            "129": 43.35,
            "13": 24,
            "130": 43.35,
            "131": 43.35,
            "132": 43.35,
            "133": 43.35,
            "134": 43.35,
            "135": 43.5,
            "136": 43.5,
            "137": 43.5,
            "138": 43.5,
            "139": 43.5,
            "14": 24.3,
            "140": 43.5,
            "141": 43.5,
            "142": 43.5,
            "143": 43.5,
            "144": 43.5,
            "145": 43.5,
            "146": 43.5,
            "147": 43.5,
            "148": 43.5,
            "149": 43.5,
            "15": 25.349999999999998,
            "150": 43.5,
            "151": 43.5,
            "152": 43.5,
            "153": 43.5,
            "154": 43.8,
            "155": 44.1,
            "156": 44.1,
            "157": 44.1,
            "158": 44.1,
            "159": 44.7,
            "16": 25.65,
            "160": 45,
            "161": 45,
            "162": 45,
            "163": 45,
            "164": 45,
            "165": 45,
            "166": 45,
            "167": 45,
            "168": 45,
            "169": 45,
            "17": 25.8,
            "170": 45.9,
            "171": 45.9,
            "172": 45.9,
            "173": 46.05,
            "174": 46.2,
            "175": 46.2,
            "176": 46.2,
            "177": 46.2,
            "178": 46.2,
            "179": 46.2,
            "18": 26.25,
            "180": 46.2,
            "181": 46.2,
            "182": 46.2,
            "183": 46.2,
            "184": 46.2,
            "185": 46.2,
            "186": 46.349999999999994,
            "187": 46.5,
            "188": 46.5,
            "189": 46.65,
            "19": 26.25,
            "190": 46.949999999999996,
            "191": 46.949999999999996,
            "192": 46.949999999999996,
            "193": 46.949999999999996,
            "194": 47.25,
            "195": 47.25,
            "196": 47.25,
            "197": 47.25,
            "198": 47.25,
            "199": 47.25,
            "2": 55.800000000000004,
            "20": 26.25,
            "200": 47.25,
            "201": 47.400000000000006,
            "202": 47.85,
            "203": 47.85,
            "204": 47.85,
            "205": 47.85,
            "206": 48.15,
            "207": 48.300000000000004,
            "208": 48.75,
            "209": 48.75,
            "21": 27,
            "210": 48.75,
            "211": 48.75,
            "212": 48.75,
            "213": 48.75,
            "214": 48.75,
            "215": 48.75,
            "216": 48.75,
            "217": 48.75,
            "218": 48.75,
            "219": 48.75,
            "22": 27.900000000000002,
            "220": 48.75,
            "221": 48.75,
            "222": 48.75,
            "223": 48.75,
            "224": 48.75,
            "225": 48.75,
            "226": 48.75,
            "227": 48.75,
            "228": 48.75,
            "229": 48.75,
            "23": 28.2,
            "230": 48.75,
            "231": 48.75,
            "232": 48.75,
            "233": 48.75,
            "234": 48.75,
            "235": 48.75,
            "236": 48.75,
            "237": 48.75,
            "238": 48.9,
            "239": 49.05,
            "24": 28.349999999999998,
            "240": 49.05,
            "241": 49.05,
            "242": 49.05,
            "243": 49.05,
            "244": 49.05,
            "245": 49.05,
            "246": 49.199999999999996,
            "247": 49.5,
            "248": 49.5,
            "249": 49.65,
            "25": 28.5,
            "250": 49.65,
            "251": 49.65,
            "252": 49.65,
            "253": 49.8,
            "254": 49.8,
            "255": 49.95,
            "256": 49.95,
            "257": 49.95,
            "258": 49.95,
            "259": 49.95,
            "26": 28.5,
            "260": 49.95,
            "261": 49.95,
            "262": 49.95,
            "263": 49.95,
            "264": 49.95,
            "265": 49.95,
            "266": 49.95,
            "267": 50.25,
            "268": 50.550000000000004,
            "269": 50.699999999999996,
            "27": 28.799999999999997,
            "270": 50.699999999999996,
            "271": 50.699999999999996,
            "272": 50.699999999999996,
            "273": 50.699999999999996,
            "274": 50.699999999999996,
            "275": 50.699999999999996,
            "276": 50.699999999999996,
            "277": 50.85,
            "278": 50.85,
            "279": 51.45,
            "28": 29.55,
            "280": 51.6,
            "281": 51.6,
            "282": 51.6,
            "283": 51.6,
            "284": 51.6,
            "285": 51.6,
            "286": 51.75,
            "287": 51.9,
            "288": 52.2,
            "289": 52.5,
            "29": 30,
            "290": 52.5,
            "291": 52.5,
            "292": 52.5,
            "293": 52.5,
            "294": 52.5,
            "295": 52.5,
            "296": 52.5,
            "297": 52.5,
            "298": 52.5,
            "299": 52.5,
            "3": 56.25,
            "30": 30,
            "300": 52.5,
            "301": 52.5,
            "302": 52.5,
            "303": 52.5,
            "304": 52.5,
            "305": 52.5,
            "306": 52.5,
            "307": 52.5,
            "308": 52.5,
            "309": 52.5,
            "31": 30.3,
            "310": 53.1,
            "311": 53.25,
            "312": 53.25,
            "313": 53.4,
            "314": 53.4,
            "315": 53.4,
            "316": 53.4,
            "317": 53.4,
            "318": 53.4,
            "319": 53.4,
            "32": 31.5,
            "320": 53.4,
            "321": 53.4,
            "322": 53.4,
            "323": 53.4,
            "324": 54,
            "325": 54,
            "326": 54,
            "327": 54,
            "328": 54,
            "329": 54.15,
            "33": 31.5,
            "330": 54.300000000000004,
            "331": 54.449999999999996,
            "332": 54.449999999999996,
            "333": 54.6,
            "334": 54.6,
            "335": 54.75,
            "336": 54.75,
            "337": 55.05,
            "338": 55.05,
            "339": 55.05,
            "34": 31.5,
            "340": 55.05,
            "341": 55.05,
            "342": 55.05,
            "343": 55.05,
            "344": 55.05,
            "345": 55.05,
            "346": 55.05,
            "347": 55.2,
            "348": 55.35,
            "349": 55.35,
            "35": 32.55,
            "350": 55.5,
            "351": 55.5,
            "352": 55.5,
            "353": 55.5,
            "354": 55.5,
            "355": 55.5,
            "356": 55.5,
            "357": 55.5,
            "358": 55.5,
            "359": 55.5,
            "36": 32.55,
            "360": 55.5,
            "361": 55.5,
            "362": 55.65,
            "363": 55.65,
            "364": 55.65,
            "365": 55.65,
            "366": 56.1,
            "367": 56.1,
            "368": 56.1,
            "369": 56.1,
            "37": 32.55,
            "370": 56.1,
            "371": 56.1,
            "372": 56.1,
            "373": 56.1,
            "374": 56.1,
            "375": 56.1,
            "376": 56.25,
            "377": 56.25,
            "378": 56.25,
            "379": 56.25,
            "38": 32.55,
            "380": 56.25,
            "381": 56.25,
            "382": 56.25,
            "383": 56.25,
            "384": 56.25,
            "385": 56.25,
            "386": 56.25,
            "387": 56.25,
            "388": 56.25,
            "389": 56.25,
            "39": 33,
            "390": 56.25,
            "391": 56.4,
            "392": 56.699999999999996,
            "393": 56.699999999999996,
            "394": 56.699999999999996,
            "395": 57,
            "396": 57,
            "397": 57,
            "398": 57,
            "399": 57,
            "4": 59.1,
            "40": 33.300000000000004,
            "400": 57.15,
            "401": 57.15,
            "402": 57.15,
            "403": 57.15,
            "404": 57.15,
            "405": 57.15,
            "406": 57.15,
            "407": 57.15,
            "408": 57.599999999999994,
            "409": 58.050000000000004,
            "41": 33.75,
            "410": 58.199999999999996,
            "411": 58.199999999999996,
            "412": 58.199999999999996,
            "413": 58.199999999999996,
            "414": 58.199999999999996,
            "415": 58.199999999999996,
            "416": 58.199999999999996,
            "417": 58.35,
            "418": 58.650000000000006,
            "419": 58.95,
            "42": 33.75,
            "420": 59.1,
            "421": 59.1,
            "422": 59.1,
            "423": 59.1,
            "424": 59.1,
            "425": 59.1,
            "426": 59.1,
            "427": 59.1,
            "428": 59.1,
            "429": 59.1,
            "43": 33.75,
            "430": 59.1,
            "431": 59.1,
            "432": 59.1,
            "433": 59.25,
            "434": 59.4,
            "435": 59.7,
            "436": 60,
            "437": 60,
            "438": 60,
            "439": 60,
            "44": 33.75,
            "440": 60,
            "441": 60,
            "442": 60,
            "443": 60,
            "444": 60,
            "445": 60,
            "446": 60,
            "447": 60,
            "448": 55.5,
            "449": 56.1,
            "45": 34.199999999999996,
            "450": 56.25,
            "451": 60,
            "452": 44.550000000000004,
            "453": 47.25,
            "454": 49.8,
            "455": 49.95,
            "456": 51.75,
            "457": 52.050000000000004,
            "458": 52.050000000000004,
            "459": 53.4,
            "46": 34.5,
            "460": 54,
            "461": 55.2,
            "462": 56.1,
            "463": 56.25,
            "464": 57,
            "465": 57.45,
            "466": 58.95,
            "467": 33.75,
            "468": 37.5,
            "469": 45,
            "47": 34.5,
            "470": 46.349999999999994,
            "471": 47.55,
            "472": 52.5,
            "473": 52.5,
            "474": 52.5,
            "475": 54,
            "476": 55.05,
            "477": 56.699999999999996,
            "478": 57,
            "479": 60,
            "48": 34.65,
            "480": 55.35,
            "481": 56.85,
            "482": 42.75,
            "483": 49.65,
            "484": 53.4,
            "485": 55.2,
            "486": 58.199999999999996,
            "487": 59.1,
            "488": 46.5,
            "489": 55.05,
            "49": 34.65,
            "490": 53.4,
            "491": 56.25,
            "492": 57.9,
            "5": 15,
            "50": 34.65,
            "51": 34.95,
            "52": 34.95,
            "53": 34.95,
            "54": 34.95,
            "55": 35.25,
            "56": 35.25,
            "57": 35.25,
            "58": 35.699999999999996,
            "59": 35.699999999999996,
            "6": 15.9,
            "60": 35.699999999999996,
            "61": 35.699999999999996,
            "62": 36.150000000000006,
            "63": 36.6,
            "64": 36.6,
            "65": 36.75,
            "66": 36.75,
            "67": 37.050000000000004,
            "68": 37.5,
            "69": 37.5,
            "7": 18.75,
            "70": 37.5,
            "71": 37.949999999999996,
            "72": 38.25,
            "73": 38.25,
            "74": 38.4,
            "75": 38.4,
            "76": 38.4,
            "77": 38.7,
            "78": 39.6,
            "79": 40.35,
            "8": 21.599999999999998,
            "80": 40.35,
            "81": 40.35,
            "82": 40.35,
            "83": 40.5,
            "84": 40.5,
            "85": 40.5,
            "86": 41.25,
            "87": 41.25,
            "88": 41.25,
            "89": 41.25,
            "9": 22.5,
            "90": 41.25,
            "91": 41.25,
            "92": 41.25,
            "93": 41.25,
            "94": 41.25,
            "95": 41.25,
            "96": 41.25,
            "97": 41.25,
            "98": 41.25,
            "99": 41.25,
            "bdata": "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",
            "dtype": "f8",
            "shape": "493"
           },
           "bdata": "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",
           "dtype": "f8"
          }
         },
         "mode": "markers",
         "name": "All",
         "text": [
          "Attendance: 80%-100%<br>Gaming: 0-1 Hour<br>CGPA: 3.35",
          "Attendance: 80%-100%<br>Gaming: 0-1 Hour<br>CGPA: 3.47",
          "Attendance: 80%-100%<br>Gaming: More than 3 Hours<br>CGPA: 3.72",
          "Attendance: 80%-100%<br>Gaming: More than 3 Hours<br>CGPA: 3.75",
          "Attendance: 80%-100%<br>Gaming: 2-3 Hours<br>CGPA: 3.94",
          "Attendance: Below 40%<br>Gaming: More than 3 Hours<br>CGPA: 1.00",
          "Attendance: 60%-79%<br>Gaming: More than 3 Hours<br>CGPA: 1.06",
          "Attendance: 80%-100%<br>Gaming: More than 3 Hours<br>CGPA: 1.25",
          "Attendance: Below 40%<br>Gaming: More than 3 Hours<br>CGPA: 1.44",
          "Attendance: Below 40%<br>Gaming: More than 3 Hours<br>CGPA: 1.50",
          "Attendance: Below 40%<br>Gaming: More than 3 Hours<br>CGPA: 1.56",
          "Attendance: Below 40%<br>Gaming: More than 3 Hours<br>CGPA: 1.57",
          "Attendance: 60%-79%<br>Gaming: More than 3 Hours<br>CGPA: 1.57",
          "Attendance: 60%-79%<br>Gaming: More than 3 Hours<br>CGPA: 1.60",
          "Attendance: Below 40%<br>Gaming: More than 3 Hours<br>CGPA: 1.62",
          "Attendance: Below 40%<br>Gaming: More than 3 Hours<br>CGPA: 1.69",
          "Attendance: 60%-79%<br>Gaming: More than 3 Hours<br>CGPA: 1.71",
          "Attendance: 60%-79%<br>Gaming: More than 3 Hours<br>CGPA: 1.72",
          "Attendance: 60%-79%<br>Gaming: More than 3 Hours<br>CGPA: 1.75",
          "Attendance: 60%-79%<br>Gaming: More than 3 Hours<br>CGPA: 1.75",
          "Attendance: 60%-79%<br>Gaming: More than 3 Hours<br>CGPA: 1.75",
          "Attendance: 80%-100%<br>Gaming: 0-1 Hour<br>CGPA: 1.80",
          "Attendance: 60%-79%<br>Gaming: More than 3 Hours<br>CGPA: 1.86",
          "Attendance: 60%-79%<br>Gaming: More than 3 Hours<br>CGPA: 1.88",
          "Attendance: 60%-79%<br>Gaming: More than 3 Hours<br>CGPA: 1.89",
          "Attendance: Below 40%<br>Gaming: More than 3 Hours<br>CGPA: 1.90",
          "Attendance: Below 40%<br>Gaming: More than 3 Hours<br>CGPA: 1.90",
          "Attendance: 60%-79%<br>Gaming: More than 3 Hours<br>CGPA: 1.92",
          "Attendance: 60%-79%<br>Gaming: More than 3 Hours<br>CGPA: 1.97",
          "Attendance: 60%-79%<br>Gaming: 0-1 Hour<br>CGPA: 2.00",
          "Attendance: 60%-79%<br>Gaming: More than 3 Hours<br>CGPA: 2.00",
          "Attendance: 60%-79%<br>Gaming: More than 3 Hours<br>CGPA: 2.02",
          "Attendance: 60%-79%<br>Gaming: More than 3 Hours<br>CGPA: 2.10",
          "Attendance: Below 40%<br>Gaming: More than 3 Hours<br>CGPA: 2.10",
          "Attendance: 60%-79%<br>Gaming: More than 3 Hours<br>CGPA: 2.10",
          "Attendance: 40%-59%<br>Gaming: More than 3 Hours<br>CGPA: 2.17",
          "Attendance: 40%-59%<br>Gaming: More than 3 Hours<br>CGPA: 2.17",
          "Attendance: 40%-59%<br>Gaming: More than 3 Hours<br>CGPA: 2.17",
          "Attendance: 40%-59%<br>Gaming: More than 3 Hours<br>CGPA: 2.17",
          "Attendance: 60%-79%<br>Gaming: More than 3 Hours<br>CGPA: 2.20",
          "Attendance: 60%-79%<br>Gaming: More than 3 Hours<br>CGPA: 2.22",
          "Attendance: 40%-59%<br>Gaming: More than 3 Hours<br>CGPA: 2.25",
          "Attendance: 60%-79%<br>Gaming: More than 3 Hours<br>CGPA: 2.25",
          "Attendance: 40%-59%<br>Gaming: More than 3 Hours<br>CGPA: 2.25",
          "Attendance: 40%-59%<br>Gaming: More than 3 Hours<br>CGPA: 2.25",
          "Attendance: 60%-79%<br>Gaming: More than 3 Hours<br>CGPA: 2.28",
          "Attendance: 40%-59%<br>Gaming: More than 3 Hours<br>CGPA: 2.30",
          "Attendance: 60%-79%<br>Gaming: More than 3 Hours<br>CGPA: 2.30",
          "Attendance: 40%-59%<br>Gaming: More than 3 Hours<br>CGPA: 2.31",
          "Attendance: 40%-59%<br>Gaming: More than 3 Hours<br>CGPA: 2.31",
          "Attendance: 40%-59%<br>Gaming: More than 3 Hours<br>CGPA: 2.31",
          "Attendance: 60%-79%<br>Gaming: More than 3 Hours<br>CGPA: 2.33",
          "Attendance: 40%-59%<br>Gaming: More than 3 Hours<br>CGPA: 2.33",
          "Attendance: 40%-59%<br>Gaming: More than 3 Hours<br>CGPA: 2.33",
          "Attendance: 40%-59%<br>Gaming: More than 3 Hours<br>CGPA: 2.33",
          "Attendance: 40%-59%<br>Gaming: More than 3 Hours<br>CGPA: 2.35",
          "Attendance: 40%-59%<br>Gaming: More than 3 Hours<br>CGPA: 2.35",
          "Attendance: 40%-59%<br>Gaming: More than 3 Hours<br>CGPA: 2.35",
          "Attendance: 40%-59%<br>Gaming: More than 3 Hours<br>CGPA: 2.38",
          "Attendance: 40%-59%<br>Gaming: More than 3 Hours<br>CGPA: 2.38",
          "Attendance: 40%-59%<br>Gaming: More than 3 Hours<br>CGPA: 2.38",
          "Attendance: 40%-59%<br>Gaming: More than 3 Hours<br>CGPA: 2.38",
          "Attendance: 60%-79%<br>Gaming: More than 3 Hours<br>CGPA: 2.41",
          "Attendance: 40%-59%<br>Gaming: More than 3 Hours<br>CGPA: 2.44",
          "Attendance: 40%-59%<br>Gaming: More than 3 Hours<br>CGPA: 2.44",
          "Attendance: 80%-100%<br>Gaming: More than 3 Hours<br>CGPA: 2.45",
          "Attendance: 60%-79%<br>Gaming: More than 3 Hours<br>CGPA: 2.45",
          "Attendance: 60%-79%<br>Gaming: More than 3 Hours<br>CGPA: 2.47",
          "Attendance: 80%-100%<br>Gaming: 0-1 Hour<br>CGPA: 2.50",
          "Attendance: 60%-79%<br>Gaming: More than 3 Hours<br>CGPA: 2.50",
          "Attendance: 40%-59%<br>Gaming: More than 3 Hours<br>CGPA: 2.50",
          "Attendance: 60%-79%<br>Gaming: More than 3 Hours<br>CGPA: 2.53",
          "Attendance: 80%-100%<br>Gaming: 2-3 Hours<br>CGPA: 2.55",
          "Attendance: 60%-79%<br>Gaming: More than 3 Hours<br>CGPA: 2.55",
          "Attendance: 40%-59%<br>Gaming: More than 3 Hours<br>CGPA: 2.56",
          "Attendance: 40%-59%<br>Gaming: More than 3 Hours<br>CGPA: 2.56",
          "Attendance: 40%-59%<br>Gaming: More than 3 Hours<br>CGPA: 2.56",
          "Attendance: 80%-100%<br>Gaming: More than 3 Hours<br>CGPA: 2.58",
          "Attendance: 40%-59%<br>Gaming: More than 3 Hours<br>CGPA: 2.64",
          "Attendance: 40%-59%<br>Gaming: More than 3 Hours<br>CGPA: 2.69",
          "Attendance: 40%-59%<br>Gaming: More than 3 Hours<br>CGPA: 2.69",
          "Attendance: 40%-59%<br>Gaming: More than 3 Hours<br>CGPA: 2.69",
          "Attendance: 40%-59%<br>Gaming: More than 3 Hours<br>CGPA: 2.69",
          "Attendance: 60%-79%<br>Gaming: More than 3 Hours<br>CGPA: 2.70",
          "Attendance: 60%-79%<br>Gaming: More than 3 Hours<br>CGPA: 2.70",
          "Attendance: 60%-79%<br>Gaming: More than 3 Hours<br>CGPA: 2.70",
          "Attendance: 80%-100%<br>Gaming: More than 3 Hours<br>CGPA: 2.75",
          "Attendance: 80%-100%<br>Gaming: 2-3 Hours<br>CGPA: 2.75",
          "Attendance: 80%-100%<br>Gaming: More than 3 Hours<br>CGPA: 2.75",
          "Attendance: 60%-79%<br>Gaming: More than 3 Hours<br>CGPA: 2.75",
          "Attendance: 60%-79%<br>Gaming: More than 3 Hours<br>CGPA: 2.75",
          "Attendance: 60%-79%<br>Gaming: More than 3 Hours<br>CGPA: 2.75",
          "Attendance: 60%-79%<br>Gaming: More than 3 Hours<br>CGPA: 2.75",
          "Attendance: 60%-79%<br>Gaming: More than 3 Hours<br>CGPA: 2.75",
          "Attendance: 60%-79%<br>Gaming: More than 3 Hours<br>CGPA: 2.75",
          "Attendance: 60%-79%<br>Gaming: More than 3 Hours<br>CGPA: 2.75",
          "Attendance: 60%-79%<br>Gaming: More than 3 Hours<br>CGPA: 2.75",
          "Attendance: 60%-79%<br>Gaming: More than 3 Hours<br>CGPA: 2.75",
          "Attendance: 60%-79%<br>Gaming: More than 3 Hours<br>CGPA: 2.75",
          "Attendance: 60%-79%<br>Gaming: More than 3 Hours<br>CGPA: 2.75",
          "Attendance: 60%-79%<br>Gaming: More than 3 Hours<br>CGPA: 2.75",
          "Attendance: 60%-79%<br>Gaming: More than 3 Hours<br>CGPA: 2.75",
          "Attendance: 60%-79%<br>Gaming: More than 3 Hours<br>CGPA: 2.75",
          "Attendance: 60%-79%<br>Gaming: More than 3 Hours<br>CGPA: 2.75",
          "Attendance: 60%-79%<br>Gaming: More than 3 Hours<br>CGPA: 2.75",
          "Attendance: 60%-79%<br>Gaming: More than 3 Hours<br>CGPA: 2.75",
          "Attendance: 60%-79%<br>Gaming: More than 3 Hours<br>CGPA: 2.75",
          "Attendance: 60%-79%<br>Gaming: More than 3 Hours<br>CGPA: 2.75",
          "Attendance: 60%-79%<br>Gaming: More than 3 Hours<br>CGPA: 2.75",
          "Attendance: 60%-79%<br>Gaming: More than 3 Hours<br>CGPA: 2.75",
          "Attendance: 60%-79%<br>Gaming: More than 3 Hours<br>CGPA: 2.75",
          "Attendance: 60%-79%<br>Gaming: More than 3 Hours<br>CGPA: 2.75",
          "Attendance: 60%-79%<br>Gaming: More than 3 Hours<br>CGPA: 2.75",
          "Attendance: 60%-79%<br>Gaming: More than 3 Hours<br>CGPA: 2.75",
          "Attendance: 60%-79%<br>Gaming: 0-1 Hour<br>CGPA: 2.79",
          "Attendance: 60%-79%<br>Gaming: More than 3 Hours<br>CGPA: 2.81",
          "Attendance: 60%-79%<br>Gaming: More than 3 Hours<br>CGPA: 2.81",
          "Attendance: 60%-79%<br>Gaming: More than 3 Hours<br>CGPA: 2.84",
          "Attendance: 60%-79%<br>Gaming: More than 3 Hours<br>CGPA: 2.84",
          "Attendance: 60%-79%<br>Gaming: More than 3 Hours<br>CGPA: 2.84",
          "Attendance: 60%-79%<br>Gaming: More than 3 Hours<br>CGPA: 2.84",
          "Attendance: 60%-79%<br>Gaming: More than 3 Hours<br>CGPA: 2.85",
          "Attendance: 60%-79%<br>Gaming: More than 3 Hours<br>CGPA: 2.86",
          "Attendance: 60%-79%<br>Gaming: More than 3 Hours<br>CGPA: 2.88",
          "Attendance: 60%-79%<br>Gaming: More than 3 Hours<br>CGPA: 2.88",
          "Attendance: 60%-79%<br>Gaming: More than 3 Hours<br>CGPA: 2.88",
          "Attendance: 60%-79%<br>Gaming: More than 3 Hours<br>CGPA: 2.88",
          "Attendance: 60%-79%<br>Gaming: More than 3 Hours<br>CGPA: 2.88",
          "Attendance: 60%-79%<br>Gaming: More than 3 Hours<br>CGPA: 2.89",
          "Attendance: 60%-79%<br>Gaming: More than 3 Hours<br>CGPA: 2.89",
          "Attendance: 60%-79%<br>Gaming: More than 3 Hours<br>CGPA: 2.89",
          "Attendance: 60%-79%<br>Gaming: More than 3 Hours<br>CGPA: 2.89",
          "Attendance: 60%-79%<br>Gaming: More than 3 Hours<br>CGPA: 2.89",
          "Attendance: 60%-79%<br>Gaming: More than 3 Hours<br>CGPA: 2.89",
          "Attendance: 60%-79%<br>Gaming: More than 3 Hours<br>CGPA: 2.89",
          "Attendance: 60%-79%<br>Gaming: 2-3 Hours<br>CGPA: 2.90",
          "Attendance: 40%-59%<br>Gaming: More than 3 Hours<br>CGPA: 2.90",
          "Attendance: 40%-59%<br>Gaming: More than 3 Hours<br>CGPA: 2.90",
          "Attendance: 40%-59%<br>Gaming: More than 3 Hours<br>CGPA: 2.90",
          "Attendance: 40%-59%<br>Gaming: More than 3 Hours<br>CGPA: 2.90",
          "Attendance: 40%-59%<br>Gaming: More than 3 Hours<br>CGPA: 2.90",
          "Attendance: 40%-59%<br>Gaming: More than 3 Hours<br>CGPA: 2.90",
          "Attendance: 40%-59%<br>Gaming: More than 3 Hours<br>CGPA: 2.90",
          "Attendance: 40%-59%<br>Gaming: More than 3 Hours<br>CGPA: 2.90",
          "Attendance: 40%-59%<br>Gaming: More than 3 Hours<br>CGPA: 2.90",
          "Attendance: 40%-59%<br>Gaming: More than 3 Hours<br>CGPA: 2.90",
          "Attendance: 40%-59%<br>Gaming: More than 3 Hours<br>CGPA: 2.90",
          "Attendance: 40%-59%<br>Gaming: More than 3 Hours<br>CGPA: 2.90",
          "Attendance: 40%-59%<br>Gaming: More than 3 Hours<br>CGPA: 2.90",
          "Attendance: 40%-59%<br>Gaming: More than 3 Hours<br>CGPA: 2.90",
          "Attendance: 40%-59%<br>Gaming: More than 3 Hours<br>CGPA: 2.90",
          "Attendance: 40%-59%<br>Gaming: More than 3 Hours<br>CGPA: 2.90",
          "Attendance: 40%-59%<br>Gaming: More than 3 Hours<br>CGPA: 2.90",
          "Attendance: 40%-59%<br>Gaming: More than 3 Hours<br>CGPA: 2.90",
          "Attendance: 60%-79%<br>Gaming: More than 3 Hours<br>CGPA: 2.92",
          "Attendance: 40%-59%<br>Gaming: More than 3 Hours<br>CGPA: 2.94",
          "Attendance: 60%-79%<br>Gaming: More than 3 Hours<br>CGPA: 2.94",
          "Attendance: 60%-79%<br>Gaming: More than 3 Hours<br>CGPA: 2.94",
          "Attendance: 60%-79%<br>Gaming: More than 3 Hours<br>CGPA: 2.94",
          "Attendance: 60%-79%<br>Gaming: More than 3 Hours<br>CGPA: 2.98",
          "Attendance: 80%-100%<br>Gaming: More than 3 Hours<br>CGPA: 3.00",
          "Attendance: 80%-100%<br>Gaming: More than 3 Hours<br>CGPA: 3.00",
          "Attendance: 60%-79%<br>Gaming: 0-1 Hour<br>CGPA: 3.00",
          "Attendance: 80%-100%<br>Gaming: 2-3 Hours<br>CGPA: 3.00",
          "Attendance: 80%-100%<br>Gaming: More than 3 Hours<br>CGPA: 3.00",
          "Attendance: 60%-79%<br>Gaming: More than 3 Hours<br>CGPA: 3.00",
          "Attendance: 60%-79%<br>Gaming: More than 3 Hours<br>CGPA: 3.00",
          "Attendance: 60%-79%<br>Gaming: More than 3 Hours<br>CGPA: 3.00",
          "Attendance: 60%-79%<br>Gaming: More than 3 Hours<br>CGPA: 3.00",
          "Attendance: 60%-79%<br>Gaming: More than 3 Hours<br>CGPA: 3.00",
          "Attendance: 40%-59%<br>Gaming: More than 3 Hours<br>CGPA: 3.06",
          "Attendance: 40%-59%<br>Gaming: More than 3 Hours<br>CGPA: 3.06",
          "Attendance: 40%-59%<br>Gaming: More than 3 Hours<br>CGPA: 3.06",
          "Attendance: 80%-100%<br>Gaming: More than 3 Hours<br>CGPA: 3.07",
          "Attendance: 80%-100%<br>Gaming: 2-3 Hours<br>CGPA: 3.08",
          "Attendance: 60%-79%<br>Gaming: 2-3 Hours<br>CGPA: 3.08",
          "Attendance: 60%-79%<br>Gaming: 2-3 Hours<br>CGPA: 3.08",
          "Attendance: 60%-79%<br>Gaming: 2-3 Hours<br>CGPA: 3.08",
          "Attendance: 60%-79%<br>Gaming: 2-3 Hours<br>CGPA: 3.08",
          "Attendance: 60%-79%<br>Gaming: 2-3 Hours<br>CGPA: 3.08",
          "Attendance: 60%-79%<br>Gaming: 2-3 Hours<br>CGPA: 3.08",
          "Attendance: 60%-79%<br>Gaming: 2-3 Hours<br>CGPA: 3.08",
          "Attendance: 60%-79%<br>Gaming: 2-3 Hours<br>CGPA: 3.08",
          "Attendance: 60%-79%<br>Gaming: 2-3 Hours<br>CGPA: 3.08",
          "Attendance: 60%-79%<br>Gaming: 2-3 Hours<br>CGPA: 3.08",
          "Attendance: 60%-79%<br>Gaming: 2-3 Hours<br>CGPA: 3.08",
          "Attendance: 80%-100%<br>Gaming: 2-3 Hours<br>CGPA: 3.09",
          "Attendance: 80%-100%<br>Gaming: 2-3 Hours<br>CGPA: 3.10",
          "Attendance: 60%-79%<br>Gaming: More than 3 Hours<br>CGPA: 3.10",
          "Attendance: 80%-100%<br>Gaming: 0-1 Hour<br>CGPA: 3.11",
          "Attendance: 80%-100%<br>Gaming: More than 3 Hours<br>CGPA: 3.13",
          "Attendance: 80%-100%<br>Gaming: More than 3 Hours<br>CGPA: 3.13",
          "Attendance: 80%-100%<br>Gaming: More than 3 Hours<br>CGPA: 3.13",
          "Attendance: 80%-100%<br>Gaming: More than 3 Hours<br>CGPA: 3.13",
          "Attendance: 60%-79%<br>Gaming: 2-3 Hours<br>CGPA: 3.15",
          "Attendance: 60%-79%<br>Gaming: 2-3 Hours<br>CGPA: 3.15",
          "Attendance: 60%-79%<br>Gaming: 2-3 Hours<br>CGPA: 3.15",
          "Attendance: 60%-79%<br>Gaming: 2-3 Hours<br>CGPA: 3.15",
          "Attendance: 60%-79%<br>Gaming: 2-3 Hours<br>CGPA: 3.15",
          "Attendance: 60%-79%<br>Gaming: 2-3 Hours<br>CGPA: 3.15",
          "Attendance: 60%-79%<br>Gaming: 2-3 Hours<br>CGPA: 3.15",
          "Attendance: 80%-100%<br>Gaming: More than 3 Hours<br>CGPA: 3.16",
          "Attendance: 60%-79%<br>Gaming: More than 3 Hours<br>CGPA: 3.19",
          "Attendance: 60%-79%<br>Gaming: More than 3 Hours<br>CGPA: 3.19",
          "Attendance: 60%-79%<br>Gaming: More than 3 Hours<br>CGPA: 3.19",
          "Attendance: 60%-79%<br>Gaming: More than 3 Hours<br>CGPA: 3.19",
          "Attendance: 60%-79%<br>Gaming: More than 3 Hours<br>CGPA: 3.21",
          "Attendance: 80%-100%<br>Gaming: More than 3 Hours<br>CGPA: 3.22",
          "Attendance: 80%-100%<br>Gaming: More than 3 Hours<br>CGPA: 3.25",
          "Attendance: 80%-100%<br>Gaming: More than 3 Hours<br>CGPA: 3.25",
          "Attendance: 80%-100%<br>Gaming: More than 3 Hours<br>CGPA: 3.25",
          "Attendance: 60%-79%<br>Gaming: More than 3 Hours<br>CGPA: 3.25",
          "Attendance: 40%-59%<br>Gaming: More than 3 Hours<br>CGPA: 3.25",
          "Attendance: 40%-59%<br>Gaming: More than 3 Hours<br>CGPA: 3.25",
          "Attendance: 40%-59%<br>Gaming: More than 3 Hours<br>CGPA: 3.25",
          "Attendance: 60%-79%<br>Gaming: 2-3 Hours<br>CGPA: 3.25",
          "Attendance: 80%-100%<br>Gaming: More than 3 Hours<br>CGPA: 3.25",
          "Attendance: 80%-100%<br>Gaming: More than 3 Hours<br>CGPA: 3.25",
          "Attendance: 40%-59%<br>Gaming: More than 3 Hours<br>CGPA: 3.25",
          "Attendance: 40%-59%<br>Gaming: More than 3 Hours<br>CGPA: 3.25",
          "Attendance: 60%-79%<br>Gaming: More than 3 Hours<br>CGPA: 3.25",
          "Attendance: 40%-59%<br>Gaming: More than 3 Hours<br>CGPA: 3.25",
          "Attendance: 40%-59%<br>Gaming: More than 3 Hours<br>CGPA: 3.25",
          "Attendance: 40%-59%<br>Gaming: More than 3 Hours<br>CGPA: 3.25",
          "Attendance: 40%-59%<br>Gaming: More than 3 Hours<br>CGPA: 3.25",
          "Attendance: 60%-79%<br>Gaming: More than 3 Hours<br>CGPA: 3.25",
          "Attendance: 40%-59%<br>Gaming: More than 3 Hours<br>CGPA: 3.25",
          "Attendance: 60%-79%<br>Gaming: 2-3 Hours<br>CGPA: 3.25",
          "Attendance: 60%-79%<br>Gaming: 2-3 Hours<br>CGPA: 3.25",
          "Attendance: 60%-79%<br>Gaming: 2-3 Hours<br>CGPA: 3.25",
          "Attendance: 60%-79%<br>Gaming: 2-3 Hours<br>CGPA: 3.25",
          "Attendance: 60%-79%<br>Gaming: 2-3 Hours<br>CGPA: 3.25",
          "Attendance: 60%-79%<br>Gaming: 2-3 Hours<br>CGPA: 3.25",
          "Attendance: 60%-79%<br>Gaming: 2-3 Hours<br>CGPA: 3.25",
          "Attendance: 60%-79%<br>Gaming: 2-3 Hours<br>CGPA: 3.25",
          "Attendance: 60%-79%<br>Gaming: 2-3 Hours<br>CGPA: 3.25",
          "Attendance: 60%-79%<br>Gaming: 2-3 Hours<br>CGPA: 3.25",
          "Attendance: 60%-79%<br>Gaming: 2-3 Hours<br>CGPA: 3.25",
          "Attendance: 80%-100%<br>Gaming: More than 3 Hours<br>CGPA: 3.26",
          "Attendance: 80%-100%<br>Gaming: 2-3 Hours<br>CGPA: 3.27",
          "Attendance: 60%-79%<br>Gaming: 2-3 Hours<br>CGPA: 3.27",
          "Attendance: 60%-79%<br>Gaming: 2-3 Hours<br>CGPA: 3.27",
          "Attendance: 60%-79%<br>Gaming: 2-3 Hours<br>CGPA: 3.27",
          "Attendance: 60%-79%<br>Gaming: 2-3 Hours<br>CGPA: 3.27",
          "Attendance: 60%-79%<br>Gaming: 2-3 Hours<br>CGPA: 3.27",
          "Attendance: 60%-79%<br>Gaming: 2-3 Hours<br>CGPA: 3.27",
          "Attendance: 80%-100%<br>Gaming: More than 3 Hours<br>CGPA: 3.28",
          "Attendance: 60%-79%<br>Gaming: 2-3 Hours<br>CGPA: 3.30",
          "Attendance: 60%-79%<br>Gaming: 2-3 Hours<br>CGPA: 3.30",
          "Attendance: 60%-79%<br>Gaming: 2-3 Hours<br>CGPA: 3.31",
          "Attendance: 60%-79%<br>Gaming: 2-3 Hours<br>CGPA: 3.31",
          "Attendance: 60%-79%<br>Gaming: 2-3 Hours<br>CGPA: 3.31",
          "Attendance: 60%-79%<br>Gaming: 2-3 Hours<br>CGPA: 3.31",
          "Attendance: 80%-100%<br>Gaming: More than 3 Hours<br>CGPA: 3.32",
          "Attendance: 60%-79%<br>Gaming: 2-3 Hours<br>CGPA: 3.32",
          "Attendance: 80%-100%<br>Gaming: 2-3 Hours<br>CGPA: 3.33",
          "Attendance: 60%-79%<br>Gaming: 2-3 Hours<br>CGPA: 3.33",
          "Attendance: 60%-79%<br>Gaming: 2-3 Hours<br>CGPA: 3.33",
          "Attendance: 80%-100%<br>Gaming: More than 3 Hours<br>CGPA: 3.33",
          "Attendance: 60%-79%<br>Gaming: More than 3 Hours<br>CGPA: 3.33",
          "Attendance: 60%-79%<br>Gaming: 2-3 Hours<br>CGPA: 3.33",
          "Attendance: 60%-79%<br>Gaming: 2-3 Hours<br>CGPA: 3.33",
          "Attendance: 60%-79%<br>Gaming: 2-3 Hours<br>CGPA: 3.33",
          "Attendance: 60%-79%<br>Gaming: 2-3 Hours<br>CGPA: 3.33",
          "Attendance: 60%-79%<br>Gaming: 2-3 Hours<br>CGPA: 3.33",
          "Attendance: 60%-79%<br>Gaming: 2-3 Hours<br>CGPA: 3.33",
          "Attendance: 60%-79%<br>Gaming: 2-3 Hours<br>CGPA: 3.33",
          "Attendance: 60%-79%<br>Gaming: 2-3 Hours<br>CGPA: 3.35",
          "Attendance: 80%-100%<br>Gaming: More than 3 Hours<br>CGPA: 3.37",
          "Attendance: 60%-79%<br>Gaming: 2-3 Hours<br>CGPA: 3.38",
          "Attendance: 60%-79%<br>Gaming: 2-3 Hours<br>CGPA: 3.38",
          "Attendance: 60%-79%<br>Gaming: 2-3 Hours<br>CGPA: 3.38",
          "Attendance: 60%-79%<br>Gaming: 2-3 Hours<br>CGPA: 3.38",
          "Attendance: 60%-79%<br>Gaming: 2-3 Hours<br>CGPA: 3.38",
          "Attendance: 60%-79%<br>Gaming: 2-3 Hours<br>CGPA: 3.38",
          "Attendance: 60%-79%<br>Gaming: 2-3 Hours<br>CGPA: 3.38",
          "Attendance: 60%-79%<br>Gaming: 2-3 Hours<br>CGPA: 3.38",
          "Attendance: 80%-100%<br>Gaming: 0-1 Hour<br>CGPA: 3.39",
          "Attendance: 80%-100%<br>Gaming: More than 3 Hours<br>CGPA: 3.39",
          "Attendance: 80%-100%<br>Gaming: More than 3 Hours<br>CGPA: 3.43",
          "Attendance: 80%-100%<br>Gaming: 2-3 Hours<br>CGPA: 3.44",
          "Attendance: 60%-79%<br>Gaming: More than 3 Hours<br>CGPA: 3.44",
          "Attendance: 60%-79%<br>Gaming: More than 3 Hours<br>CGPA: 3.44",
          "Attendance: 60%-79%<br>Gaming: 2-3 Hours<br>CGPA: 3.44",
          "Attendance: 60%-79%<br>Gaming: 2-3 Hours<br>CGPA: 3.44",
          "Attendance: 60%-79%<br>Gaming: 2-3 Hours<br>CGPA: 3.44",
          "Attendance: 60%-79%<br>Gaming: More than 3 Hours<br>CGPA: 3.45",
          "Attendance: 60%-79%<br>Gaming: More than 3 Hours<br>CGPA: 3.46",
          "Attendance: 80%-100%<br>Gaming: More than 3 Hours<br>CGPA: 3.48",
          "Attendance: 40%-59%<br>Gaming: More than 3 Hours<br>CGPA: 3.50",
          "Attendance: 80%-100%<br>Gaming: More than 3 Hours<br>CGPA: 3.50",
          "Attendance: 80%-100%<br>Gaming: More than 3 Hours<br>CGPA: 3.50",
          "Attendance: 80%-100%<br>Gaming: 2-3 Hours<br>CGPA: 3.50",
          "Attendance: 80%-100%<br>Gaming: 2-3 Hours<br>CGPA: 3.50",
          "Attendance: 80%-100%<br>Gaming: More than 3 Hours<br>CGPA: 3.50",
          "Attendance: 80%-100%<br>Gaming: More than 3 Hours<br>CGPA: 3.50",
          "Attendance: 80%-100%<br>Gaming: 2-3 Hours<br>CGPA: 3.50",
          "Attendance: 80%-100%<br>Gaming: 0-1 Hour<br>CGPA: 3.50",
          "Attendance: 80%-100%<br>Gaming: More than 3 Hours<br>CGPA: 3.50",
          "Attendance: 80%-100%<br>Gaming: More than 3 Hours<br>CGPA: 3.50",
          "Attendance: 80%-100%<br>Gaming: 2-3 Hours<br>CGPA: 3.50",
          "Attendance: 80%-100%<br>Gaming: 0-1 Hour<br>CGPA: 3.50",
          "Attendance: 80%-100%<br>Gaming: 2-3 Hours<br>CGPA: 3.50",
          "Attendance: 60%-79%<br>Gaming: 2-3 Hours<br>CGPA: 3.50",
          "Attendance: 60%-79%<br>Gaming: 2-3 Hours<br>CGPA: 3.50",
          "Attendance: 60%-79%<br>Gaming: 2-3 Hours<br>CGPA: 3.50",
          "Attendance: 60%-79%<br>Gaming: 2-3 Hours<br>CGPA: 3.50",
          "Attendance: 60%-79%<br>Gaming: 2-3 Hours<br>CGPA: 3.50",
          "Attendance: 60%-79%<br>Gaming: 2-3 Hours<br>CGPA: 3.50",
          "Attendance: 60%-79%<br>Gaming: 2-3 Hours<br>CGPA: 3.50",
          "Attendance: 80%-100%<br>Gaming: 0-1 Hour<br>CGPA: 3.54",
          "Attendance: 80%-100%<br>Gaming: More than 3 Hours<br>CGPA: 3.55",
          "Attendance: 80%-100%<br>Gaming: More than 3 Hours<br>CGPA: 3.55",
          "Attendance: 60%-79%<br>Gaming: More than 3 Hours<br>CGPA: 3.56",
          "Attendance: 60%-79%<br>Gaming: More than 3 Hours<br>CGPA: 3.56",
          "Attendance: 60%-79%<br>Gaming: More than 3 Hours<br>CGPA: 3.56",
          "Attendance: 60%-79%<br>Gaming: More than 3 Hours<br>CGPA: 3.56",
          "Attendance: 60%-79%<br>Gaming: More than 3 Hours<br>CGPA: 3.56",
          "Attendance: 60%-79%<br>Gaming: More than 3 Hours<br>CGPA: 3.56",
          "Attendance: 60%-79%<br>Gaming: More than 3 Hours<br>CGPA: 3.56",
          "Attendance: 60%-79%<br>Gaming: More than 3 Hours<br>CGPA: 3.56",
          "Attendance: 60%-79%<br>Gaming: More than 3 Hours<br>CGPA: 3.56",
          "Attendance: 60%-79%<br>Gaming: More than 3 Hours<br>CGPA: 3.56",
          "Attendance: 60%-79%<br>Gaming: More than 3 Hours<br>CGPA: 3.56",
          "Attendance: 80%-100%<br>Gaming: More than 3 Hours<br>CGPA: 3.60",
          "Attendance: 60%-79%<br>Gaming: More than 3 Hours<br>CGPA: 3.60",
          "Attendance: 60%-79%<br>Gaming: More than 3 Hours<br>CGPA: 3.60",
          "Attendance: 60%-79%<br>Gaming: More than 3 Hours<br>CGPA: 3.60",
          "Attendance: 60%-79%<br>Gaming: More than 3 Hours<br>CGPA: 3.60",
          "Attendance: 80%-100%<br>Gaming: 2-3 Hours<br>CGPA: 3.61",
          "Attendance: 80%-100%<br>Gaming: More than 3 Hours<br>CGPA: 3.62",
          "Attendance: 60%-79%<br>Gaming: More than 3 Hours<br>CGPA: 3.63",
          "Attendance: 60%-79%<br>Gaming: More than 3 Hours<br>CGPA: 3.63",
          "Attendance: 80%-100%<br>Gaming: 2-3 Hours<br>CGPA: 3.64",
          "Attendance: 60%-79%<br>Gaming: More than 3 Hours<br>CGPA: 3.64",
          "Attendance: 80%-100%<br>Gaming: 0-1 Hour<br>CGPA: 3.65",
          "Attendance: 80%-100%<br>Gaming: 0-1 Hour<br>CGPA: 3.65",
          "Attendance: 80%-100%<br>Gaming: More than 3 Hours<br>CGPA: 3.67",
          "Attendance: 60%-79%<br>Gaming: 2-3 Hours<br>CGPA: 3.67",
          "Attendance: 60%-79%<br>Gaming: More than 3 Hours<br>CGPA: 3.67",
          "Attendance: 60%-79%<br>Gaming: 2-3 Hours<br>CGPA: 3.67",
          "Attendance: 80%-100%<br>Gaming: More than 3 Hours<br>CGPA: 3.67",
          "Attendance: 60%-79%<br>Gaming: 2-3 Hours<br>CGPA: 3.67",
          "Attendance: 80%-100%<br>Gaming: More than 3 Hours<br>CGPA: 3.67",
          "Attendance: 60%-79%<br>Gaming: 2-3 Hours<br>CGPA: 3.67",
          "Attendance: 60%-79%<br>Gaming: 2-3 Hours<br>CGPA: 3.67",
          "Attendance: 60%-79%<br>Gaming: 2-3 Hours<br>CGPA: 3.67",
          "Attendance: 80%-100%<br>Gaming: More than 3 Hours<br>CGPA: 3.68",
          "Attendance: 80%-100%<br>Gaming: 2-3 Hours<br>CGPA: 3.69",
          "Attendance: 80%-100%<br>Gaming: 2-3 Hours<br>CGPA: 3.69",
          "Attendance: 80%-100%<br>Gaming: 2-3 Hours<br>CGPA: 3.70",
          "Attendance: 80%-100%<br>Gaming: 2-3 Hours<br>CGPA: 3.70",
          "Attendance: 60%-79%<br>Gaming: More than 3 Hours<br>CGPA: 3.70",
          "Attendance: 60%-79%<br>Gaming: More than 3 Hours<br>CGPA: 3.70",
          "Attendance: 80%-100%<br>Gaming: More than 3 Hours<br>CGPA: 3.70",
          "Attendance: 60%-79%<br>Gaming: More than 3 Hours<br>CGPA: 3.70",
          "Attendance: 60%-79%<br>Gaming: More than 3 Hours<br>CGPA: 3.70",
          "Attendance: 60%-79%<br>Gaming: More than 3 Hours<br>CGPA: 3.70",
          "Attendance: 60%-79%<br>Gaming: More than 3 Hours<br>CGPA: 3.70",
          "Attendance: 80%-100%<br>Gaming: More than 3 Hours<br>CGPA: 3.70",
          "Attendance: 80%-100%<br>Gaming: 2-3 Hours<br>CGPA: 3.70",
          "Attendance: 80%-100%<br>Gaming: 2-3 Hours<br>CGPA: 3.70",
          "Attendance: 80%-100%<br>Gaming: More than 3 Hours<br>CGPA: 3.71",
          "Attendance: 80%-100%<br>Gaming: More than 3 Hours<br>CGPA: 3.71",
          "Attendance: 80%-100%<br>Gaming: More than 3 Hours<br>CGPA: 3.71",
          "Attendance: 80%-100%<br>Gaming: More than 3 Hours<br>CGPA: 3.71",
          "Attendance: 80%-100%<br>Gaming: More than 3 Hours<br>CGPA: 3.74",
          "Attendance: 80%-100%<br>Gaming: More than 3 Hours<br>CGPA: 3.74",
          "Attendance: 80%-100%<br>Gaming: 2-3 Hours<br>CGPA: 3.74",
          "Attendance: 80%-100%<br>Gaming: 2-3 Hours<br>CGPA: 3.74",
          "Attendance: 80%-100%<br>Gaming: More than 3 Hours<br>CGPA: 3.74",
          "Attendance: 80%-100%<br>Gaming: 2-3 Hours<br>CGPA: 3.74",
          "Attendance: 80%-100%<br>Gaming: More than 3 Hours<br>CGPA: 3.74",
          "Attendance: 80%-100%<br>Gaming: 2-3 Hours<br>CGPA: 3.74",
          "Attendance: 80%-100%<br>Gaming: More than 3 Hours<br>CGPA: 3.74",
          "Attendance: 80%-100%<br>Gaming: More than 3 Hours<br>CGPA: 3.74",
          "Attendance: 80%-100%<br>Gaming: 2-3 Hours<br>CGPA: 3.75",
          "Attendance: 80%-100%<br>Gaming: More than 3 Hours<br>CGPA: 3.75",
          "Attendance: 60%-79%<br>Gaming: More than 3 Hours<br>CGPA: 3.75",
          "Attendance: 80%-100%<br>Gaming: More than 3 Hours<br>CGPA: 3.75",
          "Attendance: 80%-100%<br>Gaming: More than 3 Hours<br>CGPA: 3.75",
          "Attendance: 80%-100%<br>Gaming: More than 3 Hours<br>CGPA: 3.75",
          "Attendance: 80%-100%<br>Gaming: More than 3 Hours<br>CGPA: 3.75",
          "Attendance: 80%-100%<br>Gaming: 2-3 Hours<br>CGPA: 3.75",
          "Attendance: 80%-100%<br>Gaming: 2-3 Hours<br>CGPA: 3.75",
          "Attendance: 80%-100%<br>Gaming: 2-3 Hours<br>CGPA: 3.75",
          "Attendance: 80%-100%<br>Gaming: 2-3 Hours<br>CGPA: 3.75",
          "Attendance: 80%-100%<br>Gaming: 2-3 Hours<br>CGPA: 3.75",
          "Attendance: 80%-100%<br>Gaming: 2-3 Hours<br>CGPA: 3.75",
          "Attendance: 80%-100%<br>Gaming: 2-3 Hours<br>CGPA: 3.75",
          "Attendance: 80%-100%<br>Gaming: 2-3 Hours<br>CGPA: 3.75",
          "Attendance: 80%-100%<br>Gaming: 2-3 Hours<br>CGPA: 3.76",
          "Attendance: 80%-100%<br>Gaming: 2-3 Hours<br>CGPA: 3.78",
          "Attendance: 80%-100%<br>Gaming: 0-1 Hour<br>CGPA: 3.78",
          "Attendance: 80%-100%<br>Gaming: 0-1 Hour<br>CGPA: 3.78",
          "Attendance: 80%-100%<br>Gaming: More than 3 Hours<br>CGPA: 3.80",
          "Attendance: 80%-100%<br>Gaming: More than 3 Hours<br>CGPA: 3.80",
          "Attendance: 80%-100%<br>Gaming: 2-3 Hours<br>CGPA: 3.80",
          "Attendance: 80%-100%<br>Gaming: 0-1 Hour<br>CGPA: 3.80",
          "Attendance: 80%-100%<br>Gaming: 0-1 Hour<br>CGPA: 3.80",
          "Attendance: 80%-100%<br>Gaming: More than 3 Hours<br>CGPA: 3.81",
          "Attendance: 80%-100%<br>Gaming: More than 3 Hours<br>CGPA: 3.81",
          "Attendance: 80%-100%<br>Gaming: More than 3 Hours<br>CGPA: 3.81",
          "Attendance: 80%-100%<br>Gaming: More than 3 Hours<br>CGPA: 3.81",
          "Attendance: 80%-100%<br>Gaming: More than 3 Hours<br>CGPA: 3.81",
          "Attendance: 80%-100%<br>Gaming: More than 3 Hours<br>CGPA: 3.81",
          "Attendance: 80%-100%<br>Gaming: More than 3 Hours<br>CGPA: 3.81",
          "Attendance: 80%-100%<br>Gaming: More than 3 Hours<br>CGPA: 3.81",
          "Attendance: 80%-100%<br>Gaming: 0-1 Hour<br>CGPA: 3.84",
          "Attendance: 80%-100%<br>Gaming: 0-1 Hour<br>CGPA: 3.87",
          "Attendance: 80%-100%<br>Gaming: 2-3 Hours<br>CGPA: 3.88",
          "Attendance: 80%-100%<br>Gaming: 0-1 Hour<br>CGPA: 3.88",
          "Attendance: 80%-100%<br>Gaming: 0-1 Hour<br>CGPA: 3.88",
          "Attendance: 80%-100%<br>Gaming: 0-1 Hour<br>CGPA: 3.88",
          "Attendance: 80%-100%<br>Gaming: 0-1 Hour<br>CGPA: 3.88",
          "Attendance: 80%-100%<br>Gaming: 0-1 Hour<br>CGPA: 3.88",
          "Attendance: 80%-100%<br>Gaming: 0-1 Hour<br>CGPA: 3.88",
          "Attendance: 80%-100%<br>Gaming: 2-3 Hours<br>CGPA: 3.89",
          "Attendance: 80%-100%<br>Gaming: 2-3 Hours<br>CGPA: 3.91",
          "Attendance: 80%-100%<br>Gaming: 0-1 Hour<br>CGPA: 3.93",
          "Attendance: 80%-100%<br>Gaming: 0-1 Hour<br>CGPA: 3.94",
          "Attendance: 80%-100%<br>Gaming: 0-1 Hour<br>CGPA: 3.94",
          "Attendance: 80%-100%<br>Gaming: 0-1 Hour<br>CGPA: 3.94",
          "Attendance: 80%-100%<br>Gaming: 0-1 Hour<br>CGPA: 3.94",
          "Attendance: 80%-100%<br>Gaming: 0-1 Hour<br>CGPA: 3.94",
          "Attendance: 80%-100%<br>Gaming: 0-1 Hour<br>CGPA: 3.94",
          "Attendance: 80%-100%<br>Gaming: 0-1 Hour<br>CGPA: 3.94",
          "Attendance: 80%-100%<br>Gaming: 0-1 Hour<br>CGPA: 3.94",
          "Attendance: 80%-100%<br>Gaming: 0-1 Hour<br>CGPA: 3.94",
          "Attendance: 80%-100%<br>Gaming: 0-1 Hour<br>CGPA: 3.94",
          "Attendance: 80%-100%<br>Gaming: 0-1 Hour<br>CGPA: 3.94",
          "Attendance: 80%-100%<br>Gaming: 0-1 Hour<br>CGPA: 3.94",
          "Attendance: 80%-100%<br>Gaming: 0-1 Hour<br>CGPA: 3.94",
          "Attendance: 80%-100%<br>Gaming: 0-1 Hour<br>CGPA: 3.95",
          "Attendance: 80%-100%<br>Gaming: 2-3 Hours<br>CGPA: 3.96",
          "Attendance: 80%-100%<br>Gaming: More than 3 Hours<br>CGPA: 3.98",
          "Attendance: 60%-79%<br>Gaming: More than 3 Hours<br>CGPA: 4.00",
          "Attendance: 80%-100%<br>Gaming: More than 3 Hours<br>CGPA: 4.00",
          "Attendance: 80%-100%<br>Gaming: More than 3 Hours<br>CGPA: 4.00",
          "Attendance: 80%-100%<br>Gaming: More than 3 Hours<br>CGPA: 4.00",
          "Attendance: 80%-100%<br>Gaming: 2-3 Hours<br>CGPA: 4.00",
          "Attendance: 80%-100%<br>Gaming: More than 3 Hours<br>CGPA: 4.00",
          "Attendance: 80%-100%<br>Gaming: More than 3 Hours<br>CGPA: 4.00",
          "Attendance: 80%-100%<br>Gaming: More than 3 Hours<br>CGPA: 4.00",
          "Attendance: 80%-100%<br>Gaming: More than 3 Hours<br>CGPA: 4.00",
          "Attendance: 80%-100%<br>Gaming: More than 3 Hours<br>CGPA: 4.00",
          "Attendance: 80%-100%<br>Gaming: More than 3 Hours<br>CGPA: 4.00",
          "Attendance: 80%-100%<br>Gaming: More than 3 Hours<br>CGPA: 4.00",
          "Attendance: 80%-100%<br>Gaming: More than 3 Hours<br>CGPA: 3.70",
          "Attendance: 60%-79%<br>Gaming: More than 3 Hours<br>CGPA: 3.74",
          "Attendance: 80%-100%<br>Gaming: 2-3 Hours<br>CGPA: 3.75",
          "Attendance: 80%-100%<br>Gaming: 0-1 Hour<br>CGPA: 4.00",
          "Attendance: 80%-100%<br>Gaming: 2-3 Hours<br>CGPA: 2.97",
          "Attendance: 60%-79%<br>Gaming: More than 3 Hours<br>CGPA: 3.15",
          "Attendance: 80%-100%<br>Gaming: 2-3 Hours<br>CGPA: 3.32",
          "Attendance: 60%-79%<br>Gaming: 0-1 Hour<br>CGPA: 3.33",
          "Attendance: 60%-79%<br>Gaming: 2-3 Hours<br>CGPA: 3.45",
          "Attendance: 80%-100%<br>Gaming: 2-3 Hours<br>CGPA: 3.47",
          "Attendance: 80%-100%<br>Gaming: More than 3 Hours<br>CGPA: 3.47",
          "Attendance: 80%-100%<br>Gaming: 2-3 Hours<br>CGPA: 3.56",
          "Attendance: 80%-100%<br>Gaming: 0-1 Hour<br>CGPA: 3.60",
          "Attendance: 80%-100%<br>Gaming: 2-3 Hours<br>CGPA: 3.68",
          "Attendance: 80%-100%<br>Gaming: 2-3 Hours<br>CGPA: 3.74",
          "Attendance: 80%-100%<br>Gaming: More than 3 Hours<br>CGPA: 3.75",
          "Attendance: 80%-100%<br>Gaming: 0-1 Hour<br>CGPA: 3.80",
          "Attendance: 80%-100%<br>Gaming: More than 3 Hours<br>CGPA: 3.83",
          "Attendance: 80%-100%<br>Gaming: More than 3 Hours<br>CGPA: 3.93",
          "Attendance: 40%-59%<br>Gaming: 2-3 Hours<br>CGPA: 2.25",
          "Attendance: 60%-79%<br>Gaming: More than 3 Hours<br>CGPA: 2.50",
          "Attendance: 80%-100%<br>Gaming: More than 3 Hours<br>CGPA: 3.00",
          "Attendance: 80%-100%<br>Gaming: More than 3 Hours<br>CGPA: 3.09",
          "Attendance: 80%-100%<br>Gaming: 0-1 Hour<br>CGPA: 3.17",
          "Attendance: 60%-79%<br>Gaming: More than 3 Hours<br>CGPA: 3.50",
          "Attendance: 80%-100%<br>Gaming: 0-1 Hour<br>CGPA: 3.50",
          "Attendance: 80%-100%<br>Gaming: 0-1 Hour<br>CGPA: 3.50",
          "Attendance: 80%-100%<br>Gaming: More than 3 Hours<br>CGPA: 3.60",
          "Attendance: 80%-100%<br>Gaming: More than 3 Hours<br>CGPA: 3.67",
          "Attendance: 80%-100%<br>Gaming: 0-1 Hour<br>CGPA: 3.78",
          "Attendance: 80%-100%<br>Gaming: More than 3 Hours<br>CGPA: 3.80",
          "Attendance: 80%-100%<br>Gaming: 2-3 Hours<br>CGPA: 4.00",
          "Attendance: 80%-100%<br>Gaming: 2-3 Hours<br>CGPA: 3.69",
          "Attendance: 60%-79%<br>Gaming: 2-3 Hours<br>CGPA: 3.79",
          "Attendance: 80%-100%<br>Gaming: More than 3 Hours<br>CGPA: 2.85",
          "Attendance: Below 40%<br>Gaming: 2-3 Hours<br>CGPA: 3.31",
          "Attendance: 80%-100%<br>Gaming: More than 3 Hours<br>CGPA: 3.56",
          "Attendance: 80%-100%<br>Gaming: More than 3 Hours<br>CGPA: 3.68",
          "Attendance: 80%-100%<br>Gaming: 2-3 Hours<br>CGPA: 3.88",
          "Attendance: 80%-100%<br>Gaming: 0-1 Hour<br>CGPA: 3.94",
          "Attendance: 40%-59%<br>Gaming: 2-3 Hours<br>CGPA: 3.10",
          "Attendance: 60%-79%<br>Gaming: 2-3 Hours<br>CGPA: 3.67",
          "Attendance: 40%-59%<br>Gaming: 2-3 Hours<br>CGPA: 3.56",
          "Attendance: 80%-100%<br>Gaming: 2-3 Hours<br>CGPA: 3.75",
          "Attendance: 80%-100%<br>Gaming: 2-3 Hours<br>CGPA: 3.86"
         ],
         "type": "scatter",
         "visible": true,
         "x": [
          "80%-100%",
          "80%-100%",
          "80%-100%",
          "80%-100%",
          "80%-100%",
          "Below 40%",
          "60%-79%",
          "80%-100%",
          "Below 40%",
          "Below 40%",
          "Below 40%",
          "Below 40%",
          "60%-79%",
          "60%-79%",
          "Below 40%",
          "Below 40%",
          "60%-79%",
          "60%-79%",
          "60%-79%",
          "60%-79%",
          "60%-79%",
          "80%-100%",
          "60%-79%",
          "60%-79%",
          "60%-79%",
          "Below 40%",
          "Below 40%",
          "60%-79%",
          "60%-79%",
          "60%-79%",
          "60%-79%",
          "60%-79%",
          "60%-79%",
          "Below 40%",
          "60%-79%",
          "40%-59%",
          "40%-59%",
          "40%-59%",
          "40%-59%",
          "60%-79%",
          "60%-79%",
          "40%-59%",
          "60%-79%",
          "40%-59%",
          "40%-59%",
          "60%-79%",
          "40%-59%",
          "60%-79%",
          "40%-59%",
          "40%-59%",
          "40%-59%",
          "60%-79%",
          "40%-59%",
          "40%-59%",
          "40%-59%",
          "40%-59%",
          "40%-59%",
          "40%-59%",
          "40%-59%",
          "40%-59%",
          "40%-59%",
          "40%-59%",
          "60%-79%",
          "40%-59%",
          "40%-59%",
          "80%-100%",
          "60%-79%",
          "60%-79%",
          "80%-100%",
          "60%-79%",
          "40%-59%",
          "60%-79%",
          "80%-100%",
          "60%-79%",
          "40%-59%",
          "40%-59%",
          "40%-59%",
          "80%-100%",
          "40%-59%",
          "40%-59%",
          "40%-59%",
          "40%-59%",
          "40%-59%",
          "60%-79%",
          "60%-79%",
          "60%-79%",
          "80%-100%",
          "80%-100%",
          "80%-100%",
          "60%-79%",
          "60%-79%",
          "60%-79%",
          "60%-79%",
          "60%-79%",
          "60%-79%",
          "60%-79%",
          "60%-79%",
          "60%-79%",
          "60%-79%",
          "60%-79%",
          "60%-79%",
          "60%-79%",
          "60%-79%",
          "60%-79%",
          "60%-79%",
          "60%-79%",
          "60%-79%",
          "60%-79%",
          "60%-79%",
          "60%-79%",
          "60%-79%",
          "60%-79%",
          "60%-79%",
          "60%-79%",
          "60%-79%",
          "60%-79%",
          "60%-79%",
          "60%-79%",
          "60%-79%",
          "60%-79%",
          "60%-79%",
          "60%-79%",
          "60%-79%",
          "60%-79%",
          "60%-79%",
          "60%-79%",
          "60%-79%",
          "60%-79%",
          "60%-79%",
          "60%-79%",
          "60%-79%",
          "60%-79%",
          "60%-79%",
          "60%-79%",
          "60%-79%",
          "60%-79%",
          "40%-59%",
          "40%-59%",
          "40%-59%",
          "40%-59%",
          "40%-59%",
          "40%-59%",
          "40%-59%",
          "40%-59%",
          "40%-59%",
          "40%-59%",
          "40%-59%",
          "40%-59%",
          "40%-59%",
          "40%-59%",
          "40%-59%",
          "40%-59%",
          "40%-59%",
          "40%-59%",
          "60%-79%",
          "40%-59%",
          "60%-79%",
          "60%-79%",
          "60%-79%",
          "60%-79%",
          "80%-100%",
          "80%-100%",
          "60%-79%",
          "80%-100%",
          "80%-100%",
          "60%-79%",
          "60%-79%",
          "60%-79%",
          "60%-79%",
          "60%-79%",
          "40%-59%",
          "40%-59%",
          "40%-59%",
          "80%-100%",
          "80%-100%",
          "60%-79%",
          "60%-79%",
          "60%-79%",
          "60%-79%",
          "60%-79%",
          "60%-79%",
          "60%-79%",
          "60%-79%",
          "60%-79%",
          "60%-79%",
          "60%-79%",
          "80%-100%",
          "80%-100%",
          "60%-79%",
          "80%-100%",
          "80%-100%",
          "80%-100%",
          "80%-100%",
          "80%-100%",
          "60%-79%",
          "60%-79%",
          "60%-79%",
          "60%-79%",
          "60%-79%",
          "60%-79%",
          "60%-79%",
          "80%-100%",
          "60%-79%",
          "60%-79%",
          "60%-79%",
          "60%-79%",
          "60%-79%",
          "80%-100%",
          "80%-100%",
          "80%-100%",
          "80%-100%",
          "60%-79%",
          "40%-59%",
          "40%-59%",
          "40%-59%",
          "60%-79%",
          "80%-100%",
          "80%-100%",
          "40%-59%",
          "40%-59%",
          "60%-79%",
          "40%-59%",
          "40%-59%",
          "40%-59%",
          "40%-59%",
          "60%-79%",
          "40%-59%",
          "60%-79%",
          "60%-79%",
          "60%-79%",
          "60%-79%",
          "60%-79%",
          "60%-79%",
          "60%-79%",
          "60%-79%",
          "60%-79%",
          "60%-79%",
          "60%-79%",
          "80%-100%",
          "80%-100%",
          "60%-79%",
          "60%-79%",
          "60%-79%",
          "60%-79%",
          "60%-79%",
          "60%-79%",
          "80%-100%",
          "60%-79%",
          "60%-79%",
          "60%-79%",
          "60%-79%",
          "60%-79%",
          "60%-79%",
          "80%-100%",
          "60%-79%",
          "80%-100%",
          "60%-79%",
          "60%-79%",
          "80%-100%",
          "60%-79%",
          "60%-79%",
          "60%-79%",
          "60%-79%",
          "60%-79%",
          "60%-79%",
          "60%-79%",
          "60%-79%",
          "60%-79%",
          "80%-100%",
          "60%-79%",
          "60%-79%",
          "60%-79%",
          "60%-79%",
          "60%-79%",
          "60%-79%",
          "60%-79%",
          "60%-79%",
          "80%-100%",
          "80%-100%",
          "80%-100%",
          "80%-100%",
          "60%-79%",
          "60%-79%",
          "60%-79%",
          "60%-79%",
          "60%-79%",
          "60%-79%",
          "60%-79%",
          "80%-100%",
          "40%-59%",
          "80%-100%",
          "80%-100%",
          "80%-100%",
          "80%-100%",
          "80%-100%",
          "80%-100%",
          "80%-100%",
          "80%-100%",
          "80%-100%",
          "80%-100%",
          "80%-100%",
          "80%-100%",
          "80%-100%",
          "60%-79%",
          "60%-79%",
          "60%-79%",
          "60%-79%",
          "60%-79%",
          "60%-79%",
          "60%-79%",
          "80%-100%",
          "80%-100%",
          "80%-100%",
          "60%-79%",
          "60%-79%",
          "60%-79%",
          "60%-79%",
          "60%-79%",
          "60%-79%",
          "60%-79%",
          "60%-79%",
          "60%-79%",
          "60%-79%",
          "60%-79%",
          "80%-100%",
          "60%-79%",
          "60%-79%",
          "60%-79%",
          "60%-79%",
          "80%-100%",
          "80%-100%",
          "60%-79%",
          "60%-79%",
          "80%-100%",
          "60%-79%",
          "80%-100%",
          "80%-100%",
          "80%-100%",
          "60%-79%",
          "60%-79%",
          "60%-79%",
          "80%-100%",
          "60%-79%",
          "80%-100%",
          "60%-79%",
          "60%-79%",
          "60%-79%",
          "80%-100%",
          "80%-100%",
          "80%-100%",
          "80%-100%",
          "80%-100%",
          "60%-79%",
          "60%-79%",
          "80%-100%",
          "60%-79%",
          "60%-79%",
          "60%-79%",
          "60%-79%",
          "80%-100%",
          "80%-100%",
          "80%-100%",
          "80%-100%",
          "80%-100%",
          "80%-100%",
          "80%-100%",
          "80%-100%",
          "80%-100%",
          "80%-100%",
          "80%-100%",
          "80%-100%",
          "80%-100%",
          "80%-100%",
          "80%-100%",
          "80%-100%",
          "80%-100%",
          "80%-100%",
          "80%-100%",
          "60%-79%",
          "80%-100%",
          "80%-100%",
          "80%-100%",
          "80%-100%",
          "80%-100%",
          "80%-100%",
          "80%-100%",
          "80%-100%",
          "80%-100%",
          "80%-100%",
          "80%-100%",
          "80%-100%",
          "80%-100%",
          "80%-100%",
          "80%-100%",
          "80%-100%",
          "80%-100%",
          "80%-100%",
          "80%-100%",
          "80%-100%",
          "80%-100%",
          "80%-100%",
          "80%-100%",
          "80%-100%",
          "80%-100%",
          "80%-100%",
          "80%-100%",
          "80%-100%",
          "80%-100%",
          "80%-100%",
          "80%-100%",
          "80%-100%",
          "80%-100%",
          "80%-100%",
          "80%-100%",
          "80%-100%",
          "80%-100%",
          "80%-100%",
          "80%-100%",
          "80%-100%",
          "80%-100%",
          "80%-100%",
          "80%-100%",
          "80%-100%",
          "80%-100%",
          "80%-100%",
          "80%-100%",
          "80%-100%",
          "80%-100%",
          "80%-100%",
          "80%-100%",
          "80%-100%",
          "80%-100%",
          "80%-100%",
          "80%-100%",
          "80%-100%",
          "80%-100%",
          "60%-79%",
          "80%-100%",
          "80%-100%",
          "80%-100%",
          "80%-100%",
          "80%-100%",
          "80%-100%",
          "80%-100%",
          "80%-100%",
          "80%-100%",
          "80%-100%",
          "80%-100%",
          "80%-100%",
          "60%-79%",
          "80%-100%",
          "80%-100%",
          "80%-100%",
          "60%-79%",
          "80%-100%",
          "60%-79%",
          "60%-79%",
          "80%-100%",
          "80%-100%",
          "80%-100%",
          "80%-100%",
          "80%-100%",
          "80%-100%",
          "80%-100%",
          "80%-100%",
          "80%-100%",
          "80%-100%",
          "40%-59%",
          "60%-79%",
          "80%-100%",
          "80%-100%",
          "80%-100%",
          "60%-79%",
          "80%-100%",
          "80%-100%",
          "80%-100%",
          "80%-100%",
          "80%-100%",
          "80%-100%",
          "80%-100%",
          "80%-100%",
          "60%-79%",
          "80%-100%",
          "Below 40%",
          "80%-100%",
          "80%-100%",
          "80%-100%",
          "80%-100%",
          "40%-59%",
          "60%-79%",
          "40%-59%",
          "80%-100%",
          "80%-100%"
         ],
         "y": [
          "0-1 Hour",
          "0-1 Hour",
          "More than 3 Hours",
          "More than 3 Hours",
          "2-3 Hours",
          "More than 3 Hours",
          "More than 3 Hours",
          "More than 3 Hours",
          "More than 3 Hours",
          "More than 3 Hours",
          "More than 3 Hours",
          "More than 3 Hours",
          "More than 3 Hours",
          "More than 3 Hours",
          "More than 3 Hours",
          "More than 3 Hours",
          "More than 3 Hours",
          "More than 3 Hours",
          "More than 3 Hours",
          "More than 3 Hours",
          "More than 3 Hours",
          "0-1 Hour",
          "More than 3 Hours",
          "More than 3 Hours",
          "More than 3 Hours",
          "More than 3 Hours",
          "More than 3 Hours",
          "More than 3 Hours",
          "More than 3 Hours",
          "0-1 Hour",
          "More than 3 Hours",
          "More than 3 Hours",
          "More than 3 Hours",
          "More than 3 Hours",
          "More than 3 Hours",
          "More than 3 Hours",
          "More than 3 Hours",
          "More than 3 Hours",
          "More than 3 Hours",
          "More than 3 Hours",
          "More than 3 Hours",
          "More than 3 Hours",
          "More than 3 Hours",
          "More than 3 Hours",
          "More than 3 Hours",
          "More than 3 Hours",
          "More than 3 Hours",
          "More than 3 Hours",
          "More than 3 Hours",
          "More than 3 Hours",
          "More than 3 Hours",
          "More than 3 Hours",
          "More than 3 Hours",
          "More than 3 Hours",
          "More than 3 Hours",
          "More than 3 Hours",
          "More than 3 Hours",
          "More than 3 Hours",
          "More than 3 Hours",
          "More than 3 Hours",
          "More than 3 Hours",
          "More than 3 Hours",
          "More than 3 Hours",
          "More than 3 Hours",
          "More than 3 Hours",
          "More than 3 Hours",
          "More than 3 Hours",
          "More than 3 Hours",
          "0-1 Hour",
          "More than 3 Hours",
          "More than 3 Hours",
          "More than 3 Hours",
          "2-3 Hours",
          "More than 3 Hours",
          "More than 3 Hours",
          "More than 3 Hours",
          "More than 3 Hours",
          "More than 3 Hours",
          "More than 3 Hours",
          "More than 3 Hours",
          "More than 3 Hours",
          "More than 3 Hours",
          "More than 3 Hours",
          "More than 3 Hours",
          "More than 3 Hours",
          "More than 3 Hours",
          "More than 3 Hours",
          "2-3 Hours",
          "More than 3 Hours",
          "More than 3 Hours",
          "More than 3 Hours",
          "More than 3 Hours",
          "More than 3 Hours",
          "More than 3 Hours",
          "More than 3 Hours",
          "More than 3 Hours",
          "More than 3 Hours",
          "More than 3 Hours",
          "More than 3 Hours",
          "More than 3 Hours",
          "More than 3 Hours",
          "More than 3 Hours",
          "More than 3 Hours",
          "More than 3 Hours",
          "More than 3 Hours",
          "More than 3 Hours",
          "More than 3 Hours",
          "More than 3 Hours",
          "More than 3 Hours",
          "More than 3 Hours",
          "More than 3 Hours",
          "More than 3 Hours",
          "More than 3 Hours",
          "More than 3 Hours",
          "0-1 Hour",
          "More than 3 Hours",
          "More than 3 Hours",
          "More than 3 Hours",
          "More than 3 Hours",
          "More than 3 Hours",
          "More than 3 Hours",
          "More than 3 Hours",
          "More than 3 Hours",
          "More than 3 Hours",
          "More than 3 Hours",
          "More than 3 Hours",
          "More than 3 Hours",
          "More than 3 Hours",
          "More than 3 Hours",
          "More than 3 Hours",
          "More than 3 Hours",
          "More than 3 Hours",
          "More than 3 Hours",
          "More than 3 Hours",
          "More than 3 Hours",
          "2-3 Hours",
          "More than 3 Hours",
          "More than 3 Hours",
          "More than 3 Hours",
          "More than 3 Hours",
          "More than 3 Hours",
          "More than 3 Hours",
          "More than 3 Hours",
          "More than 3 Hours",
          "More than 3 Hours",
          "More than 3 Hours",
          "More than 3 Hours",
          "More than 3 Hours",
          "More than 3 Hours",
          "More than 3 Hours",
          "More than 3 Hours",
          "More than 3 Hours",
          "More than 3 Hours",
          "More than 3 Hours",
          "More than 3 Hours",
          "More than 3 Hours",
          "More than 3 Hours",
          "More than 3 Hours",
          "More than 3 Hours",
          "More than 3 Hours",
          "More than 3 Hours",
          "More than 3 Hours",
          "0-1 Hour",
          "2-3 Hours",
          "More than 3 Hours",
          "More than 3 Hours",
          "More than 3 Hours",
          "More than 3 Hours",
          "More than 3 Hours",
          "More than 3 Hours",
          "More than 3 Hours",
          "More than 3 Hours",
          "More than 3 Hours",
          "More than 3 Hours",
          "2-3 Hours",
          "2-3 Hours",
          "2-3 Hours",
          "2-3 Hours",
          "2-3 Hours",
          "2-3 Hours",
          "2-3 Hours",
          "2-3 Hours",
          "2-3 Hours",
          "2-3 Hours",
          "2-3 Hours",
          "2-3 Hours",
          "2-3 Hours",
          "2-3 Hours",
          "More than 3 Hours",
          "0-1 Hour",
          "More than 3 Hours",
          "More than 3 Hours",
          "More than 3 Hours",
          "More than 3 Hours",
          "2-3 Hours",
          "2-3 Hours",
          "2-3 Hours",
          "2-3 Hours",
          "2-3 Hours",
          "2-3 Hours",
          "2-3 Hours",
          "More than 3 Hours",
          "More than 3 Hours",
          "More than 3 Hours",
          "More than 3 Hours",
          "More than 3 Hours",
          "More than 3 Hours",
          "More than 3 Hours",
          "More than 3 Hours",
          "More than 3 Hours",
          "More than 3 Hours",
          "More than 3 Hours",
          "More than 3 Hours",
          "More than 3 Hours",
          "More than 3 Hours",
          "2-3 Hours",
          "More than 3 Hours",
          "More than 3 Hours",
          "More than 3 Hours",
          "More than 3 Hours",
          "More than 3 Hours",
          "More than 3 Hours",
          "More than 3 Hours",
          "More than 3 Hours",
          "More than 3 Hours",
          "More than 3 Hours",
          "More than 3 Hours",
          "2-3 Hours",
          "2-3 Hours",
          "2-3 Hours",
          "2-3 Hours",
          "2-3 Hours",
          "2-3 Hours",
          "2-3 Hours",
          "2-3 Hours",
          "2-3 Hours",
          "2-3 Hours",
          "2-3 Hours",
          "More than 3 Hours",
          "2-3 Hours",
          "2-3 Hours",
          "2-3 Hours",
          "2-3 Hours",
          "2-3 Hours",
          "2-3 Hours",
          "2-3 Hours",
          "More than 3 Hours",
          "2-3 Hours",
          "2-3 Hours",
          "2-3 Hours",
          "2-3 Hours",
          "2-3 Hours",
          "2-3 Hours",
          "More than 3 Hours",
          "2-3 Hours",
          "2-3 Hours",
          "2-3 Hours",
          "2-3 Hours",
          "More than 3 Hours",
          "More than 3 Hours",
          "2-3 Hours",
          "2-3 Hours",
          "2-3 Hours",
          "2-3 Hours",
          "2-3 Hours",
          "2-3 Hours",
          "2-3 Hours",
          "2-3 Hours",
          "More than 3 Hours",
          "2-3 Hours",
          "2-3 Hours",
          "2-3 Hours",
          "2-3 Hours",
          "2-3 Hours",
          "2-3 Hours",
          "2-3 Hours",
          "2-3 Hours",
          "0-1 Hour",
          "More than 3 Hours",
          "More than 3 Hours",
          "2-3 Hours",
          "More than 3 Hours",
          "More than 3 Hours",
          "2-3 Hours",
          "2-3 Hours",
          "2-3 Hours",
          "More than 3 Hours",
          "More than 3 Hours",
          "More than 3 Hours",
          "More than 3 Hours",
          "More than 3 Hours",
          "More than 3 Hours",
          "2-3 Hours",
          "2-3 Hours",
          "More than 3 Hours",
          "More than 3 Hours",
          "2-3 Hours",
          "0-1 Hour",
          "More than 3 Hours",
          "More than 3 Hours",
          "2-3 Hours",
          "0-1 Hour",
          "2-3 Hours",
          "2-3 Hours",
          "2-3 Hours",
          "2-3 Hours",
          "2-3 Hours",
          "2-3 Hours",
          "2-3 Hours",
          "2-3 Hours",
          "0-1 Hour",
          "More than 3 Hours",
          "More than 3 Hours",
          "More than 3 Hours",
          "More than 3 Hours",
          "More than 3 Hours",
          "More than 3 Hours",
          "More than 3 Hours",
          "More than 3 Hours",
          "More than 3 Hours",
          "More than 3 Hours",
          "More than 3 Hours",
          "More than 3 Hours",
          "More than 3 Hours",
          "More than 3 Hours",
          "More than 3 Hours",
          "More than 3 Hours",
          "More than 3 Hours",
          "More than 3 Hours",
          "2-3 Hours",
          "More than 3 Hours",
          "More than 3 Hours",
          "More than 3 Hours",
          "2-3 Hours",
          "More than 3 Hours",
          "0-1 Hour",
          "0-1 Hour",
          "More than 3 Hours",
          "2-3 Hours",
          "More than 3 Hours",
          "2-3 Hours",
          "More than 3 Hours",
          "2-3 Hours",
          "More than 3 Hours",
          "2-3 Hours",
          "2-3 Hours",
          "2-3 Hours",
          "More than 3 Hours",
          "2-3 Hours",
          "2-3 Hours",
          "2-3 Hours",
          "2-3 Hours",
          "More than 3 Hours",
          "More than 3 Hours",
          "More than 3 Hours",
          "More than 3 Hours",
          "More than 3 Hours",
          "More than 3 Hours",
          "More than 3 Hours",
          "More than 3 Hours",
          "2-3 Hours",
          "2-3 Hours",
          "More than 3 Hours",
          "More than 3 Hours",
          "More than 3 Hours",
          "More than 3 Hours",
          "More than 3 Hours",
          "More than 3 Hours",
          "2-3 Hours",
          "2-3 Hours",
          "More than 3 Hours",
          "2-3 Hours",
          "More than 3 Hours",
          "2-3 Hours",
          "More than 3 Hours",
          "More than 3 Hours",
          "2-3 Hours",
          "More than 3 Hours",
          "More than 3 Hours",
          "More than 3 Hours",
          "More than 3 Hours",
          "More than 3 Hours",
          "More than 3 Hours",
          "2-3 Hours",
          "2-3 Hours",
          "2-3 Hours",
          "2-3 Hours",
          "2-3 Hours",
          "2-3 Hours",
          "2-3 Hours",
          "2-3 Hours",
          "2-3 Hours",
          "2-3 Hours",
          "0-1 Hour",
          "0-1 Hour",
          "More than 3 Hours",
          "More than 3 Hours",
          "2-3 Hours",
          "0-1 Hour",
          "0-1 Hour",
          "More than 3 Hours",
          "More than 3 Hours",
          "More than 3 Hours",
          "More than 3 Hours",
          "More than 3 Hours",
          "More than 3 Hours",
          "More than 3 Hours",
          "More than 3 Hours",
          "0-1 Hour",
          "0-1 Hour",
          "2-3 Hours",
          "0-1 Hour",
          "0-1 Hour",
          "0-1 Hour",
          "0-1 Hour",
          "0-1 Hour",
          "0-1 Hour",
          "2-3 Hours",
          "2-3 Hours",
          "0-1 Hour",
          "0-1 Hour",
          "0-1 Hour",
          "0-1 Hour",
          "0-1 Hour",
          "0-1 Hour",
          "0-1 Hour",
          "0-1 Hour",
          "0-1 Hour",
          "0-1 Hour",
          "0-1 Hour",
          "0-1 Hour",
          "0-1 Hour",
          "0-1 Hour",
          "0-1 Hour",
          "2-3 Hours",
          "More than 3 Hours",
          "More than 3 Hours",
          "More than 3 Hours",
          "More than 3 Hours",
          "More than 3 Hours",
          "2-3 Hours",
          "More than 3 Hours",
          "More than 3 Hours",
          "More than 3 Hours",
          "More than 3 Hours",
          "More than 3 Hours",
          "More than 3 Hours",
          "More than 3 Hours",
          "More than 3 Hours",
          "More than 3 Hours",
          "2-3 Hours",
          "0-1 Hour",
          "2-3 Hours",
          "More than 3 Hours",
          "2-3 Hours",
          "0-1 Hour",
          "2-3 Hours",
          "2-3 Hours",
          "More than 3 Hours",
          "2-3 Hours",
          "0-1 Hour",
          "2-3 Hours",
          "2-3 Hours",
          "More than 3 Hours",
          "0-1 Hour",
          "More than 3 Hours",
          "More than 3 Hours",
          "2-3 Hours",
          "More than 3 Hours",
          "More than 3 Hours",
          "More than 3 Hours",
          "0-1 Hour",
          "More than 3 Hours",
          "0-1 Hour",
          "0-1 Hour",
          "More than 3 Hours",
          "More than 3 Hours",
          "0-1 Hour",
          "More than 3 Hours",
          "2-3 Hours",
          "2-3 Hours",
          "2-3 Hours",
          "More than 3 Hours",
          "2-3 Hours",
          "More than 3 Hours",
          "More than 3 Hours",
          "2-3 Hours",
          "0-1 Hour",
          "2-3 Hours",
          "2-3 Hours",
          "2-3 Hours",
          "2-3 Hours",
          "2-3 Hours"
         ]
        },
        {
         "hoverinfo": "skip",
         "marker": {
          "color": {
           "bdata": "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",
           "dtype": "f8"
          },
          "colorscale": [
           [
            0,
            "#0d0887"
           ],
           [
            0.1111111111111111,
            "#46039f"
           ],
           [
            0.2222222222222222,
            "#7201a8"
           ],
           [
            0.3333333333333333,
            "#9c179e"
           ],
           [
            0.4444444444444444,
            "#bd3786"
           ],
           [
            0.5555555555555556,
            "#d8576b"
           ],
           [
            0.6666666666666666,
            "#ed7953"
           ],
           [
            0.7777777777777778,
            "#fb9f3a"
           ],
           [
            0.8888888888888888,
            "#fdca26"
           ],
           [
            1,
            "#f0f921"
           ]
          ],
          "showscale": true,
          "size": {
           "bdata": "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",
           "dtype": "f8"
          }
         },
         "mode": "markers",
         "name": "More than 3 Hours",
         "text": [
          "Attendance: 80%-100%<br>CGPA: 3.72",
          "Attendance: 80%-100%<br>CGPA: 3.75",
          "Attendance: Below 40%<br>CGPA: 1.00",
          "Attendance: 60%-79%<br>CGPA: 1.06",
          "Attendance: 80%-100%<br>CGPA: 1.25",
          "Attendance: Below 40%<br>CGPA: 1.44",
          "Attendance: Below 40%<br>CGPA: 1.50",
          "Attendance: Below 40%<br>CGPA: 1.56",
          "Attendance: Below 40%<br>CGPA: 1.57",
          "Attendance: 60%-79%<br>CGPA: 1.57",
          "Attendance: 60%-79%<br>CGPA: 1.60",
          "Attendance: Below 40%<br>CGPA: 1.62",
          "Attendance: Below 40%<br>CGPA: 1.69",
          "Attendance: 60%-79%<br>CGPA: 1.71",
          "Attendance: 60%-79%<br>CGPA: 1.72",
          "Attendance: 60%-79%<br>CGPA: 1.75",
          "Attendance: 60%-79%<br>CGPA: 1.75",
          "Attendance: 60%-79%<br>CGPA: 1.75",
          "Attendance: 60%-79%<br>CGPA: 1.86",
          "Attendance: 60%-79%<br>CGPA: 1.88",
          "Attendance: 60%-79%<br>CGPA: 1.89",
          "Attendance: Below 40%<br>CGPA: 1.90",
          "Attendance: Below 40%<br>CGPA: 1.90",
          "Attendance: 60%-79%<br>CGPA: 1.92",
          "Attendance: 60%-79%<br>CGPA: 1.97",
          "Attendance: 60%-79%<br>CGPA: 2.00",
          "Attendance: 60%-79%<br>CGPA: 2.02",
          "Attendance: 60%-79%<br>CGPA: 2.10",
          "Attendance: Below 40%<br>CGPA: 2.10",
          "Attendance: 60%-79%<br>CGPA: 2.10",
          "Attendance: 40%-59%<br>CGPA: 2.17",
          "Attendance: 40%-59%<br>CGPA: 2.17",
          "Attendance: 40%-59%<br>CGPA: 2.17",
          "Attendance: 40%-59%<br>CGPA: 2.17",
          "Attendance: 60%-79%<br>CGPA: 2.20",
          "Attendance: 60%-79%<br>CGPA: 2.22",
          "Attendance: 40%-59%<br>CGPA: 2.25",
          "Attendance: 60%-79%<br>CGPA: 2.25",
          "Attendance: 40%-59%<br>CGPA: 2.25",
          "Attendance: 40%-59%<br>CGPA: 2.25",
          "Attendance: 60%-79%<br>CGPA: 2.28",
          "Attendance: 40%-59%<br>CGPA: 2.30",
          "Attendance: 60%-79%<br>CGPA: 2.30",
          "Attendance: 40%-59%<br>CGPA: 2.31",
          "Attendance: 40%-59%<br>CGPA: 2.31",
          "Attendance: 40%-59%<br>CGPA: 2.31",
          "Attendance: 60%-79%<br>CGPA: 2.33",
          "Attendance: 40%-59%<br>CGPA: 2.33",
          "Attendance: 40%-59%<br>CGPA: 2.33",
          "Attendance: 40%-59%<br>CGPA: 2.33",
          "Attendance: 40%-59%<br>CGPA: 2.35",
          "Attendance: 40%-59%<br>CGPA: 2.35",
          "Attendance: 40%-59%<br>CGPA: 2.35",
          "Attendance: 40%-59%<br>CGPA: 2.38",
          "Attendance: 40%-59%<br>CGPA: 2.38",
          "Attendance: 40%-59%<br>CGPA: 2.38",
          "Attendance: 40%-59%<br>CGPA: 2.38",
          "Attendance: 60%-79%<br>CGPA: 2.41",
          "Attendance: 40%-59%<br>CGPA: 2.44",
          "Attendance: 40%-59%<br>CGPA: 2.44",
          "Attendance: 80%-100%<br>CGPA: 2.45",
          "Attendance: 60%-79%<br>CGPA: 2.45",
          "Attendance: 60%-79%<br>CGPA: 2.47",
          "Attendance: 60%-79%<br>CGPA: 2.50",
          "Attendance: 40%-59%<br>CGPA: 2.50",
          "Attendance: 60%-79%<br>CGPA: 2.53",
          "Attendance: 60%-79%<br>CGPA: 2.55",
          "Attendance: 40%-59%<br>CGPA: 2.56",
          "Attendance: 40%-59%<br>CGPA: 2.56",
          "Attendance: 40%-59%<br>CGPA: 2.56",
          "Attendance: 80%-100%<br>CGPA: 2.58",
          "Attendance: 40%-59%<br>CGPA: 2.64",
          "Attendance: 40%-59%<br>CGPA: 2.69",
          "Attendance: 40%-59%<br>CGPA: 2.69",
          "Attendance: 40%-59%<br>CGPA: 2.69",
          "Attendance: 40%-59%<br>CGPA: 2.69",
          "Attendance: 60%-79%<br>CGPA: 2.70",
          "Attendance: 60%-79%<br>CGPA: 2.70",
          "Attendance: 60%-79%<br>CGPA: 2.70",
          "Attendance: 80%-100%<br>CGPA: 2.75",
          "Attendance: 80%-100%<br>CGPA: 2.75",
          "Attendance: 60%-79%<br>CGPA: 2.75",
          "Attendance: 60%-79%<br>CGPA: 2.75",
          "Attendance: 60%-79%<br>CGPA: 2.75",
          "Attendance: 60%-79%<br>CGPA: 2.75",
          "Attendance: 60%-79%<br>CGPA: 2.75",
          "Attendance: 60%-79%<br>CGPA: 2.75",
          "Attendance: 60%-79%<br>CGPA: 2.75",
          "Attendance: 60%-79%<br>CGPA: 2.75",
          "Attendance: 60%-79%<br>CGPA: 2.75",
          "Attendance: 60%-79%<br>CGPA: 2.75",
          "Attendance: 60%-79%<br>CGPA: 2.75",
          "Attendance: 60%-79%<br>CGPA: 2.75",
          "Attendance: 60%-79%<br>CGPA: 2.75",
          "Attendance: 60%-79%<br>CGPA: 2.75",
          "Attendance: 60%-79%<br>CGPA: 2.75",
          "Attendance: 60%-79%<br>CGPA: 2.75",
          "Attendance: 60%-79%<br>CGPA: 2.75",
          "Attendance: 60%-79%<br>CGPA: 2.75",
          "Attendance: 60%-79%<br>CGPA: 2.75",
          "Attendance: 60%-79%<br>CGPA: 2.75",
          "Attendance: 60%-79%<br>CGPA: 2.75",
          "Attendance: 60%-79%<br>CGPA: 2.75",
          "Attendance: 60%-79%<br>CGPA: 2.75",
          "Attendance: 60%-79%<br>CGPA: 2.75",
          "Attendance: 60%-79%<br>CGPA: 2.75",
          "Attendance: 60%-79%<br>CGPA: 2.81",
          "Attendance: 60%-79%<br>CGPA: 2.81",
          "Attendance: 60%-79%<br>CGPA: 2.84",
          "Attendance: 60%-79%<br>CGPA: 2.84",
          "Attendance: 60%-79%<br>CGPA: 2.84",
          "Attendance: 60%-79%<br>CGPA: 2.84",
          "Attendance: 60%-79%<br>CGPA: 2.85",
          "Attendance: 60%-79%<br>CGPA: 2.86",
          "Attendance: 60%-79%<br>CGPA: 2.88",
          "Attendance: 60%-79%<br>CGPA: 2.88",
          "Attendance: 60%-79%<br>CGPA: 2.88",
          "Attendance: 60%-79%<br>CGPA: 2.88",
          "Attendance: 60%-79%<br>CGPA: 2.88",
          "Attendance: 60%-79%<br>CGPA: 2.89",
          "Attendance: 60%-79%<br>CGPA: 2.89",
          "Attendance: 60%-79%<br>CGPA: 2.89",
          "Attendance: 60%-79%<br>CGPA: 2.89",
          "Attendance: 60%-79%<br>CGPA: 2.89",
          "Attendance: 60%-79%<br>CGPA: 2.89",
          "Attendance: 60%-79%<br>CGPA: 2.89",
          "Attendance: 40%-59%<br>CGPA: 2.90",
          "Attendance: 40%-59%<br>CGPA: 2.90",
          "Attendance: 40%-59%<br>CGPA: 2.90",
          "Attendance: 40%-59%<br>CGPA: 2.90",
          "Attendance: 40%-59%<br>CGPA: 2.90",
          "Attendance: 40%-59%<br>CGPA: 2.90",
          "Attendance: 40%-59%<br>CGPA: 2.90",
          "Attendance: 40%-59%<br>CGPA: 2.90",
          "Attendance: 40%-59%<br>CGPA: 2.90",
          "Attendance: 40%-59%<br>CGPA: 2.90",
          "Attendance: 40%-59%<br>CGPA: 2.90",
          "Attendance: 40%-59%<br>CGPA: 2.90",
          "Attendance: 40%-59%<br>CGPA: 2.90",
          "Attendance: 40%-59%<br>CGPA: 2.90",
          "Attendance: 40%-59%<br>CGPA: 2.90",
          "Attendance: 40%-59%<br>CGPA: 2.90",
          "Attendance: 40%-59%<br>CGPA: 2.90",
          "Attendance: 40%-59%<br>CGPA: 2.90",
          "Attendance: 60%-79%<br>CGPA: 2.92",
          "Attendance: 40%-59%<br>CGPA: 2.94",
          "Attendance: 60%-79%<br>CGPA: 2.94",
          "Attendance: 60%-79%<br>CGPA: 2.94",
          "Attendance: 60%-79%<br>CGPA: 2.94",
          "Attendance: 60%-79%<br>CGPA: 2.98",
          "Attendance: 80%-100%<br>CGPA: 3.00",
          "Attendance: 80%-100%<br>CGPA: 3.00",
          "Attendance: 80%-100%<br>CGPA: 3.00",
          "Attendance: 60%-79%<br>CGPA: 3.00",
          "Attendance: 60%-79%<br>CGPA: 3.00",
          "Attendance: 60%-79%<br>CGPA: 3.00",
          "Attendance: 60%-79%<br>CGPA: 3.00",
          "Attendance: 60%-79%<br>CGPA: 3.00",
          "Attendance: 40%-59%<br>CGPA: 3.06",
          "Attendance: 40%-59%<br>CGPA: 3.06",
          "Attendance: 40%-59%<br>CGPA: 3.06",
          "Attendance: 80%-100%<br>CGPA: 3.07",
          "Attendance: 60%-79%<br>CGPA: 3.10",
          "Attendance: 80%-100%<br>CGPA: 3.13",
          "Attendance: 80%-100%<br>CGPA: 3.13",
          "Attendance: 80%-100%<br>CGPA: 3.13",
          "Attendance: 80%-100%<br>CGPA: 3.13",
          "Attendance: 80%-100%<br>CGPA: 3.16",
          "Attendance: 60%-79%<br>CGPA: 3.19",
          "Attendance: 60%-79%<br>CGPA: 3.19",
          "Attendance: 60%-79%<br>CGPA: 3.19",
          "Attendance: 60%-79%<br>CGPA: 3.19",
          "Attendance: 60%-79%<br>CGPA: 3.21",
          "Attendance: 80%-100%<br>CGPA: 3.22",
          "Attendance: 80%-100%<br>CGPA: 3.25",
          "Attendance: 80%-100%<br>CGPA: 3.25",
          "Attendance: 80%-100%<br>CGPA: 3.25",
          "Attendance: 60%-79%<br>CGPA: 3.25",
          "Attendance: 40%-59%<br>CGPA: 3.25",
          "Attendance: 40%-59%<br>CGPA: 3.25",
          "Attendance: 40%-59%<br>CGPA: 3.25",
          "Attendance: 80%-100%<br>CGPA: 3.25",
          "Attendance: 80%-100%<br>CGPA: 3.25",
          "Attendance: 40%-59%<br>CGPA: 3.25",
          "Attendance: 40%-59%<br>CGPA: 3.25",
          "Attendance: 60%-79%<br>CGPA: 3.25",
          "Attendance: 40%-59%<br>CGPA: 3.25",
          "Attendance: 40%-59%<br>CGPA: 3.25",
          "Attendance: 40%-59%<br>CGPA: 3.25",
          "Attendance: 40%-59%<br>CGPA: 3.25",
          "Attendance: 60%-79%<br>CGPA: 3.25",
          "Attendance: 40%-59%<br>CGPA: 3.25",
          "Attendance: 80%-100%<br>CGPA: 3.26",
          "Attendance: 80%-100%<br>CGPA: 3.28",
          "Attendance: 80%-100%<br>CGPA: 3.32",
          "Attendance: 80%-100%<br>CGPA: 3.33",
          "Attendance: 60%-79%<br>CGPA: 3.33",
          "Attendance: 80%-100%<br>CGPA: 3.37",
          "Attendance: 80%-100%<br>CGPA: 3.39",
          "Attendance: 80%-100%<br>CGPA: 3.43",
          "Attendance: 60%-79%<br>CGPA: 3.44",
          "Attendance: 60%-79%<br>CGPA: 3.44",
          "Attendance: 60%-79%<br>CGPA: 3.45",
          "Attendance: 60%-79%<br>CGPA: 3.46",
          "Attendance: 80%-100%<br>CGPA: 3.48",
          "Attendance: 40%-59%<br>CGPA: 3.50",
          "Attendance: 80%-100%<br>CGPA: 3.50",
          "Attendance: 80%-100%<br>CGPA: 3.50",
          "Attendance: 80%-100%<br>CGPA: 3.50",
          "Attendance: 80%-100%<br>CGPA: 3.50",
          "Attendance: 80%-100%<br>CGPA: 3.50",
          "Attendance: 80%-100%<br>CGPA: 3.50",
          "Attendance: 80%-100%<br>CGPA: 3.55",
          "Attendance: 80%-100%<br>CGPA: 3.55",
          "Attendance: 60%-79%<br>CGPA: 3.56",
          "Attendance: 60%-79%<br>CGPA: 3.56",
          "Attendance: 60%-79%<br>CGPA: 3.56",
          "Attendance: 60%-79%<br>CGPA: 3.56",
          "Attendance: 60%-79%<br>CGPA: 3.56",
          "Attendance: 60%-79%<br>CGPA: 3.56",
          "Attendance: 60%-79%<br>CGPA: 3.56",
          "Attendance: 60%-79%<br>CGPA: 3.56",
          "Attendance: 60%-79%<br>CGPA: 3.56",
          "Attendance: 60%-79%<br>CGPA: 3.56",
          "Attendance: 60%-79%<br>CGPA: 3.56",
          "Attendance: 80%-100%<br>CGPA: 3.60",
          "Attendance: 60%-79%<br>CGPA: 3.60",
          "Attendance: 60%-79%<br>CGPA: 3.60",
          "Attendance: 60%-79%<br>CGPA: 3.60",
          "Attendance: 60%-79%<br>CGPA: 3.60",
          "Attendance: 80%-100%<br>CGPA: 3.62",
          "Attendance: 60%-79%<br>CGPA: 3.63",
          "Attendance: 60%-79%<br>CGPA: 3.63",
          "Attendance: 60%-79%<br>CGPA: 3.64",
          "Attendance: 80%-100%<br>CGPA: 3.67",
          "Attendance: 60%-79%<br>CGPA: 3.67",
          "Attendance: 80%-100%<br>CGPA: 3.67",
          "Attendance: 80%-100%<br>CGPA: 3.67",
          "Attendance: 80%-100%<br>CGPA: 3.68",
          "Attendance: 60%-79%<br>CGPA: 3.70",
          "Attendance: 60%-79%<br>CGPA: 3.70",
          "Attendance: 80%-100%<br>CGPA: 3.70",
          "Attendance: 60%-79%<br>CGPA: 3.70",
          "Attendance: 60%-79%<br>CGPA: 3.70",
          "Attendance: 60%-79%<br>CGPA: 3.70",
          "Attendance: 60%-79%<br>CGPA: 3.70",
          "Attendance: 80%-100%<br>CGPA: 3.70",
          "Attendance: 80%-100%<br>CGPA: 3.71",
          "Attendance: 80%-100%<br>CGPA: 3.71",
          "Attendance: 80%-100%<br>CGPA: 3.71",
          "Attendance: 80%-100%<br>CGPA: 3.71",
          "Attendance: 80%-100%<br>CGPA: 3.74",
          "Attendance: 80%-100%<br>CGPA: 3.74",
          "Attendance: 80%-100%<br>CGPA: 3.74",
          "Attendance: 80%-100%<br>CGPA: 3.74",
          "Attendance: 80%-100%<br>CGPA: 3.74",
          "Attendance: 80%-100%<br>CGPA: 3.74",
          "Attendance: 80%-100%<br>CGPA: 3.75",
          "Attendance: 60%-79%<br>CGPA: 3.75",
          "Attendance: 80%-100%<br>CGPA: 3.75",
          "Attendance: 80%-100%<br>CGPA: 3.75",
          "Attendance: 80%-100%<br>CGPA: 3.75",
          "Attendance: 80%-100%<br>CGPA: 3.75",
          "Attendance: 80%-100%<br>CGPA: 3.80",
          "Attendance: 80%-100%<br>CGPA: 3.80",
          "Attendance: 80%-100%<br>CGPA: 3.81",
          "Attendance: 80%-100%<br>CGPA: 3.81",
          "Attendance: 80%-100%<br>CGPA: 3.81",
          "Attendance: 80%-100%<br>CGPA: 3.81",
          "Attendance: 80%-100%<br>CGPA: 3.81",
          "Attendance: 80%-100%<br>CGPA: 3.81",
          "Attendance: 80%-100%<br>CGPA: 3.81",
          "Attendance: 80%-100%<br>CGPA: 3.81",
          "Attendance: 80%-100%<br>CGPA: 3.98",
          "Attendance: 60%-79%<br>CGPA: 4.00",
          "Attendance: 80%-100%<br>CGPA: 4.00",
          "Attendance: 80%-100%<br>CGPA: 4.00",
          "Attendance: 80%-100%<br>CGPA: 4.00",
          "Attendance: 80%-100%<br>CGPA: 4.00",
          "Attendance: 80%-100%<br>CGPA: 4.00",
          "Attendance: 80%-100%<br>CGPA: 4.00",
          "Attendance: 80%-100%<br>CGPA: 4.00",
          "Attendance: 80%-100%<br>CGPA: 4.00",
          "Attendance: 80%-100%<br>CGPA: 4.00",
          "Attendance: 80%-100%<br>CGPA: 4.00",
          "Attendance: 80%-100%<br>CGPA: 3.70",
          "Attendance: 60%-79%<br>CGPA: 3.74",
          "Attendance: 60%-79%<br>CGPA: 3.15",
          "Attendance: 80%-100%<br>CGPA: 3.47",
          "Attendance: 80%-100%<br>CGPA: 3.75",
          "Attendance: 80%-100%<br>CGPA: 3.83",
          "Attendance: 80%-100%<br>CGPA: 3.93",
          "Attendance: 60%-79%<br>CGPA: 2.50",
          "Attendance: 80%-100%<br>CGPA: 3.00",
          "Attendance: 80%-100%<br>CGPA: 3.09",
          "Attendance: 60%-79%<br>CGPA: 3.50",
          "Attendance: 80%-100%<br>CGPA: 3.60",
          "Attendance: 80%-100%<br>CGPA: 3.67",
          "Attendance: 80%-100%<br>CGPA: 3.80",
          "Attendance: 80%-100%<br>CGPA: 2.85",
          "Attendance: 80%-100%<br>CGPA: 3.56",
          "Attendance: 80%-100%<br>CGPA: 3.68"
         ],
         "type": "scatter",
         "visible": false,
         "x": [
          "80%-100%",
          "80%-100%",
          "Below 40%",
          "60%-79%",
          "80%-100%",
          "Below 40%",
          "Below 40%",
          "Below 40%",
          "Below 40%",
          "60%-79%",
          "60%-79%",
          "Below 40%",
          "Below 40%",
          "60%-79%",
          "60%-79%",
          "60%-79%",
          "60%-79%",
          "60%-79%",
          "60%-79%",
          "60%-79%",
          "60%-79%",
          "Below 40%",
          "Below 40%",
          "60%-79%",
          "60%-79%",
          "60%-79%",
          "60%-79%",
          "60%-79%",
          "Below 40%",
          "60%-79%",
          "40%-59%",
          "40%-59%",
          "40%-59%",
          "40%-59%",
          "60%-79%",
          "60%-79%",
          "40%-59%",
          "60%-79%",
          "40%-59%",
          "40%-59%",
          "60%-79%",
          "40%-59%",
          "60%-79%",
          "40%-59%",
          "40%-59%",
          "40%-59%",
          "60%-79%",
          "40%-59%",
          "40%-59%",
          "40%-59%",
          "40%-59%",
          "40%-59%",
          "40%-59%",
          "40%-59%",
          "40%-59%",
          "40%-59%",
          "40%-59%",
          "60%-79%",
          "40%-59%",
          "40%-59%",
          "80%-100%",
          "60%-79%",
          "60%-79%",
          "60%-79%",
          "40%-59%",
          "60%-79%",
          "60%-79%",
          "40%-59%",
          "40%-59%",
          "40%-59%",
          "80%-100%",
          "40%-59%",
          "40%-59%",
          "40%-59%",
          "40%-59%",
          "40%-59%",
          "60%-79%",
          "60%-79%",
          "60%-79%",
          "80%-100%",
          "80%-100%",
          "60%-79%",
          "60%-79%",
          "60%-79%",
          "60%-79%",
          "60%-79%",
          "60%-79%",
          "60%-79%",
          "60%-79%",
          "60%-79%",
          "60%-79%",
          "60%-79%",
          "60%-79%",
          "60%-79%",
          "60%-79%",
          "60%-79%",
          "60%-79%",
          "60%-79%",
          "60%-79%",
          "60%-79%",
          "60%-79%",
          "60%-79%",
          "60%-79%",
          "60%-79%",
          "60%-79%",
          "60%-79%",
          "60%-79%",
          "60%-79%",
          "60%-79%",
          "60%-79%",
          "60%-79%",
          "60%-79%",
          "60%-79%",
          "60%-79%",
          "60%-79%",
          "60%-79%",
          "60%-79%",
          "60%-79%",
          "60%-79%",
          "60%-79%",
          "60%-79%",
          "60%-79%",
          "60%-79%",
          "60%-79%",
          "60%-79%",
          "60%-79%",
          "40%-59%",
          "40%-59%",
          "40%-59%",
          "40%-59%",
          "40%-59%",
          "40%-59%",
          "40%-59%",
          "40%-59%",
          "40%-59%",
          "40%-59%",
          "40%-59%",
          "40%-59%",
          "40%-59%",
          "40%-59%",
          "40%-59%",
          "40%-59%",
          "40%-59%",
          "40%-59%",
          "60%-79%",
          "40%-59%",
          "60%-79%",
          "60%-79%",
          "60%-79%",
          "60%-79%",
          "80%-100%",
          "80%-100%",
          "80%-100%",
          "60%-79%",
          "60%-79%",
          "60%-79%",
          "60%-79%",
          "60%-79%",
          "40%-59%",
          "40%-59%",
          "40%-59%",
          "80%-100%",
          "60%-79%",
          "80%-100%",
          "80%-100%",
          "80%-100%",
          "80%-100%",
          "80%-100%",
          "60%-79%",
          "60%-79%",
          "60%-79%",
          "60%-79%",
          "60%-79%",
          "80%-100%",
          "80%-100%",
          "80%-100%",
          "80%-100%",
          "60%-79%",
          "40%-59%",
          "40%-59%",
          "40%-59%",
          "80%-100%",
          "80%-100%",
          "40%-59%",
          "40%-59%",
          "60%-79%",
          "40%-59%",
          "40%-59%",
          "40%-59%",
          "40%-59%",
          "60%-79%",
          "40%-59%",
          "80%-100%",
          "80%-100%",
          "80%-100%",
          "80%-100%",
          "60%-79%",
          "80%-100%",
          "80%-100%",
          "80%-100%",
          "60%-79%",
          "60%-79%",
          "60%-79%",
          "60%-79%",
          "80%-100%",
          "40%-59%",
          "80%-100%",
          "80%-100%",
          "80%-100%",
          "80%-100%",
          "80%-100%",
          "80%-100%",
          "80%-100%",
          "80%-100%",
          "60%-79%",
          "60%-79%",
          "60%-79%",
          "60%-79%",
          "60%-79%",
          "60%-79%",
          "60%-79%",
          "60%-79%",
          "60%-79%",
          "60%-79%",
          "60%-79%",
          "80%-100%",
          "60%-79%",
          "60%-79%",
          "60%-79%",
          "60%-79%",
          "80%-100%",
          "60%-79%",
          "60%-79%",
          "60%-79%",
          "80%-100%",
          "60%-79%",
          "80%-100%",
          "80%-100%",
          "80%-100%",
          "60%-79%",
          "60%-79%",
          "80%-100%",
          "60%-79%",
          "60%-79%",
          "60%-79%",
          "60%-79%",
          "80%-100%",
          "80%-100%",
          "80%-100%",
          "80%-100%",
          "80%-100%",
          "80%-100%",
          "80%-100%",
          "80%-100%",
          "80%-100%",
          "80%-100%",
          "80%-100%",
          "80%-100%",
          "60%-79%",
          "80%-100%",
          "80%-100%",
          "80%-100%",
          "80%-100%",
          "80%-100%",
          "80%-100%",
          "80%-100%",
          "80%-100%",
          "80%-100%",
          "80%-100%",
          "80%-100%",
          "80%-100%",
          "80%-100%",
          "80%-100%",
          "80%-100%",
          "60%-79%",
          "80%-100%",
          "80%-100%",
          "80%-100%",
          "80%-100%",
          "80%-100%",
          "80%-100%",
          "80%-100%",
          "80%-100%",
          "80%-100%",
          "80%-100%",
          "80%-100%",
          "60%-79%",
          "60%-79%",
          "80%-100%",
          "80%-100%",
          "80%-100%",
          "80%-100%",
          "60%-79%",
          "80%-100%",
          "80%-100%",
          "60%-79%",
          "80%-100%",
          "80%-100%",
          "80%-100%",
          "80%-100%",
          "80%-100%",
          "80%-100%"
         ],
         "y": [
          "More than 3 Hours",
          "More than 3 Hours",
          "More than 3 Hours",
          "More than 3 Hours",
          "More than 3 Hours",
          "More than 3 Hours",
          "More than 3 Hours",
          "More than 3 Hours",
          "More than 3 Hours",
          "More than 3 Hours",
          "More than 3 Hours",
          "More than 3 Hours",
          "More than 3 Hours",
          "More than 3 Hours",
          "More than 3 Hours",
          "More than 3 Hours",
          "More than 3 Hours",
          "More than 3 Hours",
          "More than 3 Hours",
          "More than 3 Hours",
          "More than 3 Hours",
          "More than 3 Hours",
          "More than 3 Hours",
          "More than 3 Hours",
          "More than 3 Hours",
          "More than 3 Hours",
          "More than 3 Hours",
          "More than 3 Hours",
          "More than 3 Hours",
          "More than 3 Hours",
          "More than 3 Hours",
          "More than 3 Hours",
          "More than 3 Hours",
          "More than 3 Hours",
          "More than 3 Hours",
          "More than 3 Hours",
          "More than 3 Hours",
          "More than 3 Hours",
          "More than 3 Hours",
          "More than 3 Hours",
          "More than 3 Hours",
          "More than 3 Hours",
          "More than 3 Hours",
          "More than 3 Hours",
          "More than 3 Hours",
          "More than 3 Hours",
          "More than 3 Hours",
          "More than 3 Hours",
          "More than 3 Hours",
          "More than 3 Hours",
          "More than 3 Hours",
          "More than 3 Hours",
          "More than 3 Hours",
          "More than 3 Hours",
          "More than 3 Hours",
          "More than 3 Hours",
          "More than 3 Hours",
          "More than 3 Hours",
          "More than 3 Hours",
          "More than 3 Hours",
          "More than 3 Hours",
          "More than 3 Hours",
          "More than 3 Hours",
          "More than 3 Hours",
          "More than 3 Hours",
          "More than 3 Hours",
          "More than 3 Hours",
          "More than 3 Hours",
          "More than 3 Hours",
          "More than 3 Hours",
          "More than 3 Hours",
          "More than 3 Hours",
          "More than 3 Hours",
          "More than 3 Hours",
          "More than 3 Hours",
          "More than 3 Hours",
          "More than 3 Hours",
          "More than 3 Hours",
          "More than 3 Hours",
          "More than 3 Hours",
          "More than 3 Hours",
          "More than 3 Hours",
          "More than 3 Hours",
          "More than 3 Hours",
          "More than 3 Hours",
          "More than 3 Hours",
          "More than 3 Hours",
          "More than 3 Hours",
          "More than 3 Hours",
          "More than 3 Hours",
          "More than 3 Hours",
          "More than 3 Hours",
          "More than 3 Hours",
          "More than 3 Hours",
          "More than 3 Hours",
          "More than 3 Hours",
          "More than 3 Hours",
          "More than 3 Hours",
          "More than 3 Hours",
          "More than 3 Hours",
          "More than 3 Hours",
          "More than 3 Hours",
          "More than 3 Hours",
          "More than 3 Hours",
          "More than 3 Hours",
          "More than 3 Hours",
          "More than 3 Hours",
          "More than 3 Hours",
          "More than 3 Hours",
          "More than 3 Hours",
          "More than 3 Hours",
          "More than 3 Hours",
          "More than 3 Hours",
          "More than 3 Hours",
          "More than 3 Hours",
          "More than 3 Hours",
          "More than 3 Hours",
          "More than 3 Hours",
          "More than 3 Hours",
          "More than 3 Hours",
          "More than 3 Hours",
          "More than 3 Hours",
          "More than 3 Hours",
          "More than 3 Hours",
          "More than 3 Hours",
          "More than 3 Hours",
          "More than 3 Hours",
          "More than 3 Hours",
          "More than 3 Hours",
          "More than 3 Hours",
          "More than 3 Hours",
          "More than 3 Hours",
          "More than 3 Hours",
          "More than 3 Hours",
          "More than 3 Hours",
          "More than 3 Hours",
          "More than 3 Hours",
          "More than 3 Hours",
          "More than 3 Hours",
          "More than 3 Hours",
          "More than 3 Hours",
          "More than 3 Hours",
          "More than 3 Hours",
          "More than 3 Hours",
          "More than 3 Hours",
          "More than 3 Hours",
          "More than 3 Hours",
          "More than 3 Hours",
          "More than 3 Hours",
          "More than 3 Hours",
          "More than 3 Hours",
          "More than 3 Hours",
          "More than 3 Hours",
          "More than 3 Hours",
          "More than 3 Hours",
          "More than 3 Hours",
          "More than 3 Hours",
          "More than 3 Hours",
          "More than 3 Hours",
          "More than 3 Hours",
          "More than 3 Hours",
          "More than 3 Hours",
          "More than 3 Hours",
          "More than 3 Hours",
          "More than 3 Hours",
          "More than 3 Hours",
          "More than 3 Hours",
          "More than 3 Hours",
          "More than 3 Hours",
          "More than 3 Hours",
          "More than 3 Hours",
          "More than 3 Hours",
          "More than 3 Hours",
          "More than 3 Hours",
          "More than 3 Hours",
          "More than 3 Hours",
          "More than 3 Hours",
          "More than 3 Hours",
          "More than 3 Hours",
          "More than 3 Hours",
          "More than 3 Hours",
          "More than 3 Hours",
          "More than 3 Hours",
          "More than 3 Hours",
          "More than 3 Hours",
          "More than 3 Hours",
          "More than 3 Hours",
          "More than 3 Hours",
          "More than 3 Hours",
          "More than 3 Hours",
          "More than 3 Hours",
          "More than 3 Hours",
          "More than 3 Hours",
          "More than 3 Hours",
          "More than 3 Hours",
          "More than 3 Hours",
          "More than 3 Hours",
          "More than 3 Hours",
          "More than 3 Hours",
          "More than 3 Hours",
          "More than 3 Hours",
          "More than 3 Hours",
          "More than 3 Hours",
          "More than 3 Hours",
          "More than 3 Hours",
          "More than 3 Hours",
          "More than 3 Hours",
          "More than 3 Hours",
          "More than 3 Hours",
          "More than 3 Hours",
          "More than 3 Hours",
          "More than 3 Hours",
          "More than 3 Hours",
          "More than 3 Hours",
          "More than 3 Hours",
          "More than 3 Hours",
          "More than 3 Hours",
          "More than 3 Hours",
          "More than 3 Hours",
          "More than 3 Hours",
          "More than 3 Hours",
          "More than 3 Hours",
          "More than 3 Hours",
          "More than 3 Hours",
          "More than 3 Hours",
          "More than 3 Hours",
          "More than 3 Hours",
          "More than 3 Hours",
          "More than 3 Hours",
          "More than 3 Hours",
          "More than 3 Hours",
          "More than 3 Hours",
          "More than 3 Hours",
          "More than 3 Hours",
          "More than 3 Hours",
          "More than 3 Hours",
          "More than 3 Hours",
          "More than 3 Hours",
          "More than 3 Hours",
          "More than 3 Hours",
          "More than 3 Hours",
          "More than 3 Hours",
          "More than 3 Hours",
          "More than 3 Hours",
          "More than 3 Hours",
          "More than 3 Hours",
          "More than 3 Hours",
          "More than 3 Hours",
          "More than 3 Hours",
          "More than 3 Hours",
          "More than 3 Hours",
          "More than 3 Hours",
          "More than 3 Hours",
          "More than 3 Hours",
          "More than 3 Hours",
          "More than 3 Hours",
          "More than 3 Hours",
          "More than 3 Hours",
          "More than 3 Hours",
          "More than 3 Hours",
          "More than 3 Hours",
          "More than 3 Hours",
          "More than 3 Hours",
          "More than 3 Hours",
          "More than 3 Hours",
          "More than 3 Hours",
          "More than 3 Hours",
          "More than 3 Hours",
          "More than 3 Hours",
          "More than 3 Hours",
          "More than 3 Hours",
          "More than 3 Hours",
          "More than 3 Hours",
          "More than 3 Hours",
          "More than 3 Hours",
          "More than 3 Hours",
          "More than 3 Hours",
          "More than 3 Hours",
          "More than 3 Hours",
          "More than 3 Hours",
          "More than 3 Hours",
          "More than 3 Hours",
          "More than 3 Hours",
          "More than 3 Hours",
          "More than 3 Hours",
          "More than 3 Hours",
          "More than 3 Hours",
          "More than 3 Hours",
          "More than 3 Hours",
          "More than 3 Hours",
          "More than 3 Hours",
          "More than 3 Hours",
          "More than 3 Hours",
          "More than 3 Hours",
          "More than 3 Hours",
          "More than 3 Hours",
          "More than 3 Hours",
          "More than 3 Hours",
          "More than 3 Hours",
          "More than 3 Hours",
          "More than 3 Hours",
          "More than 3 Hours"
         ]
        },
        {
         "hoverinfo": "skip",
         "marker": {
          "color": {
           "bdata": "hetRuB6FD0BmZmZmZmYEQAAAAAAAAAZAMzMzMzMzB0AAAAAAAAAIQKRwPQrXowhApHA9CtejCECkcD0K16MIQKRwPQrXowhApHA9CtejCECkcD0K16MIQKRwPQrXowhApHA9CtejCECkcD0K16MIQKRwPQrXowhApHA9CtejCECkcD0K16MIQLgehetRuAhAzczMzMzMCEAzMzMzMzMJQDMzMzMzMwlAMzMzMzMzCUAzMzMzMzMJQDMzMzMzMwlAMzMzMzMzCUAzMzMzMzMJQAAAAAAAAApAAAAAAAAACkAAAAAAAAAKQAAAAAAAAApAAAAAAAAACkAAAAAAAAAKQAAAAAAAAApAAAAAAAAACkAAAAAAAAAKQAAAAAAAAApAAAAAAAAACkAAAAAAAAAKQClcj8L1KApAKVyPwvUoCkApXI/C9SgKQClcj8L1KApAKVyPwvUoCkApXI/C9SgKQClcj8L1KApAZmZmZmZmCkBmZmZmZmYKQHsUrkfhegpAexSuR+F6CkB7FK5H4XoKQHsUrkfhegpAj8L1KFyPCkCkcD0K16MKQKRwPQrXowpApHA9CtejCkCkcD0K16MKQKRwPQrXowpApHA9CtejCkCkcD0K16MKQKRwPQrXowpApHA9CtejCkCkcD0K16MKQM3MzMzMzApACtejcD0KC0AK16NwPQoLQArXo3A9CgtACtejcD0KC0AK16NwPQoLQArXo3A9CgtACtejcD0KC0AK16NwPQoLQIXrUbgehQtAhetRuB6FC0CF61G4HoULQIXrUbgehQtAAAAAAAAADEAAAAAAAAAMQAAAAAAAAAxAAAAAAAAADEAAAAAAAAAMQAAAAAAAAAxAAAAAAAAADEAAAAAAAAAMQAAAAAAAAAxAAAAAAAAADEAAAAAAAAAMQAAAAAAAAAxA4XoUrkfhDEAfhetRuB4NQFyPwvUoXA1AXI/C9ShcDUBcj8L1KFwNQFyPwvUoXA1AXI/C9ShcDUBcj8L1KFwNQIXrUbgehQ1AhetRuB6FDUCamZmZmZkNQJqZmZmZmQ1AmpmZmZmZDUCamZmZmZkNQOxRuB6F6w1A7FG4HoXrDUDsUbgehesNQOxRuB6F6w1AAAAAAAAADkAAAAAAAAAOQAAAAAAAAA5AAAAAAAAADkAAAAAAAAAOQAAAAAAAAA5AAAAAAAAADkAAAAAAAAAOQAAAAAAAAA5AFK5H4XoUDkA9CtejcD0OQGZmZmZmZg5ACtejcD0KD0AfhetRuB4PQEjhehSuRw9ArkfhehSuD0AAAAAAAAAQQAAAAAAAAA5Aw/UoXI/CB0CPwvUoXI8KQJqZmZmZmQtAw/UoXI/CC0B7FK5H4XoMQHE9CtejcA1A7FG4HoXrDUAAAAAAAAACQAAAAAAAABBAhetRuB6FDUBSuB6F61EOQHsUrkfhegpACtejcD0KD0DNzMzMzMwIQFyPwvUoXA1AexSuR+F6DEAAAAAAAAAOQOF6FK5H4Q5A",
           "dtype": "f8"
          },
          "colorscale": [
           [
            0,
            "#0d0887"
           ],
           [
            0.1111111111111111,
            "#46039f"
           ],
           [
            0.2222222222222222,
            "#7201a8"
           ],
           [
            0.3333333333333333,
            "#9c179e"
           ],
           [
            0.4444444444444444,
            "#bd3786"
           ],
           [
            0.5555555555555556,
            "#d8576b"
           ],
           [
            0.6666666666666666,
            "#ed7953"
           ],
           [
            0.7777777777777778,
            "#fb9f3a"
           ],
           [
            0.8888888888888888,
            "#fdca26"
           ],
           [
            1,
            "#f0f921"
           ]
          ],
          "showscale": true,
          "size": {
           "bdata": "zczMzMyMTUAAAAAAACBDQAAAAAAAoERAAAAAAADARUAAAAAAAIBGQJqZmZmZGUdAmpmZmZkZR0CamZmZmRlHQJqZmZmZGUdAmpmZmZkZR0CamZmZmRlHQJqZmZmZGUdAmpmZmZkZR0CamZmZmRlHQJqZmZmZGUdAmpmZmZkZR0CamZmZmRlHQMzMzMzMLEdAAAAAAABAR0AAAAAAAKBHQAAAAAAAoEdAAAAAAACgR0AAAAAAAKBHQAAAAAAAoEdAAAAAAACgR0AAAAAAAKBHQAAAAAAAYEhAAAAAAABgSEAAAAAAAGBIQAAAAAAAYEhAAAAAAABgSEAAAAAAAGBIQAAAAAAAYEhAAAAAAABgSEAAAAAAAGBIQAAAAAAAYEhAAAAAAABgSEAAAAAAAGBIQGZmZmZmhkhAZmZmZmaGSEBmZmZmZoZIQGZmZmZmhkhAZmZmZmaGSEBmZmZmZoZIQGZmZmZmhkhAAAAAAADASEAAAAAAAMBIQDMzMzMz00hAMzMzMzPTSEAzMzMzM9NIQDMzMzMz00hAZmZmZmbmSECamZmZmflIQJqZmZmZ+UhAmpmZmZn5SECamZmZmflIQJqZmZmZ+UhAmpmZmZn5SECamZmZmflIQJqZmZmZ+UhAmpmZmZn5SECamZmZmflIQAAAAAAAIElAmZmZmZlZSUCZmZmZmVlJQJmZmZmZWUlAmZmZmZlZSUCZmZmZmVlJQJmZmZmZWUlAmZmZmZlZSUCZmZmZmVlJQM3MzMzMzElAzczMzMzMSUDNzMzMzMxJQM3MzMzMzElAAAAAAABASkAAAAAAAEBKQAAAAAAAQEpAAAAAAABASkAAAAAAAEBKQAAAAAAAQEpAAAAAAABASkAAAAAAAEBKQAAAAAAAQEpAAAAAAABASkAAAAAAAEBKQAAAAAAAQEpAMzMzMzMTS0DNzMzMzExLQGZmZmZmhktAZmZmZmaGS0BmZmZmZoZLQGZmZmZmhktAZmZmZmaGS0BmZmZmZoZLQM3MzMzMrEtAzczMzMysS0AAAAAAAMBLQAAAAAAAwEtAAAAAAADAS0AAAAAAAMBLQM3MzMzMDExAzczMzMwMTEDNzMzMzAxMQM3MzMzMDExAAAAAAAAgTEAAAAAAACBMQAAAAAAAIExAAAAAAAAgTEAAAAAAACBMQAAAAAAAIExAAAAAAAAgTEAAAAAAACBMQAAAAAAAIExAMzMzMzMzTECZmZmZmVlMQAAAAAAAgExAmZmZmZkZTUDNzMzMzCxNQDQzMzMzU01AMzMzMzOzTUAAAAAAAABOQAAAAAAAIExAZ2ZmZmZGRkBmZmZmZuZIQAAAAAAA4ElAZ2ZmZmYGSkAzMzMzM7NKQJqZmZmZmUtAzczMzMwMTEAAAAAAAOBAQAAAAAAAAE5AzczMzMysS0DNzMzMzGxMQDMzMzMz00hAmZmZmZkZTUAAAAAAAEBHQGZmZmZmhktAMzMzMzOzSkAAAAAAACBMQDMzMzMz80xA",
           "dtype": "f8"
          }
         },
         "mode": "markers",
         "name": "2-3 Hours",
         "text": [
          "Attendance: 80%-100%<br>CGPA: 3.94",
          "Attendance: 80%-100%<br>CGPA: 2.55",
          "Attendance: 80%-100%<br>CGPA: 2.75",
          "Attendance: 60%-79%<br>CGPA: 2.90",
          "Attendance: 80%-100%<br>CGPA: 3.00",
          "Attendance: 80%-100%<br>CGPA: 3.08",
          "Attendance: 60%-79%<br>CGPA: 3.08",
          "Attendance: 60%-79%<br>CGPA: 3.08",
          "Attendance: 60%-79%<br>CGPA: 3.08",
          "Attendance: 60%-79%<br>CGPA: 3.08",
          "Attendance: 60%-79%<br>CGPA: 3.08",
          "Attendance: 60%-79%<br>CGPA: 3.08",
          "Attendance: 60%-79%<br>CGPA: 3.08",
          "Attendance: 60%-79%<br>CGPA: 3.08",
          "Attendance: 60%-79%<br>CGPA: 3.08",
          "Attendance: 60%-79%<br>CGPA: 3.08",
          "Attendance: 60%-79%<br>CGPA: 3.08",
          "Attendance: 80%-100%<br>CGPA: 3.09",
          "Attendance: 80%-100%<br>CGPA: 3.10",
          "Attendance: 60%-79%<br>CGPA: 3.15",
          "Attendance: 60%-79%<br>CGPA: 3.15",
          "Attendance: 60%-79%<br>CGPA: 3.15",
          "Attendance: 60%-79%<br>CGPA: 3.15",
          "Attendance: 60%-79%<br>CGPA: 3.15",
          "Attendance: 60%-79%<br>CGPA: 3.15",
          "Attendance: 60%-79%<br>CGPA: 3.15",
          "Attendance: 60%-79%<br>CGPA: 3.25",
          "Attendance: 60%-79%<br>CGPA: 3.25",
          "Attendance: 60%-79%<br>CGPA: 3.25",
          "Attendance: 60%-79%<br>CGPA: 3.25",
          "Attendance: 60%-79%<br>CGPA: 3.25",
          "Attendance: 60%-79%<br>CGPA: 3.25",
          "Attendance: 60%-79%<br>CGPA: 3.25",
          "Attendance: 60%-79%<br>CGPA: 3.25",
          "Attendance: 60%-79%<br>CGPA: 3.25",
          "Attendance: 60%-79%<br>CGPA: 3.25",
          "Attendance: 60%-79%<br>CGPA: 3.25",
          "Attendance: 60%-79%<br>CGPA: 3.25",
          "Attendance: 80%-100%<br>CGPA: 3.27",
          "Attendance: 60%-79%<br>CGPA: 3.27",
          "Attendance: 60%-79%<br>CGPA: 3.27",
          "Attendance: 60%-79%<br>CGPA: 3.27",
          "Attendance: 60%-79%<br>CGPA: 3.27",
          "Attendance: 60%-79%<br>CGPA: 3.27",
          "Attendance: 60%-79%<br>CGPA: 3.27",
          "Attendance: 60%-79%<br>CGPA: 3.30",
          "Attendance: 60%-79%<br>CGPA: 3.30",
          "Attendance: 60%-79%<br>CGPA: 3.31",
          "Attendance: 60%-79%<br>CGPA: 3.31",
          "Attendance: 60%-79%<br>CGPA: 3.31",
          "Attendance: 60%-79%<br>CGPA: 3.31",
          "Attendance: 60%-79%<br>CGPA: 3.32",
          "Attendance: 80%-100%<br>CGPA: 3.33",
          "Attendance: 60%-79%<br>CGPA: 3.33",
          "Attendance: 60%-79%<br>CGPA: 3.33",
          "Attendance: 60%-79%<br>CGPA: 3.33",
          "Attendance: 60%-79%<br>CGPA: 3.33",
          "Attendance: 60%-79%<br>CGPA: 3.33",
          "Attendance: 60%-79%<br>CGPA: 3.33",
          "Attendance: 60%-79%<br>CGPA: 3.33",
          "Attendance: 60%-79%<br>CGPA: 3.33",
          "Attendance: 60%-79%<br>CGPA: 3.33",
          "Attendance: 60%-79%<br>CGPA: 3.35",
          "Attendance: 60%-79%<br>CGPA: 3.38",
          "Attendance: 60%-79%<br>CGPA: 3.38",
          "Attendance: 60%-79%<br>CGPA: 3.38",
          "Attendance: 60%-79%<br>CGPA: 3.38",
          "Attendance: 60%-79%<br>CGPA: 3.38",
          "Attendance: 60%-79%<br>CGPA: 3.38",
          "Attendance: 60%-79%<br>CGPA: 3.38",
          "Attendance: 60%-79%<br>CGPA: 3.38",
          "Attendance: 80%-100%<br>CGPA: 3.44",
          "Attendance: 60%-79%<br>CGPA: 3.44",
          "Attendance: 60%-79%<br>CGPA: 3.44",
          "Attendance: 60%-79%<br>CGPA: 3.44",
          "Attendance: 80%-100%<br>CGPA: 3.50",
          "Attendance: 80%-100%<br>CGPA: 3.50",
          "Attendance: 80%-100%<br>CGPA: 3.50",
          "Attendance: 80%-100%<br>CGPA: 3.50",
          "Attendance: 80%-100%<br>CGPA: 3.50",
          "Attendance: 60%-79%<br>CGPA: 3.50",
          "Attendance: 60%-79%<br>CGPA: 3.50",
          "Attendance: 60%-79%<br>CGPA: 3.50",
          "Attendance: 60%-79%<br>CGPA: 3.50",
          "Attendance: 60%-79%<br>CGPA: 3.50",
          "Attendance: 60%-79%<br>CGPA: 3.50",
          "Attendance: 60%-79%<br>CGPA: 3.50",
          "Attendance: 80%-100%<br>CGPA: 3.61",
          "Attendance: 80%-100%<br>CGPA: 3.64",
          "Attendance: 60%-79%<br>CGPA: 3.67",
          "Attendance: 60%-79%<br>CGPA: 3.67",
          "Attendance: 60%-79%<br>CGPA: 3.67",
          "Attendance: 60%-79%<br>CGPA: 3.67",
          "Attendance: 60%-79%<br>CGPA: 3.67",
          "Attendance: 60%-79%<br>CGPA: 3.67",
          "Attendance: 80%-100%<br>CGPA: 3.69",
          "Attendance: 80%-100%<br>CGPA: 3.69",
          "Attendance: 80%-100%<br>CGPA: 3.70",
          "Attendance: 80%-100%<br>CGPA: 3.70",
          "Attendance: 80%-100%<br>CGPA: 3.70",
          "Attendance: 80%-100%<br>CGPA: 3.70",
          "Attendance: 80%-100%<br>CGPA: 3.74",
          "Attendance: 80%-100%<br>CGPA: 3.74",
          "Attendance: 80%-100%<br>CGPA: 3.74",
          "Attendance: 80%-100%<br>CGPA: 3.74",
          "Attendance: 80%-100%<br>CGPA: 3.75",
          "Attendance: 80%-100%<br>CGPA: 3.75",
          "Attendance: 80%-100%<br>CGPA: 3.75",
          "Attendance: 80%-100%<br>CGPA: 3.75",
          "Attendance: 80%-100%<br>CGPA: 3.75",
          "Attendance: 80%-100%<br>CGPA: 3.75",
          "Attendance: 80%-100%<br>CGPA: 3.75",
          "Attendance: 80%-100%<br>CGPA: 3.75",
          "Attendance: 80%-100%<br>CGPA: 3.75",
          "Attendance: 80%-100%<br>CGPA: 3.76",
          "Attendance: 80%-100%<br>CGPA: 3.78",
          "Attendance: 80%-100%<br>CGPA: 3.80",
          "Attendance: 80%-100%<br>CGPA: 3.88",
          "Attendance: 80%-100%<br>CGPA: 3.89",
          "Attendance: 80%-100%<br>CGPA: 3.91",
          "Attendance: 80%-100%<br>CGPA: 3.96",
          "Attendance: 80%-100%<br>CGPA: 4.00",
          "Attendance: 80%-100%<br>CGPA: 3.75",
          "Attendance: 80%-100%<br>CGPA: 2.97",
          "Attendance: 80%-100%<br>CGPA: 3.32",
          "Attendance: 60%-79%<br>CGPA: 3.45",
          "Attendance: 80%-100%<br>CGPA: 3.47",
          "Attendance: 80%-100%<br>CGPA: 3.56",
          "Attendance: 80%-100%<br>CGPA: 3.68",
          "Attendance: 80%-100%<br>CGPA: 3.74",
          "Attendance: 40%-59%<br>CGPA: 2.25",
          "Attendance: 80%-100%<br>CGPA: 4.00",
          "Attendance: 80%-100%<br>CGPA: 3.69",
          "Attendance: 60%-79%<br>CGPA: 3.79",
          "Attendance: Below 40%<br>CGPA: 3.31",
          "Attendance: 80%-100%<br>CGPA: 3.88",
          "Attendance: 40%-59%<br>CGPA: 3.10",
          "Attendance: 60%-79%<br>CGPA: 3.67",
          "Attendance: 40%-59%<br>CGPA: 3.56",
          "Attendance: 80%-100%<br>CGPA: 3.75",
          "Attendance: 80%-100%<br>CGPA: 3.86"
         ],
         "type": "scatter",
         "visible": false,
         "x": [
          "80%-100%",
          "80%-100%",
          "80%-100%",
          "60%-79%",
          "80%-100%",
          "80%-100%",
          "60%-79%",
          "60%-79%",
          "60%-79%",
          "60%-79%",
          "60%-79%",
          "60%-79%",
          "60%-79%",
          "60%-79%",
          "60%-79%",
          "60%-79%",
          "60%-79%",
          "80%-100%",
          "80%-100%",
          "60%-79%",
          "60%-79%",
          "60%-79%",
          "60%-79%",
          "60%-79%",
          "60%-79%",
          "60%-79%",
          "60%-79%",
          "60%-79%",
          "60%-79%",
          "60%-79%",
          "60%-79%",
          "60%-79%",
          "60%-79%",
          "60%-79%",
          "60%-79%",
          "60%-79%",
          "60%-79%",
          "60%-79%",
          "80%-100%",
          "60%-79%",
          "60%-79%",
          "60%-79%",
          "60%-79%",
          "60%-79%",
          "60%-79%",
          "60%-79%",
          "60%-79%",
          "60%-79%",
          "60%-79%",
          "60%-79%",
          "60%-79%",
          "60%-79%",
          "80%-100%",
          "60%-79%",
          "60%-79%",
          "60%-79%",
          "60%-79%",
          "60%-79%",
          "60%-79%",
          "60%-79%",
          "60%-79%",
          "60%-79%",
          "60%-79%",
          "60%-79%",
          "60%-79%",
          "60%-79%",
          "60%-79%",
          "60%-79%",
          "60%-79%",
          "60%-79%",
          "60%-79%",
          "80%-100%",
          "60%-79%",
          "60%-79%",
          "60%-79%",
          "80%-100%",
          "80%-100%",
          "80%-100%",
          "80%-100%",
          "80%-100%",
          "60%-79%",
          "60%-79%",
          "60%-79%",
          "60%-79%",
          "60%-79%",
          "60%-79%",
          "60%-79%",
          "80%-100%",
          "80%-100%",
          "60%-79%",
          "60%-79%",
          "60%-79%",
          "60%-79%",
          "60%-79%",
          "60%-79%",
          "80%-100%",
          "80%-100%",
          "80%-100%",
          "80%-100%",
          "80%-100%",
          "80%-100%",
          "80%-100%",
          "80%-100%",
          "80%-100%",
          "80%-100%",
          "80%-100%",
          "80%-100%",
          "80%-100%",
          "80%-100%",
          "80%-100%",
          "80%-100%",
          "80%-100%",
          "80%-100%",
          "80%-100%",
          "80%-100%",
          "80%-100%",
          "80%-100%",
          "80%-100%",
          "80%-100%",
          "80%-100%",
          "80%-100%",
          "80%-100%",
          "80%-100%",
          "80%-100%",
          "80%-100%",
          "60%-79%",
          "80%-100%",
          "80%-100%",
          "80%-100%",
          "80%-100%",
          "40%-59%",
          "80%-100%",
          "80%-100%",
          "60%-79%",
          "Below 40%",
          "80%-100%",
          "40%-59%",
          "60%-79%",
          "40%-59%",
          "80%-100%",
          "80%-100%"
         ],
         "y": [
          "2-3 Hours",
          "2-3 Hours",
          "2-3 Hours",
          "2-3 Hours",
          "2-3 Hours",
          "2-3 Hours",
          "2-3 Hours",
          "2-3 Hours",
          "2-3 Hours",
          "2-3 Hours",
          "2-3 Hours",
          "2-3 Hours",
          "2-3 Hours",
          "2-3 Hours",
          "2-3 Hours",
          "2-3 Hours",
          "2-3 Hours",
          "2-3 Hours",
          "2-3 Hours",
          "2-3 Hours",
          "2-3 Hours",
          "2-3 Hours",
          "2-3 Hours",
          "2-3 Hours",
          "2-3 Hours",
          "2-3 Hours",
          "2-3 Hours",
          "2-3 Hours",
          "2-3 Hours",
          "2-3 Hours",
          "2-3 Hours",
          "2-3 Hours",
          "2-3 Hours",
          "2-3 Hours",
          "2-3 Hours",
          "2-3 Hours",
          "2-3 Hours",
          "2-3 Hours",
          "2-3 Hours",
          "2-3 Hours",
          "2-3 Hours",
          "2-3 Hours",
          "2-3 Hours",
          "2-3 Hours",
          "2-3 Hours",
          "2-3 Hours",
          "2-3 Hours",
          "2-3 Hours",
          "2-3 Hours",
          "2-3 Hours",
          "2-3 Hours",
          "2-3 Hours",
          "2-3 Hours",
          "2-3 Hours",
          "2-3 Hours",
          "2-3 Hours",
          "2-3 Hours",
          "2-3 Hours",
          "2-3 Hours",
          "2-3 Hours",
          "2-3 Hours",
          "2-3 Hours",
          "2-3 Hours",
          "2-3 Hours",
          "2-3 Hours",
          "2-3 Hours",
          "2-3 Hours",
          "2-3 Hours",
          "2-3 Hours",
          "2-3 Hours",
          "2-3 Hours",
          "2-3 Hours",
          "2-3 Hours",
          "2-3 Hours",
          "2-3 Hours",
          "2-3 Hours",
          "2-3 Hours",
          "2-3 Hours",
          "2-3 Hours",
          "2-3 Hours",
          "2-3 Hours",
          "2-3 Hours",
          "2-3 Hours",
          "2-3 Hours",
          "2-3 Hours",
          "2-3 Hours",
          "2-3 Hours",
          "2-3 Hours",
          "2-3 Hours",
          "2-3 Hours",
          "2-3 Hours",
          "2-3 Hours",
          "2-3 Hours",
          "2-3 Hours",
          "2-3 Hours",
          "2-3 Hours",
          "2-3 Hours",
          "2-3 Hours",
          "2-3 Hours",
          "2-3 Hours",
          "2-3 Hours",
          "2-3 Hours",
          "2-3 Hours",
          "2-3 Hours",
          "2-3 Hours",
          "2-3 Hours",
          "2-3 Hours",
          "2-3 Hours",
          "2-3 Hours",
          "2-3 Hours",
          "2-3 Hours",
          "2-3 Hours",
          "2-3 Hours",
          "2-3 Hours",
          "2-3 Hours",
          "2-3 Hours",
          "2-3 Hours",
          "2-3 Hours",
          "2-3 Hours",
          "2-3 Hours",
          "2-3 Hours",
          "2-3 Hours",
          "2-3 Hours",
          "2-3 Hours",
          "2-3 Hours",
          "2-3 Hours",
          "2-3 Hours",
          "2-3 Hours",
          "2-3 Hours",
          "2-3 Hours",
          "2-3 Hours",
          "2-3 Hours",
          "2-3 Hours",
          "2-3 Hours",
          "2-3 Hours",
          "2-3 Hours",
          "2-3 Hours",
          "2-3 Hours",
          "2-3 Hours",
          "2-3 Hours",
          "2-3 Hours"
         ]
        },
        {
         "hoverinfo": "skip",
         "marker": {
          "color": {
           "bdata": "zczMzMzMCkAj2/l+arwLQM3MzMzMzPw/AAAAAAAAAEAAAAAAAAAEQFK4HoXrUQZAAAAAAAAACEDhehSuR+EIQB+F61G4HgtAAAAAAAAADEAAAAAAAAAMQFK4HoXrUQxAMzMzMzMzDUAzMzMzMzMNQD0K16NwPQ5APQrXo3A9DkBmZmZmZmYOQGZmZmZmZg5AuB6F61G4DkD2KFyPwvUOQArXo3A9Cg9ACtejcD0KD0AK16NwPQoPQArXo3A9Cg9ACtejcD0KD0AK16NwPQoPQHE9CtejcA9AhetRuB6FD0CF61G4HoUPQIXrUbgehQ9AhetRuB6FD0CF61G4HoUPQIXrUbgehQ9AhetRuB6FD0CF61G4HoUPQIXrUbgehQ9AhetRuB6FD0CF61G4HoUPQIXrUbgehQ9AhetRuB6FD0CamZmZmZkPQAAAAAAAABBApHA9CtejCkDNzMzMzMwMQGZmZmZmZg5AXI/C9ShcCUAAAAAAAAAMQAAAAAAAAAxAPQrXo3A9DkCF61G4HoUPQA==",
           "dtype": "f8"
          },
          "colorscale": [
           [
            0,
            "#0d0887"
           ],
           [
            0.1111111111111111,
            "#46039f"
           ],
           [
            0.2222222222222222,
            "#7201a8"
           ],
           [
            0.3333333333333333,
            "#9c179e"
           ],
           [
            0.4444444444444444,
            "#bd3786"
           ],
           [
            0.5555555555555556,
            "#d8576b"
           ],
           [
            0.6666666666666666,
            "#ed7953"
           ],
           [
            0.7777777777777778,
            "#fb9f3a"
           ],
           [
            0.8888888888888888,
            "#fdca26"
           ],
           [
            1,
            "#f0f921"
           ]
          ],
          "showscale": true,
          "size": {
           "bdata": "AAAAAAAgSUBxPQrXowBKQAAAAAAAADtAAAAAAAAAPkAAAAAAAMBCQM3MzMzM7ERAAAAAAACARkAzMzMzM1NHQM3MzMzMbElAAAAAAABASkAAAAAAAEBKQM3MzMzMjEpAAAAAAABgS0AAAAAAAGBLQJmZmZmZWUxAmZmZmZlZTEAAAAAAAIBMQAAAAAAAgExAzMzMzMzMTEBnZmZmZgZNQJmZmZmZGU1AmZmZmZkZTUCZmZmZmRlNQJmZmZmZGU1AmZmZmZkZTUCZmZmZmRlNQJqZmZmZeU1AzczMzMyMTUDNzMzMzIxNQM3MzMzMjE1AzczMzMyMTUDNzMzMzIxNQM3MzMzMjE1AzczMzMyMTUDNzMzMzIxNQM3MzMzMjE1AzczMzMyMTUDNzMzMzIxNQM3MzMzMjE1AzczMzMyMTUAAAAAAAKBNQAAAAAAAAE5AmpmZmZn5SEAAAAAAAABLQAAAAAAAgExAZmZmZmbGR0AAAAAAAEBKQAAAAAAAQEpAmZmZmZlZTEDNzMzMzIxNQA==",
           "dtype": "f8"
          }
         },
         "mode": "markers",
         "name": "0-1 Hour",
         "text": [
          "Attendance: 80%-100%<br>CGPA: 3.35",
          "Attendance: 80%-100%<br>CGPA: 3.47",
          "Attendance: 80%-100%<br>CGPA: 1.80",
          "Attendance: 60%-79%<br>CGPA: 2.00",
          "Attendance: 80%-100%<br>CGPA: 2.50",
          "Attendance: 60%-79%<br>CGPA: 2.79",
          "Attendance: 60%-79%<br>CGPA: 3.00",
          "Attendance: 80%-100%<br>CGPA: 3.11",
          "Attendance: 80%-100%<br>CGPA: 3.39",
          "Attendance: 80%-100%<br>CGPA: 3.50",
          "Attendance: 80%-100%<br>CGPA: 3.50",
          "Attendance: 80%-100%<br>CGPA: 3.54",
          "Attendance: 80%-100%<br>CGPA: 3.65",
          "Attendance: 80%-100%<br>CGPA: 3.65",
          "Attendance: 80%-100%<br>CGPA: 3.78",
          "Attendance: 80%-100%<br>CGPA: 3.78",
          "Attendance: 80%-100%<br>CGPA: 3.80",
          "Attendance: 80%-100%<br>CGPA: 3.80",
          "Attendance: 80%-100%<br>CGPA: 3.84",
          "Attendance: 80%-100%<br>CGPA: 3.87",
          "Attendance: 80%-100%<br>CGPA: 3.88",
          "Attendance: 80%-100%<br>CGPA: 3.88",
          "Attendance: 80%-100%<br>CGPA: 3.88",
          "Attendance: 80%-100%<br>CGPA: 3.88",
          "Attendance: 80%-100%<br>CGPA: 3.88",
          "Attendance: 80%-100%<br>CGPA: 3.88",
          "Attendance: 80%-100%<br>CGPA: 3.93",
          "Attendance: 80%-100%<br>CGPA: 3.94",
          "Attendance: 80%-100%<br>CGPA: 3.94",
          "Attendance: 80%-100%<br>CGPA: 3.94",
          "Attendance: 80%-100%<br>CGPA: 3.94",
          "Attendance: 80%-100%<br>CGPA: 3.94",
          "Attendance: 80%-100%<br>CGPA: 3.94",
          "Attendance: 80%-100%<br>CGPA: 3.94",
          "Attendance: 80%-100%<br>CGPA: 3.94",
          "Attendance: 80%-100%<br>CGPA: 3.94",
          "Attendance: 80%-100%<br>CGPA: 3.94",
          "Attendance: 80%-100%<br>CGPA: 3.94",
          "Attendance: 80%-100%<br>CGPA: 3.94",
          "Attendance: 80%-100%<br>CGPA: 3.94",
          "Attendance: 80%-100%<br>CGPA: 3.95",
          "Attendance: 80%-100%<br>CGPA: 4.00",
          "Attendance: 60%-79%<br>CGPA: 3.33",
          "Attendance: 80%-100%<br>CGPA: 3.60",
          "Attendance: 80%-100%<br>CGPA: 3.80",
          "Attendance: 80%-100%<br>CGPA: 3.17",
          "Attendance: 80%-100%<br>CGPA: 3.50",
          "Attendance: 80%-100%<br>CGPA: 3.50",
          "Attendance: 80%-100%<br>CGPA: 3.78",
          "Attendance: 80%-100%<br>CGPA: 3.94"
         ],
         "type": "scatter",
         "visible": false,
         "x": [
          "80%-100%",
          "80%-100%",
          "80%-100%",
          "60%-79%",
          "80%-100%",
          "60%-79%",
          "60%-79%",
          "80%-100%",
          "80%-100%",
          "80%-100%",
          "80%-100%",
          "80%-100%",
          "80%-100%",
          "80%-100%",
          "80%-100%",
          "80%-100%",
          "80%-100%",
          "80%-100%",
          "80%-100%",
          "80%-100%",
          "80%-100%",
          "80%-100%",
          "80%-100%",
          "80%-100%",
          "80%-100%",
          "80%-100%",
          "80%-100%",
          "80%-100%",
          "80%-100%",
          "80%-100%",
          "80%-100%",
          "80%-100%",
          "80%-100%",
          "80%-100%",
          "80%-100%",
          "80%-100%",
          "80%-100%",
          "80%-100%",
          "80%-100%",
          "80%-100%",
          "80%-100%",
          "80%-100%",
          "60%-79%",
          "80%-100%",
          "80%-100%",
          "80%-100%",
          "80%-100%",
          "80%-100%",
          "80%-100%",
          "80%-100%"
         ],
         "y": [
          "0-1 Hour",
          "0-1 Hour",
          "0-1 Hour",
          "0-1 Hour",
          "0-1 Hour",
          "0-1 Hour",
          "0-1 Hour",
          "0-1 Hour",
          "0-1 Hour",
          "0-1 Hour",
          "0-1 Hour",
          "0-1 Hour",
          "0-1 Hour",
          "0-1 Hour",
          "0-1 Hour",
          "0-1 Hour",
          "0-1 Hour",
          "0-1 Hour",
          "0-1 Hour",
          "0-1 Hour",
          "0-1 Hour",
          "0-1 Hour",
          "0-1 Hour",
          "0-1 Hour",
          "0-1 Hour",
          "0-1 Hour",
          "0-1 Hour",
          "0-1 Hour",
          "0-1 Hour",
          "0-1 Hour",
          "0-1 Hour",
          "0-1 Hour",
          "0-1 Hour",
          "0-1 Hour",
          "0-1 Hour",
          "0-1 Hour",
          "0-1 Hour",
          "0-1 Hour",
          "0-1 Hour",
          "0-1 Hour",
          "0-1 Hour",
          "0-1 Hour",
          "0-1 Hour",
          "0-1 Hour",
          "0-1 Hour",
          "0-1 Hour",
          "0-1 Hour",
          "0-1 Hour",
          "0-1 Hour",
          "0-1 Hour"
         ]
        }
       ],
       "layout": {
        "autosize": true,
        "margin": {
         "t": 100
        },
        "template": {
         "data": {
          "bar": [
           {
            "error_x": {
             "color": "#2a3f5f"
            },
            "error_y": {
             "color": "#2a3f5f"
            },
            "marker": {
             "line": {
              "color": "#E5ECF6",
              "width": 0
             },
             "pattern": {
              "fillmode": "overlay",
              "size": 10,
              "solidity": 0.2
             }
            },
            "type": "bar"
           }
          ],
          "barpolar": [
           {
            "marker": {
             "line": {
              "color": "#E5ECF6",
              "width": 0.5
             },
             "pattern": {
              "fillmode": "overlay",
              "size": 10,
              "solidity": 0.2
             }
            },
            "type": "barpolar"
           }
          ],
          "carpet": [
           {
            "aaxis": {
             "endlinecolor": "#2a3f5f",
             "gridcolor": "white",
             "linecolor": "white",
             "minorgridcolor": "white",
             "startlinecolor": "#2a3f5f"
            },
            "baxis": {
             "endlinecolor": "#2a3f5f",
             "gridcolor": "white",
             "linecolor": "white",
             "minorgridcolor": "white",
             "startlinecolor": "#2a3f5f"
            },
            "type": "carpet"
           }
          ],
          "choropleth": [
           {
            "colorbar": {
             "outlinewidth": 0,
             "ticks": ""
            },
            "type": "choropleth"
           }
          ],
          "contour": [
           {
            "colorbar": {
             "outlinewidth": 0,
             "ticks": ""
            },
            "colorscale": [
             [
              0,
              "#0d0887"
             ],
             [
              0.1111111111111111,
              "#46039f"
             ],
             [
              0.2222222222222222,
              "#7201a8"
             ],
             [
              0.3333333333333333,
              "#9c179e"
             ],
             [
              0.4444444444444444,
              "#bd3786"
             ],
             [
              0.5555555555555556,
              "#d8576b"
             ],
             [
              0.6666666666666666,
              "#ed7953"
             ],
             [
              0.7777777777777778,
              "#fb9f3a"
             ],
             [
              0.8888888888888888,
              "#fdca26"
             ],
             [
              1,
              "#f0f921"
             ]
            ],
            "type": "contour"
           }
          ],
          "contourcarpet": [
           {
            "colorbar": {
             "outlinewidth": 0,
             "ticks": ""
            },
            "type": "contourcarpet"
           }
          ],
          "heatmap": [
           {
            "colorbar": {
             "outlinewidth": 0,
             "ticks": ""
            },
            "colorscale": [
             [
              0,
              "#0d0887"
             ],
             [
              0.1111111111111111,
              "#46039f"
             ],
             [
              0.2222222222222222,
              "#7201a8"
             ],
             [
              0.3333333333333333,
              "#9c179e"
             ],
             [
              0.4444444444444444,
              "#bd3786"
             ],
             [
              0.5555555555555556,
              "#d8576b"
             ],
             [
              0.6666666666666666,
              "#ed7953"
             ],
             [
              0.7777777777777778,
              "#fb9f3a"
             ],
             [
              0.8888888888888888,
              "#fdca26"
             ],
             [
              1,
              "#f0f921"
             ]
            ],
            "type": "heatmap"
           }
          ],
          "histogram": [
           {
            "marker": {
             "pattern": {
              "fillmode": "overlay",
              "size": 10,
              "solidity": 0.2
             }
            },
            "type": "histogram"
           }
          ],
          "histogram2d": [
           {
            "colorbar": {
             "outlinewidth": 0,
             "ticks": ""
            },
            "colorscale": [
             [
              0,
              "#0d0887"
             ],
             [
              0.1111111111111111,
              "#46039f"
             ],
             [
              0.2222222222222222,
              "#7201a8"
             ],
             [
              0.3333333333333333,
              "#9c179e"
             ],
             [
              0.4444444444444444,
              "#bd3786"
             ],
             [
              0.5555555555555556,
              "#d8576b"
             ],
             [
              0.6666666666666666,
              "#ed7953"
             ],
             [
              0.7777777777777778,
              "#fb9f3a"
             ],
             [
              0.8888888888888888,
              "#fdca26"
             ],
             [
              1,
              "#f0f921"
             ]
            ],
            "type": "histogram2d"
           }
          ],
          "histogram2dcontour": [
           {
            "colorbar": {
             "outlinewidth": 0,
             "ticks": ""
            },
            "colorscale": [
             [
              0,
              "#0d0887"
             ],
             [
              0.1111111111111111,
              "#46039f"
             ],
             [
              0.2222222222222222,
              "#7201a8"
             ],
             [
              0.3333333333333333,
              "#9c179e"
             ],
             [
              0.4444444444444444,
              "#bd3786"
             ],
             [
              0.5555555555555556,
              "#d8576b"
             ],
             [
              0.6666666666666666,
              "#ed7953"
             ],
             [
              0.7777777777777778,
              "#fb9f3a"
             ],
             [
              0.8888888888888888,
              "#fdca26"
             ],
             [
              1,
              "#f0f921"
             ]
            ],
            "type": "histogram2dcontour"
           }
          ],
          "mesh3d": [
           {
            "colorbar": {
             "outlinewidth": 0,
             "ticks": ""
            },
            "type": "mesh3d"
           }
          ],
          "parcoords": [
           {
            "line": {
             "colorbar": {
              "outlinewidth": 0,
              "ticks": ""
             }
            },
            "type": "parcoords"
           }
          ],
          "pie": [
           {
            "automargin": true,
            "type": "pie"
           }
          ],
          "scatter": [
           {
            "fillpattern": {
             "fillmode": "overlay",
             "size": 10,
             "solidity": 0.2
            },
            "type": "scatter"
           }
          ],
          "scatter3d": [
           {
            "line": {
             "colorbar": {
              "outlinewidth": 0,
              "ticks": ""
             }
            },
            "marker": {
             "colorbar": {
              "outlinewidth": 0,
              "ticks": ""
             }
            },
            "type": "scatter3d"
           }
          ],
          "scattercarpet": [
           {
            "marker": {
             "colorbar": {
              "outlinewidth": 0,
              "ticks": ""
             }
            },
            "type": "scattercarpet"
           }
          ],
          "scattergeo": [
           {
            "marker": {
             "colorbar": {
              "outlinewidth": 0,
              "ticks": ""
             }
            },
            "type": "scattergeo"
           }
          ],
          "scattergl": [
           {
            "marker": {
             "colorbar": {
              "outlinewidth": 0,
              "ticks": ""
             }
            },
            "type": "scattergl"
           }
          ],
          "scattermap": [
           {
            "marker": {
             "colorbar": {
              "outlinewidth": 0,
              "ticks": ""
             }
            },
            "type": "scattermap"
           }
          ],
          "scattermapbox": [
           {
            "marker": {
             "colorbar": {
              "outlinewidth": 0,
              "ticks": ""
             }
            },
            "type": "scattermapbox"
           }
          ],
          "scatterpolar": [
           {
            "marker": {
             "colorbar": {
              "outlinewidth": 0,
              "ticks": ""
             }
            },
            "type": "scatterpolar"
           }
          ],
          "scatterpolargl": [
           {
            "marker": {
             "colorbar": {
              "outlinewidth": 0,
              "ticks": ""
             }
            },
            "type": "scatterpolargl"
           }
          ],
          "scatterternary": [
           {
            "marker": {
             "colorbar": {
              "outlinewidth": 0,
              "ticks": ""
             }
            },
            "type": "scatterternary"
           }
          ],
          "surface": [
           {
            "colorbar": {
             "outlinewidth": 0,
             "ticks": ""
            },
            "colorscale": [
             [
              0,
              "#0d0887"
             ],
             [
              0.1111111111111111,
              "#46039f"
             ],
             [
              0.2222222222222222,
              "#7201a8"
             ],
             [
              0.3333333333333333,
              "#9c179e"
             ],
             [
              0.4444444444444444,
              "#bd3786"
             ],
             [
              0.5555555555555556,
              "#d8576b"
             ],
             [
              0.6666666666666666,
              "#ed7953"
             ],
             [
              0.7777777777777778,
              "#fb9f3a"
             ],
             [
              0.8888888888888888,
              "#fdca26"
             ],
             [
              1,
              "#f0f921"
             ]
            ],
            "type": "surface"
           }
          ],
          "table": [
           {
            "cells": {
             "fill": {
              "color": "#EBF0F8"
             },
             "line": {
              "color": "white"
             }
            },
            "header": {
             "fill": {
              "color": "#C8D4E3"
             },
             "line": {
              "color": "white"
             }
            },
            "type": "table"
           }
          ]
         },
         "layout": {
          "annotationdefaults": {
           "arrowcolor": "#343a42",
           "arrowhead": 0,
           "arrowwidth": 1
          },
          "autotypenumbers": "strict",
          "coloraxis": {
           "colorbar": {
            "outlinewidth": 0,
            "ticks": ""
           }
          },
          "colorscale": {
           "diverging": [
            [
             0,
             "#8e0152"
            ],
            [
             0.1,
             "#c51b7d"
            ],
            [
             0.2,
             "#de77ae"
            ],
            [
             0.3,
             "#f1b6da"
            ],
            [
             0.4,
             "#fde0ef"
            ],
            [
             0.5,
             "#f7f7f7"
            ],
            [
             0.6,
             "#e6f5d0"
            ],
            [
             0.7,
             "#b8e186"
            ],
            [
             0.8,
             "#7fbc41"
            ],
            [
             0.9,
             "#4d9221"
            ],
            [
             1,
             "#276419"
            ]
           ],
           "sequential": [
            [
             0,
             "#0d0887"
            ],
            [
             0.1111111111111111,
             "#46039f"
            ],
            [
             0.2222222222222222,
             "#7201a8"
            ],
            [
             0.3333333333333333,
             "#9c179e"
            ],
            [
             0.4444444444444444,
             "#bd3786"
            ],
            [
             0.5555555555555556,
             "#d8576b"
            ],
            [
             0.6666666666666666,
             "#ed7953"
            ],
            [
             0.7777777777777778,
             "#fb9f3a"
            ],
            [
             0.8888888888888888,
             "#fdca26"
            ],
            [
             1,
             "#f0f921"
            ]
           ],
           "sequentialminus": [
            [
             0,
             "#0d0887"
            ],
            [
             0.1111111111111111,
             "#46039f"
            ],
            [
             0.2222222222222222,
             "#7201a8"
            ],
            [
             0.3333333333333333,
             "#9c179e"
            ],
            [
             0.4444444444444444,
             "#bd3786"
            ],
            [
             0.5555555555555556,
             "#d8576b"
            ],
            [
             0.6666666666666666,
             "#ed7953"
            ],
            [
             0.7777777777777778,
             "#fb9f3a"
            ],
            [
             0.8888888888888888,
             "#fdca26"
            ],
            [
             1,
             "#f0f921"
            ]
           ]
          },
          "colorway": [
           "#343a42",
           "#4edcda",
           "#4c75eb",
           "#ef4de5",
           "#f74e4e",
           "#2d8923",
           "#f7b24e",
           "#2b9694",
           "#3a34b5",
           "#a736a0",
           "#b33c3c",
           "#2d8923"
          ],
          "font": {
           "color": "#343a42"
          },
          "geo": {
           "bgcolor": "white",
           "lakecolor": "white",
           "landcolor": "#E5ECF6",
           "showlakes": true,
           "showland": true,
           "subunitcolor": "white"
          },
          "hoverlabel": {
           "align": "left"
          },
          "hovermode": "closest",
          "mapbox": {
           "style": "light"
          },
          "paper_bgcolor": "#fdead4",
          "plot_bgcolor": "rgba(0, 0, 0, 0)",
          "polar": {
           "angularaxis": {
            "gridcolor": "white",
            "linecolor": "white",
            "ticks": ""
           },
           "bgcolor": "#E5ECF6",
           "radialaxis": {
            "gridcolor": "white",
            "linecolor": "white",
            "ticks": ""
           }
          },
          "scene": {
           "xaxis": {
            "backgroundcolor": "#E5ECF6",
            "gridcolor": "white",
            "gridwidth": 2,
            "linecolor": "white",
            "showbackground": true,
            "ticks": "",
            "zerolinecolor": "white"
           },
           "yaxis": {
            "backgroundcolor": "#E5ECF6",
            "gridcolor": "white",
            "gridwidth": 2,
            "linecolor": "white",
            "showbackground": true,
            "ticks": "",
            "zerolinecolor": "white"
           },
           "zaxis": {
            "backgroundcolor": "#E5ECF6",
            "gridcolor": "white",
            "gridwidth": 2,
            "linecolor": "white",
            "showbackground": true,
            "ticks": "",
            "zerolinecolor": "white"
           }
          },
          "shapedefaults": {
           "line": {
            "color": "#2a3f5f"
           }
          },
          "ternary": {
           "aaxis": {
            "gridcolor": "white",
            "linecolor": "white",
            "ticks": ""
           },
           "baxis": {
            "gridcolor": "white",
            "linecolor": "white",
            "ticks": ""
           },
           "bgcolor": "#E5ECF6",
           "caxis": {
            "gridcolor": "white",
            "linecolor": "white",
            "ticks": ""
           }
          },
          "title": {
           "x": 0.5
          },
          "xaxis": {
           "automargin": true,
           "gridcolor": "#d8bea1",
           "linecolor": "white",
           "ticks": "",
           "title": {
            "standoff": 15
           },
           "zerolinecolor": "#d8bea1",
           "zerolinewidth": 1
          },
          "yaxis": {
           "automargin": true,
           "gridcolor": "#d8bea1",
           "linecolor": "white",
           "ticks": "",
           "title": {
            "standoff": 15
           },
           "zerolinecolor": "#d8bea1",
           "zerolinewidth": 1
          }
         }
        },
        "title": {
         "text": "Gaming Group: All"
        },
        "updatemenus": [
         {
          "buttons": [
           {
            "args": [
             {
              "visible": [
               true,
               false,
               false,
               false
              ]
             },
             {
              "title": "Gaming Group: All"
             }
            ],
            "label": "All",
            "method": "update"
           },
           {
            "args": [
             {
              "visible": [
               false,
               true,
               false,
               false
              ]
             },
             {
              "title": "Gaming Group: More than 3 Hours"
             }
            ],
            "label": "More than 3 Hours",
            "method": "update"
           },
           {
            "args": [
             {
              "visible": [
               false,
               false,
               true,
               false
              ]
             },
             {
              "title": "Gaming Group: 2-3 Hours"
             }
            ],
            "label": "2-3 Hours",
            "method": "update"
           },
           {
            "args": [
             {
              "visible": [
               false,
               false,
               false,
               true
              ]
             },
             {
              "title": "Gaming Group: 0-1 Hour"
             }
            ],
            "label": "0-1 Hour",
            "method": "update"
           }
          ],
          "direction": "down",
          "showactive": true,
          "x": 0.5,
          "xanchor": "left",
          "y": 1.15,
          "yanchor": "top"
         }
        ],
        "xaxis": {
         "autorange": true,
         "categoryarray": [
          "Below 40%",
          "40%-59%",
          "60%-79%",
          "80%-100%"
         ],
         "categoryorder": "array",
         "range": [
          -0.31615221647134545,
          3.3439083912145673
         ],
         "title": {
          "text": "Attendance Group"
         },
         "type": "category"
        },
        "yaxis": {
         "autorange": true,
         "categoryarray": [
          "0-1 Hour",
          "2-3 Hours",
          "More than 3 Hours"
         ],
         "categoryorder": "array",
         "range": [
          -0.38613861386138615,
          2.386138613861386
         ],
         "title": {
          "text": "Gaming (hours/day)"
         },
         "type": "category"
        }
       }
      },
      "image/png": "[encoded data removed]"
     },
     "metadata": {},
     "output_type": "display_data"
    }
   ],
   "source": [
    "%run InfoVisualisation6.ipynb"
   ]
  },
  {
   "cell_type": "markdown",
   "id": "b6d3a983-483c-4081-aa67-9b8efbbc6ccf",
   "metadata": {
    "tags": [
     "remove_input"
    ]
   },
   "source": [
    "De bubble chart toont de relatie tussen gamegedrag (aantal uur per dag), aanwezigheidsgroep (Attendance Group) en de gemiddelde studieresultaten (Overall Grade, CGPA). Op de horizontale as zijn de studenten ingedeeld op basis van hun aanwezigheidscategorie (van “Below 40%” tot “80%-100%”). terwijl de verticale as het aantal uur gamen per dag toont (van “0–1 Hour” tot “More than 3 Hours”). De grootte van de cirkels geeft de groepsgrootte aan en de kleur geeft het gemiddelde studieresultaat weer, waarbij lichtere kleuren (richting geel) wijzen op hogere cijfers. Via de dropdown menu kan er ook worden gekekeken naar specifiek 0-1, 2-3 en meer dan 3 uur om de verschillen tussen gamegroepen in relatie tot aanwezigheid te onderzoeken.\n",
    "\n",
    "Opvallend is dat studenten met 80–100% aanwezigheid gemiddeld het hoogst scoren, ongeacht gametijd. Binnen deze groep presteren studenten die 0–1 uur gamen het best, maar ook veelgamers doen het relatief goed. Bij lage aanwezigheid (onder 40%) dalen de cijfers, vooral bij intensief gamen. Lage aanwezigheid gecombineerd met veel gamen hangt duidelijk samen met slechtere prestaties.\n",
    "\n",
    "De grafiek suggereert dat aanwezigheid een sterkere voorspeller is voor academisch succes dan het aantal uur gamen, al kan overmatig gamen bij lage aanwezigheid de prestaties verder onder druk zetten. Dit sluit aan bij bevindingen uit onderzoek van Trinh et al. (2015), waaruit bleek dat hoge schermtijd (inclusief gamen) samenhangt met lagere schoolprestaties en verminderde betrokkenheid bij school, vooral wanneer andere risicofactoren (zoals lage aanwezigheid) aanwezig zijn. Hun studie onderstreept dat schermtijd onafhankelijk van fysieke activiteit negatieve effecten kan hebben op academische uitkomsten, wat overeenkomt met het patroon in de bubble chart (Trinh et al., 2015).\n",
    "\n",
    "De bijbehorende ìnteractieve 3D-scatterplot toont dezelfde relaties per student, met aanwezigheid (x), gametijd (y) en CGPA (z). Interactieve functies en filters maken het mogelijk om individuele verschillen binnen groepen gedetailleerd te verkennen."
   ]
  },
  {
   "cell_type": "code",
   "execution_count": 24,
   "id": "d29956e2-c864-493c-abd9-8e4e99e8404b",
   "metadata": {
    "tags": [
     "remove_input"
    ]
   },
   "outputs": [
    {
     "data": {
      "application/vnd.plotly.v1+json": {
       "config": {
        "plotlyServerURL": "https://plot.ly"
       },
       "data": [
        {
         "hoverinfo": "text",
         "marker": {
          "color": {
           "_inputArray": {
            "0": 3.35,
            "1": 3.467,
            "10": 1.56,
            "100": 2.75,
            "101": 2.75,
            "102": 2.75,
            "103": 2.75,
            "104": 2.75,
            "105": 2.75,
            "106": 2.75,
            "107": 2.75,
            "108": 2.75,
            "109": 2.75,
            "11": 1.57,
            "110": 2.75,
            "111": 2.75,
            "112": 2.75,
            "113": 2.75,
            "114": 2.79,
            "115": 2.81,
            "116": 2.81,
            "117": 2.84,
            "118": 2.84,
            "119": 2.84,
            "12": 1.57,
            "120": 2.84,
            "121": 2.846,
            "122": 2.86,
            "123": 2.88,
            "124": 2.88,
            "125": 2.88,
            "126": 2.88,
            "127": 2.88,
            "128": 2.89,
            "129": 2.89,
            "13": 1.6,
            "130": 2.89,
            "131": 2.89,
            "132": 2.89,
            "133": 2.89,
            "134": 2.89,
            "135": 2.9,
            "136": 2.9,
            "137": 2.9,
            "138": 2.9,
            "139": 2.9,
            "14": 1.62,
            "140": 2.9,
            "141": 2.9,
            "142": 2.9,
            "143": 2.9,
            "144": 2.9,
            "145": 2.9,
            "146": 2.9,
            "147": 2.9,
            "148": 2.9,
            "149": 2.9,
            "15": 1.69,
            "150": 2.9,
            "151": 2.9,
            "152": 2.9,
            "153": 2.9,
            "154": 2.92,
            "155": 2.94,
            "156": 2.94,
            "157": 2.94,
            "158": 2.94,
            "159": 2.98,
            "16": 1.71,
            "160": 3,
            "161": 3,
            "162": 3,
            "163": 3,
            "164": 3,
            "165": 3,
            "166": 3,
            "167": 3,
            "168": 3,
            "169": 3,
            "17": 1.72,
            "170": 3.06,
            "171": 3.06,
            "172": 3.06,
            "173": 3.07,
            "174": 3.08,
            "175": 3.08,
            "176": 3.08,
            "177": 3.08,
            "178": 3.08,
            "179": 3.08,
            "18": 1.75,
            "180": 3.08,
            "181": 3.08,
            "182": 3.08,
            "183": 3.08,
            "184": 3.08,
            "185": 3.08,
            "186": 3.09,
            "187": 3.1,
            "188": 3.1,
            "189": 3.11,
            "19": 1.75,
            "190": 3.13,
            "191": 3.13,
            "192": 3.13,
            "193": 3.13,
            "194": 3.15,
            "195": 3.15,
            "196": 3.15,
            "197": 3.15,
            "198": 3.15,
            "199": 3.15,
            "2": 3.72,
            "20": 1.75,
            "200": 3.15,
            "201": 3.16,
            "202": 3.19,
            "203": 3.19,
            "204": 3.19,
            "205": 3.19,
            "206": 3.21,
            "207": 3.22,
            "208": 3.25,
            "209": 3.25,
            "21": 1.8,
            "210": 3.25,
            "211": 3.25,
            "212": 3.25,
            "213": 3.25,
            "214": 3.25,
            "215": 3.25,
            "216": 3.25,
            "217": 3.25,
            "218": 3.25,
            "219": 3.25,
            "22": 1.86,
            "220": 3.25,
            "221": 3.25,
            "222": 3.25,
            "223": 3.25,
            "224": 3.25,
            "225": 3.25,
            "226": 3.25,
            "227": 3.25,
            "228": 3.25,
            "229": 3.25,
            "23": 1.88,
            "230": 3.25,
            "231": 3.25,
            "232": 3.25,
            "233": 3.25,
            "234": 3.25,
            "235": 3.25,
            "236": 3.25,
            "237": 3.25,
            "238": 3.26,
            "239": 3.27,
            "24": 1.89,
            "240": 3.27,
            "241": 3.27,
            "242": 3.27,
            "243": 3.27,
            "244": 3.27,
            "245": 3.27,
            "246": 3.28,
            "247": 3.3,
            "248": 3.3,
            "249": 3.31,
            "25": 1.9,
            "250": 3.31,
            "251": 3.31,
            "252": 3.31,
            "253": 3.32,
            "254": 3.32,
            "255": 3.33,
            "256": 3.33,
            "257": 3.33,
            "258": 3.33,
            "259": 3.33,
            "26": 1.9,
            "260": 3.33,
            "261": 3.33,
            "262": 3.33,
            "263": 3.33,
            "264": 3.33,
            "265": 3.33,
            "266": 3.33,
            "267": 3.35,
            "268": 3.37,
            "269": 3.38,
            "27": 1.92,
            "270": 3.38,
            "271": 3.38,
            "272": 3.38,
            "273": 3.38,
            "274": 3.38,
            "275": 3.38,
            "276": 3.38,
            "277": 3.39,
            "278": 3.39,
            "279": 3.43,
            "28": 1.97,
            "280": 3.44,
            "281": 3.44,
            "282": 3.44,
            "283": 3.44,
            "284": 3.44,
            "285": 3.44,
            "286": 3.45,
            "287": 3.46,
            "288": 3.48,
            "289": 3.5,
            "29": 2,
            "290": 3.5,
            "291": 3.5,
            "292": 3.5,
            "293": 3.5,
            "294": 3.5,
            "295": 3.5,
            "296": 3.5,
            "297": 3.5,
            "298": 3.5,
            "299": 3.5,
            "3": 3.75,
            "30": 2,
            "300": 3.5,
            "301": 3.5,
            "302": 3.5,
            "303": 3.5,
            "304": 3.5,
            "305": 3.5,
            "306": 3.5,
            "307": 3.5,
            "308": 3.5,
            "309": 3.5,
            "31": 2.02,
            "310": 3.54,
            "311": 3.55,
            "312": 3.55,
            "313": 3.56,
            "314": 3.56,
            "315": 3.56,
            "316": 3.56,
            "317": 3.56,
            "318": 3.56,
            "319": 3.56,
            "32": 2.1,
            "320": 3.56,
            "321": 3.56,
            "322": 3.56,
            "323": 3.56,
            "324": 3.6,
            "325": 3.6,
            "326": 3.6,
            "327": 3.6,
            "328": 3.6,
            "329": 3.61,
            "33": 2.1,
            "330": 3.62,
            "331": 3.63,
            "332": 3.63,
            "333": 3.64,
            "334": 3.64,
            "335": 3.65,
            "336": 3.65,
            "337": 3.67,
            "338": 3.67,
            "339": 3.67,
            "34": 2.1,
            "340": 3.67,
            "341": 3.67,
            "342": 3.67,
            "343": 3.67,
            "344": 3.67,
            "345": 3.67,
            "346": 3.67,
            "347": 3.68,
            "348": 3.69,
            "349": 3.69,
            "35": 2.17,
            "350": 3.7,
            "351": 3.7,
            "352": 3.7,
            "353": 3.7,
            "354": 3.7,
            "355": 3.7,
            "356": 3.7,
            "357": 3.7,
            "358": 3.7,
            "359": 3.7,
            "36": 2.17,
            "360": 3.7,
            "361": 3.7,
            "362": 3.71,
            "363": 3.71,
            "364": 3.71,
            "365": 3.71,
            "366": 3.74,
            "367": 3.74,
            "368": 3.74,
            "369": 3.74,
            "37": 2.17,
            "370": 3.74,
            "371": 3.74,
            "372": 3.74,
            "373": 3.74,
            "374": 3.74,
            "375": 3.74,
            "376": 3.75,
            "377": 3.75,
            "378": 3.75,
            "379": 3.75,
            "38": 2.17,
            "380": 3.75,
            "381": 3.75,
            "382": 3.75,
            "383": 3.75,
            "384": 3.75,
            "385": 3.75,
            "386": 3.75,
            "387": 3.75,
            "388": 3.75,
            "389": 3.75,
            "39": 2.2,
            "390": 3.75,
            "391": 3.76,
            "392": 3.78,
            "393": 3.78,
            "394": 3.78,
            "395": 3.8,
            "396": 3.8,
            "397": 3.8,
            "398": 3.8,
            "399": 3.8,
            "4": 3.94,
            "40": 2.22,
            "400": 3.81,
            "401": 3.81,
            "402": 3.81,
            "403": 3.81,
            "404": 3.81,
            "405": 3.81,
            "406": 3.81,
            "407": 3.81,
            "408": 3.84,
            "409": 3.87,
            "41": 2.25,
            "410": 3.88,
            "411": 3.88,
            "412": 3.88,
            "413": 3.88,
            "414": 3.88,
            "415": 3.88,
            "416": 3.88,
            "417": 3.89,
            "418": 3.91,
            "419": 3.93,
            "42": 2.25,
            "420": 3.94,
            "421": 3.94,
            "422": 3.94,
            "423": 3.94,
            "424": 3.94,
            "425": 3.94,
            "426": 3.94,
            "427": 3.94,
            "428": 3.94,
            "429": 3.94,
            "43": 2.25,
            "430": 3.94,
            "431": 3.94,
            "432": 3.94,
            "433": 3.95,
            "434": 3.96,
            "435": 3.98,
            "436": 4,
            "437": 4,
            "438": 4,
            "439": 4,
            "44": 2.25,
            "440": 4,
            "441": 4,
            "442": 4,
            "443": 4,
            "444": 4,
            "445": 4,
            "446": 4,
            "447": 4,
            "448": 3.7,
            "449": 3.74,
            "45": 2.28,
            "450": 3.75,
            "451": 4,
            "452": 2.97,
            "453": 3.15,
            "454": 3.32,
            "455": 3.33,
            "456": 3.45,
            "457": 3.47,
            "458": 3.47,
            "459": 3.56,
            "46": 2.3,
            "460": 3.6,
            "461": 3.68,
            "462": 3.74,
            "463": 3.75,
            "464": 3.8,
            "465": 3.83,
            "466": 3.93,
            "467": 2.25,
            "468": 2.5,
            "469": 3,
            "47": 2.3,
            "470": 3.09,
            "471": 3.17,
            "472": 3.5,
            "473": 3.5,
            "474": 3.5,
            "475": 3.6,
            "476": 3.67,
            "477": 3.78,
            "478": 3.8,
            "479": 4,
            "48": 2.31,
            "480": 3.69,
            "481": 3.79,
            "482": 2.85,
            "483": 3.31,
            "484": 3.56,
            "485": 3.68,
            "486": 3.88,
            "487": 3.94,
            "488": 3.1,
            "489": 3.67,
            "49": 2.31,
            "490": 3.56,
            "491": 3.75,
            "492": 3.86,
            "5": 1,
            "50": 2.31,
            "51": 2.33,
            "52": 2.33,
            "53": 2.33,
            "54": 2.33,
            "55": 2.35,
            "56": 2.35,
            "57": 2.35,
            "58": 2.38,
            "59": 2.38,
            "6": 1.06,
            "60": 2.38,
            "61": 2.38,
            "62": 2.41,
            "63": 2.44,
            "64": 2.44,
            "65": 2.45,
            "66": 2.45,
            "67": 2.47,
            "68": 2.5,
            "69": 2.5,
            "7": 1.25,
            "70": 2.5,
            "71": 2.53,
            "72": 2.55,
            "73": 2.55,
            "74": 2.56,
            "75": 2.56,
            "76": 2.56,
            "77": 2.58,
            "78": 2.64,
            "79": 2.69,
            "8": 1.44,
            "80": 2.69,
            "81": 2.69,
            "82": 2.69,
            "83": 2.7,
            "84": 2.7,
            "85": 2.7,
            "86": 2.75,
            "87": 2.75,
            "88": 2.75,
            "89": 2.75,
            "9": 1.5,
            "90": 2.75,
            "91": 2.75,
            "92": 2.75,
            "93": 2.75,
            "94": 2.75,
            "95": 2.75,
            "96": 2.75,
            "97": 2.75,
            "98": 2.75,
            "99": 2.75,
            "bdata": "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",
            "dtype": "f8",
            "shape": "493"
           },
           "bdata": "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",
           "dtype": "f8"
          },
          "colorbar": {
           "title": {
            "text": "CGPA"
           }
          },
          "colorscale": [
           [
            0,
            "#0d0887"
           ],
           [
            0.1111111111111111,
            "#46039f"
           ],
           [
            0.2222222222222222,
            "#7201a8"
           ],
           [
            0.3333333333333333,
            "#9c179e"
           ],
           [
            0.4444444444444444,
            "#bd3786"
           ],
           [
            0.5555555555555556,
            "#d8576b"
           ],
           [
            0.6666666666666666,
            "#ed7953"
           ],
           [
            0.7777777777777778,
            "#fb9f3a"
           ],
           [
            0.8888888888888888,
            "#fdca26"
           ],
           [
            1,
            "#f0f921"
           ]
          ],
          "opacity": 0.8,
          "size": {
           "_inputArray": {
            "0": 16.75,
            "1": 17.335,
            "10": 7.800000000000001,
            "100": 13.75,
            "101": 13.75,
            "102": 13.75,
            "103": 13.75,
            "104": 13.75,
            "105": 13.75,
            "106": 13.75,
            "107": 13.75,
            "108": 13.75,
            "109": 13.75,
            "11": 7.8500000000000005,
            "110": 13.75,
            "111": 13.75,
            "112": 13.75,
            "113": 13.75,
            "114": 13.95,
            "115": 14.05,
            "116": 14.05,
            "117": 14.2,
            "118": 14.2,
            "119": 14.2,
            "12": 7.8500000000000005,
            "120": 14.2,
            "121": 14.23,
            "122": 14.299999999999999,
            "123": 14.399999999999999,
            "124": 14.399999999999999,
            "125": 14.399999999999999,
            "126": 14.399999999999999,
            "127": 14.399999999999999,
            "128": 14.450000000000001,
            "129": 14.450000000000001,
            "13": 8,
            "130": 14.450000000000001,
            "131": 14.450000000000001,
            "132": 14.450000000000001,
            "133": 14.450000000000001,
            "134": 14.450000000000001,
            "135": 14.5,
            "136": 14.5,
            "137": 14.5,
            "138": 14.5,
            "139": 14.5,
            "14": 8.100000000000001,
            "140": 14.5,
            "141": 14.5,
            "142": 14.5,
            "143": 14.5,
            "144": 14.5,
            "145": 14.5,
            "146": 14.5,
            "147": 14.5,
            "148": 14.5,
            "149": 14.5,
            "15": 8.45,
            "150": 14.5,
            "151": 14.5,
            "152": 14.5,
            "153": 14.5,
            "154": 14.6,
            "155": 14.7,
            "156": 14.7,
            "157": 14.7,
            "158": 14.7,
            "159": 14.9,
            "16": 8.55,
            "160": 15,
            "161": 15,
            "162": 15,
            "163": 15,
            "164": 15,
            "165": 15,
            "166": 15,
            "167": 15,
            "168": 15,
            "169": 15,
            "17": 8.6,
            "170": 15.3,
            "171": 15.3,
            "172": 15.3,
            "173": 15.35,
            "174": 15.4,
            "175": 15.4,
            "176": 15.4,
            "177": 15.4,
            "178": 15.4,
            "179": 15.4,
            "18": 8.75,
            "180": 15.4,
            "181": 15.4,
            "182": 15.4,
            "183": 15.4,
            "184": 15.4,
            "185": 15.4,
            "186": 15.45,
            "187": 15.5,
            "188": 15.5,
            "189": 15.549999999999999,
            "19": 8.75,
            "190": 15.649999999999999,
            "191": 15.649999999999999,
            "192": 15.649999999999999,
            "193": 15.649999999999999,
            "194": 15.75,
            "195": 15.75,
            "196": 15.75,
            "197": 15.75,
            "198": 15.75,
            "199": 15.75,
            "2": 18.6,
            "20": 8.75,
            "200": 15.75,
            "201": 15.8,
            "202": 15.95,
            "203": 15.95,
            "204": 15.95,
            "205": 15.95,
            "206": 16.05,
            "207": 16.1,
            "208": 16.25,
            "209": 16.25,
            "21": 9,
            "210": 16.25,
            "211": 16.25,
            "212": 16.25,
            "213": 16.25,
            "214": 16.25,
            "215": 16.25,
            "216": 16.25,
            "217": 16.25,
            "218": 16.25,
            "219": 16.25,
            "22": 9.3,
            "220": 16.25,
            "221": 16.25,
            "222": 16.25,
            "223": 16.25,
            "224": 16.25,
            "225": 16.25,
            "226": 16.25,
            "227": 16.25,
            "228": 16.25,
            "229": 16.25,
            "23": 9.399999999999999,
            "230": 16.25,
            "231": 16.25,
            "232": 16.25,
            "233": 16.25,
            "234": 16.25,
            "235": 16.25,
            "236": 16.25,
            "237": 16.25,
            "238": 16.299999999999997,
            "239": 16.35,
            "24": 9.45,
            "240": 16.35,
            "241": 16.35,
            "242": 16.35,
            "243": 16.35,
            "244": 16.35,
            "245": 16.35,
            "246": 16.4,
            "247": 16.5,
            "248": 16.5,
            "249": 16.55,
            "25": 9.5,
            "250": 16.55,
            "251": 16.55,
            "252": 16.55,
            "253": 16.599999999999998,
            "254": 16.599999999999998,
            "255": 16.65,
            "256": 16.65,
            "257": 16.65,
            "258": 16.65,
            "259": 16.65,
            "26": 9.5,
            "260": 16.65,
            "261": 16.65,
            "262": 16.65,
            "263": 16.65,
            "264": 16.65,
            "265": 16.65,
            "266": 16.65,
            "267": 16.75,
            "268": 16.85,
            "269": 16.9,
            "27": 9.6,
            "270": 16.9,
            "271": 16.9,
            "272": 16.9,
            "273": 16.9,
            "274": 16.9,
            "275": 16.9,
            "276": 16.9,
            "277": 16.95,
            "278": 16.95,
            "279": 17.150000000000002,
            "28": 9.85,
            "280": 17.2,
            "281": 17.2,
            "282": 17.2,
            "283": 17.2,
            "284": 17.2,
            "285": 17.2,
            "286": 17.25,
            "287": 17.3,
            "288": 17.4,
            "289": 17.5,
            "29": 10,
            "290": 17.5,
            "291": 17.5,
            "292": 17.5,
            "293": 17.5,
            "294": 17.5,
            "295": 17.5,
            "296": 17.5,
            "297": 17.5,
            "298": 17.5,
            "299": 17.5,
            "3": 18.75,
            "30": 10,
            "300": 17.5,
            "301": 17.5,
            "302": 17.5,
            "303": 17.5,
            "304": 17.5,
            "305": 17.5,
            "306": 17.5,
            "307": 17.5,
            "308": 17.5,
            "309": 17.5,
            "31": 10.1,
            "310": 17.7,
            "311": 17.75,
            "312": 17.75,
            "313": 17.8,
            "314": 17.8,
            "315": 17.8,
            "316": 17.8,
            "317": 17.8,
            "318": 17.8,
            "319": 17.8,
            "32": 10.5,
            "320": 17.8,
            "321": 17.8,
            "322": 17.8,
            "323": 17.8,
            "324": 18,
            "325": 18,
            "326": 18,
            "327": 18,
            "328": 18,
            "329": 18.05,
            "33": 10.5,
            "330": 18.1,
            "331": 18.15,
            "332": 18.15,
            "333": 18.2,
            "334": 18.2,
            "335": 18.25,
            "336": 18.25,
            "337": 18.35,
            "338": 18.35,
            "339": 18.35,
            "34": 10.5,
            "340": 18.35,
            "341": 18.35,
            "342": 18.35,
            "343": 18.35,
            "344": 18.35,
            "345": 18.35,
            "346": 18.35,
            "347": 18.400000000000002,
            "348": 18.45,
            "349": 18.45,
            "35": 10.85,
            "350": 18.5,
            "351": 18.5,
            "352": 18.5,
            "353": 18.5,
            "354": 18.5,
            "355": 18.5,
            "356": 18.5,
            "357": 18.5,
            "358": 18.5,
            "359": 18.5,
            "36": 10.85,
            "360": 18.5,
            "361": 18.5,
            "362": 18.55,
            "363": 18.55,
            "364": 18.55,
            "365": 18.55,
            "366": 18.700000000000003,
            "367": 18.700000000000003,
            "368": 18.700000000000003,
            "369": 18.700000000000003,
            "37": 10.85,
            "370": 18.700000000000003,
            "371": 18.700000000000003,
            "372": 18.700000000000003,
            "373": 18.700000000000003,
            "374": 18.700000000000003,
            "375": 18.700000000000003,
            "376": 18.75,
            "377": 18.75,
            "378": 18.75,
            "379": 18.75,
            "38": 10.85,
            "380": 18.75,
            "381": 18.75,
            "382": 18.75,
            "383": 18.75,
            "384": 18.75,
            "385": 18.75,
            "386": 18.75,
            "387": 18.75,
            "388": 18.75,
            "389": 18.75,
            "39": 11,
            "390": 18.75,
            "391": 18.799999999999997,
            "392": 18.9,
            "393": 18.9,
            "394": 18.9,
            "395": 19,
            "396": 19,
            "397": 19,
            "398": 19,
            "399": 19,
            "4": 19.7,
            "40": 11.100000000000001,
            "400": 19.05,
            "401": 19.05,
            "402": 19.05,
            "403": 19.05,
            "404": 19.05,
            "405": 19.05,
            "406": 19.05,
            "407": 19.05,
            "408": 19.2,
            "409": 19.35,
            "41": 11.25,
            "410": 19.4,
            "411": 19.4,
            "412": 19.4,
            "413": 19.4,
            "414": 19.4,
            "415": 19.4,
            "416": 19.4,
            "417": 19.45,
            "418": 19.55,
            "419": 19.650000000000002,
            "42": 11.25,
            "420": 19.7,
            "421": 19.7,
            "422": 19.7,
            "423": 19.7,
            "424": 19.7,
            "425": 19.7,
            "426": 19.7,
            "427": 19.7,
            "428": 19.7,
            "429": 19.7,
            "43": 11.25,
            "430": 19.7,
            "431": 19.7,
            "432": 19.7,
            "433": 19.75,
            "434": 19.8,
            "435": 19.9,
            "436": 20,
            "437": 20,
            "438": 20,
            "439": 20,
            "44": 11.25,
            "440": 20,
            "441": 20,
            "442": 20,
            "443": 20,
            "444": 20,
            "445": 20,
            "446": 20,
            "447": 20,
            "448": 18.5,
            "449": 18.700000000000003,
            "45": 11.399999999999999,
            "450": 18.75,
            "451": 20,
            "452": 14.850000000000001,
            "453": 15.75,
            "454": 16.599999999999998,
            "455": 16.65,
            "456": 17.25,
            "457": 17.35,
            "458": 17.35,
            "459": 17.8,
            "46": 11.5,
            "460": 18,
            "461": 18.400000000000002,
            "462": 18.700000000000003,
            "463": 18.75,
            "464": 19,
            "465": 19.15,
            "466": 19.650000000000002,
            "467": 11.25,
            "468": 12.5,
            "469": 15,
            "47": 11.5,
            "470": 15.45,
            "471": 15.85,
            "472": 17.5,
            "473": 17.5,
            "474": 17.5,
            "475": 18,
            "476": 18.35,
            "477": 18.9,
            "478": 19,
            "479": 20,
            "48": 11.55,
            "480": 18.45,
            "481": 18.95,
            "482": 14.25,
            "483": 16.55,
            "484": 17.8,
            "485": 18.400000000000002,
            "486": 19.4,
            "487": 19.7,
            "488": 15.5,
            "489": 18.35,
            "49": 11.55,
            "490": 17.8,
            "491": 18.75,
            "492": 19.3,
            "5": 5,
            "50": 11.55,
            "51": 11.65,
            "52": 11.65,
            "53": 11.65,
            "54": 11.65,
            "55": 11.75,
            "56": 11.75,
            "57": 11.75,
            "58": 11.899999999999999,
            "59": 11.899999999999999,
            "6": 5.300000000000001,
            "60": 11.899999999999999,
            "61": 11.899999999999999,
            "62": 12.05,
            "63": 12.2,
            "64": 12.2,
            "65": 12.25,
            "66": 12.25,
            "67": 12.350000000000001,
            "68": 12.5,
            "69": 12.5,
            "7": 6.25,
            "70": 12.5,
            "71": 12.649999999999999,
            "72": 12.75,
            "73": 12.75,
            "74": 12.8,
            "75": 12.8,
            "76": 12.8,
            "77": 12.9,
            "78": 13.200000000000001,
            "79": 13.45,
            "8": 7.199999999999999,
            "80": 13.45,
            "81": 13.45,
            "82": 13.45,
            "83": 13.5,
            "84": 13.5,
            "85": 13.5,
            "86": 13.75,
            "87": 13.75,
            "88": 13.75,
            "89": 13.75,
            "9": 7.5,
            "90": 13.75,
            "91": 13.75,
            "92": 13.75,
            "93": 13.75,
            "94": 13.75,
            "95": 13.75,
            "96": 13.75,
            "97": 13.75,
            "98": 13.75,
            "99": 13.75,
            "bdata": "AAAAAADAMED2KFyPwlUxQJqZmZmZmTJAAAAAAADAMkAzMzMzM7MzQAAAAAAAABRANDMzMzMzFUAAAAAAAAAZQMzMzMzMzBxAAAAAAAAAHkA0MzMzMzMfQGdmZmZmZh9AZ2ZmZmZmH0AAAAAAAAAgQDQzMzMzMyBAZmZmZmbmIECamZmZmRkhQDMzMzMzMyFAAAAAAACAIUAAAAAAAIAhQAAAAAAAgCFAAAAAAAAAIkCamZmZmZkiQMzMzMzMzCJAZmZmZmbmIkAAAAAAAAAjQAAAAAAAACNAMzMzMzMzI0AzMzMzM7MjQAAAAAAAACRAAAAAAAAAJEAzMzMzMzMkQAAAAAAAACVAAAAAAAAAJUAAAAAAAAAlQDMzMzMzsyVAMzMzMzOzJUAzMzMzM7MlQDMzMzMzsyVAAAAAAAAAJkA0MzMzMzMmQAAAAAAAgCZAAAAAAACAJkAAAAAAAIAmQAAAAAAAgCZAzMzMzMzMJkAAAAAAAAAnQAAAAAAAACdAmpmZmZkZJ0CamZmZmRknQJqZmZmZGSdAzczMzMxMJ0DNzMzMzEwnQM3MzMzMTCdAzczMzMxMJ0AAAAAAAIAnQAAAAAAAgCdAAAAAAACAJ0DMzMzMzMwnQMzMzMzMzCdAzMzMzMzMJ0DMzMzMzMwnQJqZmZmZGShAZmZmZmZmKEBmZmZmZmYoQAAAAAAAgChAAAAAAACAKEA0MzMzM7MoQAAAAAAAAClAAAAAAAAAKUAAAAAAAAApQMzMzMzMTClAAAAAAACAKUAAAAAAAIApQJqZmZmZmSlAmpmZmZmZKUCamZmZmZkpQM3MzMzMzClAZ2ZmZmZmKkBmZmZmZuYqQGZmZmZm5ipAZmZmZmbmKkBmZmZmZuYqQAAAAAAAACtAAAAAAAAAK0AAAAAAAAArQAAAAAAAgCtAAAAAAACAK0AAAAAAAIArQAAAAAAAgCtAAAAAAACAK0AAAAAAAIArQAAAAAAAgCtAAAAAAACAK0AAAAAAAIArQAAAAAAAgCtAAAAAAACAK0AAAAAAAIArQAAAAAAAgCtAAAAAAACAK0AAAAAAAIArQAAAAAAAgCtAAAAAAACAK0AAAAAAAIArQAAAAAAAgCtAAAAAAACAK0AAAAAAAIArQAAAAAAAgCtAAAAAAACAK0AAAAAAAIArQAAAAAAAgCtAAAAAAACAK0AAAAAAAIArQAAAAAAAgCtAZmZmZmbmK0CamZmZmRksQJqZmZmZGSxAZmZmZmZmLEBmZmZmZmYsQGZmZmZmZixAZmZmZmZmLED2KFyPwnUsQJmZmZmZmSxAzMzMzMzMLEDMzMzMzMwsQMzMzMzMzCxAzMzMzMzMLEDMzMzMzMwsQGdmZmZm5ixAZ2ZmZmbmLEBnZmZmZuYsQGdmZmZm5ixAZ2ZmZmbmLEBnZmZmZuYsQGdmZmZm5ixAAAAAAAAALUAAAAAAAAAtQAAAAAAAAC1AAAAAAAAALUAAAAAAAAAtQAAAAAAAAC1AAAAAAAAALUAAAAAAAAAtQAAAAAAAAC1AAAAAAAAALUAAAAAAAAAtQAAAAAAAAC1AAAAAAAAALUAAAAAAAAAtQAAAAAAAAC1AAAAAAAAALUAAAAAAAAAtQAAAAAAAAC1AAAAAAAAALUAzMzMzMzMtQGZmZmZmZi1AZmZmZmZmLUBmZmZmZmYtQGZmZmZmZi1AzczMzMzMLUAAAAAAAAAuQAAAAAAAAC5AAAAAAAAALkAAAAAAAAAuQAAAAAAAAC5AAAAAAAAALkAAAAAAAAAuQAAAAAAAAC5AAAAAAAAALkAAAAAAAAAuQJqZmZmZmS5AmpmZmZmZLkCamZmZmZkuQDMzMzMzsy5AzczMzMzMLkDNzMzMzMwuQM3MzMzMzC5AzczMzMzMLkDNzMzMzMwuQM3MzMzMzC5AzczMzMzMLkDNzMzMzMwuQM3MzMzMzC5AzczMzMzMLkDNzMzMzMwuQM3MzMzMzC5AZmZmZmbmLkAAAAAAAAAvQAAAAAAAAC9AmZmZmZkZL0DMzMzMzEwvQMzMzMzMTC9AzMzMzMxML0DMzMzMzEwvQAAAAAAAgC9AAAAAAACAL0AAAAAAAIAvQAAAAAAAgC9AAAAAAACAL0AAAAAAAIAvQAAAAAAAgC9AmpmZmZmZL0BmZmZmZuYvQGZmZmZm5i9AZmZmZmbmL0BmZmZmZuYvQM3MzMzMDDBAmpmZmZkZMEAAAAAAAEAwQAAAAAAAQDBAAAAAAABAMEAAAAAAAEAwQAAAAAAAQDBAAAAAAABAMEAAAAAAAEAwQAAAAAAAQDBAAAAAAABAMEAAAAAAAEAwQAAAAAAAQDBAAAAAAABAMEAAAAAAAEAwQAAAAAAAQDBAAAAAAABAMEAAAAAAAEAwQAAAAAAAQDBAAAAAAABAMEAAAAAAAEAwQAAAAAAAQDBAAAAAAABAMEAAAAAAAEAwQAAAAAAAQDBAAAAAAABAMEAAAAAAAEAwQAAAAAAAQDBAAAAAAABAMEAAAAAAAEAwQAAAAAAAQDBAAAAAAABAMEDMzMzMzEwwQJqZmZmZWTBAmpmZmZlZMECamZmZmVkwQJqZmZmZWTBAmpmZmZlZMECamZmZmVkwQJqZmZmZWTBAZmZmZmZmMEAAAAAAAIAwQAAAAAAAgDBAzczMzMyMMEDNzMzMzIwwQM3MzMzMjDBAzczMzMyMMECZmZmZmZkwQJmZmZmZmTBAZmZmZmamMEBmZmZmZqYwQGZmZmZmpjBAZmZmZmamMEBmZmZmZqYwQGZmZmZmpjBAZmZmZmamMEBmZmZmZqYwQGZmZmZmpjBAZmZmZmamMEBmZmZmZqYwQGZmZmZmpjBAAAAAAADAMECamZmZmdkwQGZmZmZm5jBAZmZmZmbmMEBmZmZmZuYwQGZmZmZm5jBAZmZmZmbmMEBmZmZmZuYwQGZmZmZm5jBAZmZmZmbmMEAzMzMzM/MwQDMzMzMz8zBAZ2ZmZmYmMUAzMzMzMzMxQDMzMzMzMzFAMzMzMzMzMUAzMzMzMzMxQDMzMzMzMzFAMzMzMzMzMUAAAAAAAEAxQM3MzMzMTDFAZmZmZmZmMUAAAAAAAIAxQAAAAAAAgDFAAAAAAACAMUAAAAAAAIAxQAAAAAAAgDFAAAAAAACAMUAAAAAAAIAxQAAAAAAAgDFAAAAAAACAMUAAAAAAAIAxQAAAAAAAgDFAAAAAAACAMUAAAAAAAIAxQAAAAAAAgDFAAAAAAACAMUAAAAAAAIAxQAAAAAAAgDFAAAAAAACAMUAAAAAAAIAxQAAAAAAAgDFAAAAAAACAMUAzMzMzM7MxQAAAAAAAwDFAAAAAAADAMUDNzMzMzMwxQM3MzMzMzDFAzczMzMzMMUDNzMzMzMwxQM3MzMzMzDFAzczMzMzMMUDNzMzMzMwxQM3MzMzMzDFAzczMzMzMMUDNzMzMzMwxQM3MzMzMzDFAAAAAAAAAMkAAAAAAAAAyQAAAAAAAADJAAAAAAAAAMkAAAAAAAAAyQM3MzMzMDDJAmpmZmZkZMkBmZmZmZiYyQGZmZmZmJjJAMzMzMzMzMkAzMzMzMzMyQAAAAAAAQDJAAAAAAABAMkCamZmZmVkyQJqZmZmZWTJAmpmZmZlZMkCamZmZmVkyQJqZmZmZWTJAmpmZmZlZMkCamZmZmVkyQJqZmZmZWTJAmpmZmZlZMkCamZmZmVkyQGdmZmZmZjJAMzMzMzNzMkAzMzMzM3MyQAAAAAAAgDJAAAAAAACAMkAAAAAAAIAyQAAAAAAAgDJAAAAAAACAMkAAAAAAAIAyQAAAAAAAgDJAAAAAAACAMkAAAAAAAIAyQAAAAAAAgDJAAAAAAACAMkAAAAAAAIAyQM3MzMzMjDJAzczMzMyMMkDNzMzMzIwyQM3MzMzMjDJANDMzMzOzMkA0MzMzM7MyQDQzMzMzszJANDMzMzOzMkA0MzMzM7MyQDQzMzMzszJANDMzMzOzMkA0MzMzM7MyQDQzMzMzszJANDMzMzOzMkAAAAAAAMAyQAAAAAAAwDJAAAAAAADAMkAAAAAAAMAyQAAAAAAAwDJAAAAAAADAMkAAAAAAAMAyQAAAAAAAwDJAAAAAAADAMkAAAAAAAMAyQAAAAAAAwDJAAAAAAADAMkAAAAAAAMAyQAAAAAAAwDJAAAAAAADAMkDMzMzMzMwyQGZmZmZm5jJAZmZmZmbmMkBmZmZmZuYyQAAAAAAAADNAAAAAAAAAM0AAAAAAAAAzQAAAAAAAADNAAAAAAAAAM0DNzMzMzAwzQM3MzMzMDDNAzczMzMwMM0DNzMzMzAwzQM3MzMzMDDNAzczMzMwMM0DNzMzMzAwzQM3MzMzMDDNAMzMzMzMzM0CamZmZmVkzQGZmZmZmZjNAZmZmZmZmM0BmZmZmZmYzQGZmZmZmZjNAZmZmZmZmM0BmZmZmZmYzQGZmZmZmZjNAMzMzMzNzM0DNzMzMzIwzQGdmZmZmpjNAMzMzMzOzM0AzMzMzM7MzQDMzMzMzszNAMzMzMzOzM0AzMzMzM7MzQDMzMzMzszNAMzMzMzOzM0AzMzMzM7MzQDMzMzMzszNAMzMzMzOzM0AzMzMzM7MzQDMzMzMzszNAMzMzMzOzM0AAAAAAAMAzQM3MzMzMzDNAZmZmZmbmM0AAAAAAAAA0QAAAAAAAADRAAAAAAAAANEAAAAAAAAA0QAAAAAAAADRAAAAAAAAANEAAAAAAAAA0QAAAAAAAADRAAAAAAAAANEAAAAAAAAA0QAAAAAAAADRAAAAAAAAANEAAAAAAAIAyQDQzMzMzszJAAAAAAADAMkAAAAAAAAA0QDQzMzMzsy1AAAAAAACAL0CZmZmZmZkwQGZmZmZmpjBAAAAAAABAMUCamZmZmVkxQJqZmZmZWTFAzczMzMzMMUAAAAAAAAAyQGdmZmZmZjJANDMzMzOzMkAAAAAAAMAyQAAAAAAAADNAZmZmZmYmM0BnZmZmZqYzQAAAAAAAgCZAAAAAAAAAKUAAAAAAAAAuQGZmZmZm5i5AMzMzMzOzL0AAAAAAAIAxQAAAAAAAgDFAAAAAAACAMUAAAAAAAAAyQJqZmZmZWTJAZmZmZmbmMkAAAAAAAAAzQAAAAAAAADRAMzMzMzNzMkAzMzMzM/MyQAAAAAAAgCxAzczMzMyMMEDNzMzMzMwxQGdmZmZmZjJAZmZmZmZmM0AzMzMzM7MzQAAAAAAAAC9AmpmZmZlZMkDNzMzMzMwxQAAAAAAAwDJAzczMzMxMM0A=",
            "dtype": "f8",
            "shape": "493"
           },
           "bdata": "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",
           "dtype": "f8"
          }
         },
         "mode": "markers",
         "name": "All",
         "text": [
          "Attendance: 80%-100%<br>Gaming: 0-1 Hour<br>CGPA: 3.35",
          "Attendance: 80%-100%<br>Gaming: 0-1 Hour<br>CGPA: 3.47",
          "Attendance: 80%-100%<br>Gaming: More than 3 Hours<br>CGPA: 3.72",
          "Attendance: 80%-100%<br>Gaming: More than 3 Hours<br>CGPA: 3.75",
          "Attendance: 80%-100%<br>Gaming: 2-3 Hours<br>CGPA: 3.94",
          "Attendance: Below 40%<br>Gaming: More than 3 Hours<br>CGPA: 1.00",
          "Attendance: 60%-79%<br>Gaming: More than 3 Hours<br>CGPA: 1.06",
          "Attendance: 80%-100%<br>Gaming: More than 3 Hours<br>CGPA: 1.25",
          "Attendance: Below 40%<br>Gaming: More than 3 Hours<br>CGPA: 1.44",
          "Attendance: Below 40%<br>Gaming: More than 3 Hours<br>CGPA: 1.50",
          "Attendance: Below 40%<br>Gaming: More than 3 Hours<br>CGPA: 1.56",
          "Attendance: Below 40%<br>Gaming: More than 3 Hours<br>CGPA: 1.57",
          "Attendance: 60%-79%<br>Gaming: More than 3 Hours<br>CGPA: 1.57",
          "Attendance: 60%-79%<br>Gaming: More than 3 Hours<br>CGPA: 1.60",
          "Attendance: Below 40%<br>Gaming: More than 3 Hours<br>CGPA: 1.62",
          "Attendance: Below 40%<br>Gaming: More than 3 Hours<br>CGPA: 1.69",
          "Attendance: 60%-79%<br>Gaming: More than 3 Hours<br>CGPA: 1.71",
          "Attendance: 60%-79%<br>Gaming: More than 3 Hours<br>CGPA: 1.72",
          "Attendance: 60%-79%<br>Gaming: More than 3 Hours<br>CGPA: 1.75",
          "Attendance: 60%-79%<br>Gaming: More than 3 Hours<br>CGPA: 1.75",
          "Attendance: 60%-79%<br>Gaming: More than 3 Hours<br>CGPA: 1.75",
          "Attendance: 80%-100%<br>Gaming: 0-1 Hour<br>CGPA: 1.80",
          "Attendance: 60%-79%<br>Gaming: More than 3 Hours<br>CGPA: 1.86",
          "Attendance: 60%-79%<br>Gaming: More than 3 Hours<br>CGPA: 1.88",
          "Attendance: 60%-79%<br>Gaming: More than 3 Hours<br>CGPA: 1.89",
          "Attendance: Below 40%<br>Gaming: More than 3 Hours<br>CGPA: 1.90",
          "Attendance: Below 40%<br>Gaming: More than 3 Hours<br>CGPA: 1.90",
          "Attendance: 60%-79%<br>Gaming: More than 3 Hours<br>CGPA: 1.92",
          "Attendance: 60%-79%<br>Gaming: More than 3 Hours<br>CGPA: 1.97",
          "Attendance: 60%-79%<br>Gaming: 0-1 Hour<br>CGPA: 2.00",
          "Attendance: 60%-79%<br>Gaming: More than 3 Hours<br>CGPA: 2.00",
          "Attendance: 60%-79%<br>Gaming: More than 3 Hours<br>CGPA: 2.02",
          "Attendance: 60%-79%<br>Gaming: More than 3 Hours<br>CGPA: 2.10",
          "Attendance: Below 40%<br>Gaming: More than 3 Hours<br>CGPA: 2.10",
          "Attendance: 60%-79%<br>Gaming: More than 3 Hours<br>CGPA: 2.10",
          "Attendance: 40%-59%<br>Gaming: More than 3 Hours<br>CGPA: 2.17",
          "Attendance: 40%-59%<br>Gaming: More than 3 Hours<br>CGPA: 2.17",
          "Attendance: 40%-59%<br>Gaming: More than 3 Hours<br>CGPA: 2.17",
          "Attendance: 40%-59%<br>Gaming: More than 3 Hours<br>CGPA: 2.17",
          "Attendance: 60%-79%<br>Gaming: More than 3 Hours<br>CGPA: 2.20",
          "Attendance: 60%-79%<br>Gaming: More than 3 Hours<br>CGPA: 2.22",
          "Attendance: 40%-59%<br>Gaming: More than 3 Hours<br>CGPA: 2.25",
          "Attendance: 60%-79%<br>Gaming: More than 3 Hours<br>CGPA: 2.25",
          "Attendance: 40%-59%<br>Gaming: More than 3 Hours<br>CGPA: 2.25",
          "Attendance: 40%-59%<br>Gaming: More than 3 Hours<br>CGPA: 2.25",
          "Attendance: 60%-79%<br>Gaming: More than 3 Hours<br>CGPA: 2.28",
          "Attendance: 40%-59%<br>Gaming: More than 3 Hours<br>CGPA: 2.30",
          "Attendance: 60%-79%<br>Gaming: More than 3 Hours<br>CGPA: 2.30",
          "Attendance: 40%-59%<br>Gaming: More than 3 Hours<br>CGPA: 2.31",
          "Attendance: 40%-59%<br>Gaming: More than 3 Hours<br>CGPA: 2.31",
          "Attendance: 40%-59%<br>Gaming: More than 3 Hours<br>CGPA: 2.31",
          "Attendance: 60%-79%<br>Gaming: More than 3 Hours<br>CGPA: 2.33",
          "Attendance: 40%-59%<br>Gaming: More than 3 Hours<br>CGPA: 2.33",
          "Attendance: 40%-59%<br>Gaming: More than 3 Hours<br>CGPA: 2.33",
          "Attendance: 40%-59%<br>Gaming: More than 3 Hours<br>CGPA: 2.33",
          "Attendance: 40%-59%<br>Gaming: More than 3 Hours<br>CGPA: 2.35",
          "Attendance: 40%-59%<br>Gaming: More than 3 Hours<br>CGPA: 2.35",
          "Attendance: 40%-59%<br>Gaming: More than 3 Hours<br>CGPA: 2.35",
          "Attendance: 40%-59%<br>Gaming: More than 3 Hours<br>CGPA: 2.38",
          "Attendance: 40%-59%<br>Gaming: More than 3 Hours<br>CGPA: 2.38",
          "Attendance: 40%-59%<br>Gaming: More than 3 Hours<br>CGPA: 2.38",
          "Attendance: 40%-59%<br>Gaming: More than 3 Hours<br>CGPA: 2.38",
          "Attendance: 60%-79%<br>Gaming: More than 3 Hours<br>CGPA: 2.41",
          "Attendance: 40%-59%<br>Gaming: More than 3 Hours<br>CGPA: 2.44",
          "Attendance: 40%-59%<br>Gaming: More than 3 Hours<br>CGPA: 2.44",
          "Attendance: 80%-100%<br>Gaming: More than 3 Hours<br>CGPA: 2.45",
          "Attendance: 60%-79%<br>Gaming: More than 3 Hours<br>CGPA: 2.45",
          "Attendance: 60%-79%<br>Gaming: More than 3 Hours<br>CGPA: 2.47",
          "Attendance: 80%-100%<br>Gaming: 0-1 Hour<br>CGPA: 2.50",
          "Attendance: 60%-79%<br>Gaming: More than 3 Hours<br>CGPA: 2.50",
          "Attendance: 40%-59%<br>Gaming: More than 3 Hours<br>CGPA: 2.50",
          "Attendance: 60%-79%<br>Gaming: More than 3 Hours<br>CGPA: 2.53",
          "Attendance: 80%-100%<br>Gaming: 2-3 Hours<br>CGPA: 2.55",
          "Attendance: 60%-79%<br>Gaming: More than 3 Hours<br>CGPA: 2.55",
          "Attendance: 40%-59%<br>Gaming: More than 3 Hours<br>CGPA: 2.56",
          "Attendance: 40%-59%<br>Gaming: More than 3 Hours<br>CGPA: 2.56",
          "Attendance: 40%-59%<br>Gaming: More than 3 Hours<br>CGPA: 2.56",
          "Attendance: 80%-100%<br>Gaming: More than 3 Hours<br>CGPA: 2.58",
          "Attendance: 40%-59%<br>Gaming: More than 3 Hours<br>CGPA: 2.64",
          "Attendance: 40%-59%<br>Gaming: More than 3 Hours<br>CGPA: 2.69",
          "Attendance: 40%-59%<br>Gaming: More than 3 Hours<br>CGPA: 2.69",
          "Attendance: 40%-59%<br>Gaming: More than 3 Hours<br>CGPA: 2.69",
          "Attendance: 40%-59%<br>Gaming: More than 3 Hours<br>CGPA: 2.69",
          "Attendance: 60%-79%<br>Gaming: More than 3 Hours<br>CGPA: 2.70",
          "Attendance: 60%-79%<br>Gaming: More than 3 Hours<br>CGPA: 2.70",
          "Attendance: 60%-79%<br>Gaming: More than 3 Hours<br>CGPA: 2.70",
          "Attendance: 80%-100%<br>Gaming: More than 3 Hours<br>CGPA: 2.75",
          "Attendance: 80%-100%<br>Gaming: 2-3 Hours<br>CGPA: 2.75",
          "Attendance: 80%-100%<br>Gaming: More than 3 Hours<br>CGPA: 2.75",
          "Attendance: 60%-79%<br>Gaming: More than 3 Hours<br>CGPA: 2.75",
          "Attendance: 60%-79%<br>Gaming: More than 3 Hours<br>CGPA: 2.75",
          "Attendance: 60%-79%<br>Gaming: More than 3 Hours<br>CGPA: 2.75",
          "Attendance: 60%-79%<br>Gaming: More than 3 Hours<br>CGPA: 2.75",
          "Attendance: 60%-79%<br>Gaming: More than 3 Hours<br>CGPA: 2.75",
          "Attendance: 60%-79%<br>Gaming: More than 3 Hours<br>CGPA: 2.75",
          "Attendance: 60%-79%<br>Gaming: More than 3 Hours<br>CGPA: 2.75",
          "Attendance: 60%-79%<br>Gaming: More than 3 Hours<br>CGPA: 2.75",
          "Attendance: 60%-79%<br>Gaming: More than 3 Hours<br>CGPA: 2.75",
          "Attendance: 60%-79%<br>Gaming: More than 3 Hours<br>CGPA: 2.75",
          "Attendance: 60%-79%<br>Gaming: More than 3 Hours<br>CGPA: 2.75",
          "Attendance: 60%-79%<br>Gaming: More than 3 Hours<br>CGPA: 2.75",
          "Attendance: 60%-79%<br>Gaming: More than 3 Hours<br>CGPA: 2.75",
          "Attendance: 60%-79%<br>Gaming: More than 3 Hours<br>CGPA: 2.75",
          "Attendance: 60%-79%<br>Gaming: More than 3 Hours<br>CGPA: 2.75",
          "Attendance: 60%-79%<br>Gaming: More than 3 Hours<br>CGPA: 2.75",
          "Attendance: 60%-79%<br>Gaming: More than 3 Hours<br>CGPA: 2.75",
          "Attendance: 60%-79%<br>Gaming: More than 3 Hours<br>CGPA: 2.75",
          "Attendance: 60%-79%<br>Gaming: More than 3 Hours<br>CGPA: 2.75",
          "Attendance: 60%-79%<br>Gaming: More than 3 Hours<br>CGPA: 2.75",
          "Attendance: 60%-79%<br>Gaming: More than 3 Hours<br>CGPA: 2.75",
          "Attendance: 60%-79%<br>Gaming: More than 3 Hours<br>CGPA: 2.75",
          "Attendance: 60%-79%<br>Gaming: More than 3 Hours<br>CGPA: 2.75",
          "Attendance: 60%-79%<br>Gaming: More than 3 Hours<br>CGPA: 2.75",
          "Attendance: 60%-79%<br>Gaming: More than 3 Hours<br>CGPA: 2.75",
          "Attendance: 60%-79%<br>Gaming: 0-1 Hour<br>CGPA: 2.79",
          "Attendance: 60%-79%<br>Gaming: More than 3 Hours<br>CGPA: 2.81",
          "Attendance: 60%-79%<br>Gaming: More than 3 Hours<br>CGPA: 2.81",
          "Attendance: 60%-79%<br>Gaming: More than 3 Hours<br>CGPA: 2.84",
          "Attendance: 60%-79%<br>Gaming: More than 3 Hours<br>CGPA: 2.84",
          "Attendance: 60%-79%<br>Gaming: More than 3 Hours<br>CGPA: 2.84",
          "Attendance: 60%-79%<br>Gaming: More than 3 Hours<br>CGPA: 2.84",
          "Attendance: 60%-79%<br>Gaming: More than 3 Hours<br>CGPA: 2.85",
          "Attendance: 60%-79%<br>Gaming: More than 3 Hours<br>CGPA: 2.86",
          "Attendance: 60%-79%<br>Gaming: More than 3 Hours<br>CGPA: 2.88",
          "Attendance: 60%-79%<br>Gaming: More than 3 Hours<br>CGPA: 2.88",
          "Attendance: 60%-79%<br>Gaming: More than 3 Hours<br>CGPA: 2.88",
          "Attendance: 60%-79%<br>Gaming: More than 3 Hours<br>CGPA: 2.88",
          "Attendance: 60%-79%<br>Gaming: More than 3 Hours<br>CGPA: 2.88",
          "Attendance: 60%-79%<br>Gaming: More than 3 Hours<br>CGPA: 2.89",
          "Attendance: 60%-79%<br>Gaming: More than 3 Hours<br>CGPA: 2.89",
          "Attendance: 60%-79%<br>Gaming: More than 3 Hours<br>CGPA: 2.89",
          "Attendance: 60%-79%<br>Gaming: More than 3 Hours<br>CGPA: 2.89",
          "Attendance: 60%-79%<br>Gaming: More than 3 Hours<br>CGPA: 2.89",
          "Attendance: 60%-79%<br>Gaming: More than 3 Hours<br>CGPA: 2.89",
          "Attendance: 60%-79%<br>Gaming: More than 3 Hours<br>CGPA: 2.89",
          "Attendance: 60%-79%<br>Gaming: 2-3 Hours<br>CGPA: 2.90",
          "Attendance: 40%-59%<br>Gaming: More than 3 Hours<br>CGPA: 2.90",
          "Attendance: 40%-59%<br>Gaming: More than 3 Hours<br>CGPA: 2.90",
          "Attendance: 40%-59%<br>Gaming: More than 3 Hours<br>CGPA: 2.90",
          "Attendance: 40%-59%<br>Gaming: More than 3 Hours<br>CGPA: 2.90",
          "Attendance: 40%-59%<br>Gaming: More than 3 Hours<br>CGPA: 2.90",
          "Attendance: 40%-59%<br>Gaming: More than 3 Hours<br>CGPA: 2.90",
          "Attendance: 40%-59%<br>Gaming: More than 3 Hours<br>CGPA: 2.90",
          "Attendance: 40%-59%<br>Gaming: More than 3 Hours<br>CGPA: 2.90",
          "Attendance: 40%-59%<br>Gaming: More than 3 Hours<br>CGPA: 2.90",
          "Attendance: 40%-59%<br>Gaming: More than 3 Hours<br>CGPA: 2.90",
          "Attendance: 40%-59%<br>Gaming: More than 3 Hours<br>CGPA: 2.90",
          "Attendance: 40%-59%<br>Gaming: More than 3 Hours<br>CGPA: 2.90",
          "Attendance: 40%-59%<br>Gaming: More than 3 Hours<br>CGPA: 2.90",
          "Attendance: 40%-59%<br>Gaming: More than 3 Hours<br>CGPA: 2.90",
          "Attendance: 40%-59%<br>Gaming: More than 3 Hours<br>CGPA: 2.90",
          "Attendance: 40%-59%<br>Gaming: More than 3 Hours<br>CGPA: 2.90",
          "Attendance: 40%-59%<br>Gaming: More than 3 Hours<br>CGPA: 2.90",
          "Attendance: 40%-59%<br>Gaming: More than 3 Hours<br>CGPA: 2.90",
          "Attendance: 60%-79%<br>Gaming: More than 3 Hours<br>CGPA: 2.92",
          "Attendance: 40%-59%<br>Gaming: More than 3 Hours<br>CGPA: 2.94",
          "Attendance: 60%-79%<br>Gaming: More than 3 Hours<br>CGPA: 2.94",
          "Attendance: 60%-79%<br>Gaming: More than 3 Hours<br>CGPA: 2.94",
          "Attendance: 60%-79%<br>Gaming: More than 3 Hours<br>CGPA: 2.94",
          "Attendance: 60%-79%<br>Gaming: More than 3 Hours<br>CGPA: 2.98",
          "Attendance: 80%-100%<br>Gaming: More than 3 Hours<br>CGPA: 3.00",
          "Attendance: 80%-100%<br>Gaming: More than 3 Hours<br>CGPA: 3.00",
          "Attendance: 60%-79%<br>Gaming: 0-1 Hour<br>CGPA: 3.00",
          "Attendance: 80%-100%<br>Gaming: 2-3 Hours<br>CGPA: 3.00",
          "Attendance: 80%-100%<br>Gaming: More than 3 Hours<br>CGPA: 3.00",
          "Attendance: 60%-79%<br>Gaming: More than 3 Hours<br>CGPA: 3.00",
          "Attendance: 60%-79%<br>Gaming: More than 3 Hours<br>CGPA: 3.00",
          "Attendance: 60%-79%<br>Gaming: More than 3 Hours<br>CGPA: 3.00",
          "Attendance: 60%-79%<br>Gaming: More than 3 Hours<br>CGPA: 3.00",
          "Attendance: 60%-79%<br>Gaming: More than 3 Hours<br>CGPA: 3.00",
          "Attendance: 40%-59%<br>Gaming: More than 3 Hours<br>CGPA: 3.06",
          "Attendance: 40%-59%<br>Gaming: More than 3 Hours<br>CGPA: 3.06",
          "Attendance: 40%-59%<br>Gaming: More than 3 Hours<br>CGPA: 3.06",
          "Attendance: 80%-100%<br>Gaming: More than 3 Hours<br>CGPA: 3.07",
          "Attendance: 80%-100%<br>Gaming: 2-3 Hours<br>CGPA: 3.08",
          "Attendance: 60%-79%<br>Gaming: 2-3 Hours<br>CGPA: 3.08",
          "Attendance: 60%-79%<br>Gaming: 2-3 Hours<br>CGPA: 3.08",
          "Attendance: 60%-79%<br>Gaming: 2-3 Hours<br>CGPA: 3.08",
          "Attendance: 60%-79%<br>Gaming: 2-3 Hours<br>CGPA: 3.08",
          "Attendance: 60%-79%<br>Gaming: 2-3 Hours<br>CGPA: 3.08",
          "Attendance: 60%-79%<br>Gaming: 2-3 Hours<br>CGPA: 3.08",
          "Attendance: 60%-79%<br>Gaming: 2-3 Hours<br>CGPA: 3.08",
          "Attendance: 60%-79%<br>Gaming: 2-3 Hours<br>CGPA: 3.08",
          "Attendance: 60%-79%<br>Gaming: 2-3 Hours<br>CGPA: 3.08",
          "Attendance: 60%-79%<br>Gaming: 2-3 Hours<br>CGPA: 3.08",
          "Attendance: 60%-79%<br>Gaming: 2-3 Hours<br>CGPA: 3.08",
          "Attendance: 80%-100%<br>Gaming: 2-3 Hours<br>CGPA: 3.09",
          "Attendance: 80%-100%<br>Gaming: 2-3 Hours<br>CGPA: 3.10",
          "Attendance: 60%-79%<br>Gaming: More than 3 Hours<br>CGPA: 3.10",
          "Attendance: 80%-100%<br>Gaming: 0-1 Hour<br>CGPA: 3.11",
          "Attendance: 80%-100%<br>Gaming: More than 3 Hours<br>CGPA: 3.13",
          "Attendance: 80%-100%<br>Gaming: More than 3 Hours<br>CGPA: 3.13",
          "Attendance: 80%-100%<br>Gaming: More than 3 Hours<br>CGPA: 3.13",
          "Attendance: 80%-100%<br>Gaming: More than 3 Hours<br>CGPA: 3.13",
          "Attendance: 60%-79%<br>Gaming: 2-3 Hours<br>CGPA: 3.15",
          "Attendance: 60%-79%<br>Gaming: 2-3 Hours<br>CGPA: 3.15",
          "Attendance: 60%-79%<br>Gaming: 2-3 Hours<br>CGPA: 3.15",
          "Attendance: 60%-79%<br>Gaming: 2-3 Hours<br>CGPA: 3.15",
          "Attendance: 60%-79%<br>Gaming: 2-3 Hours<br>CGPA: 3.15",
          "Attendance: 60%-79%<br>Gaming: 2-3 Hours<br>CGPA: 3.15",
          "Attendance: 60%-79%<br>Gaming: 2-3 Hours<br>CGPA: 3.15",
          "Attendance: 80%-100%<br>Gaming: More than 3 Hours<br>CGPA: 3.16",
          "Attendance: 60%-79%<br>Gaming: More than 3 Hours<br>CGPA: 3.19",
          "Attendance: 60%-79%<br>Gaming: More than 3 Hours<br>CGPA: 3.19",
          "Attendance: 60%-79%<br>Gaming: More than 3 Hours<br>CGPA: 3.19",
          "Attendance: 60%-79%<br>Gaming: More than 3 Hours<br>CGPA: 3.19",
          "Attendance: 60%-79%<br>Gaming: More than 3 Hours<br>CGPA: 3.21",
          "Attendance: 80%-100%<br>Gaming: More than 3 Hours<br>CGPA: 3.22",
          "Attendance: 80%-100%<br>Gaming: More than 3 Hours<br>CGPA: 3.25",
          "Attendance: 80%-100%<br>Gaming: More than 3 Hours<br>CGPA: 3.25",
          "Attendance: 80%-100%<br>Gaming: More than 3 Hours<br>CGPA: 3.25",
          "Attendance: 60%-79%<br>Gaming: More than 3 Hours<br>CGPA: 3.25",
          "Attendance: 40%-59%<br>Gaming: More than 3 Hours<br>CGPA: 3.25",
          "Attendance: 40%-59%<br>Gaming: More than 3 Hours<br>CGPA: 3.25",
          "Attendance: 40%-59%<br>Gaming: More than 3 Hours<br>CGPA: 3.25",
          "Attendance: 60%-79%<br>Gaming: 2-3 Hours<br>CGPA: 3.25",
          "Attendance: 80%-100%<br>Gaming: More than 3 Hours<br>CGPA: 3.25",
          "Attendance: 80%-100%<br>Gaming: More than 3 Hours<br>CGPA: 3.25",
          "Attendance: 40%-59%<br>Gaming: More than 3 Hours<br>CGPA: 3.25",
          "Attendance: 40%-59%<br>Gaming: More than 3 Hours<br>CGPA: 3.25",
          "Attendance: 60%-79%<br>Gaming: More than 3 Hours<br>CGPA: 3.25",
          "Attendance: 40%-59%<br>Gaming: More than 3 Hours<br>CGPA: 3.25",
          "Attendance: 40%-59%<br>Gaming: More than 3 Hours<br>CGPA: 3.25",
          "Attendance: 40%-59%<br>Gaming: More than 3 Hours<br>CGPA: 3.25",
          "Attendance: 40%-59%<br>Gaming: More than 3 Hours<br>CGPA: 3.25",
          "Attendance: 60%-79%<br>Gaming: More than 3 Hours<br>CGPA: 3.25",
          "Attendance: 40%-59%<br>Gaming: More than 3 Hours<br>CGPA: 3.25",
          "Attendance: 60%-79%<br>Gaming: 2-3 Hours<br>CGPA: 3.25",
          "Attendance: 60%-79%<br>Gaming: 2-3 Hours<br>CGPA: 3.25",
          "Attendance: 60%-79%<br>Gaming: 2-3 Hours<br>CGPA: 3.25",
          "Attendance: 60%-79%<br>Gaming: 2-3 Hours<br>CGPA: 3.25",
          "Attendance: 60%-79%<br>Gaming: 2-3 Hours<br>CGPA: 3.25",
          "Attendance: 60%-79%<br>Gaming: 2-3 Hours<br>CGPA: 3.25",
          "Attendance: 60%-79%<br>Gaming: 2-3 Hours<br>CGPA: 3.25",
          "Attendance: 60%-79%<br>Gaming: 2-3 Hours<br>CGPA: 3.25",
          "Attendance: 60%-79%<br>Gaming: 2-3 Hours<br>CGPA: 3.25",
          "Attendance: 60%-79%<br>Gaming: 2-3 Hours<br>CGPA: 3.25",
          "Attendance: 60%-79%<br>Gaming: 2-3 Hours<br>CGPA: 3.25",
          "Attendance: 80%-100%<br>Gaming: More than 3 Hours<br>CGPA: 3.26",
          "Attendance: 80%-100%<br>Gaming: 2-3 Hours<br>CGPA: 3.27",
          "Attendance: 60%-79%<br>Gaming: 2-3 Hours<br>CGPA: 3.27",
          "Attendance: 60%-79%<br>Gaming: 2-3 Hours<br>CGPA: 3.27",
          "Attendance: 60%-79%<br>Gaming: 2-3 Hours<br>CGPA: 3.27",
          "Attendance: 60%-79%<br>Gaming: 2-3 Hours<br>CGPA: 3.27",
          "Attendance: 60%-79%<br>Gaming: 2-3 Hours<br>CGPA: 3.27",
          "Attendance: 60%-79%<br>Gaming: 2-3 Hours<br>CGPA: 3.27",
          "Attendance: 80%-100%<br>Gaming: More than 3 Hours<br>CGPA: 3.28",
          "Attendance: 60%-79%<br>Gaming: 2-3 Hours<br>CGPA: 3.30",
          "Attendance: 60%-79%<br>Gaming: 2-3 Hours<br>CGPA: 3.30",
          "Attendance: 60%-79%<br>Gaming: 2-3 Hours<br>CGPA: 3.31",
          "Attendance: 60%-79%<br>Gaming: 2-3 Hours<br>CGPA: 3.31",
          "Attendance: 60%-79%<br>Gaming: 2-3 Hours<br>CGPA: 3.31",
          "Attendance: 60%-79%<br>Gaming: 2-3 Hours<br>CGPA: 3.31",
          "Attendance: 80%-100%<br>Gaming: More than 3 Hours<br>CGPA: 3.32",
          "Attendance: 60%-79%<br>Gaming: 2-3 Hours<br>CGPA: 3.32",
          "Attendance: 80%-100%<br>Gaming: 2-3 Hours<br>CGPA: 3.33",
          "Attendance: 60%-79%<br>Gaming: 2-3 Hours<br>CGPA: 3.33",
          "Attendance: 60%-79%<br>Gaming: 2-3 Hours<br>CGPA: 3.33",
          "Attendance: 80%-100%<br>Gaming: More than 3 Hours<br>CGPA: 3.33",
          "Attendance: 60%-79%<br>Gaming: More than 3 Hours<br>CGPA: 3.33",
          "Attendance: 60%-79%<br>Gaming: 2-3 Hours<br>CGPA: 3.33",
          "Attendance: 60%-79%<br>Gaming: 2-3 Hours<br>CGPA: 3.33",
          "Attendance: 60%-79%<br>Gaming: 2-3 Hours<br>CGPA: 3.33",
          "Attendance: 60%-79%<br>Gaming: 2-3 Hours<br>CGPA: 3.33",
          "Attendance: 60%-79%<br>Gaming: 2-3 Hours<br>CGPA: 3.33",
          "Attendance: 60%-79%<br>Gaming: 2-3 Hours<br>CGPA: 3.33",
          "Attendance: 60%-79%<br>Gaming: 2-3 Hours<br>CGPA: 3.33",
          "Attendance: 60%-79%<br>Gaming: 2-3 Hours<br>CGPA: 3.35",
          "Attendance: 80%-100%<br>Gaming: More than 3 Hours<br>CGPA: 3.37",
          "Attendance: 60%-79%<br>Gaming: 2-3 Hours<br>CGPA: 3.38",
          "Attendance: 60%-79%<br>Gaming: 2-3 Hours<br>CGPA: 3.38",
          "Attendance: 60%-79%<br>Gaming: 2-3 Hours<br>CGPA: 3.38",
          "Attendance: 60%-79%<br>Gaming: 2-3 Hours<br>CGPA: 3.38",
          "Attendance: 60%-79%<br>Gaming: 2-3 Hours<br>CGPA: 3.38",
          "Attendance: 60%-79%<br>Gaming: 2-3 Hours<br>CGPA: 3.38",
          "Attendance: 60%-79%<br>Gaming: 2-3 Hours<br>CGPA: 3.38",
          "Attendance: 60%-79%<br>Gaming: 2-3 Hours<br>CGPA: 3.38",
          "Attendance: 80%-100%<br>Gaming: 0-1 Hour<br>CGPA: 3.39",
          "Attendance: 80%-100%<br>Gaming: More than 3 Hours<br>CGPA: 3.39",
          "Attendance: 80%-100%<br>Gaming: More than 3 Hours<br>CGPA: 3.43",
          "Attendance: 80%-100%<br>Gaming: 2-3 Hours<br>CGPA: 3.44",
          "Attendance: 60%-79%<br>Gaming: More than 3 Hours<br>CGPA: 3.44",
          "Attendance: 60%-79%<br>Gaming: More than 3 Hours<br>CGPA: 3.44",
          "Attendance: 60%-79%<br>Gaming: 2-3 Hours<br>CGPA: 3.44",
          "Attendance: 60%-79%<br>Gaming: 2-3 Hours<br>CGPA: 3.44",
          "Attendance: 60%-79%<br>Gaming: 2-3 Hours<br>CGPA: 3.44",
          "Attendance: 60%-79%<br>Gaming: More than 3 Hours<br>CGPA: 3.45",
          "Attendance: 60%-79%<br>Gaming: More than 3 Hours<br>CGPA: 3.46",
          "Attendance: 80%-100%<br>Gaming: More than 3 Hours<br>CGPA: 3.48",
          "Attendance: 40%-59%<br>Gaming: More than 3 Hours<br>CGPA: 3.50",
          "Attendance: 80%-100%<br>Gaming: More than 3 Hours<br>CGPA: 3.50",
          "Attendance: 80%-100%<br>Gaming: More than 3 Hours<br>CGPA: 3.50",
          "Attendance: 80%-100%<br>Gaming: 2-3 Hours<br>CGPA: 3.50",
          "Attendance: 80%-100%<br>Gaming: 2-3 Hours<br>CGPA: 3.50",
          "Attendance: 80%-100%<br>Gaming: More than 3 Hours<br>CGPA: 3.50",
          "Attendance: 80%-100%<br>Gaming: More than 3 Hours<br>CGPA: 3.50",
          "Attendance: 80%-100%<br>Gaming: 2-3 Hours<br>CGPA: 3.50",
          "Attendance: 80%-100%<br>Gaming: 0-1 Hour<br>CGPA: 3.50",
          "Attendance: 80%-100%<br>Gaming: More than 3 Hours<br>CGPA: 3.50",
          "Attendance: 80%-100%<br>Gaming: More than 3 Hours<br>CGPA: 3.50",
          "Attendance: 80%-100%<br>Gaming: 2-3 Hours<br>CGPA: 3.50",
          "Attendance: 80%-100%<br>Gaming: 0-1 Hour<br>CGPA: 3.50",
          "Attendance: 80%-100%<br>Gaming: 2-3 Hours<br>CGPA: 3.50",
          "Attendance: 60%-79%<br>Gaming: 2-3 Hours<br>CGPA: 3.50",
          "Attendance: 60%-79%<br>Gaming: 2-3 Hours<br>CGPA: 3.50",
          "Attendance: 60%-79%<br>Gaming: 2-3 Hours<br>CGPA: 3.50",
          "Attendance: 60%-79%<br>Gaming: 2-3 Hours<br>CGPA: 3.50",
          "Attendance: 60%-79%<br>Gaming: 2-3 Hours<br>CGPA: 3.50",
          "Attendance: 60%-79%<br>Gaming: 2-3 Hours<br>CGPA: 3.50",
          "Attendance: 60%-79%<br>Gaming: 2-3 Hours<br>CGPA: 3.50",
          "Attendance: 80%-100%<br>Gaming: 0-1 Hour<br>CGPA: 3.54",
          "Attendance: 80%-100%<br>Gaming: More than 3 Hours<br>CGPA: 3.55",
          "Attendance: 80%-100%<br>Gaming: More than 3 Hours<br>CGPA: 3.55",
          "Attendance: 60%-79%<br>Gaming: More than 3 Hours<br>CGPA: 3.56",
          "Attendance: 60%-79%<br>Gaming: More than 3 Hours<br>CGPA: 3.56",
          "Attendance: 60%-79%<br>Gaming: More than 3 Hours<br>CGPA: 3.56",
          "Attendance: 60%-79%<br>Gaming: More than 3 Hours<br>CGPA: 3.56",
          "Attendance: 60%-79%<br>Gaming: More than 3 Hours<br>CGPA: 3.56",
          "Attendance: 60%-79%<br>Gaming: More than 3 Hours<br>CGPA: 3.56",
          "Attendance: 60%-79%<br>Gaming: More than 3 Hours<br>CGPA: 3.56",
          "Attendance: 60%-79%<br>Gaming: More than 3 Hours<br>CGPA: 3.56",
          "Attendance: 60%-79%<br>Gaming: More than 3 Hours<br>CGPA: 3.56",
          "Attendance: 60%-79%<br>Gaming: More than 3 Hours<br>CGPA: 3.56",
          "Attendance: 60%-79%<br>Gaming: More than 3 Hours<br>CGPA: 3.56",
          "Attendance: 80%-100%<br>Gaming: More than 3 Hours<br>CGPA: 3.60",
          "Attendance: 60%-79%<br>Gaming: More than 3 Hours<br>CGPA: 3.60",
          "Attendance: 60%-79%<br>Gaming: More than 3 Hours<br>CGPA: 3.60",
          "Attendance: 60%-79%<br>Gaming: More than 3 Hours<br>CGPA: 3.60",
          "Attendance: 60%-79%<br>Gaming: More than 3 Hours<br>CGPA: 3.60",
          "Attendance: 80%-100%<br>Gaming: 2-3 Hours<br>CGPA: 3.61",
          "Attendance: 80%-100%<br>Gaming: More than 3 Hours<br>CGPA: 3.62",
          "Attendance: 60%-79%<br>Gaming: More than 3 Hours<br>CGPA: 3.63",
          "Attendance: 60%-79%<br>Gaming: More than 3 Hours<br>CGPA: 3.63",
          "Attendance: 80%-100%<br>Gaming: 2-3 Hours<br>CGPA: 3.64",
          "Attendance: 60%-79%<br>Gaming: More than 3 Hours<br>CGPA: 3.64",
          "Attendance: 80%-100%<br>Gaming: 0-1 Hour<br>CGPA: 3.65",
          "Attendance: 80%-100%<br>Gaming: 0-1 Hour<br>CGPA: 3.65",
          "Attendance: 80%-100%<br>Gaming: More than 3 Hours<br>CGPA: 3.67",
          "Attendance: 60%-79%<br>Gaming: 2-3 Hours<br>CGPA: 3.67",
          "Attendance: 60%-79%<br>Gaming: More than 3 Hours<br>CGPA: 3.67",
          "Attendance: 60%-79%<br>Gaming: 2-3 Hours<br>CGPA: 3.67",
          "Attendance: 80%-100%<br>Gaming: More than 3 Hours<br>CGPA: 3.67",
          "Attendance: 60%-79%<br>Gaming: 2-3 Hours<br>CGPA: 3.67",
          "Attendance: 80%-100%<br>Gaming: More than 3 Hours<br>CGPA: 3.67",
          "Attendance: 60%-79%<br>Gaming: 2-3 Hours<br>CGPA: 3.67",
          "Attendance: 60%-79%<br>Gaming: 2-3 Hours<br>CGPA: 3.67",
          "Attendance: 60%-79%<br>Gaming: 2-3 Hours<br>CGPA: 3.67",
          "Attendance: 80%-100%<br>Gaming: More than 3 Hours<br>CGPA: 3.68",
          "Attendance: 80%-100%<br>Gaming: 2-3 Hours<br>CGPA: 3.69",
          "Attendance: 80%-100%<br>Gaming: 2-3 Hours<br>CGPA: 3.69",
          "Attendance: 80%-100%<br>Gaming: 2-3 Hours<br>CGPA: 3.70",
          "Attendance: 80%-100%<br>Gaming: 2-3 Hours<br>CGPA: 3.70",
          "Attendance: 60%-79%<br>Gaming: More than 3 Hours<br>CGPA: 3.70",
          "Attendance: 60%-79%<br>Gaming: More than 3 Hours<br>CGPA: 3.70",
          "Attendance: 80%-100%<br>Gaming: More than 3 Hours<br>CGPA: 3.70",
          "Attendance: 60%-79%<br>Gaming: More than 3 Hours<br>CGPA: 3.70",
          "Attendance: 60%-79%<br>Gaming: More than 3 Hours<br>CGPA: 3.70",
          "Attendance: 60%-79%<br>Gaming: More than 3 Hours<br>CGPA: 3.70",
          "Attendance: 60%-79%<br>Gaming: More than 3 Hours<br>CGPA: 3.70",
          "Attendance: 80%-100%<br>Gaming: More than 3 Hours<br>CGPA: 3.70",
          "Attendance: 80%-100%<br>Gaming: 2-3 Hours<br>CGPA: 3.70",
          "Attendance: 80%-100%<br>Gaming: 2-3 Hours<br>CGPA: 3.70",
          "Attendance: 80%-100%<br>Gaming: More than 3 Hours<br>CGPA: 3.71",
          "Attendance: 80%-100%<br>Gaming: More than 3 Hours<br>CGPA: 3.71",
          "Attendance: 80%-100%<br>Gaming: More than 3 Hours<br>CGPA: 3.71",
          "Attendance: 80%-100%<br>Gaming: More than 3 Hours<br>CGPA: 3.71",
          "Attendance: 80%-100%<br>Gaming: More than 3 Hours<br>CGPA: 3.74",
          "Attendance: 80%-100%<br>Gaming: More than 3 Hours<br>CGPA: 3.74",
          "Attendance: 80%-100%<br>Gaming: 2-3 Hours<br>CGPA: 3.74",
          "Attendance: 80%-100%<br>Gaming: 2-3 Hours<br>CGPA: 3.74",
          "Attendance: 80%-100%<br>Gaming: More than 3 Hours<br>CGPA: 3.74",
          "Attendance: 80%-100%<br>Gaming: 2-3 Hours<br>CGPA: 3.74",
          "Attendance: 80%-100%<br>Gaming: More than 3 Hours<br>CGPA: 3.74",
          "Attendance: 80%-100%<br>Gaming: 2-3 Hours<br>CGPA: 3.74",
          "Attendance: 80%-100%<br>Gaming: More than 3 Hours<br>CGPA: 3.74",
          "Attendance: 80%-100%<br>Gaming: More than 3 Hours<br>CGPA: 3.74",
          "Attendance: 80%-100%<br>Gaming: 2-3 Hours<br>CGPA: 3.75",
          "Attendance: 80%-100%<br>Gaming: More than 3 Hours<br>CGPA: 3.75",
          "Attendance: 60%-79%<br>Gaming: More than 3 Hours<br>CGPA: 3.75",
          "Attendance: 80%-100%<br>Gaming: More than 3 Hours<br>CGPA: 3.75",
          "Attendance: 80%-100%<br>Gaming: More than 3 Hours<br>CGPA: 3.75",
          "Attendance: 80%-100%<br>Gaming: More than 3 Hours<br>CGPA: 3.75",
          "Attendance: 80%-100%<br>Gaming: More than 3 Hours<br>CGPA: 3.75",
          "Attendance: 80%-100%<br>Gaming: 2-3 Hours<br>CGPA: 3.75",
          "Attendance: 80%-100%<br>Gaming: 2-3 Hours<br>CGPA: 3.75",
          "Attendance: 80%-100%<br>Gaming: 2-3 Hours<br>CGPA: 3.75",
          "Attendance: 80%-100%<br>Gaming: 2-3 Hours<br>CGPA: 3.75",
          "Attendance: 80%-100%<br>Gaming: 2-3 Hours<br>CGPA: 3.75",
          "Attendance: 80%-100%<br>Gaming: 2-3 Hours<br>CGPA: 3.75",
          "Attendance: 80%-100%<br>Gaming: 2-3 Hours<br>CGPA: 3.75",
          "Attendance: 80%-100%<br>Gaming: 2-3 Hours<br>CGPA: 3.75",
          "Attendance: 80%-100%<br>Gaming: 2-3 Hours<br>CGPA: 3.76",
          "Attendance: 80%-100%<br>Gaming: 2-3 Hours<br>CGPA: 3.78",
          "Attendance: 80%-100%<br>Gaming: 0-1 Hour<br>CGPA: 3.78",
          "Attendance: 80%-100%<br>Gaming: 0-1 Hour<br>CGPA: 3.78",
          "Attendance: 80%-100%<br>Gaming: More than 3 Hours<br>CGPA: 3.80",
          "Attendance: 80%-100%<br>Gaming: More than 3 Hours<br>CGPA: 3.80",
          "Attendance: 80%-100%<br>Gaming: 2-3 Hours<br>CGPA: 3.80",
          "Attendance: 80%-100%<br>Gaming: 0-1 Hour<br>CGPA: 3.80",
          "Attendance: 80%-100%<br>Gaming: 0-1 Hour<br>CGPA: 3.80",
          "Attendance: 80%-100%<br>Gaming: More than 3 Hours<br>CGPA: 3.81",
          "Attendance: 80%-100%<br>Gaming: More than 3 Hours<br>CGPA: 3.81",
          "Attendance: 80%-100%<br>Gaming: More than 3 Hours<br>CGPA: 3.81",
          "Attendance: 80%-100%<br>Gaming: More than 3 Hours<br>CGPA: 3.81",
          "Attendance: 80%-100%<br>Gaming: More than 3 Hours<br>CGPA: 3.81",
          "Attendance: 80%-100%<br>Gaming: More than 3 Hours<br>CGPA: 3.81",
          "Attendance: 80%-100%<br>Gaming: More than 3 Hours<br>CGPA: 3.81",
          "Attendance: 80%-100%<br>Gaming: More than 3 Hours<br>CGPA: 3.81",
          "Attendance: 80%-100%<br>Gaming: 0-1 Hour<br>CGPA: 3.84",
          "Attendance: 80%-100%<br>Gaming: 0-1 Hour<br>CGPA: 3.87",
          "Attendance: 80%-100%<br>Gaming: 2-3 Hours<br>CGPA: 3.88",
          "Attendance: 80%-100%<br>Gaming: 0-1 Hour<br>CGPA: 3.88",
          "Attendance: 80%-100%<br>Gaming: 0-1 Hour<br>CGPA: 3.88",
          "Attendance: 80%-100%<br>Gaming: 0-1 Hour<br>CGPA: 3.88",
          "Attendance: 80%-100%<br>Gaming: 0-1 Hour<br>CGPA: 3.88",
          "Attendance: 80%-100%<br>Gaming: 0-1 Hour<br>CGPA: 3.88",
          "Attendance: 80%-100%<br>Gaming: 0-1 Hour<br>CGPA: 3.88",
          "Attendance: 80%-100%<br>Gaming: 2-3 Hours<br>CGPA: 3.89",
          "Attendance: 80%-100%<br>Gaming: 2-3 Hours<br>CGPA: 3.91",
          "Attendance: 80%-100%<br>Gaming: 0-1 Hour<br>CGPA: 3.93",
          "Attendance: 80%-100%<br>Gaming: 0-1 Hour<br>CGPA: 3.94",
          "Attendance: 80%-100%<br>Gaming: 0-1 Hour<br>CGPA: 3.94",
          "Attendance: 80%-100%<br>Gaming: 0-1 Hour<br>CGPA: 3.94",
          "Attendance: 80%-100%<br>Gaming: 0-1 Hour<br>CGPA: 3.94",
          "Attendance: 80%-100%<br>Gaming: 0-1 Hour<br>CGPA: 3.94",
          "Attendance: 80%-100%<br>Gaming: 0-1 Hour<br>CGPA: 3.94",
          "Attendance: 80%-100%<br>Gaming: 0-1 Hour<br>CGPA: 3.94",
          "Attendance: 80%-100%<br>Gaming: 0-1 Hour<br>CGPA: 3.94",
          "Attendance: 80%-100%<br>Gaming: 0-1 Hour<br>CGPA: 3.94",
          "Attendance: 80%-100%<br>Gaming: 0-1 Hour<br>CGPA: 3.94",
          "Attendance: 80%-100%<br>Gaming: 0-1 Hour<br>CGPA: 3.94",
          "Attendance: 80%-100%<br>Gaming: 0-1 Hour<br>CGPA: 3.94",
          "Attendance: 80%-100%<br>Gaming: 0-1 Hour<br>CGPA: 3.94",
          "Attendance: 80%-100%<br>Gaming: 0-1 Hour<br>CGPA: 3.95",
          "Attendance: 80%-100%<br>Gaming: 2-3 Hours<br>CGPA: 3.96",
          "Attendance: 80%-100%<br>Gaming: More than 3 Hours<br>CGPA: 3.98",
          "Attendance: 60%-79%<br>Gaming: More than 3 Hours<br>CGPA: 4.00",
          "Attendance: 80%-100%<br>Gaming: More than 3 Hours<br>CGPA: 4.00",
          "Attendance: 80%-100%<br>Gaming: More than 3 Hours<br>CGPA: 4.00",
          "Attendance: 80%-100%<br>Gaming: More than 3 Hours<br>CGPA: 4.00",
          "Attendance: 80%-100%<br>Gaming: 2-3 Hours<br>CGPA: 4.00",
          "Attendance: 80%-100%<br>Gaming: More than 3 Hours<br>CGPA: 4.00",
          "Attendance: 80%-100%<br>Gaming: More than 3 Hours<br>CGPA: 4.00",
          "Attendance: 80%-100%<br>Gaming: More than 3 Hours<br>CGPA: 4.00",
          "Attendance: 80%-100%<br>Gaming: More than 3 Hours<br>CGPA: 4.00",
          "Attendance: 80%-100%<br>Gaming: More than 3 Hours<br>CGPA: 4.00",
          "Attendance: 80%-100%<br>Gaming: More than 3 Hours<br>CGPA: 4.00",
          "Attendance: 80%-100%<br>Gaming: More than 3 Hours<br>CGPA: 4.00",
          "Attendance: 80%-100%<br>Gaming: More than 3 Hours<br>CGPA: 3.70",
          "Attendance: 60%-79%<br>Gaming: More than 3 Hours<br>CGPA: 3.74",
          "Attendance: 80%-100%<br>Gaming: 2-3 Hours<br>CGPA: 3.75",
          "Attendance: 80%-100%<br>Gaming: 0-1 Hour<br>CGPA: 4.00",
          "Attendance: 80%-100%<br>Gaming: 2-3 Hours<br>CGPA: 2.97",
          "Attendance: 60%-79%<br>Gaming: More than 3 Hours<br>CGPA: 3.15",
          "Attendance: 80%-100%<br>Gaming: 2-3 Hours<br>CGPA: 3.32",
          "Attendance: 60%-79%<br>Gaming: 0-1 Hour<br>CGPA: 3.33",
          "Attendance: 60%-79%<br>Gaming: 2-3 Hours<br>CGPA: 3.45",
          "Attendance: 80%-100%<br>Gaming: 2-3 Hours<br>CGPA: 3.47",
          "Attendance: 80%-100%<br>Gaming: More than 3 Hours<br>CGPA: 3.47",
          "Attendance: 80%-100%<br>Gaming: 2-3 Hours<br>CGPA: 3.56",
          "Attendance: 80%-100%<br>Gaming: 0-1 Hour<br>CGPA: 3.60",
          "Attendance: 80%-100%<br>Gaming: 2-3 Hours<br>CGPA: 3.68",
          "Attendance: 80%-100%<br>Gaming: 2-3 Hours<br>CGPA: 3.74",
          "Attendance: 80%-100%<br>Gaming: More than 3 Hours<br>CGPA: 3.75",
          "Attendance: 80%-100%<br>Gaming: 0-1 Hour<br>CGPA: 3.80",
          "Attendance: 80%-100%<br>Gaming: More than 3 Hours<br>CGPA: 3.83",
          "Attendance: 80%-100%<br>Gaming: More than 3 Hours<br>CGPA: 3.93",
          "Attendance: 40%-59%<br>Gaming: 2-3 Hours<br>CGPA: 2.25",
          "Attendance: 60%-79%<br>Gaming: More than 3 Hours<br>CGPA: 2.50",
          "Attendance: 80%-100%<br>Gaming: More than 3 Hours<br>CGPA: 3.00",
          "Attendance: 80%-100%<br>Gaming: More than 3 Hours<br>CGPA: 3.09",
          "Attendance: 80%-100%<br>Gaming: 0-1 Hour<br>CGPA: 3.17",
          "Attendance: 60%-79%<br>Gaming: More than 3 Hours<br>CGPA: 3.50",
          "Attendance: 80%-100%<br>Gaming: 0-1 Hour<br>CGPA: 3.50",
          "Attendance: 80%-100%<br>Gaming: 0-1 Hour<br>CGPA: 3.50",
          "Attendance: 80%-100%<br>Gaming: More than 3 Hours<br>CGPA: 3.60",
          "Attendance: 80%-100%<br>Gaming: More than 3 Hours<br>CGPA: 3.67",
          "Attendance: 80%-100%<br>Gaming: 0-1 Hour<br>CGPA: 3.78",
          "Attendance: 80%-100%<br>Gaming: More than 3 Hours<br>CGPA: 3.80",
          "Attendance: 80%-100%<br>Gaming: 2-3 Hours<br>CGPA: 4.00",
          "Attendance: 80%-100%<br>Gaming: 2-3 Hours<br>CGPA: 3.69",
          "Attendance: 60%-79%<br>Gaming: 2-3 Hours<br>CGPA: 3.79",
          "Attendance: 80%-100%<br>Gaming: More than 3 Hours<br>CGPA: 2.85",
          "Attendance: Below 40%<br>Gaming: 2-3 Hours<br>CGPA: 3.31",
          "Attendance: 80%-100%<br>Gaming: More than 3 Hours<br>CGPA: 3.56",
          "Attendance: 80%-100%<br>Gaming: More than 3 Hours<br>CGPA: 3.68",
          "Attendance: 80%-100%<br>Gaming: 2-3 Hours<br>CGPA: 3.88",
          "Attendance: 80%-100%<br>Gaming: 0-1 Hour<br>CGPA: 3.94",
          "Attendance: 40%-59%<br>Gaming: 2-3 Hours<br>CGPA: 3.10",
          "Attendance: 60%-79%<br>Gaming: 2-3 Hours<br>CGPA: 3.67",
          "Attendance: 40%-59%<br>Gaming: 2-3 Hours<br>CGPA: 3.56",
          "Attendance: 80%-100%<br>Gaming: 2-3 Hours<br>CGPA: 3.75",
          "Attendance: 80%-100%<br>Gaming: 2-3 Hours<br>CGPA: 3.86"
         ],
         "type": "scatter3d",
         "visible": true,
         "x": {
          "_inputArray": {
           "0": 3,
           "1": 3,
           "10": 0,
           "100": 2,
           "101": 2,
           "102": 2,
           "103": 2,
           "104": 2,
           "105": 2,
           "106": 2,
           "107": 2,
           "108": 2,
           "109": 2,
           "11": 0,
           "110": 2,
           "111": 2,
           "112": 2,
           "113": 2,
           "114": 2,
           "115": 2,
           "116": 2,
           "117": 2,
           "118": 2,
           "119": 2,
           "12": 2,
           "120": 2,
           "121": 2,
           "122": 2,
           "123": 2,
           "124": 2,
           "125": 2,
           "126": 2,
           "127": 2,
           "128": 2,
           "129": 2,
           "13": 2,
           "130": 2,
           "131": 2,
           "132": 2,
           "133": 2,
           "134": 2,
           "135": 2,
           "136": 1,
           "137": 1,
           "138": 1,
           "139": 1,
           "14": 0,
           "140": 1,
           "141": 1,
           "142": 1,
           "143": 1,
           "144": 1,
           "145": 1,
           "146": 1,
           "147": 1,
           "148": 1,
           "149": 1,
           "15": 0,
           "150": 1,
           "151": 1,
           "152": 1,
           "153": 1,
           "154": 2,
           "155": 1,
           "156": 2,
           "157": 2,
           "158": 2,
           "159": 2,
           "16": 2,
           "160": 3,
           "161": 3,
           "162": 2,
           "163": 3,
           "164": 3,
           "165": 2,
           "166": 2,
           "167": 2,
           "168": 2,
           "169": 2,
           "17": 2,
           "170": 1,
           "171": 1,
           "172": 1,
           "173": 3,
           "174": 3,
           "175": 2,
           "176": 2,
           "177": 2,
           "178": 2,
           "179": 2,
           "18": 2,
           "180": 2,
           "181": 2,
           "182": 2,
           "183": 2,
           "184": 2,
           "185": 2,
           "186": 3,
           "187": 3,
           "188": 2,
           "189": 3,
           "19": 2,
           "190": 3,
           "191": 3,
           "192": 3,
           "193": 3,
           "194": 2,
           "195": 2,
           "196": 2,
           "197": 2,
           "198": 2,
           "199": 2,
           "2": 3,
           "20": 2,
           "200": 2,
           "201": 3,
           "202": 2,
           "203": 2,
           "204": 2,
           "205": 2,
           "206": 2,
           "207": 3,
           "208": 3,
           "209": 3,
           "21": 3,
           "210": 3,
           "211": 2,
           "212": 1,
           "213": 1,
           "214": 1,
           "215": 2,
           "216": 3,
           "217": 3,
           "218": 1,
           "219": 1,
           "22": 2,
           "220": 2,
           "221": 1,
           "222": 1,
           "223": 1,
           "224": 1,
           "225": 2,
           "226": 1,
           "227": 2,
           "228": 2,
           "229": 2,
           "23": 2,
           "230": 2,
           "231": 2,
           "232": 2,
           "233": 2,
           "234": 2,
           "235": 2,
           "236": 2,
           "237": 2,
           "238": 3,
           "239": 3,
           "24": 2,
           "240": 2,
           "241": 2,
           "242": 2,
           "243": 2,
           "244": 2,
           "245": 2,
           "246": 3,
           "247": 2,
           "248": 2,
           "249": 2,
           "25": 0,
           "250": 2,
           "251": 2,
           "252": 2,
           "253": 3,
           "254": 2,
           "255": 3,
           "256": 2,
           "257": 2,
           "258": 3,
           "259": 2,
           "26": 0,
           "260": 2,
           "261": 2,
           "262": 2,
           "263": 2,
           "264": 2,
           "265": 2,
           "266": 2,
           "267": 2,
           "268": 3,
           "269": 2,
           "27": 2,
           "270": 2,
           "271": 2,
           "272": 2,
           "273": 2,
           "274": 2,
           "275": 2,
           "276": 2,
           "277": 3,
           "278": 3,
           "279": 3,
           "28": 2,
           "280": 3,
           "281": 2,
           "282": 2,
           "283": 2,
           "284": 2,
           "285": 2,
           "286": 2,
           "287": 2,
           "288": 3,
           "289": 1,
           "29": 2,
           "290": 3,
           "291": 3,
           "292": 3,
           "293": 3,
           "294": 3,
           "295": 3,
           "296": 3,
           "297": 3,
           "298": 3,
           "299": 3,
           "3": 3,
           "30": 2,
           "300": 3,
           "301": 3,
           "302": 3,
           "303": 2,
           "304": 2,
           "305": 2,
           "306": 2,
           "307": 2,
           "308": 2,
           "309": 2,
           "31": 2,
           "310": 3,
           "311": 3,
           "312": 3,
           "313": 2,
           "314": 2,
           "315": 2,
           "316": 2,
           "317": 2,
           "318": 2,
           "319": 2,
           "32": 2,
           "320": 2,
           "321": 2,
           "322": 2,
           "323": 2,
           "324": 3,
           "325": 2,
           "326": 2,
           "327": 2,
           "328": 2,
           "329": 3,
           "33": 0,
           "330": 3,
           "331": 2,
           "332": 2,
           "333": 3,
           "334": 2,
           "335": 3,
           "336": 3,
           "337": 3,
           "338": 2,
           "339": 2,
           "34": 2,
           "340": 2,
           "341": 3,
           "342": 2,
           "343": 3,
           "344": 2,
           "345": 2,
           "346": 2,
           "347": 3,
           "348": 3,
           "349": 3,
           "35": 1,
           "350": 3,
           "351": 3,
           "352": 2,
           "353": 2,
           "354": 3,
           "355": 2,
           "356": 2,
           "357": 2,
           "358": 2,
           "359": 3,
           "36": 1,
           "360": 3,
           "361": 3,
           "362": 3,
           "363": 3,
           "364": 3,
           "365": 3,
           "366": 3,
           "367": 3,
           "368": 3,
           "369": 3,
           "37": 1,
           "370": 3,
           "371": 3,
           "372": 3,
           "373": 3,
           "374": 3,
           "375": 3,
           "376": 3,
           "377": 3,
           "378": 2,
           "379": 3,
           "38": 1,
           "380": 3,
           "381": 3,
           "382": 3,
           "383": 3,
           "384": 3,
           "385": 3,
           "386": 3,
           "387": 3,
           "388": 3,
           "389": 3,
           "39": 2,
           "390": 3,
           "391": 3,
           "392": 3,
           "393": 3,
           "394": 3,
           "395": 3,
           "396": 3,
           "397": 3,
           "398": 3,
           "399": 3,
           "4": 3,
           "40": 2,
           "400": 3,
           "401": 3,
           "402": 3,
           "403": 3,
           "404": 3,
           "405": 3,
           "406": 3,
           "407": 3,
           "408": 3,
           "409": 3,
           "41": 1,
           "410": 3,
           "411": 3,
           "412": 3,
           "413": 3,
           "414": 3,
           "415": 3,
           "416": 3,
           "417": 3,
           "418": 3,
           "419": 3,
           "42": 2,
           "420": 3,
           "421": 3,
           "422": 3,
           "423": 3,
           "424": 3,
           "425": 3,
           "426": 3,
           "427": 3,
           "428": 3,
           "429": 3,
           "43": 1,
           "430": 3,
           "431": 3,
           "432": 3,
           "433": 3,
           "434": 3,
           "435": 3,
           "436": 2,
           "437": 3,
           "438": 3,
           "439": 3,
           "44": 1,
           "440": 3,
           "441": 3,
           "442": 3,
           "443": 3,
           "444": 3,
           "445": 3,
           "446": 3,
           "447": 3,
           "448": 3,
           "449": 2,
           "45": 2,
           "450": 3,
           "451": 3,
           "452": 3,
           "453": 2,
           "454": 3,
           "455": 2,
           "456": 2,
           "457": 3,
           "458": 3,
           "459": 3,
           "46": 1,
           "460": 3,
           "461": 3,
           "462": 3,
           "463": 3,
           "464": 3,
           "465": 3,
           "466": 3,
           "467": 1,
           "468": 2,
           "469": 3,
           "47": 2,
           "470": 3,
           "471": 3,
           "472": 2,
           "473": 3,
           "474": 3,
           "475": 3,
           "476": 3,
           "477": 3,
           "478": 3,
           "479": 3,
           "48": 1,
           "480": 3,
           "481": 2,
           "482": 3,
           "483": 0,
           "484": 3,
           "485": 3,
           "486": 3,
           "487": 3,
           "488": 1,
           "489": 2,
           "49": 1,
           "490": 1,
           "491": 3,
           "492": 3,
           "5": 0,
           "50": 1,
           "51": 2,
           "52": 1,
           "53": 1,
           "54": 1,
           "55": 1,
           "56": 1,
           "57": 1,
           "58": 1,
           "59": 1,
           "6": 2,
           "60": 1,
           "61": 1,
           "62": 2,
           "63": 1,
           "64": 1,
           "65": 3,
           "66": 2,
           "67": 2,
           "68": 3,
           "69": 2,
           "7": 3,
           "70": 1,
           "71": 2,
           "72": 3,
           "73": 2,
           "74": 1,
           "75": 1,
           "76": 1,
           "77": 3,
           "78": 1,
           "79": 1,
           "8": 0,
           "80": 1,
           "81": 1,
           "82": 1,
           "83": 2,
           "84": 2,
           "85": 2,
           "86": 3,
           "87": 3,
           "88": 3,
           "89": 2,
           "9": 0,
           "90": 2,
           "91": 2,
           "92": 2,
           "93": 2,
           "94": 2,
           "95": 2,
           "96": 2,
           "97": 2,
           "98": 2,
           "99": 2,
           "bdata": "AwMDAwMAAgMAAAAAAgIAAAICAgICAwICAgAAAgICAgICAAIBAQEBAgIBAgEBAgECAQEBAgEBAQEBAQEBAQECAQEDAgIDAgECAwIBAQEDAQEBAQECAgIDAwMCAgICAgICAgICAgICAgICAgICAgICAgICAgICAgICAgICAgICAgICAgICAgICAgEBAQEBAQEBAQEBAQEBAQEBAQIBAgICAgMDAgMDAgICAgIBAQEDAwICAgICAgICAgICAwMCAwMDAwMCAgICAgICAwICAgICAwMDAwIBAQECAwMBAQIBAQEBAgECAgICAgICAgICAgMDAgICAgICAwICAgICAgMCAwICAwICAgICAgICAgMCAgICAgICAgMDAwMCAgICAgICAwEDAwMDAwMDAwMDAwMDAgICAgICAgMDAwICAgICAgICAgICAwICAgIDAwICAwIDAwMCAgIDAgMCAgIDAwMDAwICAwICAgIDAwMDAwMDAwMDAwMDAwMDAwMDAgMDAwMDAwMDAwMDAwMDAwMDAwMDAwMDAwMDAwMDAwMDAwMDAwMDAwMDAwMDAwMDAwMDAwMDAwMDAwIDAwMDAwMDAwMDAwMCAwMDAgMCAgMDAwMDAwMDAwMBAgMDAwIDAwMDAwMDAwIDAAMDAwMBAgEDAw==",
           "dtype": "i1",
           "shape": "493"
          },
          "bdata": "AwMDAwMAAgMAAAAAAgIAAAICAgICAwICAgAAAgICAgICAAIBAQEBAgIBAgEBAgECAQEBAgEBAQEBAQEBAQECAQEDAgIDAgECAwIBAQEDAQEBAQECAgIDAwMCAgICAgICAgICAgICAgICAgICAgICAgICAgICAgICAgICAgICAgICAgICAgICAgEBAQEBAQEBAQEBAQEBAQEBAQIBAgICAgMDAgMDAgICAgIBAQEDAwICAgICAgICAgICAwMCAwMDAwMCAgICAgICAwICAgICAwMDAwIBAQECAwMBAQIBAQEBAgECAgICAgICAgICAgMDAgICAgICAwICAgICAgMCAwICAwICAgICAgICAgMCAgICAgICAgMDAwMCAgICAgICAwEDAwMDAwMDAwMDAwMDAgICAgICAgMDAwICAgICAgICAgICAwICAgIDAwICAwIDAwMCAgIDAgMCAgIDAwMDAwICAwICAgIDAwMDAwMDAwMDAwMDAwMDAwMDAgMDAwMDAwMDAwMDAwMDAwMDAwMDAwMDAwMDAwMDAwMDAwMDAwMDAwMDAwMDAwMDAwMDAwMDAwMDAwIDAwMDAwMDAwMDAwMCAwMDAgMCAgMDAwMDAwMDAwMBAgMDAwIDAwMDAwMDAwIDAAMDAwMBAgEDAw==",
          "dtype": "i1"
         },
         "y": {
          "_inputArray": {
           "0": 2,
           "1": 2,
           "10": 0,
           "100": 0,
           "101": 0,
           "102": 0,
           "103": 0,
           "104": 0,
           "105": 0,
           "106": 0,
           "107": 0,
           "108": 0,
           "109": 0,
           "11": 0,
           "110": 0,
           "111": 0,
           "112": 0,
           "113": 0,
           "114": 2,
           "115": 0,
           "116": 0,
           "117": 0,
           "118": 0,
           "119": 0,
           "12": 0,
           "120": 0,
           "121": 0,
           "122": 0,
           "123": 0,
           "124": 0,
           "125": 0,
           "126": 0,
           "127": 0,
           "128": 0,
           "129": 0,
           "13": 0,
           "130": 0,
           "131": 0,
           "132": 0,
           "133": 0,
           "134": 0,
           "135": 1,
           "136": 0,
           "137": 0,
           "138": 0,
           "139": 0,
           "14": 0,
           "140": 0,
           "141": 0,
           "142": 0,
           "143": 0,
           "144": 0,
           "145": 0,
           "146": 0,
           "147": 0,
           "148": 0,
           "149": 0,
           "15": 0,
           "150": 0,
           "151": 0,
           "152": 0,
           "153": 0,
           "154": 0,
           "155": 0,
           "156": 0,
           "157": 0,
           "158": 0,
           "159": 0,
           "16": 0,
           "160": 0,
           "161": 0,
           "162": 2,
           "163": 1,
           "164": 0,
           "165": 0,
           "166": 0,
           "167": 0,
           "168": 0,
           "169": 0,
           "17": 0,
           "170": 0,
           "171": 0,
           "172": 0,
           "173": 0,
           "174": 1,
           "175": 1,
           "176": 1,
           "177": 1,
           "178": 1,
           "179": 1,
           "18": 0,
           "180": 1,
           "181": 1,
           "182": 1,
           "183": 1,
           "184": 1,
           "185": 1,
           "186": 1,
           "187": 1,
           "188": 0,
           "189": 2,
           "19": 0,
           "190": 0,
           "191": 0,
           "192": 0,
           "193": 0,
           "194": 1,
           "195": 1,
           "196": 1,
           "197": 1,
           "198": 1,
           "199": 1,
           "2": 0,
           "20": 0,
           "200": 1,
           "201": 0,
           "202": 0,
           "203": 0,
           "204": 0,
           "205": 0,
           "206": 0,
           "207": 0,
           "208": 0,
           "209": 0,
           "21": 2,
           "210": 0,
           "211": 0,
           "212": 0,
           "213": 0,
           "214": 0,
           "215": 1,
           "216": 0,
           "217": 0,
           "218": 0,
           "219": 0,
           "22": 0,
           "220": 0,
           "221": 0,
           "222": 0,
           "223": 0,
           "224": 0,
           "225": 0,
           "226": 0,
           "227": 1,
           "228": 1,
           "229": 1,
           "23": 0,
           "230": 1,
           "231": 1,
           "232": 1,
           "233": 1,
           "234": 1,
           "235": 1,
           "236": 1,
           "237": 1,
           "238": 0,
           "239": 1,
           "24": 0,
           "240": 1,
           "241": 1,
           "242": 1,
           "243": 1,
           "244": 1,
           "245": 1,
           "246": 0,
           "247": 1,
           "248": 1,
           "249": 1,
           "25": 0,
           "250": 1,
           "251": 1,
           "252": 1,
           "253": 0,
           "254": 1,
           "255": 1,
           "256": 1,
           "257": 1,
           "258": 0,
           "259": 0,
           "26": 0,
           "260": 1,
           "261": 1,
           "262": 1,
           "263": 1,
           "264": 1,
           "265": 1,
           "266": 1,
           "267": 1,
           "268": 0,
           "269": 1,
           "27": 0,
           "270": 1,
           "271": 1,
           "272": 1,
           "273": 1,
           "274": 1,
           "275": 1,
           "276": 1,
           "277": 2,
           "278": 0,
           "279": 0,
           "28": 0,
           "280": 1,
           "281": 0,
           "282": 0,
           "283": 1,
           "284": 1,
           "285": 1,
           "286": 0,
           "287": 0,
           "288": 0,
           "289": 0,
           "29": 2,
           "290": 0,
           "291": 0,
           "292": 1,
           "293": 1,
           "294": 0,
           "295": 0,
           "296": 1,
           "297": 2,
           "298": 0,
           "299": 0,
           "3": 0,
           "30": 0,
           "300": 1,
           "301": 2,
           "302": 1,
           "303": 1,
           "304": 1,
           "305": 1,
           "306": 1,
           "307": 1,
           "308": 1,
           "309": 1,
           "31": 0,
           "310": 2,
           "311": 0,
           "312": 0,
           "313": 0,
           "314": 0,
           "315": 0,
           "316": 0,
           "317": 0,
           "318": 0,
           "319": 0,
           "32": 0,
           "320": 0,
           "321": 0,
           "322": 0,
           "323": 0,
           "324": 0,
           "325": 0,
           "326": 0,
           "327": 0,
           "328": 0,
           "329": 1,
           "33": 0,
           "330": 0,
           "331": 0,
           "332": 0,
           "333": 1,
           "334": 0,
           "335": 2,
           "336": 2,
           "337": 0,
           "338": 1,
           "339": 0,
           "34": 0,
           "340": 1,
           "341": 0,
           "342": 1,
           "343": 0,
           "344": 1,
           "345": 1,
           "346": 1,
           "347": 0,
           "348": 1,
           "349": 1,
           "35": 0,
           "350": 1,
           "351": 1,
           "352": 0,
           "353": 0,
           "354": 0,
           "355": 0,
           "356": 0,
           "357": 0,
           "358": 0,
           "359": 0,
           "36": 0,
           "360": 1,
           "361": 1,
           "362": 0,
           "363": 0,
           "364": 0,
           "365": 0,
           "366": 0,
           "367": 0,
           "368": 1,
           "369": 1,
           "37": 0,
           "370": 0,
           "371": 1,
           "372": 0,
           "373": 1,
           "374": 0,
           "375": 0,
           "376": 1,
           "377": 0,
           "378": 0,
           "379": 0,
           "38": 0,
           "380": 0,
           "381": 0,
           "382": 0,
           "383": 1,
           "384": 1,
           "385": 1,
           "386": 1,
           "387": 1,
           "388": 1,
           "389": 1,
           "39": 0,
           "390": 1,
           "391": 1,
           "392": 1,
           "393": 2,
           "394": 2,
           "395": 0,
           "396": 0,
           "397": 1,
           "398": 2,
           "399": 2,
           "4": 1,
           "40": 0,
           "400": 0,
           "401": 0,
           "402": 0,
           "403": 0,
           "404": 0,
           "405": 0,
           "406": 0,
           "407": 0,
           "408": 2,
           "409": 2,
           "41": 0,
           "410": 1,
           "411": 2,
           "412": 2,
           "413": 2,
           "414": 2,
           "415": 2,
           "416": 2,
           "417": 1,
           "418": 1,
           "419": 2,
           "42": 0,
           "420": 2,
           "421": 2,
           "422": 2,
           "423": 2,
           "424": 2,
           "425": 2,
           "426": 2,
           "427": 2,
           "428": 2,
           "429": 2,
           "43": 0,
           "430": 2,
           "431": 2,
           "432": 2,
           "433": 2,
           "434": 1,
           "435": 0,
           "436": 0,
           "437": 0,
           "438": 0,
           "439": 0,
           "44": 0,
           "440": 1,
           "441": 0,
           "442": 0,
           "443": 0,
           "444": 0,
           "445": 0,
           "446": 0,
           "447": 0,
           "448": 0,
           "449": 0,
           "45": 0,
           "450": 1,
           "451": 2,
           "452": 1,
           "453": 0,
           "454": 1,
           "455": 2,
           "456": 1,
           "457": 1,
           "458": 0,
           "459": 1,
           "46": 0,
           "460": 2,
           "461": 1,
           "462": 1,
           "463": 0,
           "464": 2,
           "465": 0,
           "466": 0,
           "467": 1,
           "468": 0,
           "469": 0,
           "47": 0,
           "470": 0,
           "471": 2,
           "472": 0,
           "473": 2,
           "474": 2,
           "475": 0,
           "476": 0,
           "477": 2,
           "478": 0,
           "479": 1,
           "48": 0,
           "480": 1,
           "481": 1,
           "482": 0,
           "483": 1,
           "484": 0,
           "485": 0,
           "486": 1,
           "487": 2,
           "488": 1,
           "489": 1,
           "49": 0,
           "490": 1,
           "491": 1,
           "492": 1,
           "5": 0,
           "50": 0,
           "51": 0,
           "52": 0,
           "53": 0,
           "54": 0,
           "55": 0,
           "56": 0,
           "57": 0,
           "58": 0,
           "59": 0,
           "6": 0,
           "60": 0,
           "61": 0,
           "62": 0,
           "63": 0,
           "64": 0,
           "65": 0,
           "66": 0,
           "67": 0,
           "68": 2,
           "69": 0,
           "7": 0,
           "70": 0,
           "71": 0,
           "72": 1,
           "73": 0,
           "74": 0,
           "75": 0,
           "76": 0,
           "77": 0,
           "78": 0,
           "79": 0,
           "8": 0,
           "80": 0,
           "81": 0,
           "82": 0,
           "83": 0,
           "84": 0,
           "85": 0,
           "86": 0,
           "87": 1,
           "88": 0,
           "89": 0,
           "9": 0,
           "90": 0,
           "91": 0,
           "92": 0,
           "93": 0,
           "94": 0,
           "95": 0,
           "96": 0,
           "97": 0,
           "98": 0,
           "99": 0,
           "bdata": "AgIAAAEAAAAAAAAAAAAAAAAAAAAAAgAAAAAAAAACAAAAAAAAAAAAAAAAAAAAAAAAAAAAAAAAAAAAAAAAAAAAAAAAAAACAAAAAQAAAAAAAAAAAAAAAAAAAQAAAAAAAAAAAAAAAAAAAAAAAAAAAAAAAAAAAgAAAAAAAAAAAAAAAAAAAAAAAAAAAQAAAAAAAAAAAAAAAAAAAAAAAAAAAAAAAAAAAgEAAAAAAAAAAAAAAQEBAQEBAQEBAQEBAQEAAgAAAAABAQEBAQEBAAAAAAAAAAAAAAAAAAABAAAAAAAAAAAAAAABAQEBAQEBAQEBAQABAQEBAQEBAAEBAQEBAQABAQEBAAABAQEBAQEBAQABAQEBAQEBAQIAAAEAAAEBAQAAAAAAAAEBAAABAgAAAQIBAQEBAQEBAQIAAAAAAAAAAAAAAAAAAAAAAAABAAAAAQACAgABAAEAAQABAQEAAQEBAQAAAAAAAAAAAQEAAAAAAAABAQABAAEAAAEAAAAAAAABAQEBAQEBAQEBAgIAAAECAgAAAAAAAAAAAgIBAgICAgICAQECAgICAgICAgICAgICAgIBAAAAAAABAAAAAAAAAAAAAQIBAAECAQEAAQIBAQACAAABAAAAAgACAgAAAgABAQEAAQAAAQIBAQEBAQ==",
           "dtype": "i1",
           "shape": "493"
          },
          "bdata": "AgIAAAEAAAAAAAAAAAAAAAAAAAAAAgAAAAAAAAACAAAAAAAAAAAAAAAAAAAAAAAAAAAAAAAAAAAAAAAAAAAAAAAAAAACAAAAAQAAAAAAAAAAAAAAAAAAAQAAAAAAAAAAAAAAAAAAAAAAAAAAAAAAAAAAAgAAAAAAAAAAAAAAAAAAAAAAAAAAAQAAAAAAAAAAAAAAAAAAAAAAAAAAAAAAAAAAAgEAAAAAAAAAAAAAAQEBAQEBAQEBAQEBAQEAAgAAAAABAQEBAQEBAAAAAAAAAAAAAAAAAAABAAAAAAAAAAAAAAABAQEBAQEBAQEBAQABAQEBAQEBAAEBAQEBAQABAQEBAAABAQEBAQEBAQABAQEBAQEBAQIAAAEAAAEBAQAAAAAAAAEBAAABAgAAAQIBAQEBAQEBAQIAAAAAAAAAAAAAAAAAAAAAAAABAAAAAQACAgABAAEAAQABAQEAAQEBAQAAAAAAAAAAAQEAAAAAAAABAQABAAEAAAEAAAAAAAABAQEBAQEBAQEBAgIAAAECAgAAAAAAAAAAAgIBAgICAgICAQECAgICAgICAgICAgICAgIBAAAAAAABAAAAAAAAAAAAAQIBAAECAQEAAQIBAQACAAABAAAAAgACAgAAAgABAQEAAQAAAQIBAQEBAQ==",
          "dtype": "i1"
         },
         "z": {
          "_inputArray": {
           "0": 3.35,
           "1": 3.467,
           "10": 1.56,
           "100": 2.75,
           "101": 2.75,
           "102": 2.75,
           "103": 2.75,
           "104": 2.75,
           "105": 2.75,
           "106": 2.75,
           "107": 2.75,
           "108": 2.75,
           "109": 2.75,
           "11": 1.57,
           "110": 2.75,
           "111": 2.75,
           "112": 2.75,
           "113": 2.75,
           "114": 2.79,
           "115": 2.81,
           "116": 2.81,
           "117": 2.84,
           "118": 2.84,
           "119": 2.84,
           "12": 1.57,
           "120": 2.84,
           "121": 2.846,
           "122": 2.86,
           "123": 2.88,
           "124": 2.88,
           "125": 2.88,
           "126": 2.88,
           "127": 2.88,
           "128": 2.89,
           "129": 2.89,
           "13": 1.6,
           "130": 2.89,
           "131": 2.89,
           "132": 2.89,
           "133": 2.89,
           "134": 2.89,
           "135": 2.9,
           "136": 2.9,
           "137": 2.9,
           "138": 2.9,
           "139": 2.9,
           "14": 1.62,
           "140": 2.9,
           "141": 2.9,
           "142": 2.9,
           "143": 2.9,
           "144": 2.9,
           "145": 2.9,
           "146": 2.9,
           "147": 2.9,
           "148": 2.9,
           "149": 2.9,
           "15": 1.69,
           "150": 2.9,
           "151": 2.9,
           "152": 2.9,
           "153": 2.9,
           "154": 2.92,
           "155": 2.94,
           "156": 2.94,
           "157": 2.94,
           "158": 2.94,
           "159": 2.98,
           "16": 1.71,
           "160": 3,
           "161": 3,
           "162": 3,
           "163": 3,
           "164": 3,
           "165": 3,
           "166": 3,
           "167": 3,
           "168": 3,
           "169": 3,
           "17": 1.72,
           "170": 3.06,
           "171": 3.06,
           "172": 3.06,
           "173": 3.07,
           "174": 3.08,
           "175": 3.08,
           "176": 3.08,
           "177": 3.08,
           "178": 3.08,
           "179": 3.08,
           "18": 1.75,
           "180": 3.08,
           "181": 3.08,
           "182": 3.08,
           "183": 3.08,
           "184": 3.08,
           "185": 3.08,
           "186": 3.09,
           "187": 3.1,
           "188": 3.1,
           "189": 3.11,
           "19": 1.75,
           "190": 3.13,
           "191": 3.13,
           "192": 3.13,
           "193": 3.13,
           "194": 3.15,
           "195": 3.15,
           "196": 3.15,
           "197": 3.15,
           "198": 3.15,
           "199": 3.15,
           "2": 3.72,
           "20": 1.75,
           "200": 3.15,
           "201": 3.16,
           "202": 3.19,
           "203": 3.19,
           "204": 3.19,
           "205": 3.19,
           "206": 3.21,
           "207": 3.22,
           "208": 3.25,
           "209": 3.25,
           "21": 1.8,
           "210": 3.25,
           "211": 3.25,
           "212": 3.25,
           "213": 3.25,
           "214": 3.25,
           "215": 3.25,
           "216": 3.25,
           "217": 3.25,
           "218": 3.25,
           "219": 3.25,
           "22": 1.86,
           "220": 3.25,
           "221": 3.25,
           "222": 3.25,
           "223": 3.25,
           "224": 3.25,
           "225": 3.25,
           "226": 3.25,
           "227": 3.25,
           "228": 3.25,
           "229": 3.25,
           "23": 1.88,
           "230": 3.25,
           "231": 3.25,
           "232": 3.25,
           "233": 3.25,
           "234": 3.25,
           "235": 3.25,
           "236": 3.25,
           "237": 3.25,
           "238": 3.26,
           "239": 3.27,
           "24": 1.89,
           "240": 3.27,
           "241": 3.27,
           "242": 3.27,
           "243": 3.27,
           "244": 3.27,
           "245": 3.27,
           "246": 3.28,
           "247": 3.3,
           "248": 3.3,
           "249": 3.31,
           "25": 1.9,
           "250": 3.31,
           "251": 3.31,
           "252": 3.31,
           "253": 3.32,
           "254": 3.32,
           "255": 3.33,
           "256": 3.33,
           "257": 3.33,
           "258": 3.33,
           "259": 3.33,
           "26": 1.9,
           "260": 3.33,
           "261": 3.33,
           "262": 3.33,
           "263": 3.33,
           "264": 3.33,
           "265": 3.33,
           "266": 3.33,
           "267": 3.35,
           "268": 3.37,
           "269": 3.38,
           "27": 1.92,
           "270": 3.38,
           "271": 3.38,
           "272": 3.38,
           "273": 3.38,
           "274": 3.38,
           "275": 3.38,
           "276": 3.38,
           "277": 3.39,
           "278": 3.39,
           "279": 3.43,
           "28": 1.97,
           "280": 3.44,
           "281": 3.44,
           "282": 3.44,
           "283": 3.44,
           "284": 3.44,
           "285": 3.44,
           "286": 3.45,
           "287": 3.46,
           "288": 3.48,
           "289": 3.5,
           "29": 2,
           "290": 3.5,
           "291": 3.5,
           "292": 3.5,
           "293": 3.5,
           "294": 3.5,
           "295": 3.5,
           "296": 3.5,
           "297": 3.5,
           "298": 3.5,
           "299": 3.5,
           "3": 3.75,
           "30": 2,
           "300": 3.5,
           "301": 3.5,
           "302": 3.5,
           "303": 3.5,
           "304": 3.5,
           "305": 3.5,
           "306": 3.5,
           "307": 3.5,
           "308": 3.5,
           "309": 3.5,
           "31": 2.02,
           "310": 3.54,
           "311": 3.55,
           "312": 3.55,
           "313": 3.56,
           "314": 3.56,
           "315": 3.56,
           "316": 3.56,
           "317": 3.56,
           "318": 3.56,
           "319": 3.56,
           "32": 2.1,
           "320": 3.56,
           "321": 3.56,
           "322": 3.56,
           "323": 3.56,
           "324": 3.6,
           "325": 3.6,
           "326": 3.6,
           "327": 3.6,
           "328": 3.6,
           "329": 3.61,
           "33": 2.1,
           "330": 3.62,
           "331": 3.63,
           "332": 3.63,
           "333": 3.64,
           "334": 3.64,
           "335": 3.65,
           "336": 3.65,
           "337": 3.67,
           "338": 3.67,
           "339": 3.67,
           "34": 2.1,
           "340": 3.67,
           "341": 3.67,
           "342": 3.67,
           "343": 3.67,
           "344": 3.67,
           "345": 3.67,
           "346": 3.67,
           "347": 3.68,
           "348": 3.69,
           "349": 3.69,
           "35": 2.17,
           "350": 3.7,
           "351": 3.7,
           "352": 3.7,
           "353": 3.7,
           "354": 3.7,
           "355": 3.7,
           "356": 3.7,
           "357": 3.7,
           "358": 3.7,
           "359": 3.7,
           "36": 2.17,
           "360": 3.7,
           "361": 3.7,
           "362": 3.71,
           "363": 3.71,
           "364": 3.71,
           "365": 3.71,
           "366": 3.74,
           "367": 3.74,
           "368": 3.74,
           "369": 3.74,
           "37": 2.17,
           "370": 3.74,
           "371": 3.74,
           "372": 3.74,
           "373": 3.74,
           "374": 3.74,
           "375": 3.74,
           "376": 3.75,
           "377": 3.75,
           "378": 3.75,
           "379": 3.75,
           "38": 2.17,
           "380": 3.75,
           "381": 3.75,
           "382": 3.75,
           "383": 3.75,
           "384": 3.75,
           "385": 3.75,
           "386": 3.75,
           "387": 3.75,
           "388": 3.75,
           "389": 3.75,
           "39": 2.2,
           "390": 3.75,
           "391": 3.76,
           "392": 3.78,
           "393": 3.78,
           "394": 3.78,
           "395": 3.8,
           "396": 3.8,
           "397": 3.8,
           "398": 3.8,
           "399": 3.8,
           "4": 3.94,
           "40": 2.22,
           "400": 3.81,
           "401": 3.81,
           "402": 3.81,
           "403": 3.81,
           "404": 3.81,
           "405": 3.81,
           "406": 3.81,
           "407": 3.81,
           "408": 3.84,
           "409": 3.87,
           "41": 2.25,
           "410": 3.88,
           "411": 3.88,
           "412": 3.88,
           "413": 3.88,
           "414": 3.88,
           "415": 3.88,
           "416": 3.88,
           "417": 3.89,
           "418": 3.91,
           "419": 3.93,
           "42": 2.25,
           "420": 3.94,
           "421": 3.94,
           "422": 3.94,
           "423": 3.94,
           "424": 3.94,
           "425": 3.94,
           "426": 3.94,
           "427": 3.94,
           "428": 3.94,
           "429": 3.94,
           "43": 2.25,
           "430": 3.94,
           "431": 3.94,
           "432": 3.94,
           "433": 3.95,
           "434": 3.96,
           "435": 3.98,
           "436": 4,
           "437": 4,
           "438": 4,
           "439": 4,
           "44": 2.25,
           "440": 4,
           "441": 4,
           "442": 4,
           "443": 4,
           "444": 4,
           "445": 4,
           "446": 4,
           "447": 4,
           "448": 3.7,
           "449": 3.74,
           "45": 2.28,
           "450": 3.75,
           "451": 4,
           "452": 2.97,
           "453": 3.15,
           "454": 3.32,
           "455": 3.33,
           "456": 3.45,
           "457": 3.47,
           "458": 3.47,
           "459": 3.56,
           "46": 2.3,
           "460": 3.6,
           "461": 3.68,
           "462": 3.74,
           "463": 3.75,
           "464": 3.8,
           "465": 3.83,
           "466": 3.93,
           "467": 2.25,
           "468": 2.5,
           "469": 3,
           "47": 2.3,
           "470": 3.09,
           "471": 3.17,
           "472": 3.5,
           "473": 3.5,
           "474": 3.5,
           "475": 3.6,
           "476": 3.67,
           "477": 3.78,
           "478": 3.8,
           "479": 4,
           "48": 2.31,
           "480": 3.69,
           "481": 3.79,
           "482": 2.85,
           "483": 3.31,
           "484": 3.56,
           "485": 3.68,
           "486": 3.88,
           "487": 3.94,
           "488": 3.1,
           "489": 3.67,
           "49": 2.31,
           "490": 3.56,
           "491": 3.75,
           "492": 3.86,
           "5": 1,
           "50": 2.31,
           "51": 2.33,
           "52": 2.33,
           "53": 2.33,
           "54": 2.33,
           "55": 2.35,
           "56": 2.35,
           "57": 2.35,
           "58": 2.38,
           "59": 2.38,
           "6": 1.06,
           "60": 2.38,
           "61": 2.38,
           "62": 2.41,
           "63": 2.44,
           "64": 2.44,
           "65": 2.45,
           "66": 2.45,
           "67": 2.47,
           "68": 2.5,
           "69": 2.5,
           "7": 1.25,
           "70": 2.5,
           "71": 2.53,
           "72": 2.55,
           "73": 2.55,
           "74": 2.56,
           "75": 2.56,
           "76": 2.56,
           "77": 2.58,
           "78": 2.64,
           "79": 2.69,
           "8": 1.44,
           "80": 2.69,
           "81": 2.69,
           "82": 2.69,
           "83": 2.7,
           "84": 2.7,
           "85": 2.7,
           "86": 2.75,
           "87": 2.75,
           "88": 2.75,
           "89": 2.75,
           "9": 1.5,
           "90": 2.75,
           "91": 2.75,
           "92": 2.75,
           "93": 2.75,
           "94": 2.75,
           "95": 2.75,
           "96": 2.75,
           "97": 2.75,
           "98": 2.75,
           "99": 2.75,
           "bdata": "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",
           "dtype": "f8",
           "shape": "493"
          },
          "bdata": "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",
          "dtype": "f8"
         }
        },
        {
         "hoverinfo": "text",
         "marker": {
          "color": {
           "bdata": "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",
           "dtype": "f8"
          },
          "colorbar": {
           "title": {
            "text": "CGPA"
           }
          },
          "colorscale": [
           [
            0,
            "#0d0887"
           ],
           [
            0.1111111111111111,
            "#46039f"
           ],
           [
            0.2222222222222222,
            "#7201a8"
           ],
           [
            0.3333333333333333,
            "#9c179e"
           ],
           [
            0.4444444444444444,
            "#bd3786"
           ],
           [
            0.5555555555555556,
            "#d8576b"
           ],
           [
            0.6666666666666666,
            "#ed7953"
           ],
           [
            0.7777777777777778,
            "#fb9f3a"
           ],
           [
            0.8888888888888888,
            "#fdca26"
           ],
           [
            1,
            "#f0f921"
           ]
          ],
          "opacity": 0.8,
          "size": {
           "bdata": "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",
           "dtype": "f8"
          }
         },
         "mode": "markers",
         "name": "More than 3 Hours",
         "text": [
          "Attendance: 80%-100%<br>CGPA: 3.72",
          "Attendance: 80%-100%<br>CGPA: 3.75",
          "Attendance: Below 40%<br>CGPA: 1.00",
          "Attendance: 60%-79%<br>CGPA: 1.06",
          "Attendance: 80%-100%<br>CGPA: 1.25",
          "Attendance: Below 40%<br>CGPA: 1.44",
          "Attendance: Below 40%<br>CGPA: 1.50",
          "Attendance: Below 40%<br>CGPA: 1.56",
          "Attendance: Below 40%<br>CGPA: 1.57",
          "Attendance: 60%-79%<br>CGPA: 1.57",
          "Attendance: 60%-79%<br>CGPA: 1.60",
          "Attendance: Below 40%<br>CGPA: 1.62",
          "Attendance: Below 40%<br>CGPA: 1.69",
          "Attendance: 60%-79%<br>CGPA: 1.71",
          "Attendance: 60%-79%<br>CGPA: 1.72",
          "Attendance: 60%-79%<br>CGPA: 1.75",
          "Attendance: 60%-79%<br>CGPA: 1.75",
          "Attendance: 60%-79%<br>CGPA: 1.75",
          "Attendance: 60%-79%<br>CGPA: 1.86",
          "Attendance: 60%-79%<br>CGPA: 1.88",
          "Attendance: 60%-79%<br>CGPA: 1.89",
          "Attendance: Below 40%<br>CGPA: 1.90",
          "Attendance: Below 40%<br>CGPA: 1.90",
          "Attendance: 60%-79%<br>CGPA: 1.92",
          "Attendance: 60%-79%<br>CGPA: 1.97",
          "Attendance: 60%-79%<br>CGPA: 2.00",
          "Attendance: 60%-79%<br>CGPA: 2.02",
          "Attendance: 60%-79%<br>CGPA: 2.10",
          "Attendance: Below 40%<br>CGPA: 2.10",
          "Attendance: 60%-79%<br>CGPA: 2.10",
          "Attendance: 40%-59%<br>CGPA: 2.17",
          "Attendance: 40%-59%<br>CGPA: 2.17",
          "Attendance: 40%-59%<br>CGPA: 2.17",
          "Attendance: 40%-59%<br>CGPA: 2.17",
          "Attendance: 60%-79%<br>CGPA: 2.20",
          "Attendance: 60%-79%<br>CGPA: 2.22",
          "Attendance: 40%-59%<br>CGPA: 2.25",
          "Attendance: 60%-79%<br>CGPA: 2.25",
          "Attendance: 40%-59%<br>CGPA: 2.25",
          "Attendance: 40%-59%<br>CGPA: 2.25",
          "Attendance: 60%-79%<br>CGPA: 2.28",
          "Attendance: 40%-59%<br>CGPA: 2.30",
          "Attendance: 60%-79%<br>CGPA: 2.30",
          "Attendance: 40%-59%<br>CGPA: 2.31",
          "Attendance: 40%-59%<br>CGPA: 2.31",
          "Attendance: 40%-59%<br>CGPA: 2.31",
          "Attendance: 60%-79%<br>CGPA: 2.33",
          "Attendance: 40%-59%<br>CGPA: 2.33",
          "Attendance: 40%-59%<br>CGPA: 2.33",
          "Attendance: 40%-59%<br>CGPA: 2.33",
          "Attendance: 40%-59%<br>CGPA: 2.35",
          "Attendance: 40%-59%<br>CGPA: 2.35",
          "Attendance: 40%-59%<br>CGPA: 2.35",
          "Attendance: 40%-59%<br>CGPA: 2.38",
          "Attendance: 40%-59%<br>CGPA: 2.38",
          "Attendance: 40%-59%<br>CGPA: 2.38",
          "Attendance: 40%-59%<br>CGPA: 2.38",
          "Attendance: 60%-79%<br>CGPA: 2.41",
          "Attendance: 40%-59%<br>CGPA: 2.44",
          "Attendance: 40%-59%<br>CGPA: 2.44",
          "Attendance: 80%-100%<br>CGPA: 2.45",
          "Attendance: 60%-79%<br>CGPA: 2.45",
          "Attendance: 60%-79%<br>CGPA: 2.47",
          "Attendance: 60%-79%<br>CGPA: 2.50",
          "Attendance: 40%-59%<br>CGPA: 2.50",
          "Attendance: 60%-79%<br>CGPA: 2.53",
          "Attendance: 60%-79%<br>CGPA: 2.55",
          "Attendance: 40%-59%<br>CGPA: 2.56",
          "Attendance: 40%-59%<br>CGPA: 2.56",
          "Attendance: 40%-59%<br>CGPA: 2.56",
          "Attendance: 80%-100%<br>CGPA: 2.58",
          "Attendance: 40%-59%<br>CGPA: 2.64",
          "Attendance: 40%-59%<br>CGPA: 2.69",
          "Attendance: 40%-59%<br>CGPA: 2.69",
          "Attendance: 40%-59%<br>CGPA: 2.69",
          "Attendance: 40%-59%<br>CGPA: 2.69",
          "Attendance: 60%-79%<br>CGPA: 2.70",
          "Attendance: 60%-79%<br>CGPA: 2.70",
          "Attendance: 60%-79%<br>CGPA: 2.70",
          "Attendance: 80%-100%<br>CGPA: 2.75",
          "Attendance: 80%-100%<br>CGPA: 2.75",
          "Attendance: 60%-79%<br>CGPA: 2.75",
          "Attendance: 60%-79%<br>CGPA: 2.75",
          "Attendance: 60%-79%<br>CGPA: 2.75",
          "Attendance: 60%-79%<br>CGPA: 2.75",
          "Attendance: 60%-79%<br>CGPA: 2.75",
          "Attendance: 60%-79%<br>CGPA: 2.75",
          "Attendance: 60%-79%<br>CGPA: 2.75",
          "Attendance: 60%-79%<br>CGPA: 2.75",
          "Attendance: 60%-79%<br>CGPA: 2.75",
          "Attendance: 60%-79%<br>CGPA: 2.75",
          "Attendance: 60%-79%<br>CGPA: 2.75",
          "Attendance: 60%-79%<br>CGPA: 2.75",
          "Attendance: 60%-79%<br>CGPA: 2.75",
          "Attendance: 60%-79%<br>CGPA: 2.75",
          "Attendance: 60%-79%<br>CGPA: 2.75",
          "Attendance: 60%-79%<br>CGPA: 2.75",
          "Attendance: 60%-79%<br>CGPA: 2.75",
          "Attendance: 60%-79%<br>CGPA: 2.75",
          "Attendance: 60%-79%<br>CGPA: 2.75",
          "Attendance: 60%-79%<br>CGPA: 2.75",
          "Attendance: 60%-79%<br>CGPA: 2.75",
          "Attendance: 60%-79%<br>CGPA: 2.75",
          "Attendance: 60%-79%<br>CGPA: 2.75",
          "Attendance: 60%-79%<br>CGPA: 2.75",
          "Attendance: 60%-79%<br>CGPA: 2.75",
          "Attendance: 60%-79%<br>CGPA: 2.81",
          "Attendance: 60%-79%<br>CGPA: 2.81",
          "Attendance: 60%-79%<br>CGPA: 2.84",
          "Attendance: 60%-79%<br>CGPA: 2.84",
          "Attendance: 60%-79%<br>CGPA: 2.84",
          "Attendance: 60%-79%<br>CGPA: 2.84",
          "Attendance: 60%-79%<br>CGPA: 2.85",
          "Attendance: 60%-79%<br>CGPA: 2.86",
          "Attendance: 60%-79%<br>CGPA: 2.88",
          "Attendance: 60%-79%<br>CGPA: 2.88",
          "Attendance: 60%-79%<br>CGPA: 2.88",
          "Attendance: 60%-79%<br>CGPA: 2.88",
          "Attendance: 60%-79%<br>CGPA: 2.88",
          "Attendance: 60%-79%<br>CGPA: 2.89",
          "Attendance: 60%-79%<br>CGPA: 2.89",
          "Attendance: 60%-79%<br>CGPA: 2.89",
          "Attendance: 60%-79%<br>CGPA: 2.89",
          "Attendance: 60%-79%<br>CGPA: 2.89",
          "Attendance: 60%-79%<br>CGPA: 2.89",
          "Attendance: 60%-79%<br>CGPA: 2.89",
          "Attendance: 40%-59%<br>CGPA: 2.90",
          "Attendance: 40%-59%<br>CGPA: 2.90",
          "Attendance: 40%-59%<br>CGPA: 2.90",
          "Attendance: 40%-59%<br>CGPA: 2.90",
          "Attendance: 40%-59%<br>CGPA: 2.90",
          "Attendance: 40%-59%<br>CGPA: 2.90",
          "Attendance: 40%-59%<br>CGPA: 2.90",
          "Attendance: 40%-59%<br>CGPA: 2.90",
          "Attendance: 40%-59%<br>CGPA: 2.90",
          "Attendance: 40%-59%<br>CGPA: 2.90",
          "Attendance: 40%-59%<br>CGPA: 2.90",
          "Attendance: 40%-59%<br>CGPA: 2.90",
          "Attendance: 40%-59%<br>CGPA: 2.90",
          "Attendance: 40%-59%<br>CGPA: 2.90",
          "Attendance: 40%-59%<br>CGPA: 2.90",
          "Attendance: 40%-59%<br>CGPA: 2.90",
          "Attendance: 40%-59%<br>CGPA: 2.90",
          "Attendance: 40%-59%<br>CGPA: 2.90",
          "Attendance: 60%-79%<br>CGPA: 2.92",
          "Attendance: 40%-59%<br>CGPA: 2.94",
          "Attendance: 60%-79%<br>CGPA: 2.94",
          "Attendance: 60%-79%<br>CGPA: 2.94",
          "Attendance: 60%-79%<br>CGPA: 2.94",
          "Attendance: 60%-79%<br>CGPA: 2.98",
          "Attendance: 80%-100%<br>CGPA: 3.00",
          "Attendance: 80%-100%<br>CGPA: 3.00",
          "Attendance: 80%-100%<br>CGPA: 3.00",
          "Attendance: 60%-79%<br>CGPA: 3.00",
          "Attendance: 60%-79%<br>CGPA: 3.00",
          "Attendance: 60%-79%<br>CGPA: 3.00",
          "Attendance: 60%-79%<br>CGPA: 3.00",
          "Attendance: 60%-79%<br>CGPA: 3.00",
          "Attendance: 40%-59%<br>CGPA: 3.06",
          "Attendance: 40%-59%<br>CGPA: 3.06",
          "Attendance: 40%-59%<br>CGPA: 3.06",
          "Attendance: 80%-100%<br>CGPA: 3.07",
          "Attendance: 60%-79%<br>CGPA: 3.10",
          "Attendance: 80%-100%<br>CGPA: 3.13",
          "Attendance: 80%-100%<br>CGPA: 3.13",
          "Attendance: 80%-100%<br>CGPA: 3.13",
          "Attendance: 80%-100%<br>CGPA: 3.13",
          "Attendance: 80%-100%<br>CGPA: 3.16",
          "Attendance: 60%-79%<br>CGPA: 3.19",
          "Attendance: 60%-79%<br>CGPA: 3.19",
          "Attendance: 60%-79%<br>CGPA: 3.19",
          "Attendance: 60%-79%<br>CGPA: 3.19",
          "Attendance: 60%-79%<br>CGPA: 3.21",
          "Attendance: 80%-100%<br>CGPA: 3.22",
          "Attendance: 80%-100%<br>CGPA: 3.25",
          "Attendance: 80%-100%<br>CGPA: 3.25",
          "Attendance: 80%-100%<br>CGPA: 3.25",
          "Attendance: 60%-79%<br>CGPA: 3.25",
          "Attendance: 40%-59%<br>CGPA: 3.25",
          "Attendance: 40%-59%<br>CGPA: 3.25",
          "Attendance: 40%-59%<br>CGPA: 3.25",
          "Attendance: 80%-100%<br>CGPA: 3.25",
          "Attendance: 80%-100%<br>CGPA: 3.25",
          "Attendance: 40%-59%<br>CGPA: 3.25",
          "Attendance: 40%-59%<br>CGPA: 3.25",
          "Attendance: 60%-79%<br>CGPA: 3.25",
          "Attendance: 40%-59%<br>CGPA: 3.25",
          "Attendance: 40%-59%<br>CGPA: 3.25",
          "Attendance: 40%-59%<br>CGPA: 3.25",
          "Attendance: 40%-59%<br>CGPA: 3.25",
          "Attendance: 60%-79%<br>CGPA: 3.25",
          "Attendance: 40%-59%<br>CGPA: 3.25",
          "Attendance: 80%-100%<br>CGPA: 3.26",
          "Attendance: 80%-100%<br>CGPA: 3.28",
          "Attendance: 80%-100%<br>CGPA: 3.32",
          "Attendance: 80%-100%<br>CGPA: 3.33",
          "Attendance: 60%-79%<br>CGPA: 3.33",
          "Attendance: 80%-100%<br>CGPA: 3.37",
          "Attendance: 80%-100%<br>CGPA: 3.39",
          "Attendance: 80%-100%<br>CGPA: 3.43",
          "Attendance: 60%-79%<br>CGPA: 3.44",
          "Attendance: 60%-79%<br>CGPA: 3.44",
          "Attendance: 60%-79%<br>CGPA: 3.45",
          "Attendance: 60%-79%<br>CGPA: 3.46",
          "Attendance: 80%-100%<br>CGPA: 3.48",
          "Attendance: 40%-59%<br>CGPA: 3.50",
          "Attendance: 80%-100%<br>CGPA: 3.50",
          "Attendance: 80%-100%<br>CGPA: 3.50",
          "Attendance: 80%-100%<br>CGPA: 3.50",
          "Attendance: 80%-100%<br>CGPA: 3.50",
          "Attendance: 80%-100%<br>CGPA: 3.50",
          "Attendance: 80%-100%<br>CGPA: 3.50",
          "Attendance: 80%-100%<br>CGPA: 3.55",
          "Attendance: 80%-100%<br>CGPA: 3.55",
          "Attendance: 60%-79%<br>CGPA: 3.56",
          "Attendance: 60%-79%<br>CGPA: 3.56",
          "Attendance: 60%-79%<br>CGPA: 3.56",
          "Attendance: 60%-79%<br>CGPA: 3.56",
          "Attendance: 60%-79%<br>CGPA: 3.56",
          "Attendance: 60%-79%<br>CGPA: 3.56",
          "Attendance: 60%-79%<br>CGPA: 3.56",
          "Attendance: 60%-79%<br>CGPA: 3.56",
          "Attendance: 60%-79%<br>CGPA: 3.56",
          "Attendance: 60%-79%<br>CGPA: 3.56",
          "Attendance: 60%-79%<br>CGPA: 3.56",
          "Attendance: 80%-100%<br>CGPA: 3.60",
          "Attendance: 60%-79%<br>CGPA: 3.60",
          "Attendance: 60%-79%<br>CGPA: 3.60",
          "Attendance: 60%-79%<br>CGPA: 3.60",
          "Attendance: 60%-79%<br>CGPA: 3.60",
          "Attendance: 80%-100%<br>CGPA: 3.62",
          "Attendance: 60%-79%<br>CGPA: 3.63",
          "Attendance: 60%-79%<br>CGPA: 3.63",
          "Attendance: 60%-79%<br>CGPA: 3.64",
          "Attendance: 80%-100%<br>CGPA: 3.67",
          "Attendance: 60%-79%<br>CGPA: 3.67",
          "Attendance: 80%-100%<br>CGPA: 3.67",
          "Attendance: 80%-100%<br>CGPA: 3.67",
          "Attendance: 80%-100%<br>CGPA: 3.68",
          "Attendance: 60%-79%<br>CGPA: 3.70",
          "Attendance: 60%-79%<br>CGPA: 3.70",
          "Attendance: 80%-100%<br>CGPA: 3.70",
          "Attendance: 60%-79%<br>CGPA: 3.70",
          "Attendance: 60%-79%<br>CGPA: 3.70",
          "Attendance: 60%-79%<br>CGPA: 3.70",
          "Attendance: 60%-79%<br>CGPA: 3.70",
          "Attendance: 80%-100%<br>CGPA: 3.70",
          "Attendance: 80%-100%<br>CGPA: 3.71",
          "Attendance: 80%-100%<br>CGPA: 3.71",
          "Attendance: 80%-100%<br>CGPA: 3.71",
          "Attendance: 80%-100%<br>CGPA: 3.71",
          "Attendance: 80%-100%<br>CGPA: 3.74",
          "Attendance: 80%-100%<br>CGPA: 3.74",
          "Attendance: 80%-100%<br>CGPA: 3.74",
          "Attendance: 80%-100%<br>CGPA: 3.74",
          "Attendance: 80%-100%<br>CGPA: 3.74",
          "Attendance: 80%-100%<br>CGPA: 3.74",
          "Attendance: 80%-100%<br>CGPA: 3.75",
          "Attendance: 60%-79%<br>CGPA: 3.75",
          "Attendance: 80%-100%<br>CGPA: 3.75",
          "Attendance: 80%-100%<br>CGPA: 3.75",
          "Attendance: 80%-100%<br>CGPA: 3.75",
          "Attendance: 80%-100%<br>CGPA: 3.75",
          "Attendance: 80%-100%<br>CGPA: 3.80",
          "Attendance: 80%-100%<br>CGPA: 3.80",
          "Attendance: 80%-100%<br>CGPA: 3.81",
          "Attendance: 80%-100%<br>CGPA: 3.81",
          "Attendance: 80%-100%<br>CGPA: 3.81",
          "Attendance: 80%-100%<br>CGPA: 3.81",
          "Attendance: 80%-100%<br>CGPA: 3.81",
          "Attendance: 80%-100%<br>CGPA: 3.81",
          "Attendance: 80%-100%<br>CGPA: 3.81",
          "Attendance: 80%-100%<br>CGPA: 3.81",
          "Attendance: 80%-100%<br>CGPA: 3.98",
          "Attendance: 60%-79%<br>CGPA: 4.00",
          "Attendance: 80%-100%<br>CGPA: 4.00",
          "Attendance: 80%-100%<br>CGPA: 4.00",
          "Attendance: 80%-100%<br>CGPA: 4.00",
          "Attendance: 80%-100%<br>CGPA: 4.00",
          "Attendance: 80%-100%<br>CGPA: 4.00",
          "Attendance: 80%-100%<br>CGPA: 4.00",
          "Attendance: 80%-100%<br>CGPA: 4.00",
          "Attendance: 80%-100%<br>CGPA: 4.00",
          "Attendance: 80%-100%<br>CGPA: 4.00",
          "Attendance: 80%-100%<br>CGPA: 4.00",
          "Attendance: 80%-100%<br>CGPA: 3.70",
          "Attendance: 60%-79%<br>CGPA: 3.74",
          "Attendance: 60%-79%<br>CGPA: 3.15",
          "Attendance: 80%-100%<br>CGPA: 3.47",
          "Attendance: 80%-100%<br>CGPA: 3.75",
          "Attendance: 80%-100%<br>CGPA: 3.83",
          "Attendance: 80%-100%<br>CGPA: 3.93",
          "Attendance: 60%-79%<br>CGPA: 2.50",
          "Attendance: 80%-100%<br>CGPA: 3.00",
          "Attendance: 80%-100%<br>CGPA: 3.09",
          "Attendance: 60%-79%<br>CGPA: 3.50",
          "Attendance: 80%-100%<br>CGPA: 3.60",
          "Attendance: 80%-100%<br>CGPA: 3.67",
          "Attendance: 80%-100%<br>CGPA: 3.80",
          "Attendance: 80%-100%<br>CGPA: 2.85",
          "Attendance: 80%-100%<br>CGPA: 3.56",
          "Attendance: 80%-100%<br>CGPA: 3.68"
         ],
         "type": "scatter3d",
         "visible": false,
         "x": {
          "bdata": "AwMAAgMAAAAAAgIAAAICAgICAgICAAACAgICAgACAQEBAQICAQIBAQIBAgEBAQIBAQEBAQEBAQEBAgEBAwICAgECAgEBAQMBAQEBAQICAgMDAgICAgICAgICAgICAgICAgICAgICAgICAgICAgICAgICAgICAgICAgICAgICAQEBAQEBAQEBAQEBAQEBAQEBAgECAgICAwMDAgICAgIBAQEDAgMDAwMDAgICAgIDAwMDAgEBAQMDAQECAQEBAQIBAwMDAwIDAwMCAgICAwEDAwMDAwMDAwICAgICAgICAgICAwICAgIDAgICAwIDAwMCAgMCAgICAwMDAwMDAwMDAwMDAgMDAwMDAwMDAwMDAwMDAwIDAwMDAwMDAwMDAwICAwMDAwIDAwIDAwMDAwM=",
          "dtype": "i1"
         },
         "y": {
          "bdata": "AAAAAAAAAAAAAAAAAAAAAAAAAAAAAAAAAAAAAAAAAAAAAAAAAAAAAAAAAAAAAAAAAAAAAAAAAAAAAAAAAAAAAAAAAAAAAAAAAAAAAAAAAAAAAAAAAAAAAAAAAAAAAAAAAAAAAAAAAAAAAAAAAAAAAAAAAAAAAAAAAAAAAAAAAAAAAAAAAAAAAAAAAAAAAAAAAAAAAAAAAAAAAAAAAAAAAAAAAAAAAAAAAAAAAAAAAAAAAAAAAAAAAAAAAAAAAAAAAAAAAAAAAAAAAAAAAAAAAAAAAAAAAAAAAAAAAAAAAAAAAAAAAAAAAAAAAAAAAAAAAAAAAAAAAAAAAAAAAAAAAAAAAAAAAAAAAAAAAAAAAAAAAAAAAAAAAAAAAAAAAAAAAAAAAAAAAAAAAAAAAAA=",
          "dtype": "i1"
         },
         "z": {
          "bdata": "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",
          "dtype": "f8"
         }
        },
        {
         "hoverinfo": "text",
         "marker": {
          "color": {
           "bdata": "hetRuB6FD0BmZmZmZmYEQAAAAAAAAAZAMzMzMzMzB0AAAAAAAAAIQKRwPQrXowhApHA9CtejCECkcD0K16MIQKRwPQrXowhApHA9CtejCECkcD0K16MIQKRwPQrXowhApHA9CtejCECkcD0K16MIQKRwPQrXowhApHA9CtejCECkcD0K16MIQLgehetRuAhAzczMzMzMCEAzMzMzMzMJQDMzMzMzMwlAMzMzMzMzCUAzMzMzMzMJQDMzMzMzMwlAMzMzMzMzCUAzMzMzMzMJQAAAAAAAAApAAAAAAAAACkAAAAAAAAAKQAAAAAAAAApAAAAAAAAACkAAAAAAAAAKQAAAAAAAAApAAAAAAAAACkAAAAAAAAAKQAAAAAAAAApAAAAAAAAACkAAAAAAAAAKQClcj8L1KApAKVyPwvUoCkApXI/C9SgKQClcj8L1KApAKVyPwvUoCkApXI/C9SgKQClcj8L1KApAZmZmZmZmCkBmZmZmZmYKQHsUrkfhegpAexSuR+F6CkB7FK5H4XoKQHsUrkfhegpAj8L1KFyPCkCkcD0K16MKQKRwPQrXowpApHA9CtejCkCkcD0K16MKQKRwPQrXowpApHA9CtejCkCkcD0K16MKQKRwPQrXowpApHA9CtejCkCkcD0K16MKQM3MzMzMzApACtejcD0KC0AK16NwPQoLQArXo3A9CgtACtejcD0KC0AK16NwPQoLQArXo3A9CgtACtejcD0KC0AK16NwPQoLQIXrUbgehQtAhetRuB6FC0CF61G4HoULQIXrUbgehQtAAAAAAAAADEAAAAAAAAAMQAAAAAAAAAxAAAAAAAAADEAAAAAAAAAMQAAAAAAAAAxAAAAAAAAADEAAAAAAAAAMQAAAAAAAAAxAAAAAAAAADEAAAAAAAAAMQAAAAAAAAAxA4XoUrkfhDEAfhetRuB4NQFyPwvUoXA1AXI/C9ShcDUBcj8L1KFwNQFyPwvUoXA1AXI/C9ShcDUBcj8L1KFwNQIXrUbgehQ1AhetRuB6FDUCamZmZmZkNQJqZmZmZmQ1AmpmZmZmZDUCamZmZmZkNQOxRuB6F6w1A7FG4HoXrDUDsUbgehesNQOxRuB6F6w1AAAAAAAAADkAAAAAAAAAOQAAAAAAAAA5AAAAAAAAADkAAAAAAAAAOQAAAAAAAAA5AAAAAAAAADkAAAAAAAAAOQAAAAAAAAA5AFK5H4XoUDkA9CtejcD0OQGZmZmZmZg5ACtejcD0KD0AfhetRuB4PQEjhehSuRw9ArkfhehSuD0AAAAAAAAAQQAAAAAAAAA5Aw/UoXI/CB0CPwvUoXI8KQJqZmZmZmQtAw/UoXI/CC0B7FK5H4XoMQHE9CtejcA1A7FG4HoXrDUAAAAAAAAACQAAAAAAAABBAhetRuB6FDUBSuB6F61EOQHsUrkfhegpACtejcD0KD0DNzMzMzMwIQFyPwvUoXA1AexSuR+F6DEAAAAAAAAAOQOF6FK5H4Q5A",
           "dtype": "f8"
          },
          "colorbar": {
           "title": {
            "text": "CGPA"
           }
          },
          "colorscale": [
           [
            0,
            "#0d0887"
           ],
           [
            0.1111111111111111,
            "#46039f"
           ],
           [
            0.2222222222222222,
            "#7201a8"
           ],
           [
            0.3333333333333333,
            "#9c179e"
           ],
           [
            0.4444444444444444,
            "#bd3786"
           ],
           [
            0.5555555555555556,
            "#d8576b"
           ],
           [
            0.6666666666666666,
            "#ed7953"
           ],
           [
            0.7777777777777778,
            "#fb9f3a"
           ],
           [
            0.8888888888888888,
            "#fdca26"
           ],
           [
            1,
            "#f0f921"
           ]
          ],
          "opacity": 0.8,
          "size": {
           "bdata": "MzMzMzOzM0AAAAAAAIApQAAAAAAAgCtAAAAAAAAALUAAAAAAAAAuQM3MzMzMzC5AzczMzMzMLkDNzMzMzMwuQM3MzMzMzC5AzczMzMzMLkDNzMzMzMwuQM3MzMzMzC5AzczMzMzMLkDNzMzMzMwuQM3MzMzMzC5AzczMzMzMLkDNzMzMzMwuQGZmZmZm5i5AAAAAAAAAL0AAAAAAAIAvQAAAAAAAgC9AAAAAAACAL0AAAAAAAIAvQAAAAAAAgC9AAAAAAACAL0AAAAAAAIAvQAAAAAAAQDBAAAAAAABAMEAAAAAAAEAwQAAAAAAAQDBAAAAAAABAMEAAAAAAAEAwQAAAAAAAQDBAAAAAAABAMEAAAAAAAEAwQAAAAAAAQDBAAAAAAABAMEAAAAAAAEAwQJqZmZmZWTBAmpmZmZlZMECamZmZmVkwQJqZmZmZWTBAmpmZmZlZMECamZmZmVkwQJqZmZmZWTBAAAAAAACAMEAAAAAAAIAwQM3MzMzMjDBAzczMzMyMMEDNzMzMzIwwQM3MzMzMjDBAmZmZmZmZMEBmZmZmZqYwQGZmZmZmpjBAZmZmZmamMEBmZmZmZqYwQGZmZmZmpjBAZmZmZmamMEBmZmZmZqYwQGZmZmZmpjBAZmZmZmamMEBmZmZmZqYwQAAAAAAAwDBAZmZmZmbmMEBmZmZmZuYwQGZmZmZm5jBAZmZmZmbmMEBmZmZmZuYwQGZmZmZm5jBAZmZmZmbmMEBmZmZmZuYwQDMzMzMzMzFAMzMzMzMzMUAzMzMzMzMxQDMzMzMzMzFAAAAAAACAMUAAAAAAAIAxQAAAAAAAgDFAAAAAAACAMUAAAAAAAIAxQAAAAAAAgDFAAAAAAACAMUAAAAAAAIAxQAAAAAAAgDFAAAAAAACAMUAAAAAAAIAxQAAAAAAAgDFAzczMzMwMMkAzMzMzMzMyQJqZmZmZWTJAmpmZmZlZMkCamZmZmVkyQJqZmZmZWTJAmpmZmZlZMkCamZmZmVkyQDMzMzMzczJAMzMzMzNzMkAAAAAAAIAyQAAAAAAAgDJAAAAAAACAMkAAAAAAAIAyQDQzMzMzszJANDMzMzOzMkA0MzMzM7MyQDQzMzMzszJAAAAAAADAMkAAAAAAAMAyQAAAAAAAwDJAAAAAAADAMkAAAAAAAMAyQAAAAAAAwDJAAAAAAADAMkAAAAAAAMAyQAAAAAAAwDJAzMzMzMzMMkBmZmZmZuYyQAAAAAAAADNAZmZmZmZmM0AzMzMzM3MzQM3MzMzMjDNAzczMzMzMM0AAAAAAAAA0QAAAAAAAwDJANDMzMzOzLUCZmZmZmZkwQAAAAAAAQDFAmpmZmZlZMUDNzMzMzMwxQGdmZmZmZjJANDMzMzOzMkAAAAAAAIAmQAAAAAAAADRAMzMzMzNzMkAzMzMzM/MyQM3MzMzMjDBAZmZmZmZmM0AAAAAAAAAvQJqZmZmZWTJAzczMzMzMMUAAAAAAAMAyQM3MzMzMTDNA",
           "dtype": "f8"
          }
         },
         "mode": "markers",
         "name": "2-3 Hours",
         "text": [
          "Attendance: 80%-100%<br>CGPA: 3.94",
          "Attendance: 80%-100%<br>CGPA: 2.55",
          "Attendance: 80%-100%<br>CGPA: 2.75",
          "Attendance: 60%-79%<br>CGPA: 2.90",
          "Attendance: 80%-100%<br>CGPA: 3.00",
          "Attendance: 80%-100%<br>CGPA: 3.08",
          "Attendance: 60%-79%<br>CGPA: 3.08",
          "Attendance: 60%-79%<br>CGPA: 3.08",
          "Attendance: 60%-79%<br>CGPA: 3.08",
          "Attendance: 60%-79%<br>CGPA: 3.08",
          "Attendance: 60%-79%<br>CGPA: 3.08",
          "Attendance: 60%-79%<br>CGPA: 3.08",
          "Attendance: 60%-79%<br>CGPA: 3.08",
          "Attendance: 60%-79%<br>CGPA: 3.08",
          "Attendance: 60%-79%<br>CGPA: 3.08",
          "Attendance: 60%-79%<br>CGPA: 3.08",
          "Attendance: 60%-79%<br>CGPA: 3.08",
          "Attendance: 80%-100%<br>CGPA: 3.09",
          "Attendance: 80%-100%<br>CGPA: 3.10",
          "Attendance: 60%-79%<br>CGPA: 3.15",
          "Attendance: 60%-79%<br>CGPA: 3.15",
          "Attendance: 60%-79%<br>CGPA: 3.15",
          "Attendance: 60%-79%<br>CGPA: 3.15",
          "Attendance: 60%-79%<br>CGPA: 3.15",
          "Attendance: 60%-79%<br>CGPA: 3.15",
          "Attendance: 60%-79%<br>CGPA: 3.15",
          "Attendance: 60%-79%<br>CGPA: 3.25",
          "Attendance: 60%-79%<br>CGPA: 3.25",
          "Attendance: 60%-79%<br>CGPA: 3.25",
          "Attendance: 60%-79%<br>CGPA: 3.25",
          "Attendance: 60%-79%<br>CGPA: 3.25",
          "Attendance: 60%-79%<br>CGPA: 3.25",
          "Attendance: 60%-79%<br>CGPA: 3.25",
          "Attendance: 60%-79%<br>CGPA: 3.25",
          "Attendance: 60%-79%<br>CGPA: 3.25",
          "Attendance: 60%-79%<br>CGPA: 3.25",
          "Attendance: 60%-79%<br>CGPA: 3.25",
          "Attendance: 60%-79%<br>CGPA: 3.25",
          "Attendance: 80%-100%<br>CGPA: 3.27",
          "Attendance: 60%-79%<br>CGPA: 3.27",
          "Attendance: 60%-79%<br>CGPA: 3.27",
          "Attendance: 60%-79%<br>CGPA: 3.27",
          "Attendance: 60%-79%<br>CGPA: 3.27",
          "Attendance: 60%-79%<br>CGPA: 3.27",
          "Attendance: 60%-79%<br>CGPA: 3.27",
          "Attendance: 60%-79%<br>CGPA: 3.30",
          "Attendance: 60%-79%<br>CGPA: 3.30",
          "Attendance: 60%-79%<br>CGPA: 3.31",
          "Attendance: 60%-79%<br>CGPA: 3.31",
          "Attendance: 60%-79%<br>CGPA: 3.31",
          "Attendance: 60%-79%<br>CGPA: 3.31",
          "Attendance: 60%-79%<br>CGPA: 3.32",
          "Attendance: 80%-100%<br>CGPA: 3.33",
          "Attendance: 60%-79%<br>CGPA: 3.33",
          "Attendance: 60%-79%<br>CGPA: 3.33",
          "Attendance: 60%-79%<br>CGPA: 3.33",
          "Attendance: 60%-79%<br>CGPA: 3.33",
          "Attendance: 60%-79%<br>CGPA: 3.33",
          "Attendance: 60%-79%<br>CGPA: 3.33",
          "Attendance: 60%-79%<br>CGPA: 3.33",
          "Attendance: 60%-79%<br>CGPA: 3.33",
          "Attendance: 60%-79%<br>CGPA: 3.33",
          "Attendance: 60%-79%<br>CGPA: 3.35",
          "Attendance: 60%-79%<br>CGPA: 3.38",
          "Attendance: 60%-79%<br>CGPA: 3.38",
          "Attendance: 60%-79%<br>CGPA: 3.38",
          "Attendance: 60%-79%<br>CGPA: 3.38",
          "Attendance: 60%-79%<br>CGPA: 3.38",
          "Attendance: 60%-79%<br>CGPA: 3.38",
          "Attendance: 60%-79%<br>CGPA: 3.38",
          "Attendance: 60%-79%<br>CGPA: 3.38",
          "Attendance: 80%-100%<br>CGPA: 3.44",
          "Attendance: 60%-79%<br>CGPA: 3.44",
          "Attendance: 60%-79%<br>CGPA: 3.44",
          "Attendance: 60%-79%<br>CGPA: 3.44",
          "Attendance: 80%-100%<br>CGPA: 3.50",
          "Attendance: 80%-100%<br>CGPA: 3.50",
          "Attendance: 80%-100%<br>CGPA: 3.50",
          "Attendance: 80%-100%<br>CGPA: 3.50",
          "Attendance: 80%-100%<br>CGPA: 3.50",
          "Attendance: 60%-79%<br>CGPA: 3.50",
          "Attendance: 60%-79%<br>CGPA: 3.50",
          "Attendance: 60%-79%<br>CGPA: 3.50",
          "Attendance: 60%-79%<br>CGPA: 3.50",
          "Attendance: 60%-79%<br>CGPA: 3.50",
          "Attendance: 60%-79%<br>CGPA: 3.50",
          "Attendance: 60%-79%<br>CGPA: 3.50",
          "Attendance: 80%-100%<br>CGPA: 3.61",
          "Attendance: 80%-100%<br>CGPA: 3.64",
          "Attendance: 60%-79%<br>CGPA: 3.67",
          "Attendance: 60%-79%<br>CGPA: 3.67",
          "Attendance: 60%-79%<br>CGPA: 3.67",
          "Attendance: 60%-79%<br>CGPA: 3.67",
          "Attendance: 60%-79%<br>CGPA: 3.67",
          "Attendance: 60%-79%<br>CGPA: 3.67",
          "Attendance: 80%-100%<br>CGPA: 3.69",
          "Attendance: 80%-100%<br>CGPA: 3.69",
          "Attendance: 80%-100%<br>CGPA: 3.70",
          "Attendance: 80%-100%<br>CGPA: 3.70",
          "Attendance: 80%-100%<br>CGPA: 3.70",
          "Attendance: 80%-100%<br>CGPA: 3.70",
          "Attendance: 80%-100%<br>CGPA: 3.74",
          "Attendance: 80%-100%<br>CGPA: 3.74",
          "Attendance: 80%-100%<br>CGPA: 3.74",
          "Attendance: 80%-100%<br>CGPA: 3.74",
          "Attendance: 80%-100%<br>CGPA: 3.75",
          "Attendance: 80%-100%<br>CGPA: 3.75",
          "Attendance: 80%-100%<br>CGPA: 3.75",
          "Attendance: 80%-100%<br>CGPA: 3.75",
          "Attendance: 80%-100%<br>CGPA: 3.75",
          "Attendance: 80%-100%<br>CGPA: 3.75",
          "Attendance: 80%-100%<br>CGPA: 3.75",
          "Attendance: 80%-100%<br>CGPA: 3.75",
          "Attendance: 80%-100%<br>CGPA: 3.75",
          "Attendance: 80%-100%<br>CGPA: 3.76",
          "Attendance: 80%-100%<br>CGPA: 3.78",
          "Attendance: 80%-100%<br>CGPA: 3.80",
          "Attendance: 80%-100%<br>CGPA: 3.88",
          "Attendance: 80%-100%<br>CGPA: 3.89",
          "Attendance: 80%-100%<br>CGPA: 3.91",
          "Attendance: 80%-100%<br>CGPA: 3.96",
          "Attendance: 80%-100%<br>CGPA: 4.00",
          "Attendance: 80%-100%<br>CGPA: 3.75",
          "Attendance: 80%-100%<br>CGPA: 2.97",
          "Attendance: 80%-100%<br>CGPA: 3.32",
          "Attendance: 60%-79%<br>CGPA: 3.45",
          "Attendance: 80%-100%<br>CGPA: 3.47",
          "Attendance: 80%-100%<br>CGPA: 3.56",
          "Attendance: 80%-100%<br>CGPA: 3.68",
          "Attendance: 80%-100%<br>CGPA: 3.74",
          "Attendance: 40%-59%<br>CGPA: 2.25",
          "Attendance: 80%-100%<br>CGPA: 4.00",
          "Attendance: 80%-100%<br>CGPA: 3.69",
          "Attendance: 60%-79%<br>CGPA: 3.79",
          "Attendance: Below 40%<br>CGPA: 3.31",
          "Attendance: 80%-100%<br>CGPA: 3.88",
          "Attendance: 40%-59%<br>CGPA: 3.10",
          "Attendance: 60%-79%<br>CGPA: 3.67",
          "Attendance: 40%-59%<br>CGPA: 3.56",
          "Attendance: 80%-100%<br>CGPA: 3.75",
          "Attendance: 80%-100%<br>CGPA: 3.86"
         ],
         "type": "scatter3d",
         "visible": false,
         "x": {
          "bdata": "AwMDAgMDAgICAgICAgICAgIDAwICAgICAgICAgICAgICAgICAgIDAgICAgICAgICAgICAgMCAgICAgICAgICAgICAgICAgIDAgICAwMDAwMCAgICAgICAwMCAgICAgIDAwMDAwMDAwMDAwMDAwMDAwMDAwMDAwMDAwMDAwMCAwMDAwEDAwIAAwECAQMD",
          "dtype": "i1"
         },
         "y": {
          "bdata": "AQEBAQEBAQEBAQEBAQEBAQEBAQEBAQEBAQEBAQEBAQEBAQEBAQEBAQEBAQEBAQEBAQEBAQEBAQEBAQEBAQEBAQEBAQEBAQEBAQEBAQEBAQEBAQEBAQEBAQEBAQEBAQEBAQEBAQEBAQEBAQEBAQEBAQEBAQEBAQEBAQEBAQEBAQEBAQEBAQEBAQEBAQEB",
          "dtype": "i1"
         },
         "z": {
          "bdata": "hetRuB6FD0BmZmZmZmYEQAAAAAAAAAZAMzMzMzMzB0AAAAAAAAAIQKRwPQrXowhApHA9CtejCECkcD0K16MIQKRwPQrXowhApHA9CtejCECkcD0K16MIQKRwPQrXowhApHA9CtejCECkcD0K16MIQKRwPQrXowhApHA9CtejCECkcD0K16MIQLgehetRuAhAzczMzMzMCEAzMzMzMzMJQDMzMzMzMwlAMzMzMzMzCUAzMzMzMzMJQDMzMzMzMwlAMzMzMzMzCUAzMzMzMzMJQAAAAAAAAApAAAAAAAAACkAAAAAAAAAKQAAAAAAAAApAAAAAAAAACkAAAAAAAAAKQAAAAAAAAApAAAAAAAAACkAAAAAAAAAKQAAAAAAAAApAAAAAAAAACkAAAAAAAAAKQClcj8L1KApAKVyPwvUoCkApXI/C9SgKQClcj8L1KApAKVyPwvUoCkApXI/C9SgKQClcj8L1KApAZmZmZmZmCkBmZmZmZmYKQHsUrkfhegpAexSuR+F6CkB7FK5H4XoKQHsUrkfhegpAj8L1KFyPCkCkcD0K16MKQKRwPQrXowpApHA9CtejCkCkcD0K16MKQKRwPQrXowpApHA9CtejCkCkcD0K16MKQKRwPQrXowpApHA9CtejCkCkcD0K16MKQM3MzMzMzApACtejcD0KC0AK16NwPQoLQArXo3A9CgtACtejcD0KC0AK16NwPQoLQArXo3A9CgtACtejcD0KC0AK16NwPQoLQIXrUbgehQtAhetRuB6FC0CF61G4HoULQIXrUbgehQtAAAAAAAAADEAAAAAAAAAMQAAAAAAAAAxAAAAAAAAADEAAAAAAAAAMQAAAAAAAAAxAAAAAAAAADEAAAAAAAAAMQAAAAAAAAAxAAAAAAAAADEAAAAAAAAAMQAAAAAAAAAxA4XoUrkfhDEAfhetRuB4NQFyPwvUoXA1AXI/C9ShcDUBcj8L1KFwNQFyPwvUoXA1AXI/C9ShcDUBcj8L1KFwNQIXrUbgehQ1AhetRuB6FDUCamZmZmZkNQJqZmZmZmQ1AmpmZmZmZDUCamZmZmZkNQOxRuB6F6w1A7FG4HoXrDUDsUbgehesNQOxRuB6F6w1AAAAAAAAADkAAAAAAAAAOQAAAAAAAAA5AAAAAAAAADkAAAAAAAAAOQAAAAAAAAA5AAAAAAAAADkAAAAAAAAAOQAAAAAAAAA5AFK5H4XoUDkA9CtejcD0OQGZmZmZmZg5ACtejcD0KD0AfhetRuB4PQEjhehSuRw9ArkfhehSuD0AAAAAAAAAQQAAAAAAAAA5Aw/UoXI/CB0CPwvUoXI8KQJqZmZmZmQtAw/UoXI/CC0B7FK5H4XoMQHE9CtejcA1A7FG4HoXrDUAAAAAAAAACQAAAAAAAABBAhetRuB6FDUBSuB6F61EOQHsUrkfhegpACtejcD0KD0DNzMzMzMwIQFyPwvUoXA1AexSuR+F6DEAAAAAAAAAOQOF6FK5H4Q5A",
          "dtype": "f8"
         }
        },
        {
         "hoverinfo": "text",
         "marker": {
          "color": {
           "bdata": "zczMzMzMCkAj2/l+arwLQM3MzMzMzPw/AAAAAAAAAEAAAAAAAAAEQFK4HoXrUQZAAAAAAAAACEDhehSuR+EIQB+F61G4HgtAAAAAAAAADEAAAAAAAAAMQFK4HoXrUQxAMzMzMzMzDUAzMzMzMzMNQD0K16NwPQ5APQrXo3A9DkBmZmZmZmYOQGZmZmZmZg5AuB6F61G4DkD2KFyPwvUOQArXo3A9Cg9ACtejcD0KD0AK16NwPQoPQArXo3A9Cg9ACtejcD0KD0AK16NwPQoPQHE9CtejcA9AhetRuB6FD0CF61G4HoUPQIXrUbgehQ9AhetRuB6FD0CF61G4HoUPQIXrUbgehQ9AhetRuB6FD0CF61G4HoUPQIXrUbgehQ9AhetRuB6FD0CF61G4HoUPQIXrUbgehQ9AhetRuB6FD0CamZmZmZkPQAAAAAAAABBApHA9CtejCkDNzMzMzMwMQGZmZmZmZg5AXI/C9ShcCUAAAAAAAAAMQAAAAAAAAAxAPQrXo3A9DkCF61G4HoUPQA==",
           "dtype": "f8"
          },
          "colorbar": {
           "title": {
            "text": "CGPA"
           }
          },
          "colorscale": [
           [
            0,
            "#0d0887"
           ],
           [
            0.1111111111111111,
            "#46039f"
           ],
           [
            0.2222222222222222,
            "#7201a8"
           ],
           [
            0.3333333333333333,
            "#9c179e"
           ],
           [
            0.4444444444444444,
            "#bd3786"
           ],
           [
            0.5555555555555556,
            "#d8576b"
           ],
           [
            0.6666666666666666,
            "#ed7953"
           ],
           [
            0.7777777777777778,
            "#fb9f3a"
           ],
           [
            0.8888888888888888,
            "#fdca26"
           ],
           [
            1,
            "#f0f921"
           ]
          ],
          "opacity": 0.8,
          "size": {
           "bdata": "AAAAAADAMED2KFyPwlUxQAAAAAAAACJAAAAAAAAAJEAAAAAAAAApQGZmZmZm5itAAAAAAAAALkCZmZmZmRkvQDMzMzMz8zBAAAAAAACAMUAAAAAAAIAxQDMzMzMzszFAAAAAAABAMkAAAAAAAEAyQGZmZmZm5jJAZmZmZmbmMkAAAAAAAAAzQAAAAAAAADNAMzMzMzMzM0CamZmZmVkzQGZmZmZmZjNAZmZmZmZmM0BmZmZmZmYzQGZmZmZmZjNAZmZmZmZmM0BmZmZmZmYzQGdmZmZmpjNAMzMzMzOzM0AzMzMzM7MzQDMzMzMzszNAMzMzMzOzM0AzMzMzM7MzQDMzMzMzszNAMzMzMzOzM0AzMzMzM7MzQDMzMzMzszNAMzMzMzOzM0AzMzMzM7MzQDMzMzMzszNAMzMzMzOzM0AAAAAAAMAzQAAAAAAAADRAZmZmZmamMEAAAAAAAAAyQAAAAAAAADNAMzMzMzOzL0AAAAAAAIAxQAAAAAAAgDFAZmZmZmbmMkAzMzMzM7MzQA==",
           "dtype": "f8"
          }
         },
         "mode": "markers",
         "name": "0-1 Hour",
         "text": [
          "Attendance: 80%-100%<br>CGPA: 3.35",
          "Attendance: 80%-100%<br>CGPA: 3.47",
          "Attendance: 80%-100%<br>CGPA: 1.80",
          "Attendance: 60%-79%<br>CGPA: 2.00",
          "Attendance: 80%-100%<br>CGPA: 2.50",
          "Attendance: 60%-79%<br>CGPA: 2.79",
          "Attendance: 60%-79%<br>CGPA: 3.00",
          "Attendance: 80%-100%<br>CGPA: 3.11",
          "Attendance: 80%-100%<br>CGPA: 3.39",
          "Attendance: 80%-100%<br>CGPA: 3.50",
          "Attendance: 80%-100%<br>CGPA: 3.50",
          "Attendance: 80%-100%<br>CGPA: 3.54",
          "Attendance: 80%-100%<br>CGPA: 3.65",
          "Attendance: 80%-100%<br>CGPA: 3.65",
          "Attendance: 80%-100%<br>CGPA: 3.78",
          "Attendance: 80%-100%<br>CGPA: 3.78",
          "Attendance: 80%-100%<br>CGPA: 3.80",
          "Attendance: 80%-100%<br>CGPA: 3.80",
          "Attendance: 80%-100%<br>CGPA: 3.84",
          "Attendance: 80%-100%<br>CGPA: 3.87",
          "Attendance: 80%-100%<br>CGPA: 3.88",
          "Attendance: 80%-100%<br>CGPA: 3.88",
          "Attendance: 80%-100%<br>CGPA: 3.88",
          "Attendance: 80%-100%<br>CGPA: 3.88",
          "Attendance: 80%-100%<br>CGPA: 3.88",
          "Attendance: 80%-100%<br>CGPA: 3.88",
          "Attendance: 80%-100%<br>CGPA: 3.93",
          "Attendance: 80%-100%<br>CGPA: 3.94",
          "Attendance: 80%-100%<br>CGPA: 3.94",
          "Attendance: 80%-100%<br>CGPA: 3.94",
          "Attendance: 80%-100%<br>CGPA: 3.94",
          "Attendance: 80%-100%<br>CGPA: 3.94",
          "Attendance: 80%-100%<br>CGPA: 3.94",
          "Attendance: 80%-100%<br>CGPA: 3.94",
          "Attendance: 80%-100%<br>CGPA: 3.94",
          "Attendance: 80%-100%<br>CGPA: 3.94",
          "Attendance: 80%-100%<br>CGPA: 3.94",
          "Attendance: 80%-100%<br>CGPA: 3.94",
          "Attendance: 80%-100%<br>CGPA: 3.94",
          "Attendance: 80%-100%<br>CGPA: 3.94",
          "Attendance: 80%-100%<br>CGPA: 3.95",
          "Attendance: 80%-100%<br>CGPA: 4.00",
          "Attendance: 60%-79%<br>CGPA: 3.33",
          "Attendance: 80%-100%<br>CGPA: 3.60",
          "Attendance: 80%-100%<br>CGPA: 3.80",
          "Attendance: 80%-100%<br>CGPA: 3.17",
          "Attendance: 80%-100%<br>CGPA: 3.50",
          "Attendance: 80%-100%<br>CGPA: 3.50",
          "Attendance: 80%-100%<br>CGPA: 3.78",
          "Attendance: 80%-100%<br>CGPA: 3.94"
         ],
         "type": "scatter3d",
         "visible": false,
         "x": {
          "bdata": "AwMDAgMCAgMDAwMDAwMDAwMDAwMDAwMDAwMDAwMDAwMDAwMDAwMDAwMDAgMDAwMDAwM=",
          "dtype": "i1"
         },
         "y": {
          "bdata": "AgICAgICAgICAgICAgICAgICAgICAgICAgICAgICAgICAgICAgICAgICAgICAgICAgI=",
          "dtype": "i1"
         },
         "z": {
          "bdata": "zczMzMzMCkAj2/l+arwLQM3MzMzMzPw/AAAAAAAAAEAAAAAAAAAEQFK4HoXrUQZAAAAAAAAACEDhehSuR+EIQB+F61G4HgtAAAAAAAAADEAAAAAAAAAMQFK4HoXrUQxAMzMzMzMzDUAzMzMzMzMNQD0K16NwPQ5APQrXo3A9DkBmZmZmZmYOQGZmZmZmZg5AuB6F61G4DkD2KFyPwvUOQArXo3A9Cg9ACtejcD0KD0AK16NwPQoPQArXo3A9Cg9ACtejcD0KD0AK16NwPQoPQHE9CtejcA9AhetRuB6FD0CF61G4HoUPQIXrUbgehQ9AhetRuB6FD0CF61G4HoUPQIXrUbgehQ9AhetRuB6FD0CF61G4HoUPQIXrUbgehQ9AhetRuB6FD0CF61G4HoUPQIXrUbgehQ9AhetRuB6FD0CamZmZmZkPQAAAAAAAABBApHA9CtejCkDNzMzMzMwMQGZmZmZmZg5AXI/C9ShcCUAAAAAAAAAMQAAAAAAAAAxAPQrXo3A9DkCF61G4HoUPQA==",
          "dtype": "f8"
         }
        }
       ],
       "layout": {
        "autosize": true,
        "margin": {
         "t": 100
        },
        "scene": {
         "aspectmode": "auto",
         "aspectratio": {
          "x": 1.1447142425533319,
          "y": 0.7631428283688879,
          "z": 1.1447142425533319
         },
         "camera": {
          "center": {
           "x": 0,
           "y": 0,
           "z": 0
          },
          "eye": {
           "x": 0.01445966895466307,
           "y": 0.014459668954663068,
           "z": 0.009295501470854834
          },
          "projection": {
           "type": "perspective"
          },
          "up": {
           "x": 0,
           "y": 0,
           "z": 1
          }
         },
         "xaxis": {
          "range": [
           -0.5,
           3.5
          ],
          "ticktext": [
           "Below 40%",
           "40%-59%",
           "60%-79%",
           "80%-100%"
          ],
          "tickvals": [
           0,
           1,
           2,
           3
          ],
          "title": {
           "text": "Attendance Group"
          },
          "type": "linear"
         },
         "yaxis": {
          "range": [
           -0.5,
           2.5
          ],
          "ticktext": [
           "0-1 Hour",
           "2-3 Hours",
           "More than 3 Hours"
          ],
          "tickvals": [
           0,
           1,
           2
          ],
          "title": {
           "text": "Gaming (hours/day)"
          },
          "type": "linear"
         },
         "zaxis": {
          "range": [
           0,
           4.5
          ],
          "title": {
           "text": "Overall Grade (CGPA)"
          },
          "type": "linear"
         }
        },
        "template": {
         "data": {
          "bar": [
           {
            "error_x": {
             "color": "#2a3f5f"
            },
            "error_y": {
             "color": "#2a3f5f"
            },
            "marker": {
             "line": {
              "color": "#E5ECF6",
              "width": 0
             },
             "pattern": {
              "fillmode": "overlay",
              "size": 10,
              "solidity": 0.2
             }
            },
            "type": "bar"
           }
          ],
          "barpolar": [
           {
            "marker": {
             "line": {
              "color": "#E5ECF6",
              "width": 0.5
             },
             "pattern": {
              "fillmode": "overlay",
              "size": 10,
              "solidity": 0.2
             }
            },
            "type": "barpolar"
           }
          ],
          "carpet": [
           {
            "aaxis": {
             "endlinecolor": "#2a3f5f",
             "gridcolor": "white",
             "linecolor": "white",
             "minorgridcolor": "white",
             "startlinecolor": "#2a3f5f"
            },
            "baxis": {
             "endlinecolor": "#2a3f5f",
             "gridcolor": "white",
             "linecolor": "white",
             "minorgridcolor": "white",
             "startlinecolor": "#2a3f5f"
            },
            "type": "carpet"
           }
          ],
          "choropleth": [
           {
            "colorbar": {
             "outlinewidth": 0,
             "ticks": ""
            },
            "type": "choropleth"
           }
          ],
          "contour": [
           {
            "colorbar": {
             "outlinewidth": 0,
             "ticks": ""
            },
            "colorscale": [
             [
              0,
              "#0d0887"
             ],
             [
              0.1111111111111111,
              "#46039f"
             ],
             [
              0.2222222222222222,
              "#7201a8"
             ],
             [
              0.3333333333333333,
              "#9c179e"
             ],
             [
              0.4444444444444444,
              "#bd3786"
             ],
             [
              0.5555555555555556,
              "#d8576b"
             ],
             [
              0.6666666666666666,
              "#ed7953"
             ],
             [
              0.7777777777777778,
              "#fb9f3a"
             ],
             [
              0.8888888888888888,
              "#fdca26"
             ],
             [
              1,
              "#f0f921"
             ]
            ],
            "type": "contour"
           }
          ],
          "contourcarpet": [
           {
            "colorbar": {
             "outlinewidth": 0,
             "ticks": ""
            },
            "type": "contourcarpet"
           }
          ],
          "heatmap": [
           {
            "colorbar": {
             "outlinewidth": 0,
             "ticks": ""
            },
            "colorscale": [
             [
              0,
              "#0d0887"
             ],
             [
              0.1111111111111111,
              "#46039f"
             ],
             [
              0.2222222222222222,
              "#7201a8"
             ],
             [
              0.3333333333333333,
              "#9c179e"
             ],
             [
              0.4444444444444444,
              "#bd3786"
             ],
             [
              0.5555555555555556,
              "#d8576b"
             ],
             [
              0.6666666666666666,
              "#ed7953"
             ],
             [
              0.7777777777777778,
              "#fb9f3a"
             ],
             [
              0.8888888888888888,
              "#fdca26"
             ],
             [
              1,
              "#f0f921"
             ]
            ],
            "type": "heatmap"
           }
          ],
          "histogram": [
           {
            "marker": {
             "pattern": {
              "fillmode": "overlay",
              "size": 10,
              "solidity": 0.2
             }
            },
            "type": "histogram"
           }
          ],
          "histogram2d": [
           {
            "colorbar": {
             "outlinewidth": 0,
             "ticks": ""
            },
            "colorscale": [
             [
              0,
              "#0d0887"
             ],
             [
              0.1111111111111111,
              "#46039f"
             ],
             [
              0.2222222222222222,
              "#7201a8"
             ],
             [
              0.3333333333333333,
              "#9c179e"
             ],
             [
              0.4444444444444444,
              "#bd3786"
             ],
             [
              0.5555555555555556,
              "#d8576b"
             ],
             [
              0.6666666666666666,
              "#ed7953"
             ],
             [
              0.7777777777777778,
              "#fb9f3a"
             ],
             [
              0.8888888888888888,
              "#fdca26"
             ],
             [
              1,
              "#f0f921"
             ]
            ],
            "type": "histogram2d"
           }
          ],
          "histogram2dcontour": [
           {
            "colorbar": {
             "outlinewidth": 0,
             "ticks": ""
            },
            "colorscale": [
             [
              0,
              "#0d0887"
             ],
             [
              0.1111111111111111,
              "#46039f"
             ],
             [
              0.2222222222222222,
              "#7201a8"
             ],
             [
              0.3333333333333333,
              "#9c179e"
             ],
             [
              0.4444444444444444,
              "#bd3786"
             ],
             [
              0.5555555555555556,
              "#d8576b"
             ],
             [
              0.6666666666666666,
              "#ed7953"
             ],
             [
              0.7777777777777778,
              "#fb9f3a"
             ],
             [
              0.8888888888888888,
              "#fdca26"
             ],
             [
              1,
              "#f0f921"
             ]
            ],
            "type": "histogram2dcontour"
           }
          ],
          "mesh3d": [
           {
            "colorbar": {
             "outlinewidth": 0,
             "ticks": ""
            },
            "type": "mesh3d"
           }
          ],
          "parcoords": [
           {
            "line": {
             "colorbar": {
              "outlinewidth": 0,
              "ticks": ""
             }
            },
            "type": "parcoords"
           }
          ],
          "pie": [
           {
            "automargin": true,
            "type": "pie"
           }
          ],
          "scatter": [
           {
            "fillpattern": {
             "fillmode": "overlay",
             "size": 10,
             "solidity": 0.2
            },
            "type": "scatter"
           }
          ],
          "scatter3d": [
           {
            "line": {
             "colorbar": {
              "outlinewidth": 0,
              "ticks": ""
             }
            },
            "marker": {
             "colorbar": {
              "outlinewidth": 0,
              "ticks": ""
             }
            },
            "type": "scatter3d"
           }
          ],
          "scattercarpet": [
           {
            "marker": {
             "colorbar": {
              "outlinewidth": 0,
              "ticks": ""
             }
            },
            "type": "scattercarpet"
           }
          ],
          "scattergeo": [
           {
            "marker": {
             "colorbar": {
              "outlinewidth": 0,
              "ticks": ""
             }
            },
            "type": "scattergeo"
           }
          ],
          "scattergl": [
           {
            "marker": {
             "colorbar": {
              "outlinewidth": 0,
              "ticks": ""
             }
            },
            "type": "scattergl"
           }
          ],
          "scattermap": [
           {
            "marker": {
             "colorbar": {
              "outlinewidth": 0,
              "ticks": ""
             }
            },
            "type": "scattermap"
           }
          ],
          "scattermapbox": [
           {
            "marker": {
             "colorbar": {
              "outlinewidth": 0,
              "ticks": ""
             }
            },
            "type": "scattermapbox"
           }
          ],
          "scatterpolar": [
           {
            "marker": {
             "colorbar": {
              "outlinewidth": 0,
              "ticks": ""
             }
            },
            "type": "scatterpolar"
           }
          ],
          "scatterpolargl": [
           {
            "marker": {
             "colorbar": {
              "outlinewidth": 0,
              "ticks": ""
             }
            },
            "type": "scatterpolargl"
           }
          ],
          "scatterternary": [
           {
            "marker": {
             "colorbar": {
              "outlinewidth": 0,
              "ticks": ""
             }
            },
            "type": "scatterternary"
           }
          ],
          "surface": [
           {
            "colorbar": {
             "outlinewidth": 0,
             "ticks": ""
            },
            "colorscale": [
             [
              0,
              "#0d0887"
             ],
             [
              0.1111111111111111,
              "#46039f"
             ],
             [
              0.2222222222222222,
              "#7201a8"
             ],
             [
              0.3333333333333333,
              "#9c179e"
             ],
             [
              0.4444444444444444,
              "#bd3786"
             ],
             [
              0.5555555555555556,
              "#d8576b"
             ],
             [
              0.6666666666666666,
              "#ed7953"
             ],
             [
              0.7777777777777778,
              "#fb9f3a"
             ],
             [
              0.8888888888888888,
              "#fdca26"
             ],
             [
              1,
              "#f0f921"
             ]
            ],
            "type": "surface"
           }
          ],
          "table": [
           {
            "cells": {
             "fill": {
              "color": "#EBF0F8"
             },
             "line": {
              "color": "white"
             }
            },
            "header": {
             "fill": {
              "color": "#C8D4E3"
             },
             "line": {
              "color": "white"
             }
            },
            "type": "table"
           }
          ]
         },
         "layout": {
          "annotationdefaults": {
           "arrowcolor": "#343a42",
           "arrowhead": 0,
           "arrowwidth": 1
          },
          "autotypenumbers": "strict",
          "coloraxis": {
           "colorbar": {
            "outlinewidth": 0,
            "ticks": ""
           }
          },
          "colorscale": {
           "diverging": [
            [
             0,
             "#8e0152"
            ],
            [
             0.1,
             "#c51b7d"
            ],
            [
             0.2,
             "#de77ae"
            ],
            [
             0.3,
             "#f1b6da"
            ],
            [
             0.4,
             "#fde0ef"
            ],
            [
             0.5,
             "#f7f7f7"
            ],
            [
             0.6,
             "#e6f5d0"
            ],
            [
             0.7,
             "#b8e186"
            ],
            [
             0.8,
             "#7fbc41"
            ],
            [
             0.9,
             "#4d9221"
            ],
            [
             1,
             "#276419"
            ]
           ],
           "sequential": [
            [
             0,
             "#0d0887"
            ],
            [
             0.1111111111111111,
             "#46039f"
            ],
            [
             0.2222222222222222,
             "#7201a8"
            ],
            [
             0.3333333333333333,
             "#9c179e"
            ],
            [
             0.4444444444444444,
             "#bd3786"
            ],
            [
             0.5555555555555556,
             "#d8576b"
            ],
            [
             0.6666666666666666,
             "#ed7953"
            ],
            [
             0.7777777777777778,
             "#fb9f3a"
            ],
            [
             0.8888888888888888,
             "#fdca26"
            ],
            [
             1,
             "#f0f921"
            ]
           ],
           "sequentialminus": [
            [
             0,
             "#0d0887"
            ],
            [
             0.1111111111111111,
             "#46039f"
            ],
            [
             0.2222222222222222,
             "#7201a8"
            ],
            [
             0.3333333333333333,
             "#9c179e"
            ],
            [
             0.4444444444444444,
             "#bd3786"
            ],
            [
             0.5555555555555556,
             "#d8576b"
            ],
            [
             0.6666666666666666,
             "#ed7953"
            ],
            [
             0.7777777777777778,
             "#fb9f3a"
            ],
            [
             0.8888888888888888,
             "#fdca26"
            ],
            [
             1,
             "#f0f921"
            ]
           ]
          },
          "colorway": [
           "#343a42",
           "#4edcda",
           "#4c75eb",
           "#ef4de5",
           "#f74e4e",
           "#2d8923",
           "#f7b24e",
           "#2b9694",
           "#3a34b5",
           "#a736a0",
           "#b33c3c",
           "#2d8923"
          ],
          "font": {
           "color": "#343a42"
          },
          "geo": {
           "bgcolor": "white",
           "lakecolor": "white",
           "landcolor": "#E5ECF6",
           "showlakes": true,
           "showland": true,
           "subunitcolor": "white"
          },
          "hoverlabel": {
           "align": "left"
          },
          "hovermode": "closest",
          "mapbox": {
           "style": "light"
          },
          "paper_bgcolor": "#fdead4",
          "plot_bgcolor": "rgba(0, 0, 0, 0)",
          "polar": {
           "angularaxis": {
            "gridcolor": "white",
            "linecolor": "white",
            "ticks": ""
           },
           "bgcolor": "#E5ECF6",
           "radialaxis": {
            "gridcolor": "white",
            "linecolor": "white",
            "ticks": ""
           }
          },
          "scene": {
           "xaxis": {
            "backgroundcolor": "#E5ECF6",
            "gridcolor": "white",
            "gridwidth": 2,
            "linecolor": "white",
            "showbackground": true,
            "ticks": "",
            "zerolinecolor": "white"
           },
           "yaxis": {
            "backgroundcolor": "#E5ECF6",
            "gridcolor": "white",
            "gridwidth": 2,
            "linecolor": "white",
            "showbackground": true,
            "ticks": "",
            "zerolinecolor": "white"
           },
           "zaxis": {
            "backgroundcolor": "#E5ECF6",
            "gridcolor": "white",
            "gridwidth": 2,
            "linecolor": "white",
            "showbackground": true,
            "ticks": "",
            "zerolinecolor": "white"
           }
          },
          "shapedefaults": {
           "line": {
            "color": "#2a3f5f"
           }
          },
          "ternary": {
           "aaxis": {
            "gridcolor": "white",
            "linecolor": "white",
            "ticks": ""
           },
           "baxis": {
            "gridcolor": "white",
            "linecolor": "white",
            "ticks": ""
           },
           "bgcolor": "#E5ECF6",
           "caxis": {
            "gridcolor": "white",
            "linecolor": "white",
            "ticks": ""
           }
          },
          "title": {
           "x": 0.5
          },
          "xaxis": {
           "automargin": true,
           "gridcolor": "#d8bea1",
           "linecolor": "white",
           "ticks": "",
           "title": {
            "standoff": 15
           },
           "zerolinecolor": "#d8bea1",
           "zerolinewidth": 1
          },
          "yaxis": {
           "automargin": true,
           "gridcolor": "#d8bea1",
           "linecolor": "white",
           "ticks": "",
           "title": {
            "standoff": 15
           },
           "zerolinecolor": "#d8bea1",
           "zerolinewidth": 1
          }
         }
        },
        "title": {
         "text": "Gaming Group: All"
        },
        "updatemenus": [
         {
          "buttons": [
           {
            "args": [
             {
              "visible": [
               true,
               false,
               false,
               false
              ]
             },
             {
              "title": "Gaming Group: All"
             }
            ],
            "label": "All",
            "method": "update"
           },
           {
            "args": [
             {
              "visible": [
               false,
               true,
               false,
               false
              ]
             },
             {
              "title": "Gaming Group: More than 3 Hours"
             }
            ],
            "label": "More than 3 Hours",
            "method": "update"
           },
           {
            "args": [
             {
              "visible": [
               false,
               false,
               true,
               false
              ]
             },
             {
              "title": "Gaming Group: 2-3 Hours"
             }
            ],
            "label": "2-3 Hours",
            "method": "update"
           },
           {
            "args": [
             {
              "visible": [
               false,
               false,
               false,
               true
              ]
             },
             {
              "title": "Gaming Group: 0-1 Hour"
             }
            ],
            "label": "0-1 Hour",
            "method": "update"
           }
          ],
          "direction": "down",
          "showactive": true,
          "x": 0.05,
          "xanchor": "left",
          "y": 1.15,
          "yanchor": "top"
         },
         {
          "buttons": [
           {
            "args": [
             {
              "scene.dragmode": "orbit"
             }
            ],
            "label": "Free Rotate",
            "method": "relayout"
           },
           {
            "args": [
             {
              "scene.dragmode": "turntable"
             }
            ],
            "label": "Turntable",
            "method": "relayout"
           },
           {
            "args": [
             {
              "scene.dragmode": "zoom"
             }
            ],
            "label": "Zoom Only",
            "method": "relayout"
           },
           {
            "args": [
             {
              "scene.dragmode": false
             }
            ],
            "label": "Static View",
            "method": "relayout"
           }
          ],
          "direction": "right",
          "showactive": true,
          "x": 0.4,
          "xanchor": "left",
          "y": 1.15,
          "yanchor": "top"
         }
        ]
       }
      },
      "image/png": "[encoded data removed]"
     },
     "metadata": {},
     "output_type": "display_data"
    }
   ],
   "source": [
    "%run InfoVisualisation7.ipynb"
   ]
  },
  {
   "cell_type": "markdown",
   "id": "2bc27275-76a6-44dc-8ff7-e364501ba194",
   "metadata": {
    "tags": [
     "remove_input"
    ]
   },
   "source": [
    "## Samenvatting\n",
    "\n",
    "Dit onderzoeksproject onderzoekt de invloed van gamegedrag op studieprestaties van studenten aan de hand van drie datasets (totaal 7.800 studenten). Uit de analyse blijkt dat gamen zowel positieve als negatieve effecten kan hebben, afhankelijk van de mate waarin en de context waarin er wordt gegamed. Matig gamen (0–1 uur per dag) in combinatie met voldoende studietijd en aanwezigheid kan bijdragen aan ontspanning en welzijn, wat gunstig is voor academisch succes. Daarentegen leidt overmatig gamen (meer dan 3 uur per dag), vooral in combinatie met lage aanwezigheid en beperkte studietijd, vaak tot lagere cijfers. De gegevens tonen dat aanwezigheid en studietijd sterkere voorspellers zijn van academische prestaties dan gametijd alleen. De conclusie luidt dan ook dat gamen niet per se schadelijk is, mits binnen gezonde grenzen en gecombineerd met studie-inzet, maar overmatig gamen vormt wel degelijk een risico voor studieresultaten."
   ]
  },
  {
   "cell_type": "markdown",
   "id": "5172e2c0-ee87-4dae-bb18-cabf6855031d",
   "metadata": {
    "tags": [
     "remove_input"
    ]
   },
   "source": [
    "## Referentielijst\n",
    "1. Gentile, D. A., Coyne, S., & Walsh, D. A. (2011). Media violence, physical aggression, and relational aggression in school age children: A short-term longitudinal study. Aggressive Behavior, 37(2), 193–206. https://doi.org/10.1002/ab.20380\n",
    "2. Kowal, M., Conroy, E., Ramsbottom, N., Smithies, T., Toth, A., & Campbell, M. (2021). Gaming Your Mental Health: A narrative review on mitigating symptoms of depression and anxiety using commercial video games. JMIR Serious Games, 9(2), e26575. https://doi.org/10.2196/26575\n",
    "3. Kristensen, J. H., Pallesen, S., King, D. L., Hysing, M., & Erevik, E. K. (2021). Problematic Gaming and Sleep: A Systematic Review and Meta-Analysis. Frontiers in Psychiatry, 12. https://doi.org/10.3389/fpsyt.2021.675237\n",
    "4. Ramírez, S., Gana, S., Garcés, S., Zúñiga, T., Araya, R., & Gaete, J. (2021). Use of technology and its association with academic performance and life satisfaction among children and adolescents. Frontiers in Psychiatry, 12. https://doi.org/10.3389/fpsyt.2021.764054\n",
    "5. Russoniello, C. V., Fish, M., & O’Brien, K. (2013). The efficacy of casual videogame play in reducing clinical depression: a randomized controlled study. Games for Health Journal, 2(6), 341–346. https://doi.org/10.1089/g4h.2013.0010\n",
    "6. Tot, T. S., Adžić, S., Tot, V., Aleksić, M., & Zakić, N. (2022). The impact of time devoted to video games on student achievement. Education and Information Technologies, 28(5), 5921–5944. https://doi.org/10.1007/s10639-022-11418-5\n",
    "7. Trinh L, Wong B, Faulkner GE. The Independent and Interactive Associations of Screen Time and Physical Activity on Mental Health, School Connectedness and Academic Achievement among a Population-Based Sample of Youth. J Can Acad Child Adolesc Psychiatry. 2015 Winter;24(1):17-24. Epub 2015 Mar 4. PMID: 26336376; PMCID: PMC4357330.\n",
    "8. Wang, L., Chen, B., Hwang, G., Guan, J., & Wang, Y. (2022). Effects of digital game-based STEM education on students’ learning achievement: a meta-analysis. International Journal of STEM Education, 9(1). https://doi.org/10.1186/s40594-022-00344-0"
   ]
  },
  {
   "cell_type": "markdown",
   "id": "89569d2c-5c66-4194-9955-40e44f2d8011",
   "metadata": {
    "tags": [
     "remove_input"
    ]
   },
   "source": [
    "## External links\n",
    "\n",
    " - [GitHub repository](https://github.com/EfeKarataz/info-vis-group7) "
   ]
  }
 ],
 "metadata": {
  "kernelspec": {
   "display_name": "Python 3 (ipykernel)",
   "language": "python",
   "name": "python3"
  },
  "language_info": {
   "codemirror_mode": {
    "name": "ipython",
    "version": 3
   },
   "file_extension": ".py",
   "mimetype": "text/x-python",
   "name": "python",
   "nbconvert_exporter": "python",
   "pygments_lexer": "ipython3",
   "version": "3.12.3"
  }
 },
 "nbformat": 4,
 "nbformat_minor": 5
}
