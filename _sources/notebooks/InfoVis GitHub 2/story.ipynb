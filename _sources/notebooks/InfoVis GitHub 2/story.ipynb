{
 "cells": [
  {
   "cell_type": "markdown",
   "id": "0f385de2-31a8-470c-b0e3-f61d4a86a7d9",
   "metadata": {},
   "source": [
    "# Gamen of Blokken? De Impact van Games op Studieprestaties"
   ]
  },
  {
   "cell_type": "markdown",
   "id": "4dfc0a71-359a-4714-a228-5097a83b5c8a",
   "metadata": {},
   "source": [
    "## Argumenten, Perspectieven en Visualisaties"
   ]
  },
  {
   "cell_type": "markdown",
   "id": "ddf44e6f-2dc9-486d-a9a6-fa2d6c0840ff",
   "metadata": {},
   "source": [
    "## Perspectief 1: Gamen heeft een positief invloed op studenten\n",
    "\n",
    "Dit perspectief stelt dat gamen een positieve bijdrage kan leveren aan het welzijn van studenten, zoals het verlagen van stress en het verbeteren van mentale gezondheid. Dit kan indirect leiden tot betere studieprestaties, mits gamen binnen gezonde grenzen blijft."
   ]
  },
  {
   "cell_type": "markdown",
   "id": "b7e1a4ad-0541-4442-9fa9-4e979adec65b",
   "metadata": {},
   "source": [
    "### Argument 1 voor perspectief 1: Digitale toegang en ontspanning als sleutel tot betere prestaties\n",
    "\n",
    "De combinatie van digitale toegang en actieve ontspanning buiten school lijkt positief samen te hangen met betere prestaties."
   ]
  },
  {
   "cell_type": "code",
   "execution_count": 10,
   "id": "4bd6b11d-5273-4d66-b083-3be9a4d1c661",
   "metadata": {},
   "outputs": [],
   "source": [
    "# Hier komt de eerste visualisatie! InfoVisualisation1"
   ]
  },
  {
   "cell_type": "markdown",
   "id": "555f0817-9c4e-4a8b-b5aa-406e4d694ac7",
   "metadata": {},
   "source": [
    "Deze heatmap toont de gemiddelde examenscore (kleurenschaal) van leerlingen, verdeeld naar toegang tot internet (x-as) en deelname aan extracurriculaire activiteiten (y-as). Donkerdere kleuren duiden op hogere scores. De grafiek laat zien hoe deze twee factoren samenhangen met de prestaties. Toch kan het ook zo zijn dat studenten online iets anders doen dan gamen, wat dus niet uit de visualisatie gehaald kan worden.\n",
    "\n",
    "Uit de \"Gemiddelde Examenscore per Internettoegang en Activiteiten\" visualisatie blijkt dat studenten die toegang hebben tot internet en deelnemen aan activiteiten buiten school scoren gemiddeld beter op examens. Dit ondersteunt het idee dat afleiding en ontspanning, zoals gamen binnen gezonde grenzen, een positieve invloed kunnen hebben op het welzijn en de prestaties van studenten. Daarnaast toont het onderzoe van Fish et al. (2018) dat het spelen van simpele videogames stress kan verminderen en het humeur kan verbeteren. Deze combinatie van ontspanning en toegang tot digitale middelen ondersteunt het idee dat gamen, mits binnen gezonde grenzen, een positieve invloed kan hebben op het welzijn en de schoolprestaties van studenten."
   ]
  },
  {
   "cell_type": "markdown",
   "id": "8114cf73-7fb8-4cd8-a537-8aebfd2a61f7",
   "metadata": {},
   "source": [
    "### Argument 2 voor perspectief 1: De invloed van speelfrequentie op cijfers\n",
    "\n",
    "De staafdiagram toont het verband tussen speelfrequentie en cijfers. Studenten die vaker gamen behalen gemiddeld lagere cijfers dan studenten die nooit gamen."
   ]
  },
  {
   "cell_type": "code",
   "execution_count": 11,
   "id": "016fc2df-4623-4157-bdb7-05ea0c39d0c0",
   "metadata": {},
   "outputs": [],
   "source": [
    "# Hier komt de tweede visualisatie! InfoVisualisation2"
   ]
  },
  {
   "cell_type": "markdown",
   "id": "b8b1ad56-806b-4223-b1d2-d44dcdf062ef",
   "metadata": {},
   "source": [
    "De staafdiagram toont het verband tussen speelfrequentie en het gemiddelde cijfer, waarbij de data is opgedeeld in zes categorieën: van “0” (nooit gamen) tot “5” (zeer vaak gamen). Op de horizontale as staat de speelfrequentie, op de verticale as het gemiddelde cijfer. De hoogte van de balken vertegenwoordigt het gemiddelde cijfer per groep, terwijl het aantal studenten in elke categorie boven de balk staat vermeld.\n",
    "\n",
    "De grafiek toont dat studenten die niet gamen (categorie 0) gemiddeld de hoogste cijfers behalen. Naarmate de speelfrequentie toeneemt (categorieën 1 t/m 5), dalen de gemiddelde scores, met name bij categorie 1, 3 en 5. Hoewel de groep die het meest gamet iets hoger scoort dan enkele lagere categorieën, blijft hun gemiddelde duidelijk onder dat van niet-gamers.\n",
    "\n",
    "Dit wijst erop dat intensief gamen niet per se tot extreem lage prestaties leidt, maar dat geen gamen samenhangt met betere cijfers. De resultaten sluiten aan bij Ramírez et al. (2021), die vonden dat technologiegebruik, mede via slaapverstoring, samenhangt met lagere academische prestaties. Zowel hun studie als deze grafiek suggereren dat veel gamen een negatieve invloed kan hebben op schoolresultaten."
   ]
  },
  {
   "cell_type": "markdown",
   "id": "4551c4a1-6229-4f3b-9ee2-dfe1cb547a5f",
   "metadata": {},
   "source": [
    "### 3.1.3 Argument 3 voor perspectief 1: Studie-inzet als buffer tegen negatieve effecten van gamen\n",
    "\n",
    "Studenten die matig gamen (bijvoorbeeld 0-1 uur per dag) behalen gemiddeld hogere cijfers dan studenten die helemaal niet gamen."
   ]
  },
  {
   "cell_type": "code",
   "execution_count": 12,
   "id": "1cef39f5-d353-46eb-8a14-1f099f664e2b",
   "metadata": {},
   "outputs": [],
   "source": [
    "# Hier komt de derde visualisatie! InfoVisualisation3"
   ]
  },
  {
   "cell_type": "markdown",
   "id": "549b1681-b88f-40b9-aefd-e313134c9f7b",
   "metadata": {},
   "source": [
    "De boxplot toont de relatie tussen dagelijkse studietijd en het gemiddelde cijfer (CGPA), waarbij de data is opgedeeld op basis van dagelijks gamegedrag. Op de horizontale as staat de studietijd in drie categorieën: \"0–1 Hour\", \"2–3 Hours\" en \"More than 3 Hours\". De kleuren representeren het aantal uren dat studenten dagelijks gamen: blauw voor \"0–1 Hour\", rood voor \"2–3 Hours\" en groen voor \"More than 3 Hours\".\n",
    "\n",
    "De grafiek laat zien dat studenten die meer studeren gemiddeld hogere cijfers halen, ongeacht hun gametijd. Vooral bij weinig gamen (0–1 uur) zijn de cijfers vaak het hoogst. Veel gamen (>3 uur) gaat, vooral bij weinig studeren, samen met lagere en wisselende resultaten.\n",
    "\n",
    "Intensief studeren lijkt de negatieve effecten van veel gamen te compenseren. Dit ondersteunt het idee dat studietijd een sterkere voorspeller is van academisch succes dan gametijd. Zoals Gentile et al. (2011) aantonen, hoeft gamen niet schadelijk te zijn, maar vormt overmatig gamen gecombineerd met weinig studeren wel een risico voor lagere prestaties.\n"
   ]
  },
  {
   "cell_type": "markdown",
   "id": "e5b2b592-721a-4482-b1af-1b9fbafcba7c",
   "metadata": {},
   "source": [
    "## 3.2 Perpectief 2: Gamen heeft een negatief invloed op studenten\n",
    "\n",
    "Volgens dit perspectief kan overmatig gamen ten koste gaan van studietijd, slaap en focus, wat kan leiden tot lagere academische prestaties en slechter studiegedrag."
   ]
  },
  {
   "cell_type": "markdown",
   "id": "98832f39-b8e6-4daa-8c81-f96ebdac95af",
   "metadata": {},
   "source": [
    "### 3.2.1 Argument 1 voor perspectief 2: Meer gamen, minder presteren: het effect van dagelijkse speeltijd\n",
    "Studenten die meer dan 3 uur per dag gamen behalen significant lagere cijfers dan hun medestudenten."
   ]
  },
  {
   "cell_type": "code",
   "execution_count": 13,
   "id": "46edcfa0-89e1-4ff8-a081-8803b832f51d",
   "metadata": {},
   "outputs": [],
   "source": [
    "# Hier komt de vierde visualisatie! InfoVisualisation4"
   ]
  },
  {
   "cell_type": "markdown",
   "id": "cc8ad1ac-b84f-49ef-965c-850c9499d966",
   "metadata": {},
   "source": [
    "Deze staafdiagram toont het gemiddelde schoolcijfer (y-as) van studenten per categorie speelduur in uren per dag (x-as). De y-as begint bij 70 om de verschillen tussen groepen duidelijker te laten uitkomen. De grafiek laat zien of er een verband is tussen hoeveel iemand gamet en hoe goed diegene scoort op school.\n",
    "\n",
    "De staafdiagram toont een duidelijke negatieve trend. Studenten die niet gamen behalen gemiddeld de hoogste cijfers (rond de 81), terwijl dit daalt naarmate de dagelijkse gametijd toeneemt, tot ongeveer 72 bij vijf uur gamen per dag. Dit verschil van ongeveer 9 punten wijst op een negatieve samenhang tussen gametijd en academische prestaties. Overmatig gamen lijkt ten koste te gaan van studietijd, concentratie en voorbereiding. Deze bevinding sluit aan bij het onderzoek van Tot et al. (2023), waarin onder 233 Servische studenten werd vastgesteld dat intensieve gamers tijdens de tentamenperiode een significant lagere GPA behaalden dan studenten die minder of niet gamen. Ook zij concludeerden dat studenten met hogere cijfers minder gameden en meer studeerden, wat het negatieve effect van buitensporig gamen op studieprestaties onderstreept."
   ]
  },
  {
   "cell_type": "markdown",
   "id": "b3767667-0648-4509-89fc-c03150a4e83a",
   "metadata": {},
   "source": [
    "### 3.2.2 Argument 2 voor perspectief 2: Lange game-ervaring voorspelt geen betere schoolprestaties\n",
    "Meer game-ervaring wordt gecorreleerd met lagere cijfers."
   ]
  },
  {
   "cell_type": "code",
   "execution_count": 15,
   "id": "55c9e7f5-24e8-4553-a201-9890f1ccec8f",
   "metadata": {},
   "outputs": [],
   "source": [
    "# Hier komt de vijfde visualisatie! InfoVisualisation5"
   ]
  },
  {
   "cell_type": "markdown",
   "id": "5e6dbe49-f4df-44a5-95b4-716e0f4d18c6",
   "metadata": {},
   "source": [
    "Deze boxplot visualiseert de verdeling van schoolcijfers per aantal jaren game-ervaring. Elke box geeft de spreiding van cijfers weer voor een specifieke groep, met de mediaan, kwartielen en mogelijke uitschieters. Door deze visualisatie zie je of langere game-ervaring samengaat met hogere of lagere cijfers, of dat er juist weinig verschil is. Het geeft ook inzicht in variatie binnen elke groep.\n",
    "\n",
    "De boxplot laat zien dat studenten zonder game-ervaring (0 jaar) gemiddeld het hoogste scoren, waarbij de mediaan 85 is. De mediaan bij 1 tot 4 jaar ervaring tussen de 75 en 81 ligt. Hoewel de spreiding van cijfers groot blijft, vertoont de groep met 3 jaar ervaring de kleinste variatie. Er is echter geen duidelijk verband tussen het aantal speeljaren en de cijfers, wat suggereert dat andere factoren zoals inzet of motivatie waarschijnlijk belangrijker zijn. Dit sluit aan bij Ward (2018), die op basis van tijdsbestedingsdata en videogameverkoop aantoont dat meer gamen leidt tot minder aanwezigheid in de klas en minder studie-inzet. Zijn onderzoek ondersteunt het idee dat toegenomen gametijd ten koste gaat van studietijd, wat kan bijdragen aan lagere academische prestaties."
   ]
  },
  {
   "cell_type": "markdown",
   "id": "1b68bf45-b82a-457f-9c84-9a73c236714d",
   "metadata": {},
   "source": [
    "### 3.2.3 Argument 3 voor perspectief 2: Lage aanwezigheid en veel gamen schaden studieprestaties\n",
    "\n",
    "De bubble chart toont het verband tussen dagelijkse gametijd, schoolaanweziheid en cijfers (CGPA). Hieruit blijkt duidelijk dat meer gamen samenhangt met lagere studieprestaties."
   ]
  },
  {
   "cell_type": "code",
   "execution_count": 16,
   "id": "ef31d2a0-3120-480e-b1b9-4b0b7deba61a",
   "metadata": {},
   "outputs": [],
   "source": [
    "# Hier komt de zesde visualisatie! InfoVisualisation6"
   ]
  },
  {
   "cell_type": "markdown",
   "id": "b6d3a983-483c-4081-aa67-9b8efbbc6ccf",
   "metadata": {},
   "source": [
    "De bubble chart toont de relatie tussen gamegedrag (aantal uur per dag), aanwezigheidsgroep (Attendance Group) en de gemiddelde studieresultaten (Overall Grade, CGPA). Op de horizontale as zijn de studenten ingedeeld op basis van hun aanwezigheidscategorie (van “Below 40%” tot “80%-100%”). terwijl de verticale as het aantal uur gamen per dag toont (van “0–1 Hour” tot “More than 3 Hours”). De grootte van de cirkels geeft de groepsgrootte aan en de kleur geeft het gemiddelde studieresultaat weer, waarbij lichtere kleuren (richting geel) wijzen op hogere cijfers. Via de dropdown menu kan er ook worden gekekeken naar specifiek 0-1, 2-3 en meer dan 3 uur om de verschillen tussen gamegroepen in relatie tot aanwezigheid te onderzoeken.\n",
    "\n",
    "Opvallend is dat studenten met 80–100% aanwezigheid gemiddeld het hoogst scoren, ongeacht gametijd. Binnen deze groep presteren studenten die 0–1 uur gamen het best, maar ook veelgamers doen het relatief goed. Bij lage aanwezigheid (onder 40%) dalen de cijfers, vooral bij intensief gamen. Lage aanwezigheid gecombineerd met veel gamen hangt duidelijk samen met slechtere prestaties.\n",
    "\n",
    "De grafiek suggereert dat aanwezigheid een sterkere voorspeller is voor academisch succes dan het aantal uur gamen, al kan overmatig gamen bij lage aanwezigheid de prestaties verder onder druk zetten. Dit sluit aan bij bevindingen uit onderzoek van Trinh et al. (2015), waaruit bleek dat hoge schermtijd (inclusief gamen) samenhangt met lagere schoolprestaties en verminderde betrokkenheid bij school, vooral wanneer andere risicofactoren (zoals lage aanwezigheid) aanwezig zijn. Hun studie onderstreept dat schermtijd onafhankelijk van fysieke activiteit negatieve effecten kan hebben op academische uitkomsten, wat overeenkomt met het patroon in de bubble chart (Trinh et al., 2015).\n",
    "\n",
    "De bijbehorende ìnteractieve 3D-scatterplot toont dezelfde relaties per student, met aanwezigheid (x), gametijd (y) en CGPA (z). Interactieve functies en filters maken het mogelijk om individuele verschillen binnen groepen gedetailleerd te verkennen."
   ]
  },
  {
   "cell_type": "code",
   "execution_count": null,
   "id": "d29956e2-c864-493c-abd9-8e4e99e8404b",
   "metadata": {},
   "outputs": [],
   "source": [
    "# Hier komt de zevende visualisatie! InfoVisualisation7"
   ]
  },
  {
   "cell_type": "markdown",
   "id": "2bc27275-76a6-44dc-8ff7-e364501ba194",
   "metadata": {},
   "source": [
    "## Samenvatting\n",
    "\n",
    "Dit onderzoeksproject onderzoekt de invloed van gamegedrag op studieprestaties van studenten aan de hand van drie datasets (totaal 7.800 studenten). Uit de analyse blijkt dat gamen zowel positieve als negatieve effecten kan hebben, afhankelijk van de mate waarin en de context waarin er wordt gegamed. Matig gamen (0–1 uur per dag) in combinatie met voldoende studietijd en aanwezigheid kan bijdragen aan ontspanning en welzijn, wat gunstig is voor academisch succes. Daarentegen leidt overmatig gamen (meer dan 3 uur per dag), vooral in combinatie met lage aanwezigheid en beperkte studietijd, vaak tot lagere cijfers. De gegevens tonen dat aanwezigheid en studietijd sterkere voorspellers zijn van academische prestaties dan gametijd alleen. De conclusie luidt dan ook dat gamen niet per se schadelijk is, mits binnen gezonde grenzen en gecombineerd met studie-inzet, maar overmatig gamen vormt wel degelijk een risico voor studieresultaten."
   ]
  },
  {
   "cell_type": "markdown",
   "id": "5172e2c0-ee87-4dae-bb18-cabf6855031d",
   "metadata": {},
   "source": [
    "## Referentielijst\n",
    "1. Gentile, D. A., Coyne, S., & Walsh, D. A. (2011). Media violence, physical aggression, and relational aggression in school age children: A short-term longitudinal study. Aggressive Behavior, 37(2), 193–206. https://doi.org/10.1002/ab.20380\n",
    "2. Kowal, M., Conroy, E., Ramsbottom, N., Smithies, T., Toth, A., & Campbell, M. (2021). Gaming Your Mental Health: A narrative review on mitigating symptoms of depression and anxiety using commercial video games. JMIR Serious Games, 9(2), e26575. https://doi.org/10.2196/26575\n",
    "3. Kristensen, J. H., Pallesen, S., King, D. L., Hysing, M., & Erevik, E. K. (2021). Problematic Gaming and Sleep: A Systematic Review and Meta-Analysis. Frontiers in Psychiatry, 12. https://doi.org/10.3389/fpsyt.2021.675237\n",
    "4. Ramírez, S., Gana, S., Garcés, S., Zúñiga, T., Araya, R., & Gaete, J. (2021). Use of technology and its association with academic performance and life satisfaction among children and adolescents. Frontiers in Psychiatry, 12. https://doi.org/10.3389/fpsyt.2021.764054\n",
    "5. Russoniello, C. V., Fish, M., & O’Brien, K. (2013). The efficacy of casual videogame play in reducing clinical depression: a randomized controlled study. Games for Health Journal, 2(6), 341–346. https://doi.org/10.1089/g4h.2013.0010\n",
    "6. Tot, T. S., Adžić, S., Tot, V., Aleksić, M., & Zakić, N. (2022). The impact of time devoted to video games on student achievement. Education and Information Technologies, 28(5), 5921–5944. https://doi.org/10.1007/s10639-022-11418-5\n",
    "7. Trinh L, Wong B, Faulkner GE. The Independent and Interactive Associations of Screen Time and Physical Activity on Mental Health, School Connectedness and Academic Achievement among a Population-Based Sample of Youth. J Can Acad Child Adolesc Psychiatry. 2015 Winter;24(1):17-24. Epub 2015 Mar 4. PMID: 26336376; PMCID: PMC4357330.\n",
    "8. Wang, L., Chen, B., Hwang, G., Guan, J., & Wang, Y. (2022). Effects of digital game-based STEM education on students’ learning achievement: a meta-analysis. International Journal of STEM Education, 9(1). https://doi.org/10.1186/s40594-022-00344-0"
   ]
  },
  {
   "cell_type": "code",
   "execution_count": null,
   "id": "d04934d1-63bb-4b83-9ce1-6b658cb19108",
   "metadata": {},
   "outputs": [],
   "source": []
  }
 ],
 "metadata": {
  "kernelspec": {
   "display_name": "Python 3",
   "language": "python",
   "name": "python3"
  },
  "language_info": {
   "codemirror_mode": {
    "name": "ipython",
    "version": 3
   },
   "file_extension": ".py",
   "mimetype": "text/x-python",
   "name": "python",
   "nbconvert_exporter": "python",
   "pygments_lexer": "ipython3",
   "version": "3.12.7"
  }
 },
 "nbformat": 4,
 "nbformat_minor": 5
}
