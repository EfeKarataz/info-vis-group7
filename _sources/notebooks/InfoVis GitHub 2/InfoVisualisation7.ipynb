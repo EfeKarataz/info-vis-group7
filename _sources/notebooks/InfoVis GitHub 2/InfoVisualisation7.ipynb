{
 "cells": [
  {
   "cell_type": "code",
   "execution_count": 1,
   "id": "aaffabd5-377c-4dfd-83b0-117b14672041",
   "metadata": {},
   "outputs": [
    {
     "data": {
      "application/vnd.plotly.v1+json": {
       "config": {
        "plotlyServerURL": "https://plot.ly"
       },
       "data": [
        {
         "hoverinfo": "text",
         "marker": {
          "color": {
           "bdata": "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",
           "dtype": "f8"
          },
          "colorbar": {
           "title": {
            "text": "CGPA"
           }
          },
          "colorscale": [
           [
            0,
            "#0d0887"
           ],
           [
            0.1111111111111111,
            "#46039f"
           ],
           [
            0.2222222222222222,
            "#7201a8"
           ],
           [
            0.3333333333333333,
            "#9c179e"
           ],
           [
            0.4444444444444444,
            "#bd3786"
           ],
           [
            0.5555555555555556,
            "#d8576b"
           ],
           [
            0.6666666666666666,
            "#ed7953"
           ],
           [
            0.7777777777777778,
            "#fb9f3a"
           ],
           [
            0.8888888888888888,
            "#fdca26"
           ],
           [
            1,
            "#f0f921"
           ]
          ],
          "opacity": 0.8,
          "size": {
           "bdata": "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",
           "dtype": "f8"
          }
         },
         "mode": "markers",
         "name": "All",
         "text": [
          "Attendance: 80%-100%<br>Gaming: 0-1 Hour<br>CGPA: 3.35",
          "Attendance: 80%-100%<br>Gaming: 0-1 Hour<br>CGPA: 3.47",
          "Attendance: 80%-100%<br>Gaming: More than 3 Hours<br>CGPA: 3.72",
          "Attendance: 80%-100%<br>Gaming: More than 3 Hours<br>CGPA: 3.75",
          "Attendance: 80%-100%<br>Gaming: 2-3 Hours<br>CGPA: 3.94",
          "Attendance: Below 40%<br>Gaming: More than 3 Hours<br>CGPA: 1.00",
          "Attendance: 60%-79%<br>Gaming: More than 3 Hours<br>CGPA: 1.06",
          "Attendance: 80%-100%<br>Gaming: More than 3 Hours<br>CGPA: 1.25",
          "Attendance: Below 40%<br>Gaming: More than 3 Hours<br>CGPA: 1.44",
          "Attendance: Below 40%<br>Gaming: More than 3 Hours<br>CGPA: 1.50",
          "Attendance: Below 40%<br>Gaming: More than 3 Hours<br>CGPA: 1.56",
          "Attendance: Below 40%<br>Gaming: More than 3 Hours<br>CGPA: 1.57",
          "Attendance: 60%-79%<br>Gaming: More than 3 Hours<br>CGPA: 1.57",
          "Attendance: 60%-79%<br>Gaming: More than 3 Hours<br>CGPA: 1.60",
          "Attendance: Below 40%<br>Gaming: More than 3 Hours<br>CGPA: 1.62",
          "Attendance: Below 40%<br>Gaming: More than 3 Hours<br>CGPA: 1.69",
          "Attendance: 60%-79%<br>Gaming: More than 3 Hours<br>CGPA: 1.71",
          "Attendance: 60%-79%<br>Gaming: More than 3 Hours<br>CGPA: 1.72",
          "Attendance: 60%-79%<br>Gaming: More than 3 Hours<br>CGPA: 1.75",
          "Attendance: 60%-79%<br>Gaming: More than 3 Hours<br>CGPA: 1.75",
          "Attendance: 60%-79%<br>Gaming: More than 3 Hours<br>CGPA: 1.75",
          "Attendance: 80%-100%<br>Gaming: 0-1 Hour<br>CGPA: 1.80",
          "Attendance: 60%-79%<br>Gaming: More than 3 Hours<br>CGPA: 1.86",
          "Attendance: 60%-79%<br>Gaming: More than 3 Hours<br>CGPA: 1.88",
          "Attendance: 60%-79%<br>Gaming: More than 3 Hours<br>CGPA: 1.89",
          "Attendance: Below 40%<br>Gaming: More than 3 Hours<br>CGPA: 1.90",
          "Attendance: Below 40%<br>Gaming: More than 3 Hours<br>CGPA: 1.90",
          "Attendance: 60%-79%<br>Gaming: More than 3 Hours<br>CGPA: 1.92",
          "Attendance: 60%-79%<br>Gaming: More than 3 Hours<br>CGPA: 1.97",
          "Attendance: 60%-79%<br>Gaming: 0-1 Hour<br>CGPA: 2.00",
          "Attendance: 60%-79%<br>Gaming: More than 3 Hours<br>CGPA: 2.00",
          "Attendance: 60%-79%<br>Gaming: More than 3 Hours<br>CGPA: 2.02",
          "Attendance: 60%-79%<br>Gaming: More than 3 Hours<br>CGPA: 2.10",
          "Attendance: Below 40%<br>Gaming: More than 3 Hours<br>CGPA: 2.10",
          "Attendance: 60%-79%<br>Gaming: More than 3 Hours<br>CGPA: 2.10",
          "Attendance: 40%-59%<br>Gaming: More than 3 Hours<br>CGPA: 2.17",
          "Attendance: 40%-59%<br>Gaming: More than 3 Hours<br>CGPA: 2.17",
          "Attendance: 40%-59%<br>Gaming: More than 3 Hours<br>CGPA: 2.17",
          "Attendance: 40%-59%<br>Gaming: More than 3 Hours<br>CGPA: 2.17",
          "Attendance: 60%-79%<br>Gaming: More than 3 Hours<br>CGPA: 2.20",
          "Attendance: 60%-79%<br>Gaming: More than 3 Hours<br>CGPA: 2.22",
          "Attendance: 40%-59%<br>Gaming: More than 3 Hours<br>CGPA: 2.25",
          "Attendance: 60%-79%<br>Gaming: More than 3 Hours<br>CGPA: 2.25",
          "Attendance: 40%-59%<br>Gaming: More than 3 Hours<br>CGPA: 2.25",
          "Attendance: 40%-59%<br>Gaming: More than 3 Hours<br>CGPA: 2.25",
          "Attendance: 60%-79%<br>Gaming: More than 3 Hours<br>CGPA: 2.28",
          "Attendance: 40%-59%<br>Gaming: More than 3 Hours<br>CGPA: 2.30",
          "Attendance: 60%-79%<br>Gaming: More than 3 Hours<br>CGPA: 2.30",
          "Attendance: 40%-59%<br>Gaming: More than 3 Hours<br>CGPA: 2.31",
          "Attendance: 40%-59%<br>Gaming: More than 3 Hours<br>CGPA: 2.31",
          "Attendance: 40%-59%<br>Gaming: More than 3 Hours<br>CGPA: 2.31",
          "Attendance: 60%-79%<br>Gaming: More than 3 Hours<br>CGPA: 2.33",
          "Attendance: 40%-59%<br>Gaming: More than 3 Hours<br>CGPA: 2.33",
          "Attendance: 40%-59%<br>Gaming: More than 3 Hours<br>CGPA: 2.33",
          "Attendance: 40%-59%<br>Gaming: More than 3 Hours<br>CGPA: 2.33",
          "Attendance: 40%-59%<br>Gaming: More than 3 Hours<br>CGPA: 2.35",
          "Attendance: 40%-59%<br>Gaming: More than 3 Hours<br>CGPA: 2.35",
          "Attendance: 40%-59%<br>Gaming: More than 3 Hours<br>CGPA: 2.35",
          "Attendance: 40%-59%<br>Gaming: More than 3 Hours<br>CGPA: 2.38",
          "Attendance: 40%-59%<br>Gaming: More than 3 Hours<br>CGPA: 2.38",
          "Attendance: 40%-59%<br>Gaming: More than 3 Hours<br>CGPA: 2.38",
          "Attendance: 40%-59%<br>Gaming: More than 3 Hours<br>CGPA: 2.38",
          "Attendance: 60%-79%<br>Gaming: More than 3 Hours<br>CGPA: 2.41",
          "Attendance: 40%-59%<br>Gaming: More than 3 Hours<br>CGPA: 2.44",
          "Attendance: 40%-59%<br>Gaming: More than 3 Hours<br>CGPA: 2.44",
          "Attendance: 80%-100%<br>Gaming: More than 3 Hours<br>CGPA: 2.45",
          "Attendance: 60%-79%<br>Gaming: More than 3 Hours<br>CGPA: 2.45",
          "Attendance: 60%-79%<br>Gaming: More than 3 Hours<br>CGPA: 2.47",
          "Attendance: 80%-100%<br>Gaming: 0-1 Hour<br>CGPA: 2.50",
          "Attendance: 60%-79%<br>Gaming: More than 3 Hours<br>CGPA: 2.50",
          "Attendance: 40%-59%<br>Gaming: More than 3 Hours<br>CGPA: 2.50",
          "Attendance: 60%-79%<br>Gaming: More than 3 Hours<br>CGPA: 2.53",
          "Attendance: 80%-100%<br>Gaming: 2-3 Hours<br>CGPA: 2.55",
          "Attendance: 60%-79%<br>Gaming: More than 3 Hours<br>CGPA: 2.55",
          "Attendance: 40%-59%<br>Gaming: More than 3 Hours<br>CGPA: 2.56",
          "Attendance: 40%-59%<br>Gaming: More than 3 Hours<br>CGPA: 2.56",
          "Attendance: 40%-59%<br>Gaming: More than 3 Hours<br>CGPA: 2.56",
          "Attendance: 80%-100%<br>Gaming: More than 3 Hours<br>CGPA: 2.58",
          "Attendance: 40%-59%<br>Gaming: More than 3 Hours<br>CGPA: 2.64",
          "Attendance: 40%-59%<br>Gaming: More than 3 Hours<br>CGPA: 2.69",
          "Attendance: 40%-59%<br>Gaming: More than 3 Hours<br>CGPA: 2.69",
          "Attendance: 40%-59%<br>Gaming: More than 3 Hours<br>CGPA: 2.69",
          "Attendance: 40%-59%<br>Gaming: More than 3 Hours<br>CGPA: 2.69",
          "Attendance: 60%-79%<br>Gaming: More than 3 Hours<br>CGPA: 2.70",
          "Attendance: 60%-79%<br>Gaming: More than 3 Hours<br>CGPA: 2.70",
          "Attendance: 60%-79%<br>Gaming: More than 3 Hours<br>CGPA: 2.70",
          "Attendance: 80%-100%<br>Gaming: More than 3 Hours<br>CGPA: 2.75",
          "Attendance: 80%-100%<br>Gaming: 2-3 Hours<br>CGPA: 2.75",
          "Attendance: 80%-100%<br>Gaming: More than 3 Hours<br>CGPA: 2.75",
          "Attendance: 60%-79%<br>Gaming: More than 3 Hours<br>CGPA: 2.75",
          "Attendance: 60%-79%<br>Gaming: More than 3 Hours<br>CGPA: 2.75",
          "Attendance: 60%-79%<br>Gaming: More than 3 Hours<br>CGPA: 2.75",
          "Attendance: 60%-79%<br>Gaming: More than 3 Hours<br>CGPA: 2.75",
          "Attendance: 60%-79%<br>Gaming: More than 3 Hours<br>CGPA: 2.75",
          "Attendance: 60%-79%<br>Gaming: More than 3 Hours<br>CGPA: 2.75",
          "Attendance: 60%-79%<br>Gaming: More than 3 Hours<br>CGPA: 2.75",
          "Attendance: 60%-79%<br>Gaming: More than 3 Hours<br>CGPA: 2.75",
          "Attendance: 60%-79%<br>Gaming: More than 3 Hours<br>CGPA: 2.75",
          "Attendance: 60%-79%<br>Gaming: More than 3 Hours<br>CGPA: 2.75",
          "Attendance: 60%-79%<br>Gaming: More than 3 Hours<br>CGPA: 2.75",
          "Attendance: 60%-79%<br>Gaming: More than 3 Hours<br>CGPA: 2.75",
          "Attendance: 60%-79%<br>Gaming: More than 3 Hours<br>CGPA: 2.75",
          "Attendance: 60%-79%<br>Gaming: More than 3 Hours<br>CGPA: 2.75",
          "Attendance: 60%-79%<br>Gaming: More than 3 Hours<br>CGPA: 2.75",
          "Attendance: 60%-79%<br>Gaming: More than 3 Hours<br>CGPA: 2.75",
          "Attendance: 60%-79%<br>Gaming: More than 3 Hours<br>CGPA: 2.75",
          "Attendance: 60%-79%<br>Gaming: More than 3 Hours<br>CGPA: 2.75",
          "Attendance: 60%-79%<br>Gaming: More than 3 Hours<br>CGPA: 2.75",
          "Attendance: 60%-79%<br>Gaming: More than 3 Hours<br>CGPA: 2.75",
          "Attendance: 60%-79%<br>Gaming: More than 3 Hours<br>CGPA: 2.75",
          "Attendance: 60%-79%<br>Gaming: More than 3 Hours<br>CGPA: 2.75",
          "Attendance: 60%-79%<br>Gaming: More than 3 Hours<br>CGPA: 2.75",
          "Attendance: 60%-79%<br>Gaming: More than 3 Hours<br>CGPA: 2.75",
          "Attendance: 60%-79%<br>Gaming: More than 3 Hours<br>CGPA: 2.75",
          "Attendance: 60%-79%<br>Gaming: 0-1 Hour<br>CGPA: 2.79",
          "Attendance: 60%-79%<br>Gaming: More than 3 Hours<br>CGPA: 2.81",
          "Attendance: 60%-79%<br>Gaming: More than 3 Hours<br>CGPA: 2.81",
          "Attendance: 60%-79%<br>Gaming: More than 3 Hours<br>CGPA: 2.84",
          "Attendance: 60%-79%<br>Gaming: More than 3 Hours<br>CGPA: 2.84",
          "Attendance: 60%-79%<br>Gaming: More than 3 Hours<br>CGPA: 2.84",
          "Attendance: 60%-79%<br>Gaming: More than 3 Hours<br>CGPA: 2.84",
          "Attendance: 60%-79%<br>Gaming: More than 3 Hours<br>CGPA: 2.85",
          "Attendance: 60%-79%<br>Gaming: More than 3 Hours<br>CGPA: 2.86",
          "Attendance: 60%-79%<br>Gaming: More than 3 Hours<br>CGPA: 2.88",
          "Attendance: 60%-79%<br>Gaming: More than 3 Hours<br>CGPA: 2.88",
          "Attendance: 60%-79%<br>Gaming: More than 3 Hours<br>CGPA: 2.88",
          "Attendance: 60%-79%<br>Gaming: More than 3 Hours<br>CGPA: 2.88",
          "Attendance: 60%-79%<br>Gaming: More than 3 Hours<br>CGPA: 2.88",
          "Attendance: 60%-79%<br>Gaming: More than 3 Hours<br>CGPA: 2.89",
          "Attendance: 60%-79%<br>Gaming: More than 3 Hours<br>CGPA: 2.89",
          "Attendance: 60%-79%<br>Gaming: More than 3 Hours<br>CGPA: 2.89",
          "Attendance: 60%-79%<br>Gaming: More than 3 Hours<br>CGPA: 2.89",
          "Attendance: 60%-79%<br>Gaming: More than 3 Hours<br>CGPA: 2.89",
          "Attendance: 60%-79%<br>Gaming: More than 3 Hours<br>CGPA: 2.89",
          "Attendance: 60%-79%<br>Gaming: More than 3 Hours<br>CGPA: 2.89",
          "Attendance: 60%-79%<br>Gaming: 2-3 Hours<br>CGPA: 2.90",
          "Attendance: 40%-59%<br>Gaming: More than 3 Hours<br>CGPA: 2.90",
          "Attendance: 40%-59%<br>Gaming: More than 3 Hours<br>CGPA: 2.90",
          "Attendance: 40%-59%<br>Gaming: More than 3 Hours<br>CGPA: 2.90",
          "Attendance: 40%-59%<br>Gaming: More than 3 Hours<br>CGPA: 2.90",
          "Attendance: 40%-59%<br>Gaming: More than 3 Hours<br>CGPA: 2.90",
          "Attendance: 40%-59%<br>Gaming: More than 3 Hours<br>CGPA: 2.90",
          "Attendance: 40%-59%<br>Gaming: More than 3 Hours<br>CGPA: 2.90",
          "Attendance: 40%-59%<br>Gaming: More than 3 Hours<br>CGPA: 2.90",
          "Attendance: 40%-59%<br>Gaming: More than 3 Hours<br>CGPA: 2.90",
          "Attendance: 40%-59%<br>Gaming: More than 3 Hours<br>CGPA: 2.90",
          "Attendance: 40%-59%<br>Gaming: More than 3 Hours<br>CGPA: 2.90",
          "Attendance: 40%-59%<br>Gaming: More than 3 Hours<br>CGPA: 2.90",
          "Attendance: 40%-59%<br>Gaming: More than 3 Hours<br>CGPA: 2.90",
          "Attendance: 40%-59%<br>Gaming: More than 3 Hours<br>CGPA: 2.90",
          "Attendance: 40%-59%<br>Gaming: More than 3 Hours<br>CGPA: 2.90",
          "Attendance: 40%-59%<br>Gaming: More than 3 Hours<br>CGPA: 2.90",
          "Attendance: 40%-59%<br>Gaming: More than 3 Hours<br>CGPA: 2.90",
          "Attendance: 40%-59%<br>Gaming: More than 3 Hours<br>CGPA: 2.90",
          "Attendance: 60%-79%<br>Gaming: More than 3 Hours<br>CGPA: 2.92",
          "Attendance: 40%-59%<br>Gaming: More than 3 Hours<br>CGPA: 2.94",
          "Attendance: 60%-79%<br>Gaming: More than 3 Hours<br>CGPA: 2.94",
          "Attendance: 60%-79%<br>Gaming: More than 3 Hours<br>CGPA: 2.94",
          "Attendance: 60%-79%<br>Gaming: More than 3 Hours<br>CGPA: 2.94",
          "Attendance: 60%-79%<br>Gaming: More than 3 Hours<br>CGPA: 2.98",
          "Attendance: 80%-100%<br>Gaming: More than 3 Hours<br>CGPA: 3.00",
          "Attendance: 80%-100%<br>Gaming: More than 3 Hours<br>CGPA: 3.00",
          "Attendance: 60%-79%<br>Gaming: 0-1 Hour<br>CGPA: 3.00",
          "Attendance: 80%-100%<br>Gaming: 2-3 Hours<br>CGPA: 3.00",
          "Attendance: 80%-100%<br>Gaming: More than 3 Hours<br>CGPA: 3.00",
          "Attendance: 60%-79%<br>Gaming: More than 3 Hours<br>CGPA: 3.00",
          "Attendance: 60%-79%<br>Gaming: More than 3 Hours<br>CGPA: 3.00",
          "Attendance: 60%-79%<br>Gaming: More than 3 Hours<br>CGPA: 3.00",
          "Attendance: 60%-79%<br>Gaming: More than 3 Hours<br>CGPA: 3.00",
          "Attendance: 60%-79%<br>Gaming: More than 3 Hours<br>CGPA: 3.00",
          "Attendance: 40%-59%<br>Gaming: More than 3 Hours<br>CGPA: 3.06",
          "Attendance: 40%-59%<br>Gaming: More than 3 Hours<br>CGPA: 3.06",
          "Attendance: 40%-59%<br>Gaming: More than 3 Hours<br>CGPA: 3.06",
          "Attendance: 80%-100%<br>Gaming: More than 3 Hours<br>CGPA: 3.07",
          "Attendance: 80%-100%<br>Gaming: 2-3 Hours<br>CGPA: 3.08",
          "Attendance: 60%-79%<br>Gaming: 2-3 Hours<br>CGPA: 3.08",
          "Attendance: 60%-79%<br>Gaming: 2-3 Hours<br>CGPA: 3.08",
          "Attendance: 60%-79%<br>Gaming: 2-3 Hours<br>CGPA: 3.08",
          "Attendance: 60%-79%<br>Gaming: 2-3 Hours<br>CGPA: 3.08",
          "Attendance: 60%-79%<br>Gaming: 2-3 Hours<br>CGPA: 3.08",
          "Attendance: 60%-79%<br>Gaming: 2-3 Hours<br>CGPA: 3.08",
          "Attendance: 60%-79%<br>Gaming: 2-3 Hours<br>CGPA: 3.08",
          "Attendance: 60%-79%<br>Gaming: 2-3 Hours<br>CGPA: 3.08",
          "Attendance: 60%-79%<br>Gaming: 2-3 Hours<br>CGPA: 3.08",
          "Attendance: 60%-79%<br>Gaming: 2-3 Hours<br>CGPA: 3.08",
          "Attendance: 60%-79%<br>Gaming: 2-3 Hours<br>CGPA: 3.08",
          "Attendance: 80%-100%<br>Gaming: 2-3 Hours<br>CGPA: 3.09",
          "Attendance: 80%-100%<br>Gaming: 2-3 Hours<br>CGPA: 3.10",
          "Attendance: 60%-79%<br>Gaming: More than 3 Hours<br>CGPA: 3.10",
          "Attendance: 80%-100%<br>Gaming: 0-1 Hour<br>CGPA: 3.11",
          "Attendance: 80%-100%<br>Gaming: More than 3 Hours<br>CGPA: 3.13",
          "Attendance: 80%-100%<br>Gaming: More than 3 Hours<br>CGPA: 3.13",
          "Attendance: 80%-100%<br>Gaming: More than 3 Hours<br>CGPA: 3.13",
          "Attendance: 80%-100%<br>Gaming: More than 3 Hours<br>CGPA: 3.13",
          "Attendance: 60%-79%<br>Gaming: 2-3 Hours<br>CGPA: 3.15",
          "Attendance: 60%-79%<br>Gaming: 2-3 Hours<br>CGPA: 3.15",
          "Attendance: 60%-79%<br>Gaming: 2-3 Hours<br>CGPA: 3.15",
          "Attendance: 60%-79%<br>Gaming: 2-3 Hours<br>CGPA: 3.15",
          "Attendance: 60%-79%<br>Gaming: 2-3 Hours<br>CGPA: 3.15",
          "Attendance: 60%-79%<br>Gaming: 2-3 Hours<br>CGPA: 3.15",
          "Attendance: 60%-79%<br>Gaming: 2-3 Hours<br>CGPA: 3.15",
          "Attendance: 80%-100%<br>Gaming: More than 3 Hours<br>CGPA: 3.16",
          "Attendance: 60%-79%<br>Gaming: More than 3 Hours<br>CGPA: 3.19",
          "Attendance: 60%-79%<br>Gaming: More than 3 Hours<br>CGPA: 3.19",
          "Attendance: 60%-79%<br>Gaming: More than 3 Hours<br>CGPA: 3.19",
          "Attendance: 60%-79%<br>Gaming: More than 3 Hours<br>CGPA: 3.19",
          "Attendance: 60%-79%<br>Gaming: More than 3 Hours<br>CGPA: 3.21",
          "Attendance: 80%-100%<br>Gaming: More than 3 Hours<br>CGPA: 3.22",
          "Attendance: 80%-100%<br>Gaming: More than 3 Hours<br>CGPA: 3.25",
          "Attendance: 80%-100%<br>Gaming: More than 3 Hours<br>CGPA: 3.25",
          "Attendance: 80%-100%<br>Gaming: More than 3 Hours<br>CGPA: 3.25",
          "Attendance: 60%-79%<br>Gaming: More than 3 Hours<br>CGPA: 3.25",
          "Attendance: 40%-59%<br>Gaming: More than 3 Hours<br>CGPA: 3.25",
          "Attendance: 40%-59%<br>Gaming: More than 3 Hours<br>CGPA: 3.25",
          "Attendance: 40%-59%<br>Gaming: More than 3 Hours<br>CGPA: 3.25",
          "Attendance: 60%-79%<br>Gaming: 2-3 Hours<br>CGPA: 3.25",
          "Attendance: 80%-100%<br>Gaming: More than 3 Hours<br>CGPA: 3.25",
          "Attendance: 80%-100%<br>Gaming: More than 3 Hours<br>CGPA: 3.25",
          "Attendance: 40%-59%<br>Gaming: More than 3 Hours<br>CGPA: 3.25",
          "Attendance: 40%-59%<br>Gaming: More than 3 Hours<br>CGPA: 3.25",
          "Attendance: 60%-79%<br>Gaming: More than 3 Hours<br>CGPA: 3.25",
          "Attendance: 40%-59%<br>Gaming: More than 3 Hours<br>CGPA: 3.25",
          "Attendance: 40%-59%<br>Gaming: More than 3 Hours<br>CGPA: 3.25",
          "Attendance: 40%-59%<br>Gaming: More than 3 Hours<br>CGPA: 3.25",
          "Attendance: 40%-59%<br>Gaming: More than 3 Hours<br>CGPA: 3.25",
          "Attendance: 60%-79%<br>Gaming: More than 3 Hours<br>CGPA: 3.25",
          "Attendance: 40%-59%<br>Gaming: More than 3 Hours<br>CGPA: 3.25",
          "Attendance: 60%-79%<br>Gaming: 2-3 Hours<br>CGPA: 3.25",
          "Attendance: 60%-79%<br>Gaming: 2-3 Hours<br>CGPA: 3.25",
          "Attendance: 60%-79%<br>Gaming: 2-3 Hours<br>CGPA: 3.25",
          "Attendance: 60%-79%<br>Gaming: 2-3 Hours<br>CGPA: 3.25",
          "Attendance: 60%-79%<br>Gaming: 2-3 Hours<br>CGPA: 3.25",
          "Attendance: 60%-79%<br>Gaming: 2-3 Hours<br>CGPA: 3.25",
          "Attendance: 60%-79%<br>Gaming: 2-3 Hours<br>CGPA: 3.25",
          "Attendance: 60%-79%<br>Gaming: 2-3 Hours<br>CGPA: 3.25",
          "Attendance: 60%-79%<br>Gaming: 2-3 Hours<br>CGPA: 3.25",
          "Attendance: 60%-79%<br>Gaming: 2-3 Hours<br>CGPA: 3.25",
          "Attendance: 60%-79%<br>Gaming: 2-3 Hours<br>CGPA: 3.25",
          "Attendance: 80%-100%<br>Gaming: More than 3 Hours<br>CGPA: 3.26",
          "Attendance: 80%-100%<br>Gaming: 2-3 Hours<br>CGPA: 3.27",
          "Attendance: 60%-79%<br>Gaming: 2-3 Hours<br>CGPA: 3.27",
          "Attendance: 60%-79%<br>Gaming: 2-3 Hours<br>CGPA: 3.27",
          "Attendance: 60%-79%<br>Gaming: 2-3 Hours<br>CGPA: 3.27",
          "Attendance: 60%-79%<br>Gaming: 2-3 Hours<br>CGPA: 3.27",
          "Attendance: 60%-79%<br>Gaming: 2-3 Hours<br>CGPA: 3.27",
          "Attendance: 60%-79%<br>Gaming: 2-3 Hours<br>CGPA: 3.27",
          "Attendance: 80%-100%<br>Gaming: More than 3 Hours<br>CGPA: 3.28",
          "Attendance: 60%-79%<br>Gaming: 2-3 Hours<br>CGPA: 3.30",
          "Attendance: 60%-79%<br>Gaming: 2-3 Hours<br>CGPA: 3.30",
          "Attendance: 60%-79%<br>Gaming: 2-3 Hours<br>CGPA: 3.31",
          "Attendance: 60%-79%<br>Gaming: 2-3 Hours<br>CGPA: 3.31",
          "Attendance: 60%-79%<br>Gaming: 2-3 Hours<br>CGPA: 3.31",
          "Attendance: 60%-79%<br>Gaming: 2-3 Hours<br>CGPA: 3.31",
          "Attendance: 80%-100%<br>Gaming: More than 3 Hours<br>CGPA: 3.32",
          "Attendance: 60%-79%<br>Gaming: 2-3 Hours<br>CGPA: 3.32",
          "Attendance: 80%-100%<br>Gaming: 2-3 Hours<br>CGPA: 3.33",
          "Attendance: 60%-79%<br>Gaming: 2-3 Hours<br>CGPA: 3.33",
          "Attendance: 60%-79%<br>Gaming: 2-3 Hours<br>CGPA: 3.33",
          "Attendance: 80%-100%<br>Gaming: More than 3 Hours<br>CGPA: 3.33",
          "Attendance: 60%-79%<br>Gaming: More than 3 Hours<br>CGPA: 3.33",
          "Attendance: 60%-79%<br>Gaming: 2-3 Hours<br>CGPA: 3.33",
          "Attendance: 60%-79%<br>Gaming: 2-3 Hours<br>CGPA: 3.33",
          "Attendance: 60%-79%<br>Gaming: 2-3 Hours<br>CGPA: 3.33",
          "Attendance: 60%-79%<br>Gaming: 2-3 Hours<br>CGPA: 3.33",
          "Attendance: 60%-79%<br>Gaming: 2-3 Hours<br>CGPA: 3.33",
          "Attendance: 60%-79%<br>Gaming: 2-3 Hours<br>CGPA: 3.33",
          "Attendance: 60%-79%<br>Gaming: 2-3 Hours<br>CGPA: 3.33",
          "Attendance: 60%-79%<br>Gaming: 2-3 Hours<br>CGPA: 3.35",
          "Attendance: 80%-100%<br>Gaming: More than 3 Hours<br>CGPA: 3.37",
          "Attendance: 60%-79%<br>Gaming: 2-3 Hours<br>CGPA: 3.38",
          "Attendance: 60%-79%<br>Gaming: 2-3 Hours<br>CGPA: 3.38",
          "Attendance: 60%-79%<br>Gaming: 2-3 Hours<br>CGPA: 3.38",
          "Attendance: 60%-79%<br>Gaming: 2-3 Hours<br>CGPA: 3.38",
          "Attendance: 60%-79%<br>Gaming: 2-3 Hours<br>CGPA: 3.38",
          "Attendance: 60%-79%<br>Gaming: 2-3 Hours<br>CGPA: 3.38",
          "Attendance: 60%-79%<br>Gaming: 2-3 Hours<br>CGPA: 3.38",
          "Attendance: 60%-79%<br>Gaming: 2-3 Hours<br>CGPA: 3.38",
          "Attendance: 80%-100%<br>Gaming: 0-1 Hour<br>CGPA: 3.39",
          "Attendance: 80%-100%<br>Gaming: More than 3 Hours<br>CGPA: 3.39",
          "Attendance: 80%-100%<br>Gaming: More than 3 Hours<br>CGPA: 3.43",
          "Attendance: 80%-100%<br>Gaming: 2-3 Hours<br>CGPA: 3.44",
          "Attendance: 60%-79%<br>Gaming: More than 3 Hours<br>CGPA: 3.44",
          "Attendance: 60%-79%<br>Gaming: More than 3 Hours<br>CGPA: 3.44",
          "Attendance: 60%-79%<br>Gaming: 2-3 Hours<br>CGPA: 3.44",
          "Attendance: 60%-79%<br>Gaming: 2-3 Hours<br>CGPA: 3.44",
          "Attendance: 60%-79%<br>Gaming: 2-3 Hours<br>CGPA: 3.44",
          "Attendance: 60%-79%<br>Gaming: More than 3 Hours<br>CGPA: 3.45",
          "Attendance: 60%-79%<br>Gaming: More than 3 Hours<br>CGPA: 3.46",
          "Attendance: 80%-100%<br>Gaming: More than 3 Hours<br>CGPA: 3.48",
          "Attendance: 40%-59%<br>Gaming: More than 3 Hours<br>CGPA: 3.50",
          "Attendance: 80%-100%<br>Gaming: More than 3 Hours<br>CGPA: 3.50",
          "Attendance: 80%-100%<br>Gaming: More than 3 Hours<br>CGPA: 3.50",
          "Attendance: 80%-100%<br>Gaming: 2-3 Hours<br>CGPA: 3.50",
          "Attendance: 80%-100%<br>Gaming: 2-3 Hours<br>CGPA: 3.50",
          "Attendance: 80%-100%<br>Gaming: More than 3 Hours<br>CGPA: 3.50",
          "Attendance: 80%-100%<br>Gaming: More than 3 Hours<br>CGPA: 3.50",
          "Attendance: 80%-100%<br>Gaming: 2-3 Hours<br>CGPA: 3.50",
          "Attendance: 80%-100%<br>Gaming: 0-1 Hour<br>CGPA: 3.50",
          "Attendance: 80%-100%<br>Gaming: More than 3 Hours<br>CGPA: 3.50",
          "Attendance: 80%-100%<br>Gaming: More than 3 Hours<br>CGPA: 3.50",
          "Attendance: 80%-100%<br>Gaming: 2-3 Hours<br>CGPA: 3.50",
          "Attendance: 80%-100%<br>Gaming: 0-1 Hour<br>CGPA: 3.50",
          "Attendance: 80%-100%<br>Gaming: 2-3 Hours<br>CGPA: 3.50",
          "Attendance: 60%-79%<br>Gaming: 2-3 Hours<br>CGPA: 3.50",
          "Attendance: 60%-79%<br>Gaming: 2-3 Hours<br>CGPA: 3.50",
          "Attendance: 60%-79%<br>Gaming: 2-3 Hours<br>CGPA: 3.50",
          "Attendance: 60%-79%<br>Gaming: 2-3 Hours<br>CGPA: 3.50",
          "Attendance: 60%-79%<br>Gaming: 2-3 Hours<br>CGPA: 3.50",
          "Attendance: 60%-79%<br>Gaming: 2-3 Hours<br>CGPA: 3.50",
          "Attendance: 60%-79%<br>Gaming: 2-3 Hours<br>CGPA: 3.50",
          "Attendance: 80%-100%<br>Gaming: 0-1 Hour<br>CGPA: 3.54",
          "Attendance: 80%-100%<br>Gaming: More than 3 Hours<br>CGPA: 3.55",
          "Attendance: 80%-100%<br>Gaming: More than 3 Hours<br>CGPA: 3.55",
          "Attendance: 60%-79%<br>Gaming: More than 3 Hours<br>CGPA: 3.56",
          "Attendance: 60%-79%<br>Gaming: More than 3 Hours<br>CGPA: 3.56",
          "Attendance: 60%-79%<br>Gaming: More than 3 Hours<br>CGPA: 3.56",
          "Attendance: 60%-79%<br>Gaming: More than 3 Hours<br>CGPA: 3.56",
          "Attendance: 60%-79%<br>Gaming: More than 3 Hours<br>CGPA: 3.56",
          "Attendance: 60%-79%<br>Gaming: More than 3 Hours<br>CGPA: 3.56",
          "Attendance: 60%-79%<br>Gaming: More than 3 Hours<br>CGPA: 3.56",
          "Attendance: 60%-79%<br>Gaming: More than 3 Hours<br>CGPA: 3.56",
          "Attendance: 60%-79%<br>Gaming: More than 3 Hours<br>CGPA: 3.56",
          "Attendance: 60%-79%<br>Gaming: More than 3 Hours<br>CGPA: 3.56",
          "Attendance: 60%-79%<br>Gaming: More than 3 Hours<br>CGPA: 3.56",
          "Attendance: 80%-100%<br>Gaming: More than 3 Hours<br>CGPA: 3.60",
          "Attendance: 60%-79%<br>Gaming: More than 3 Hours<br>CGPA: 3.60",
          "Attendance: 60%-79%<br>Gaming: More than 3 Hours<br>CGPA: 3.60",
          "Attendance: 60%-79%<br>Gaming: More than 3 Hours<br>CGPA: 3.60",
          "Attendance: 60%-79%<br>Gaming: More than 3 Hours<br>CGPA: 3.60",
          "Attendance: 80%-100%<br>Gaming: 2-3 Hours<br>CGPA: 3.61",
          "Attendance: 80%-100%<br>Gaming: More than 3 Hours<br>CGPA: 3.62",
          "Attendance: 60%-79%<br>Gaming: More than 3 Hours<br>CGPA: 3.63",
          "Attendance: 60%-79%<br>Gaming: More than 3 Hours<br>CGPA: 3.63",
          "Attendance: 80%-100%<br>Gaming: 2-3 Hours<br>CGPA: 3.64",
          "Attendance: 60%-79%<br>Gaming: More than 3 Hours<br>CGPA: 3.64",
          "Attendance: 80%-100%<br>Gaming: 0-1 Hour<br>CGPA: 3.65",
          "Attendance: 80%-100%<br>Gaming: 0-1 Hour<br>CGPA: 3.65",
          "Attendance: 80%-100%<br>Gaming: More than 3 Hours<br>CGPA: 3.67",
          "Attendance: 60%-79%<br>Gaming: 2-3 Hours<br>CGPA: 3.67",
          "Attendance: 60%-79%<br>Gaming: More than 3 Hours<br>CGPA: 3.67",
          "Attendance: 60%-79%<br>Gaming: 2-3 Hours<br>CGPA: 3.67",
          "Attendance: 80%-100%<br>Gaming: More than 3 Hours<br>CGPA: 3.67",
          "Attendance: 60%-79%<br>Gaming: 2-3 Hours<br>CGPA: 3.67",
          "Attendance: 80%-100%<br>Gaming: More than 3 Hours<br>CGPA: 3.67",
          "Attendance: 60%-79%<br>Gaming: 2-3 Hours<br>CGPA: 3.67",
          "Attendance: 60%-79%<br>Gaming: 2-3 Hours<br>CGPA: 3.67",
          "Attendance: 60%-79%<br>Gaming: 2-3 Hours<br>CGPA: 3.67",
          "Attendance: 80%-100%<br>Gaming: More than 3 Hours<br>CGPA: 3.68",
          "Attendance: 80%-100%<br>Gaming: 2-3 Hours<br>CGPA: 3.69",
          "Attendance: 80%-100%<br>Gaming: 2-3 Hours<br>CGPA: 3.69",
          "Attendance: 80%-100%<br>Gaming: 2-3 Hours<br>CGPA: 3.70",
          "Attendance: 80%-100%<br>Gaming: 2-3 Hours<br>CGPA: 3.70",
          "Attendance: 60%-79%<br>Gaming: More than 3 Hours<br>CGPA: 3.70",
          "Attendance: 60%-79%<br>Gaming: More than 3 Hours<br>CGPA: 3.70",
          "Attendance: 80%-100%<br>Gaming: More than 3 Hours<br>CGPA: 3.70",
          "Attendance: 60%-79%<br>Gaming: More than 3 Hours<br>CGPA: 3.70",
          "Attendance: 60%-79%<br>Gaming: More than 3 Hours<br>CGPA: 3.70",
          "Attendance: 60%-79%<br>Gaming: More than 3 Hours<br>CGPA: 3.70",
          "Attendance: 60%-79%<br>Gaming: More than 3 Hours<br>CGPA: 3.70",
          "Attendance: 80%-100%<br>Gaming: More than 3 Hours<br>CGPA: 3.70",
          "Attendance: 80%-100%<br>Gaming: 2-3 Hours<br>CGPA: 3.70",
          "Attendance: 80%-100%<br>Gaming: 2-3 Hours<br>CGPA: 3.70",
          "Attendance: 80%-100%<br>Gaming: More than 3 Hours<br>CGPA: 3.71",
          "Attendance: 80%-100%<br>Gaming: More than 3 Hours<br>CGPA: 3.71",
          "Attendance: 80%-100%<br>Gaming: More than 3 Hours<br>CGPA: 3.71",
          "Attendance: 80%-100%<br>Gaming: More than 3 Hours<br>CGPA: 3.71",
          "Attendance: 80%-100%<br>Gaming: More than 3 Hours<br>CGPA: 3.74",
          "Attendance: 80%-100%<br>Gaming: More than 3 Hours<br>CGPA: 3.74",
          "Attendance: 80%-100%<br>Gaming: 2-3 Hours<br>CGPA: 3.74",
          "Attendance: 80%-100%<br>Gaming: 2-3 Hours<br>CGPA: 3.74",
          "Attendance: 80%-100%<br>Gaming: More than 3 Hours<br>CGPA: 3.74",
          "Attendance: 80%-100%<br>Gaming: 2-3 Hours<br>CGPA: 3.74",
          "Attendance: 80%-100%<br>Gaming: More than 3 Hours<br>CGPA: 3.74",
          "Attendance: 80%-100%<br>Gaming: 2-3 Hours<br>CGPA: 3.74",
          "Attendance: 80%-100%<br>Gaming: More than 3 Hours<br>CGPA: 3.74",
          "Attendance: 80%-100%<br>Gaming: More than 3 Hours<br>CGPA: 3.74",
          "Attendance: 80%-100%<br>Gaming: 2-3 Hours<br>CGPA: 3.75",
          "Attendance: 80%-100%<br>Gaming: More than 3 Hours<br>CGPA: 3.75",
          "Attendance: 60%-79%<br>Gaming: More than 3 Hours<br>CGPA: 3.75",
          "Attendance: 80%-100%<br>Gaming: More than 3 Hours<br>CGPA: 3.75",
          "Attendance: 80%-100%<br>Gaming: More than 3 Hours<br>CGPA: 3.75",
          "Attendance: 80%-100%<br>Gaming: More than 3 Hours<br>CGPA: 3.75",
          "Attendance: 80%-100%<br>Gaming: More than 3 Hours<br>CGPA: 3.75",
          "Attendance: 80%-100%<br>Gaming: 2-3 Hours<br>CGPA: 3.75",
          "Attendance: 80%-100%<br>Gaming: 2-3 Hours<br>CGPA: 3.75",
          "Attendance: 80%-100%<br>Gaming: 2-3 Hours<br>CGPA: 3.75",
          "Attendance: 80%-100%<br>Gaming: 2-3 Hours<br>CGPA: 3.75",
          "Attendance: 80%-100%<br>Gaming: 2-3 Hours<br>CGPA: 3.75",
          "Attendance: 80%-100%<br>Gaming: 2-3 Hours<br>CGPA: 3.75",
          "Attendance: 80%-100%<br>Gaming: 2-3 Hours<br>CGPA: 3.75",
          "Attendance: 80%-100%<br>Gaming: 2-3 Hours<br>CGPA: 3.75",
          "Attendance: 80%-100%<br>Gaming: 2-3 Hours<br>CGPA: 3.76",
          "Attendance: 80%-100%<br>Gaming: 2-3 Hours<br>CGPA: 3.78",
          "Attendance: 80%-100%<br>Gaming: 0-1 Hour<br>CGPA: 3.78",
          "Attendance: 80%-100%<br>Gaming: 0-1 Hour<br>CGPA: 3.78",
          "Attendance: 80%-100%<br>Gaming: More than 3 Hours<br>CGPA: 3.80",
          "Attendance: 80%-100%<br>Gaming: More than 3 Hours<br>CGPA: 3.80",
          "Attendance: 80%-100%<br>Gaming: 2-3 Hours<br>CGPA: 3.80",
          "Attendance: 80%-100%<br>Gaming: 0-1 Hour<br>CGPA: 3.80",
          "Attendance: 80%-100%<br>Gaming: 0-1 Hour<br>CGPA: 3.80",
          "Attendance: 80%-100%<br>Gaming: More than 3 Hours<br>CGPA: 3.81",
          "Attendance: 80%-100%<br>Gaming: More than 3 Hours<br>CGPA: 3.81",
          "Attendance: 80%-100%<br>Gaming: More than 3 Hours<br>CGPA: 3.81",
          "Attendance: 80%-100%<br>Gaming: More than 3 Hours<br>CGPA: 3.81",
          "Attendance: 80%-100%<br>Gaming: More than 3 Hours<br>CGPA: 3.81",
          "Attendance: 80%-100%<br>Gaming: More than 3 Hours<br>CGPA: 3.81",
          "Attendance: 80%-100%<br>Gaming: More than 3 Hours<br>CGPA: 3.81",
          "Attendance: 80%-100%<br>Gaming: More than 3 Hours<br>CGPA: 3.81",
          "Attendance: 80%-100%<br>Gaming: 0-1 Hour<br>CGPA: 3.84",
          "Attendance: 80%-100%<br>Gaming: 0-1 Hour<br>CGPA: 3.87",
          "Attendance: 80%-100%<br>Gaming: 2-3 Hours<br>CGPA: 3.88",
          "Attendance: 80%-100%<br>Gaming: 0-1 Hour<br>CGPA: 3.88",
          "Attendance: 80%-100%<br>Gaming: 0-1 Hour<br>CGPA: 3.88",
          "Attendance: 80%-100%<br>Gaming: 0-1 Hour<br>CGPA: 3.88",
          "Attendance: 80%-100%<br>Gaming: 0-1 Hour<br>CGPA: 3.88",
          "Attendance: 80%-100%<br>Gaming: 0-1 Hour<br>CGPA: 3.88",
          "Attendance: 80%-100%<br>Gaming: 0-1 Hour<br>CGPA: 3.88",
          "Attendance: 80%-100%<br>Gaming: 2-3 Hours<br>CGPA: 3.89",
          "Attendance: 80%-100%<br>Gaming: 2-3 Hours<br>CGPA: 3.91",
          "Attendance: 80%-100%<br>Gaming: 0-1 Hour<br>CGPA: 3.93",
          "Attendance: 80%-100%<br>Gaming: 0-1 Hour<br>CGPA: 3.94",
          "Attendance: 80%-100%<br>Gaming: 0-1 Hour<br>CGPA: 3.94",
          "Attendance: 80%-100%<br>Gaming: 0-1 Hour<br>CGPA: 3.94",
          "Attendance: 80%-100%<br>Gaming: 0-1 Hour<br>CGPA: 3.94",
          "Attendance: 80%-100%<br>Gaming: 0-1 Hour<br>CGPA: 3.94",
          "Attendance: 80%-100%<br>Gaming: 0-1 Hour<br>CGPA: 3.94",
          "Attendance: 80%-100%<br>Gaming: 0-1 Hour<br>CGPA: 3.94",
          "Attendance: 80%-100%<br>Gaming: 0-1 Hour<br>CGPA: 3.94",
          "Attendance: 80%-100%<br>Gaming: 0-1 Hour<br>CGPA: 3.94",
          "Attendance: 80%-100%<br>Gaming: 0-1 Hour<br>CGPA: 3.94",
          "Attendance: 80%-100%<br>Gaming: 0-1 Hour<br>CGPA: 3.94",
          "Attendance: 80%-100%<br>Gaming: 0-1 Hour<br>CGPA: 3.94",
          "Attendance: 80%-100%<br>Gaming: 0-1 Hour<br>CGPA: 3.94",
          "Attendance: 80%-100%<br>Gaming: 0-1 Hour<br>CGPA: 3.95",
          "Attendance: 80%-100%<br>Gaming: 2-3 Hours<br>CGPA: 3.96",
          "Attendance: 80%-100%<br>Gaming: More than 3 Hours<br>CGPA: 3.98",
          "Attendance: 60%-79%<br>Gaming: More than 3 Hours<br>CGPA: 4.00",
          "Attendance: 80%-100%<br>Gaming: More than 3 Hours<br>CGPA: 4.00",
          "Attendance: 80%-100%<br>Gaming: More than 3 Hours<br>CGPA: 4.00",
          "Attendance: 80%-100%<br>Gaming: More than 3 Hours<br>CGPA: 4.00",
          "Attendance: 80%-100%<br>Gaming: 2-3 Hours<br>CGPA: 4.00",
          "Attendance: 80%-100%<br>Gaming: More than 3 Hours<br>CGPA: 4.00",
          "Attendance: 80%-100%<br>Gaming: More than 3 Hours<br>CGPA: 4.00",
          "Attendance: 80%-100%<br>Gaming: More than 3 Hours<br>CGPA: 4.00",
          "Attendance: 80%-100%<br>Gaming: More than 3 Hours<br>CGPA: 4.00",
          "Attendance: 80%-100%<br>Gaming: More than 3 Hours<br>CGPA: 4.00",
          "Attendance: 80%-100%<br>Gaming: More than 3 Hours<br>CGPA: 4.00",
          "Attendance: 80%-100%<br>Gaming: More than 3 Hours<br>CGPA: 4.00",
          "Attendance: 80%-100%<br>Gaming: More than 3 Hours<br>CGPA: 3.70",
          "Attendance: 60%-79%<br>Gaming: More than 3 Hours<br>CGPA: 3.74",
          "Attendance: 80%-100%<br>Gaming: 2-3 Hours<br>CGPA: 3.75",
          "Attendance: 80%-100%<br>Gaming: 0-1 Hour<br>CGPA: 4.00",
          "Attendance: 80%-100%<br>Gaming: 2-3 Hours<br>CGPA: 2.97",
          "Attendance: 60%-79%<br>Gaming: More than 3 Hours<br>CGPA: 3.15",
          "Attendance: 80%-100%<br>Gaming: 2-3 Hours<br>CGPA: 3.32",
          "Attendance: 60%-79%<br>Gaming: 0-1 Hour<br>CGPA: 3.33",
          "Attendance: 60%-79%<br>Gaming: 2-3 Hours<br>CGPA: 3.45",
          "Attendance: 80%-100%<br>Gaming: 2-3 Hours<br>CGPA: 3.47",
          "Attendance: 80%-100%<br>Gaming: More than 3 Hours<br>CGPA: 3.47",
          "Attendance: 80%-100%<br>Gaming: 2-3 Hours<br>CGPA: 3.56",
          "Attendance: 80%-100%<br>Gaming: 0-1 Hour<br>CGPA: 3.60",
          "Attendance: 80%-100%<br>Gaming: 2-3 Hours<br>CGPA: 3.68",
          "Attendance: 80%-100%<br>Gaming: 2-3 Hours<br>CGPA: 3.74",
          "Attendance: 80%-100%<br>Gaming: More than 3 Hours<br>CGPA: 3.75",
          "Attendance: 80%-100%<br>Gaming: 0-1 Hour<br>CGPA: 3.80",
          "Attendance: 80%-100%<br>Gaming: More than 3 Hours<br>CGPA: 3.83",
          "Attendance: 80%-100%<br>Gaming: More than 3 Hours<br>CGPA: 3.93",
          "Attendance: 40%-59%<br>Gaming: 2-3 Hours<br>CGPA: 2.25",
          "Attendance: 60%-79%<br>Gaming: More than 3 Hours<br>CGPA: 2.50",
          "Attendance: 80%-100%<br>Gaming: More than 3 Hours<br>CGPA: 3.00",
          "Attendance: 80%-100%<br>Gaming: More than 3 Hours<br>CGPA: 3.09",
          "Attendance: 80%-100%<br>Gaming: 0-1 Hour<br>CGPA: 3.17",
          "Attendance: 60%-79%<br>Gaming: More than 3 Hours<br>CGPA: 3.50",
          "Attendance: 80%-100%<br>Gaming: 0-1 Hour<br>CGPA: 3.50",
          "Attendance: 80%-100%<br>Gaming: 0-1 Hour<br>CGPA: 3.50",
          "Attendance: 80%-100%<br>Gaming: More than 3 Hours<br>CGPA: 3.60",
          "Attendance: 80%-100%<br>Gaming: More than 3 Hours<br>CGPA: 3.67",
          "Attendance: 80%-100%<br>Gaming: 0-1 Hour<br>CGPA: 3.78",
          "Attendance: 80%-100%<br>Gaming: More than 3 Hours<br>CGPA: 3.80",
          "Attendance: 80%-100%<br>Gaming: 2-3 Hours<br>CGPA: 4.00",
          "Attendance: 80%-100%<br>Gaming: 2-3 Hours<br>CGPA: 3.69",
          "Attendance: 60%-79%<br>Gaming: 2-3 Hours<br>CGPA: 3.79",
          "Attendance: 80%-100%<br>Gaming: More than 3 Hours<br>CGPA: 2.85",
          "Attendance: Below 40%<br>Gaming: 2-3 Hours<br>CGPA: 3.31",
          "Attendance: 80%-100%<br>Gaming: More than 3 Hours<br>CGPA: 3.56",
          "Attendance: 80%-100%<br>Gaming: More than 3 Hours<br>CGPA: 3.68",
          "Attendance: 80%-100%<br>Gaming: 2-3 Hours<br>CGPA: 3.88",
          "Attendance: 80%-100%<br>Gaming: 0-1 Hour<br>CGPA: 3.94",
          "Attendance: 40%-59%<br>Gaming: 2-3 Hours<br>CGPA: 3.10",
          "Attendance: 60%-79%<br>Gaming: 2-3 Hours<br>CGPA: 3.67",
          "Attendance: 40%-59%<br>Gaming: 2-3 Hours<br>CGPA: 3.56",
          "Attendance: 80%-100%<br>Gaming: 2-3 Hours<br>CGPA: 3.75",
          "Attendance: 80%-100%<br>Gaming: 2-3 Hours<br>CGPA: 3.86"
         ],
         "type": "scatter3d",
         "visible": true,
         "x": {
          "bdata": "AwMDAwMAAgMAAAAAAgIAAAICAgICAwICAgAAAgICAgICAAIBAQEBAgIBAgEBAgECAQEBAgEBAQEBAQEBAQECAQEDAgIDAgECAwIBAQEDAQEBAQECAgIDAwMCAgICAgICAgICAgICAgICAgICAgICAgICAgICAgICAgICAgICAgICAgICAgICAgEBAQEBAQEBAQEBAQEBAQEBAQIBAgICAgMDAgMDAgICAgIBAQEDAwICAgICAgICAgICAwMCAwMDAwMCAgICAgICAwICAgICAwMDAwIBAQECAwMBAQIBAQEBAgECAgICAgICAgICAgMDAgICAgICAwICAgICAgMCAwICAwICAgICAgICAgMCAgICAgICAgMDAwMCAgICAgICAwEDAwMDAwMDAwMDAwMDAgICAgICAgMDAwICAgICAgICAgICAwICAgIDAwICAwIDAwMCAgIDAgMCAgIDAwMDAwICAwICAgIDAwMDAwMDAwMDAwMDAwMDAwMDAgMDAwMDAwMDAwMDAwMDAwMDAwMDAwMDAwMDAwMDAwMDAwMDAwMDAwMDAwMDAwMDAwMDAwMDAwMDAwIDAwMDAwMDAwMDAwMCAwMDAgMCAgMDAwMDAwMDAwMBAgMDAwIDAwMDAwMDAwIDAAMDAwMBAgEDAw==",
          "dtype": "i1"
         },
         "y": {
          "bdata": "AgIAAAEAAAAAAAAAAAAAAAAAAAAAAgAAAAAAAAACAAAAAAAAAAAAAAAAAAAAAAAAAAAAAAAAAAAAAAAAAAAAAAAAAAACAAAAAQAAAAAAAAAAAAAAAAAAAQAAAAAAAAAAAAAAAAAAAAAAAAAAAAAAAAAAAgAAAAAAAAAAAAAAAAAAAAAAAAAAAQAAAAAAAAAAAAAAAAAAAAAAAAAAAAAAAAAAAgEAAAAAAAAAAAAAAQEBAQEBAQEBAQEBAQEAAgAAAAABAQEBAQEBAAAAAAAAAAAAAAAAAAABAAAAAAAAAAAAAAABAQEBAQEBAQEBAQABAQEBAQEBAAEBAQEBAQABAQEBAAABAQEBAQEBAQABAQEBAQEBAQIAAAEAAAEBAQAAAAAAAAEBAAABAgAAAQIBAQEBAQEBAQIAAAAAAAAAAAAAAAAAAAAAAAABAAAAAQACAgABAAEAAQABAQEAAQEBAQAAAAAAAAAAAQEAAAAAAAABAQABAAEAAAEAAAAAAAABAQEBAQEBAQEBAgIAAAECAgAAAAAAAAAAAgIBAgICAgICAQECAgICAgICAgICAgICAgIBAAAAAAABAAAAAAAAAAAAAQIBAAECAQEAAQIBAQACAAABAAAAAgACAgAAAgABAQEAAQAAAQIBAQEBAQ==",
          "dtype": "i1"
         },
         "z": {
          "bdata": "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",
          "dtype": "f8"
         }
        },
        {
         "hoverinfo": "text",
         "marker": {
          "color": {
           "bdata": "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",
           "dtype": "f8"
          },
          "colorbar": {
           "title": {
            "text": "CGPA"
           }
          },
          "colorscale": [
           [
            0,
            "#0d0887"
           ],
           [
            0.1111111111111111,
            "#46039f"
           ],
           [
            0.2222222222222222,
            "#7201a8"
           ],
           [
            0.3333333333333333,
            "#9c179e"
           ],
           [
            0.4444444444444444,
            "#bd3786"
           ],
           [
            0.5555555555555556,
            "#d8576b"
           ],
           [
            0.6666666666666666,
            "#ed7953"
           ],
           [
            0.7777777777777778,
            "#fb9f3a"
           ],
           [
            0.8888888888888888,
            "#fdca26"
           ],
           [
            1,
            "#f0f921"
           ]
          ],
          "opacity": 0.8,
          "size": {
           "bdata": "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",
           "dtype": "f8"
          }
         },
         "mode": "markers",
         "name": "More than 3 Hours",
         "text": [
          "Attendance: 80%-100%<br>CGPA: 3.72",
          "Attendance: 80%-100%<br>CGPA: 3.75",
          "Attendance: Below 40%<br>CGPA: 1.00",
          "Attendance: 60%-79%<br>CGPA: 1.06",
          "Attendance: 80%-100%<br>CGPA: 1.25",
          "Attendance: Below 40%<br>CGPA: 1.44",
          "Attendance: Below 40%<br>CGPA: 1.50",
          "Attendance: Below 40%<br>CGPA: 1.56",
          "Attendance: Below 40%<br>CGPA: 1.57",
          "Attendance: 60%-79%<br>CGPA: 1.57",
          "Attendance: 60%-79%<br>CGPA: 1.60",
          "Attendance: Below 40%<br>CGPA: 1.62",
          "Attendance: Below 40%<br>CGPA: 1.69",
          "Attendance: 60%-79%<br>CGPA: 1.71",
          "Attendance: 60%-79%<br>CGPA: 1.72",
          "Attendance: 60%-79%<br>CGPA: 1.75",
          "Attendance: 60%-79%<br>CGPA: 1.75",
          "Attendance: 60%-79%<br>CGPA: 1.75",
          "Attendance: 60%-79%<br>CGPA: 1.86",
          "Attendance: 60%-79%<br>CGPA: 1.88",
          "Attendance: 60%-79%<br>CGPA: 1.89",
          "Attendance: Below 40%<br>CGPA: 1.90",
          "Attendance: Below 40%<br>CGPA: 1.90",
          "Attendance: 60%-79%<br>CGPA: 1.92",
          "Attendance: 60%-79%<br>CGPA: 1.97",
          "Attendance: 60%-79%<br>CGPA: 2.00",
          "Attendance: 60%-79%<br>CGPA: 2.02",
          "Attendance: 60%-79%<br>CGPA: 2.10",
          "Attendance: Below 40%<br>CGPA: 2.10",
          "Attendance: 60%-79%<br>CGPA: 2.10",
          "Attendance: 40%-59%<br>CGPA: 2.17",
          "Attendance: 40%-59%<br>CGPA: 2.17",
          "Attendance: 40%-59%<br>CGPA: 2.17",
          "Attendance: 40%-59%<br>CGPA: 2.17",
          "Attendance: 60%-79%<br>CGPA: 2.20",
          "Attendance: 60%-79%<br>CGPA: 2.22",
          "Attendance: 40%-59%<br>CGPA: 2.25",
          "Attendance: 60%-79%<br>CGPA: 2.25",
          "Attendance: 40%-59%<br>CGPA: 2.25",
          "Attendance: 40%-59%<br>CGPA: 2.25",
          "Attendance: 60%-79%<br>CGPA: 2.28",
          "Attendance: 40%-59%<br>CGPA: 2.30",
          "Attendance: 60%-79%<br>CGPA: 2.30",
          "Attendance: 40%-59%<br>CGPA: 2.31",
          "Attendance: 40%-59%<br>CGPA: 2.31",
          "Attendance: 40%-59%<br>CGPA: 2.31",
          "Attendance: 60%-79%<br>CGPA: 2.33",
          "Attendance: 40%-59%<br>CGPA: 2.33",
          "Attendance: 40%-59%<br>CGPA: 2.33",
          "Attendance: 40%-59%<br>CGPA: 2.33",
          "Attendance: 40%-59%<br>CGPA: 2.35",
          "Attendance: 40%-59%<br>CGPA: 2.35",
          "Attendance: 40%-59%<br>CGPA: 2.35",
          "Attendance: 40%-59%<br>CGPA: 2.38",
          "Attendance: 40%-59%<br>CGPA: 2.38",
          "Attendance: 40%-59%<br>CGPA: 2.38",
          "Attendance: 40%-59%<br>CGPA: 2.38",
          "Attendance: 60%-79%<br>CGPA: 2.41",
          "Attendance: 40%-59%<br>CGPA: 2.44",
          "Attendance: 40%-59%<br>CGPA: 2.44",
          "Attendance: 80%-100%<br>CGPA: 2.45",
          "Attendance: 60%-79%<br>CGPA: 2.45",
          "Attendance: 60%-79%<br>CGPA: 2.47",
          "Attendance: 60%-79%<br>CGPA: 2.50",
          "Attendance: 40%-59%<br>CGPA: 2.50",
          "Attendance: 60%-79%<br>CGPA: 2.53",
          "Attendance: 60%-79%<br>CGPA: 2.55",
          "Attendance: 40%-59%<br>CGPA: 2.56",
          "Attendance: 40%-59%<br>CGPA: 2.56",
          "Attendance: 40%-59%<br>CGPA: 2.56",
          "Attendance: 80%-100%<br>CGPA: 2.58",
          "Attendance: 40%-59%<br>CGPA: 2.64",
          "Attendance: 40%-59%<br>CGPA: 2.69",
          "Attendance: 40%-59%<br>CGPA: 2.69",
          "Attendance: 40%-59%<br>CGPA: 2.69",
          "Attendance: 40%-59%<br>CGPA: 2.69",
          "Attendance: 60%-79%<br>CGPA: 2.70",
          "Attendance: 60%-79%<br>CGPA: 2.70",
          "Attendance: 60%-79%<br>CGPA: 2.70",
          "Attendance: 80%-100%<br>CGPA: 2.75",
          "Attendance: 80%-100%<br>CGPA: 2.75",
          "Attendance: 60%-79%<br>CGPA: 2.75",
          "Attendance: 60%-79%<br>CGPA: 2.75",
          "Attendance: 60%-79%<br>CGPA: 2.75",
          "Attendance: 60%-79%<br>CGPA: 2.75",
          "Attendance: 60%-79%<br>CGPA: 2.75",
          "Attendance: 60%-79%<br>CGPA: 2.75",
          "Attendance: 60%-79%<br>CGPA: 2.75",
          "Attendance: 60%-79%<br>CGPA: 2.75",
          "Attendance: 60%-79%<br>CGPA: 2.75",
          "Attendance: 60%-79%<br>CGPA: 2.75",
          "Attendance: 60%-79%<br>CGPA: 2.75",
          "Attendance: 60%-79%<br>CGPA: 2.75",
          "Attendance: 60%-79%<br>CGPA: 2.75",
          "Attendance: 60%-79%<br>CGPA: 2.75",
          "Attendance: 60%-79%<br>CGPA: 2.75",
          "Attendance: 60%-79%<br>CGPA: 2.75",
          "Attendance: 60%-79%<br>CGPA: 2.75",
          "Attendance: 60%-79%<br>CGPA: 2.75",
          "Attendance: 60%-79%<br>CGPA: 2.75",
          "Attendance: 60%-79%<br>CGPA: 2.75",
          "Attendance: 60%-79%<br>CGPA: 2.75",
          "Attendance: 60%-79%<br>CGPA: 2.75",
          "Attendance: 60%-79%<br>CGPA: 2.75",
          "Attendance: 60%-79%<br>CGPA: 2.75",
          "Attendance: 60%-79%<br>CGPA: 2.75",
          "Attendance: 60%-79%<br>CGPA: 2.81",
          "Attendance: 60%-79%<br>CGPA: 2.81",
          "Attendance: 60%-79%<br>CGPA: 2.84",
          "Attendance: 60%-79%<br>CGPA: 2.84",
          "Attendance: 60%-79%<br>CGPA: 2.84",
          "Attendance: 60%-79%<br>CGPA: 2.84",
          "Attendance: 60%-79%<br>CGPA: 2.85",
          "Attendance: 60%-79%<br>CGPA: 2.86",
          "Attendance: 60%-79%<br>CGPA: 2.88",
          "Attendance: 60%-79%<br>CGPA: 2.88",
          "Attendance: 60%-79%<br>CGPA: 2.88",
          "Attendance: 60%-79%<br>CGPA: 2.88",
          "Attendance: 60%-79%<br>CGPA: 2.88",
          "Attendance: 60%-79%<br>CGPA: 2.89",
          "Attendance: 60%-79%<br>CGPA: 2.89",
          "Attendance: 60%-79%<br>CGPA: 2.89",
          "Attendance: 60%-79%<br>CGPA: 2.89",
          "Attendance: 60%-79%<br>CGPA: 2.89",
          "Attendance: 60%-79%<br>CGPA: 2.89",
          "Attendance: 60%-79%<br>CGPA: 2.89",
          "Attendance: 40%-59%<br>CGPA: 2.90",
          "Attendance: 40%-59%<br>CGPA: 2.90",
          "Attendance: 40%-59%<br>CGPA: 2.90",
          "Attendance: 40%-59%<br>CGPA: 2.90",
          "Attendance: 40%-59%<br>CGPA: 2.90",
          "Attendance: 40%-59%<br>CGPA: 2.90",
          "Attendance: 40%-59%<br>CGPA: 2.90",
          "Attendance: 40%-59%<br>CGPA: 2.90",
          "Attendance: 40%-59%<br>CGPA: 2.90",
          "Attendance: 40%-59%<br>CGPA: 2.90",
          "Attendance: 40%-59%<br>CGPA: 2.90",
          "Attendance: 40%-59%<br>CGPA: 2.90",
          "Attendance: 40%-59%<br>CGPA: 2.90",
          "Attendance: 40%-59%<br>CGPA: 2.90",
          "Attendance: 40%-59%<br>CGPA: 2.90",
          "Attendance: 40%-59%<br>CGPA: 2.90",
          "Attendance: 40%-59%<br>CGPA: 2.90",
          "Attendance: 40%-59%<br>CGPA: 2.90",
          "Attendance: 60%-79%<br>CGPA: 2.92",
          "Attendance: 40%-59%<br>CGPA: 2.94",
          "Attendance: 60%-79%<br>CGPA: 2.94",
          "Attendance: 60%-79%<br>CGPA: 2.94",
          "Attendance: 60%-79%<br>CGPA: 2.94",
          "Attendance: 60%-79%<br>CGPA: 2.98",
          "Attendance: 80%-100%<br>CGPA: 3.00",
          "Attendance: 80%-100%<br>CGPA: 3.00",
          "Attendance: 80%-100%<br>CGPA: 3.00",
          "Attendance: 60%-79%<br>CGPA: 3.00",
          "Attendance: 60%-79%<br>CGPA: 3.00",
          "Attendance: 60%-79%<br>CGPA: 3.00",
          "Attendance: 60%-79%<br>CGPA: 3.00",
          "Attendance: 60%-79%<br>CGPA: 3.00",
          "Attendance: 40%-59%<br>CGPA: 3.06",
          "Attendance: 40%-59%<br>CGPA: 3.06",
          "Attendance: 40%-59%<br>CGPA: 3.06",
          "Attendance: 80%-100%<br>CGPA: 3.07",
          "Attendance: 60%-79%<br>CGPA: 3.10",
          "Attendance: 80%-100%<br>CGPA: 3.13",
          "Attendance: 80%-100%<br>CGPA: 3.13",
          "Attendance: 80%-100%<br>CGPA: 3.13",
          "Attendance: 80%-100%<br>CGPA: 3.13",
          "Attendance: 80%-100%<br>CGPA: 3.16",
          "Attendance: 60%-79%<br>CGPA: 3.19",
          "Attendance: 60%-79%<br>CGPA: 3.19",
          "Attendance: 60%-79%<br>CGPA: 3.19",
          "Attendance: 60%-79%<br>CGPA: 3.19",
          "Attendance: 60%-79%<br>CGPA: 3.21",
          "Attendance: 80%-100%<br>CGPA: 3.22",
          "Attendance: 80%-100%<br>CGPA: 3.25",
          "Attendance: 80%-100%<br>CGPA: 3.25",
          "Attendance: 80%-100%<br>CGPA: 3.25",
          "Attendance: 60%-79%<br>CGPA: 3.25",
          "Attendance: 40%-59%<br>CGPA: 3.25",
          "Attendance: 40%-59%<br>CGPA: 3.25",
          "Attendance: 40%-59%<br>CGPA: 3.25",
          "Attendance: 80%-100%<br>CGPA: 3.25",
          "Attendance: 80%-100%<br>CGPA: 3.25",
          "Attendance: 40%-59%<br>CGPA: 3.25",
          "Attendance: 40%-59%<br>CGPA: 3.25",
          "Attendance: 60%-79%<br>CGPA: 3.25",
          "Attendance: 40%-59%<br>CGPA: 3.25",
          "Attendance: 40%-59%<br>CGPA: 3.25",
          "Attendance: 40%-59%<br>CGPA: 3.25",
          "Attendance: 40%-59%<br>CGPA: 3.25",
          "Attendance: 60%-79%<br>CGPA: 3.25",
          "Attendance: 40%-59%<br>CGPA: 3.25",
          "Attendance: 80%-100%<br>CGPA: 3.26",
          "Attendance: 80%-100%<br>CGPA: 3.28",
          "Attendance: 80%-100%<br>CGPA: 3.32",
          "Attendance: 80%-100%<br>CGPA: 3.33",
          "Attendance: 60%-79%<br>CGPA: 3.33",
          "Attendance: 80%-100%<br>CGPA: 3.37",
          "Attendance: 80%-100%<br>CGPA: 3.39",
          "Attendance: 80%-100%<br>CGPA: 3.43",
          "Attendance: 60%-79%<br>CGPA: 3.44",
          "Attendance: 60%-79%<br>CGPA: 3.44",
          "Attendance: 60%-79%<br>CGPA: 3.45",
          "Attendance: 60%-79%<br>CGPA: 3.46",
          "Attendance: 80%-100%<br>CGPA: 3.48",
          "Attendance: 40%-59%<br>CGPA: 3.50",
          "Attendance: 80%-100%<br>CGPA: 3.50",
          "Attendance: 80%-100%<br>CGPA: 3.50",
          "Attendance: 80%-100%<br>CGPA: 3.50",
          "Attendance: 80%-100%<br>CGPA: 3.50",
          "Attendance: 80%-100%<br>CGPA: 3.50",
          "Attendance: 80%-100%<br>CGPA: 3.50",
          "Attendance: 80%-100%<br>CGPA: 3.55",
          "Attendance: 80%-100%<br>CGPA: 3.55",
          "Attendance: 60%-79%<br>CGPA: 3.56",
          "Attendance: 60%-79%<br>CGPA: 3.56",
          "Attendance: 60%-79%<br>CGPA: 3.56",
          "Attendance: 60%-79%<br>CGPA: 3.56",
          "Attendance: 60%-79%<br>CGPA: 3.56",
          "Attendance: 60%-79%<br>CGPA: 3.56",
          "Attendance: 60%-79%<br>CGPA: 3.56",
          "Attendance: 60%-79%<br>CGPA: 3.56",
          "Attendance: 60%-79%<br>CGPA: 3.56",
          "Attendance: 60%-79%<br>CGPA: 3.56",
          "Attendance: 60%-79%<br>CGPA: 3.56",
          "Attendance: 80%-100%<br>CGPA: 3.60",
          "Attendance: 60%-79%<br>CGPA: 3.60",
          "Attendance: 60%-79%<br>CGPA: 3.60",
          "Attendance: 60%-79%<br>CGPA: 3.60",
          "Attendance: 60%-79%<br>CGPA: 3.60",
          "Attendance: 80%-100%<br>CGPA: 3.62",
          "Attendance: 60%-79%<br>CGPA: 3.63",
          "Attendance: 60%-79%<br>CGPA: 3.63",
          "Attendance: 60%-79%<br>CGPA: 3.64",
          "Attendance: 80%-100%<br>CGPA: 3.67",
          "Attendance: 60%-79%<br>CGPA: 3.67",
          "Attendance: 80%-100%<br>CGPA: 3.67",
          "Attendance: 80%-100%<br>CGPA: 3.67",
          "Attendance: 80%-100%<br>CGPA: 3.68",
          "Attendance: 60%-79%<br>CGPA: 3.70",
          "Attendance: 60%-79%<br>CGPA: 3.70",
          "Attendance: 80%-100%<br>CGPA: 3.70",
          "Attendance: 60%-79%<br>CGPA: 3.70",
          "Attendance: 60%-79%<br>CGPA: 3.70",
          "Attendance: 60%-79%<br>CGPA: 3.70",
          "Attendance: 60%-79%<br>CGPA: 3.70",
          "Attendance: 80%-100%<br>CGPA: 3.70",
          "Attendance: 80%-100%<br>CGPA: 3.71",
          "Attendance: 80%-100%<br>CGPA: 3.71",
          "Attendance: 80%-100%<br>CGPA: 3.71",
          "Attendance: 80%-100%<br>CGPA: 3.71",
          "Attendance: 80%-100%<br>CGPA: 3.74",
          "Attendance: 80%-100%<br>CGPA: 3.74",
          "Attendance: 80%-100%<br>CGPA: 3.74",
          "Attendance: 80%-100%<br>CGPA: 3.74",
          "Attendance: 80%-100%<br>CGPA: 3.74",
          "Attendance: 80%-100%<br>CGPA: 3.74",
          "Attendance: 80%-100%<br>CGPA: 3.75",
          "Attendance: 60%-79%<br>CGPA: 3.75",
          "Attendance: 80%-100%<br>CGPA: 3.75",
          "Attendance: 80%-100%<br>CGPA: 3.75",
          "Attendance: 80%-100%<br>CGPA: 3.75",
          "Attendance: 80%-100%<br>CGPA: 3.75",
          "Attendance: 80%-100%<br>CGPA: 3.80",
          "Attendance: 80%-100%<br>CGPA: 3.80",
          "Attendance: 80%-100%<br>CGPA: 3.81",
          "Attendance: 80%-100%<br>CGPA: 3.81",
          "Attendance: 80%-100%<br>CGPA: 3.81",
          "Attendance: 80%-100%<br>CGPA: 3.81",
          "Attendance: 80%-100%<br>CGPA: 3.81",
          "Attendance: 80%-100%<br>CGPA: 3.81",
          "Attendance: 80%-100%<br>CGPA: 3.81",
          "Attendance: 80%-100%<br>CGPA: 3.81",
          "Attendance: 80%-100%<br>CGPA: 3.98",
          "Attendance: 60%-79%<br>CGPA: 4.00",
          "Attendance: 80%-100%<br>CGPA: 4.00",
          "Attendance: 80%-100%<br>CGPA: 4.00",
          "Attendance: 80%-100%<br>CGPA: 4.00",
          "Attendance: 80%-100%<br>CGPA: 4.00",
          "Attendance: 80%-100%<br>CGPA: 4.00",
          "Attendance: 80%-100%<br>CGPA: 4.00",
          "Attendance: 80%-100%<br>CGPA: 4.00",
          "Attendance: 80%-100%<br>CGPA: 4.00",
          "Attendance: 80%-100%<br>CGPA: 4.00",
          "Attendance: 80%-100%<br>CGPA: 4.00",
          "Attendance: 80%-100%<br>CGPA: 3.70",
          "Attendance: 60%-79%<br>CGPA: 3.74",
          "Attendance: 60%-79%<br>CGPA: 3.15",
          "Attendance: 80%-100%<br>CGPA: 3.47",
          "Attendance: 80%-100%<br>CGPA: 3.75",
          "Attendance: 80%-100%<br>CGPA: 3.83",
          "Attendance: 80%-100%<br>CGPA: 3.93",
          "Attendance: 60%-79%<br>CGPA: 2.50",
          "Attendance: 80%-100%<br>CGPA: 3.00",
          "Attendance: 80%-100%<br>CGPA: 3.09",
          "Attendance: 60%-79%<br>CGPA: 3.50",
          "Attendance: 80%-100%<br>CGPA: 3.60",
          "Attendance: 80%-100%<br>CGPA: 3.67",
          "Attendance: 80%-100%<br>CGPA: 3.80",
          "Attendance: 80%-100%<br>CGPA: 2.85",
          "Attendance: 80%-100%<br>CGPA: 3.56",
          "Attendance: 80%-100%<br>CGPA: 3.68"
         ],
         "type": "scatter3d",
         "visible": false,
         "x": {
          "bdata": "AwMAAgMAAAAAAgIAAAICAgICAgICAAACAgICAgACAQEBAQICAQIBAQIBAgEBAQIBAQEBAQEBAQEBAgEBAwICAgECAgEBAQMBAQEBAQICAgMDAgICAgICAgICAgICAgICAgICAgICAgICAgICAgICAgICAgICAgICAgICAgICAQEBAQEBAQEBAQEBAQEBAQEBAgECAgICAwMDAgICAgIBAQEDAgMDAwMDAgICAgIDAwMDAgEBAQMDAQECAQEBAQIBAwMDAwIDAwMCAgICAwEDAwMDAwMDAwICAgICAgICAgICAwICAgIDAgICAwIDAwMCAgMCAgICAwMDAwMDAwMDAwMDAgMDAwMDAwMDAwMDAwMDAwIDAwMDAwMDAwMDAwICAwMDAwIDAwIDAwMDAwM=",
          "dtype": "i1"
         },
         "y": {
          "bdata": "AAAAAAAAAAAAAAAAAAAAAAAAAAAAAAAAAAAAAAAAAAAAAAAAAAAAAAAAAAAAAAAAAAAAAAAAAAAAAAAAAAAAAAAAAAAAAAAAAAAAAAAAAAAAAAAAAAAAAAAAAAAAAAAAAAAAAAAAAAAAAAAAAAAAAAAAAAAAAAAAAAAAAAAAAAAAAAAAAAAAAAAAAAAAAAAAAAAAAAAAAAAAAAAAAAAAAAAAAAAAAAAAAAAAAAAAAAAAAAAAAAAAAAAAAAAAAAAAAAAAAAAAAAAAAAAAAAAAAAAAAAAAAAAAAAAAAAAAAAAAAAAAAAAAAAAAAAAAAAAAAAAAAAAAAAAAAAAAAAAAAAAAAAAAAAAAAAAAAAAAAAAAAAAAAAAAAAAAAAAAAAAAAAAAAAAAAAAAAAAAAAA=",
          "dtype": "i1"
         },
         "z": {
          "bdata": "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",
          "dtype": "f8"
         }
        },
        {
         "hoverinfo": "text",
         "marker": {
          "color": {
           "bdata": "hetRuB6FD0BmZmZmZmYEQAAAAAAAAAZAMzMzMzMzB0AAAAAAAAAIQKRwPQrXowhApHA9CtejCECkcD0K16MIQKRwPQrXowhApHA9CtejCECkcD0K16MIQKRwPQrXowhApHA9CtejCECkcD0K16MIQKRwPQrXowhApHA9CtejCECkcD0K16MIQLgehetRuAhAzczMzMzMCEAzMzMzMzMJQDMzMzMzMwlAMzMzMzMzCUAzMzMzMzMJQDMzMzMzMwlAMzMzMzMzCUAzMzMzMzMJQAAAAAAAAApAAAAAAAAACkAAAAAAAAAKQAAAAAAAAApAAAAAAAAACkAAAAAAAAAKQAAAAAAAAApAAAAAAAAACkAAAAAAAAAKQAAAAAAAAApAAAAAAAAACkAAAAAAAAAKQClcj8L1KApAKVyPwvUoCkApXI/C9SgKQClcj8L1KApAKVyPwvUoCkApXI/C9SgKQClcj8L1KApAZmZmZmZmCkBmZmZmZmYKQHsUrkfhegpAexSuR+F6CkB7FK5H4XoKQHsUrkfhegpAj8L1KFyPCkCkcD0K16MKQKRwPQrXowpApHA9CtejCkCkcD0K16MKQKRwPQrXowpApHA9CtejCkCkcD0K16MKQKRwPQrXowpApHA9CtejCkCkcD0K16MKQM3MzMzMzApACtejcD0KC0AK16NwPQoLQArXo3A9CgtACtejcD0KC0AK16NwPQoLQArXo3A9CgtACtejcD0KC0AK16NwPQoLQIXrUbgehQtAhetRuB6FC0CF61G4HoULQIXrUbgehQtAAAAAAAAADEAAAAAAAAAMQAAAAAAAAAxAAAAAAAAADEAAAAAAAAAMQAAAAAAAAAxAAAAAAAAADEAAAAAAAAAMQAAAAAAAAAxAAAAAAAAADEAAAAAAAAAMQAAAAAAAAAxA4XoUrkfhDEAfhetRuB4NQFyPwvUoXA1AXI/C9ShcDUBcj8L1KFwNQFyPwvUoXA1AXI/C9ShcDUBcj8L1KFwNQIXrUbgehQ1AhetRuB6FDUCamZmZmZkNQJqZmZmZmQ1AmpmZmZmZDUCamZmZmZkNQOxRuB6F6w1A7FG4HoXrDUDsUbgehesNQOxRuB6F6w1AAAAAAAAADkAAAAAAAAAOQAAAAAAAAA5AAAAAAAAADkAAAAAAAAAOQAAAAAAAAA5AAAAAAAAADkAAAAAAAAAOQAAAAAAAAA5AFK5H4XoUDkA9CtejcD0OQGZmZmZmZg5ACtejcD0KD0AfhetRuB4PQEjhehSuRw9ArkfhehSuD0AAAAAAAAAQQAAAAAAAAA5Aw/UoXI/CB0CPwvUoXI8KQJqZmZmZmQtAw/UoXI/CC0B7FK5H4XoMQHE9CtejcA1A7FG4HoXrDUAAAAAAAAACQAAAAAAAABBAhetRuB6FDUBSuB6F61EOQHsUrkfhegpACtejcD0KD0DNzMzMzMwIQFyPwvUoXA1AexSuR+F6DEAAAAAAAAAOQOF6FK5H4Q5A",
           "dtype": "f8"
          },
          "colorbar": {
           "title": {
            "text": "CGPA"
           }
          },
          "colorscale": [
           [
            0,
            "#0d0887"
           ],
           [
            0.1111111111111111,
            "#46039f"
           ],
           [
            0.2222222222222222,
            "#7201a8"
           ],
           [
            0.3333333333333333,
            "#9c179e"
           ],
           [
            0.4444444444444444,
            "#bd3786"
           ],
           [
            0.5555555555555556,
            "#d8576b"
           ],
           [
            0.6666666666666666,
            "#ed7953"
           ],
           [
            0.7777777777777778,
            "#fb9f3a"
           ],
           [
            0.8888888888888888,
            "#fdca26"
           ],
           [
            1,
            "#f0f921"
           ]
          ],
          "opacity": 0.8,
          "size": {
           "bdata": "MzMzMzOzM0AAAAAAAIApQAAAAAAAgCtAAAAAAAAALUAAAAAAAAAuQM3MzMzMzC5AzczMzMzMLkDNzMzMzMwuQM3MzMzMzC5AzczMzMzMLkDNzMzMzMwuQM3MzMzMzC5AzczMzMzMLkDNzMzMzMwuQM3MzMzMzC5AzczMzMzMLkDNzMzMzMwuQGZmZmZm5i5AAAAAAAAAL0AAAAAAAIAvQAAAAAAAgC9AAAAAAACAL0AAAAAAAIAvQAAAAAAAgC9AAAAAAACAL0AAAAAAAIAvQAAAAAAAQDBAAAAAAABAMEAAAAAAAEAwQAAAAAAAQDBAAAAAAABAMEAAAAAAAEAwQAAAAAAAQDBAAAAAAABAMEAAAAAAAEAwQAAAAAAAQDBAAAAAAABAMEAAAAAAAEAwQJqZmZmZWTBAmpmZmZlZMECamZmZmVkwQJqZmZmZWTBAmpmZmZlZMECamZmZmVkwQJqZmZmZWTBAAAAAAACAMEAAAAAAAIAwQM3MzMzMjDBAzczMzMyMMEDNzMzMzIwwQM3MzMzMjDBAmZmZmZmZMEBmZmZmZqYwQGZmZmZmpjBAZmZmZmamMEBmZmZmZqYwQGZmZmZmpjBAZmZmZmamMEBmZmZmZqYwQGZmZmZmpjBAZmZmZmamMEBmZmZmZqYwQAAAAAAAwDBAZmZmZmbmMEBmZmZmZuYwQGZmZmZm5jBAZmZmZmbmMEBmZmZmZuYwQGZmZmZm5jBAZmZmZmbmMEBmZmZmZuYwQDMzMzMzMzFAMzMzMzMzMUAzMzMzMzMxQDMzMzMzMzFAAAAAAACAMUAAAAAAAIAxQAAAAAAAgDFAAAAAAACAMUAAAAAAAIAxQAAAAAAAgDFAAAAAAACAMUAAAAAAAIAxQAAAAAAAgDFAAAAAAACAMUAAAAAAAIAxQAAAAAAAgDFAzczMzMwMMkAzMzMzMzMyQJqZmZmZWTJAmpmZmZlZMkCamZmZmVkyQJqZmZmZWTJAmpmZmZlZMkCamZmZmVkyQDMzMzMzczJAMzMzMzNzMkAAAAAAAIAyQAAAAAAAgDJAAAAAAACAMkAAAAAAAIAyQDQzMzMzszJANDMzMzOzMkA0MzMzM7MyQDQzMzMzszJAAAAAAADAMkAAAAAAAMAyQAAAAAAAwDJAAAAAAADAMkAAAAAAAMAyQAAAAAAAwDJAAAAAAADAMkAAAAAAAMAyQAAAAAAAwDJAzMzMzMzMMkBmZmZmZuYyQAAAAAAAADNAZmZmZmZmM0AzMzMzM3MzQM3MzMzMjDNAzczMzMzMM0AAAAAAAAA0QAAAAAAAwDJANDMzMzOzLUCZmZmZmZkwQAAAAAAAQDFAmpmZmZlZMUDNzMzMzMwxQGdmZmZmZjJANDMzMzOzMkAAAAAAAIAmQAAAAAAAADRAMzMzMzNzMkAzMzMzM/MyQM3MzMzMjDBAZmZmZmZmM0AAAAAAAAAvQJqZmZmZWTJAzczMzMzMMUAAAAAAAMAyQM3MzMzMTDNA",
           "dtype": "f8"
          }
         },
         "mode": "markers",
         "name": "2-3 Hours",
         "text": [
          "Attendance: 80%-100%<br>CGPA: 3.94",
          "Attendance: 80%-100%<br>CGPA: 2.55",
          "Attendance: 80%-100%<br>CGPA: 2.75",
          "Attendance: 60%-79%<br>CGPA: 2.90",
          "Attendance: 80%-100%<br>CGPA: 3.00",
          "Attendance: 80%-100%<br>CGPA: 3.08",
          "Attendance: 60%-79%<br>CGPA: 3.08",
          "Attendance: 60%-79%<br>CGPA: 3.08",
          "Attendance: 60%-79%<br>CGPA: 3.08",
          "Attendance: 60%-79%<br>CGPA: 3.08",
          "Attendance: 60%-79%<br>CGPA: 3.08",
          "Attendance: 60%-79%<br>CGPA: 3.08",
          "Attendance: 60%-79%<br>CGPA: 3.08",
          "Attendance: 60%-79%<br>CGPA: 3.08",
          "Attendance: 60%-79%<br>CGPA: 3.08",
          "Attendance: 60%-79%<br>CGPA: 3.08",
          "Attendance: 60%-79%<br>CGPA: 3.08",
          "Attendance: 80%-100%<br>CGPA: 3.09",
          "Attendance: 80%-100%<br>CGPA: 3.10",
          "Attendance: 60%-79%<br>CGPA: 3.15",
          "Attendance: 60%-79%<br>CGPA: 3.15",
          "Attendance: 60%-79%<br>CGPA: 3.15",
          "Attendance: 60%-79%<br>CGPA: 3.15",
          "Attendance: 60%-79%<br>CGPA: 3.15",
          "Attendance: 60%-79%<br>CGPA: 3.15",
          "Attendance: 60%-79%<br>CGPA: 3.15",
          "Attendance: 60%-79%<br>CGPA: 3.25",
          "Attendance: 60%-79%<br>CGPA: 3.25",
          "Attendance: 60%-79%<br>CGPA: 3.25",
          "Attendance: 60%-79%<br>CGPA: 3.25",
          "Attendance: 60%-79%<br>CGPA: 3.25",
          "Attendance: 60%-79%<br>CGPA: 3.25",
          "Attendance: 60%-79%<br>CGPA: 3.25",
          "Attendance: 60%-79%<br>CGPA: 3.25",
          "Attendance: 60%-79%<br>CGPA: 3.25",
          "Attendance: 60%-79%<br>CGPA: 3.25",
          "Attendance: 60%-79%<br>CGPA: 3.25",
          "Attendance: 60%-79%<br>CGPA: 3.25",
          "Attendance: 80%-100%<br>CGPA: 3.27",
          "Attendance: 60%-79%<br>CGPA: 3.27",
          "Attendance: 60%-79%<br>CGPA: 3.27",
          "Attendance: 60%-79%<br>CGPA: 3.27",
          "Attendance: 60%-79%<br>CGPA: 3.27",
          "Attendance: 60%-79%<br>CGPA: 3.27",
          "Attendance: 60%-79%<br>CGPA: 3.27",
          "Attendance: 60%-79%<br>CGPA: 3.30",
          "Attendance: 60%-79%<br>CGPA: 3.30",
          "Attendance: 60%-79%<br>CGPA: 3.31",
          "Attendance: 60%-79%<br>CGPA: 3.31",
          "Attendance: 60%-79%<br>CGPA: 3.31",
          "Attendance: 60%-79%<br>CGPA: 3.31",
          "Attendance: 60%-79%<br>CGPA: 3.32",
          "Attendance: 80%-100%<br>CGPA: 3.33",
          "Attendance: 60%-79%<br>CGPA: 3.33",
          "Attendance: 60%-79%<br>CGPA: 3.33",
          "Attendance: 60%-79%<br>CGPA: 3.33",
          "Attendance: 60%-79%<br>CGPA: 3.33",
          "Attendance: 60%-79%<br>CGPA: 3.33",
          "Attendance: 60%-79%<br>CGPA: 3.33",
          "Attendance: 60%-79%<br>CGPA: 3.33",
          "Attendance: 60%-79%<br>CGPA: 3.33",
          "Attendance: 60%-79%<br>CGPA: 3.33",
          "Attendance: 60%-79%<br>CGPA: 3.35",
          "Attendance: 60%-79%<br>CGPA: 3.38",
          "Attendance: 60%-79%<br>CGPA: 3.38",
          "Attendance: 60%-79%<br>CGPA: 3.38",
          "Attendance: 60%-79%<br>CGPA: 3.38",
          "Attendance: 60%-79%<br>CGPA: 3.38",
          "Attendance: 60%-79%<br>CGPA: 3.38",
          "Attendance: 60%-79%<br>CGPA: 3.38",
          "Attendance: 60%-79%<br>CGPA: 3.38",
          "Attendance: 80%-100%<br>CGPA: 3.44",
          "Attendance: 60%-79%<br>CGPA: 3.44",
          "Attendance: 60%-79%<br>CGPA: 3.44",
          "Attendance: 60%-79%<br>CGPA: 3.44",
          "Attendance: 80%-100%<br>CGPA: 3.50",
          "Attendance: 80%-100%<br>CGPA: 3.50",
          "Attendance: 80%-100%<br>CGPA: 3.50",
          "Attendance: 80%-100%<br>CGPA: 3.50",
          "Attendance: 80%-100%<br>CGPA: 3.50",
          "Attendance: 60%-79%<br>CGPA: 3.50",
          "Attendance: 60%-79%<br>CGPA: 3.50",
          "Attendance: 60%-79%<br>CGPA: 3.50",
          "Attendance: 60%-79%<br>CGPA: 3.50",
          "Attendance: 60%-79%<br>CGPA: 3.50",
          "Attendance: 60%-79%<br>CGPA: 3.50",
          "Attendance: 60%-79%<br>CGPA: 3.50",
          "Attendance: 80%-100%<br>CGPA: 3.61",
          "Attendance: 80%-100%<br>CGPA: 3.64",
          "Attendance: 60%-79%<br>CGPA: 3.67",
          "Attendance: 60%-79%<br>CGPA: 3.67",
          "Attendance: 60%-79%<br>CGPA: 3.67",
          "Attendance: 60%-79%<br>CGPA: 3.67",
          "Attendance: 60%-79%<br>CGPA: 3.67",
          "Attendance: 60%-79%<br>CGPA: 3.67",
          "Attendance: 80%-100%<br>CGPA: 3.69",
          "Attendance: 80%-100%<br>CGPA: 3.69",
          "Attendance: 80%-100%<br>CGPA: 3.70",
          "Attendance: 80%-100%<br>CGPA: 3.70",
          "Attendance: 80%-100%<br>CGPA: 3.70",
          "Attendance: 80%-100%<br>CGPA: 3.70",
          "Attendance: 80%-100%<br>CGPA: 3.74",
          "Attendance: 80%-100%<br>CGPA: 3.74",
          "Attendance: 80%-100%<br>CGPA: 3.74",
          "Attendance: 80%-100%<br>CGPA: 3.74",
          "Attendance: 80%-100%<br>CGPA: 3.75",
          "Attendance: 80%-100%<br>CGPA: 3.75",
          "Attendance: 80%-100%<br>CGPA: 3.75",
          "Attendance: 80%-100%<br>CGPA: 3.75",
          "Attendance: 80%-100%<br>CGPA: 3.75",
          "Attendance: 80%-100%<br>CGPA: 3.75",
          "Attendance: 80%-100%<br>CGPA: 3.75",
          "Attendance: 80%-100%<br>CGPA: 3.75",
          "Attendance: 80%-100%<br>CGPA: 3.75",
          "Attendance: 80%-100%<br>CGPA: 3.76",
          "Attendance: 80%-100%<br>CGPA: 3.78",
          "Attendance: 80%-100%<br>CGPA: 3.80",
          "Attendance: 80%-100%<br>CGPA: 3.88",
          "Attendance: 80%-100%<br>CGPA: 3.89",
          "Attendance: 80%-100%<br>CGPA: 3.91",
          "Attendance: 80%-100%<br>CGPA: 3.96",
          "Attendance: 80%-100%<br>CGPA: 4.00",
          "Attendance: 80%-100%<br>CGPA: 3.75",
          "Attendance: 80%-100%<br>CGPA: 2.97",
          "Attendance: 80%-100%<br>CGPA: 3.32",
          "Attendance: 60%-79%<br>CGPA: 3.45",
          "Attendance: 80%-100%<br>CGPA: 3.47",
          "Attendance: 80%-100%<br>CGPA: 3.56",
          "Attendance: 80%-100%<br>CGPA: 3.68",
          "Attendance: 80%-100%<br>CGPA: 3.74",
          "Attendance: 40%-59%<br>CGPA: 2.25",
          "Attendance: 80%-100%<br>CGPA: 4.00",
          "Attendance: 80%-100%<br>CGPA: 3.69",
          "Attendance: 60%-79%<br>CGPA: 3.79",
          "Attendance: Below 40%<br>CGPA: 3.31",
          "Attendance: 80%-100%<br>CGPA: 3.88",
          "Attendance: 40%-59%<br>CGPA: 3.10",
          "Attendance: 60%-79%<br>CGPA: 3.67",
          "Attendance: 40%-59%<br>CGPA: 3.56",
          "Attendance: 80%-100%<br>CGPA: 3.75",
          "Attendance: 80%-100%<br>CGPA: 3.86"
         ],
         "type": "scatter3d",
         "visible": false,
         "x": {
          "bdata": "AwMDAgMDAgICAgICAgICAgIDAwICAgICAgICAgICAgICAgICAgIDAgICAgICAgICAgICAgMCAgICAgICAgICAgICAgICAgIDAgICAwMDAwMCAgICAgICAwMCAgICAgIDAwMDAwMDAwMDAwMDAwMDAwMDAwMDAwMDAwMDAwMCAwMDAwEDAwIAAwECAQMD",
          "dtype": "i1"
         },
         "y": {
          "bdata": "AQEBAQEBAQEBAQEBAQEBAQEBAQEBAQEBAQEBAQEBAQEBAQEBAQEBAQEBAQEBAQEBAQEBAQEBAQEBAQEBAQEBAQEBAQEBAQEBAQEBAQEBAQEBAQEBAQEBAQEBAQEBAQEBAQEBAQEBAQEBAQEBAQEBAQEBAQEBAQEBAQEBAQEBAQEBAQEBAQEBAQEBAQEB",
          "dtype": "i1"
         },
         "z": {
          "bdata": "hetRuB6FD0BmZmZmZmYEQAAAAAAAAAZAMzMzMzMzB0AAAAAAAAAIQKRwPQrXowhApHA9CtejCECkcD0K16MIQKRwPQrXowhApHA9CtejCECkcD0K16MIQKRwPQrXowhApHA9CtejCECkcD0K16MIQKRwPQrXowhApHA9CtejCECkcD0K16MIQLgehetRuAhAzczMzMzMCEAzMzMzMzMJQDMzMzMzMwlAMzMzMzMzCUAzMzMzMzMJQDMzMzMzMwlAMzMzMzMzCUAzMzMzMzMJQAAAAAAAAApAAAAAAAAACkAAAAAAAAAKQAAAAAAAAApAAAAAAAAACkAAAAAAAAAKQAAAAAAAAApAAAAAAAAACkAAAAAAAAAKQAAAAAAAAApAAAAAAAAACkAAAAAAAAAKQClcj8L1KApAKVyPwvUoCkApXI/C9SgKQClcj8L1KApAKVyPwvUoCkApXI/C9SgKQClcj8L1KApAZmZmZmZmCkBmZmZmZmYKQHsUrkfhegpAexSuR+F6CkB7FK5H4XoKQHsUrkfhegpAj8L1KFyPCkCkcD0K16MKQKRwPQrXowpApHA9CtejCkCkcD0K16MKQKRwPQrXowpApHA9CtejCkCkcD0K16MKQKRwPQrXowpApHA9CtejCkCkcD0K16MKQM3MzMzMzApACtejcD0KC0AK16NwPQoLQArXo3A9CgtACtejcD0KC0AK16NwPQoLQArXo3A9CgtACtejcD0KC0AK16NwPQoLQIXrUbgehQtAhetRuB6FC0CF61G4HoULQIXrUbgehQtAAAAAAAAADEAAAAAAAAAMQAAAAAAAAAxAAAAAAAAADEAAAAAAAAAMQAAAAAAAAAxAAAAAAAAADEAAAAAAAAAMQAAAAAAAAAxAAAAAAAAADEAAAAAAAAAMQAAAAAAAAAxA4XoUrkfhDEAfhetRuB4NQFyPwvUoXA1AXI/C9ShcDUBcj8L1KFwNQFyPwvUoXA1AXI/C9ShcDUBcj8L1KFwNQIXrUbgehQ1AhetRuB6FDUCamZmZmZkNQJqZmZmZmQ1AmpmZmZmZDUCamZmZmZkNQOxRuB6F6w1A7FG4HoXrDUDsUbgehesNQOxRuB6F6w1AAAAAAAAADkAAAAAAAAAOQAAAAAAAAA5AAAAAAAAADkAAAAAAAAAOQAAAAAAAAA5AAAAAAAAADkAAAAAAAAAOQAAAAAAAAA5AFK5H4XoUDkA9CtejcD0OQGZmZmZmZg5ACtejcD0KD0AfhetRuB4PQEjhehSuRw9ArkfhehSuD0AAAAAAAAAQQAAAAAAAAA5Aw/UoXI/CB0CPwvUoXI8KQJqZmZmZmQtAw/UoXI/CC0B7FK5H4XoMQHE9CtejcA1A7FG4HoXrDUAAAAAAAAACQAAAAAAAABBAhetRuB6FDUBSuB6F61EOQHsUrkfhegpACtejcD0KD0DNzMzMzMwIQFyPwvUoXA1AexSuR+F6DEAAAAAAAAAOQOF6FK5H4Q5A",
          "dtype": "f8"
         }
        },
        {
         "hoverinfo": "text",
         "marker": {
          "color": {
           "bdata": "zczMzMzMCkAj2/l+arwLQM3MzMzMzPw/AAAAAAAAAEAAAAAAAAAEQFK4HoXrUQZAAAAAAAAACEDhehSuR+EIQB+F61G4HgtAAAAAAAAADEAAAAAAAAAMQFK4HoXrUQxAMzMzMzMzDUAzMzMzMzMNQD0K16NwPQ5APQrXo3A9DkBmZmZmZmYOQGZmZmZmZg5AuB6F61G4DkD2KFyPwvUOQArXo3A9Cg9ACtejcD0KD0AK16NwPQoPQArXo3A9Cg9ACtejcD0KD0AK16NwPQoPQHE9CtejcA9AhetRuB6FD0CF61G4HoUPQIXrUbgehQ9AhetRuB6FD0CF61G4HoUPQIXrUbgehQ9AhetRuB6FD0CF61G4HoUPQIXrUbgehQ9AhetRuB6FD0CF61G4HoUPQIXrUbgehQ9AhetRuB6FD0CamZmZmZkPQAAAAAAAABBApHA9CtejCkDNzMzMzMwMQGZmZmZmZg5AXI/C9ShcCUAAAAAAAAAMQAAAAAAAAAxAPQrXo3A9DkCF61G4HoUPQA==",
           "dtype": "f8"
          },
          "colorbar": {
           "title": {
            "text": "CGPA"
           }
          },
          "colorscale": [
           [
            0,
            "#0d0887"
           ],
           [
            0.1111111111111111,
            "#46039f"
           ],
           [
            0.2222222222222222,
            "#7201a8"
           ],
           [
            0.3333333333333333,
            "#9c179e"
           ],
           [
            0.4444444444444444,
            "#bd3786"
           ],
           [
            0.5555555555555556,
            "#d8576b"
           ],
           [
            0.6666666666666666,
            "#ed7953"
           ],
           [
            0.7777777777777778,
            "#fb9f3a"
           ],
           [
            0.8888888888888888,
            "#fdca26"
           ],
           [
            1,
            "#f0f921"
           ]
          ],
          "opacity": 0.8,
          "size": {
           "bdata": "AAAAAADAMED2KFyPwlUxQAAAAAAAACJAAAAAAAAAJEAAAAAAAAApQGZmZmZm5itAAAAAAAAALkCZmZmZmRkvQDMzMzMz8zBAAAAAAACAMUAAAAAAAIAxQDMzMzMzszFAAAAAAABAMkAAAAAAAEAyQGZmZmZm5jJAZmZmZmbmMkAAAAAAAAAzQAAAAAAAADNAMzMzMzMzM0CamZmZmVkzQGZmZmZmZjNAZmZmZmZmM0BmZmZmZmYzQGZmZmZmZjNAZmZmZmZmM0BmZmZmZmYzQGdmZmZmpjNAMzMzMzOzM0AzMzMzM7MzQDMzMzMzszNAMzMzMzOzM0AzMzMzM7MzQDMzMzMzszNAMzMzMzOzM0AzMzMzM7MzQDMzMzMzszNAMzMzMzOzM0AzMzMzM7MzQDMzMzMzszNAMzMzMzOzM0AAAAAAAMAzQAAAAAAAADRAZmZmZmamMEAAAAAAAAAyQAAAAAAAADNAMzMzMzOzL0AAAAAAAIAxQAAAAAAAgDFAZmZmZmbmMkAzMzMzM7MzQA==",
           "dtype": "f8"
          }
         },
         "mode": "markers",
         "name": "0-1 Hour",
         "text": [
          "Attendance: 80%-100%<br>CGPA: 3.35",
          "Attendance: 80%-100%<br>CGPA: 3.47",
          "Attendance: 80%-100%<br>CGPA: 1.80",
          "Attendance: 60%-79%<br>CGPA: 2.00",
          "Attendance: 80%-100%<br>CGPA: 2.50",
          "Attendance: 60%-79%<br>CGPA: 2.79",
          "Attendance: 60%-79%<br>CGPA: 3.00",
          "Attendance: 80%-100%<br>CGPA: 3.11",
          "Attendance: 80%-100%<br>CGPA: 3.39",
          "Attendance: 80%-100%<br>CGPA: 3.50",
          "Attendance: 80%-100%<br>CGPA: 3.50",
          "Attendance: 80%-100%<br>CGPA: 3.54",
          "Attendance: 80%-100%<br>CGPA: 3.65",
          "Attendance: 80%-100%<br>CGPA: 3.65",
          "Attendance: 80%-100%<br>CGPA: 3.78",
          "Attendance: 80%-100%<br>CGPA: 3.78",
          "Attendance: 80%-100%<br>CGPA: 3.80",
          "Attendance: 80%-100%<br>CGPA: 3.80",
          "Attendance: 80%-100%<br>CGPA: 3.84",
          "Attendance: 80%-100%<br>CGPA: 3.87",
          "Attendance: 80%-100%<br>CGPA: 3.88",
          "Attendance: 80%-100%<br>CGPA: 3.88",
          "Attendance: 80%-100%<br>CGPA: 3.88",
          "Attendance: 80%-100%<br>CGPA: 3.88",
          "Attendance: 80%-100%<br>CGPA: 3.88",
          "Attendance: 80%-100%<br>CGPA: 3.88",
          "Attendance: 80%-100%<br>CGPA: 3.93",
          "Attendance: 80%-100%<br>CGPA: 3.94",
          "Attendance: 80%-100%<br>CGPA: 3.94",
          "Attendance: 80%-100%<br>CGPA: 3.94",
          "Attendance: 80%-100%<br>CGPA: 3.94",
          "Attendance: 80%-100%<br>CGPA: 3.94",
          "Attendance: 80%-100%<br>CGPA: 3.94",
          "Attendance: 80%-100%<br>CGPA: 3.94",
          "Attendance: 80%-100%<br>CGPA: 3.94",
          "Attendance: 80%-100%<br>CGPA: 3.94",
          "Attendance: 80%-100%<br>CGPA: 3.94",
          "Attendance: 80%-100%<br>CGPA: 3.94",
          "Attendance: 80%-100%<br>CGPA: 3.94",
          "Attendance: 80%-100%<br>CGPA: 3.94",
          "Attendance: 80%-100%<br>CGPA: 3.95",
          "Attendance: 80%-100%<br>CGPA: 4.00",
          "Attendance: 60%-79%<br>CGPA: 3.33",
          "Attendance: 80%-100%<br>CGPA: 3.60",
          "Attendance: 80%-100%<br>CGPA: 3.80",
          "Attendance: 80%-100%<br>CGPA: 3.17",
          "Attendance: 80%-100%<br>CGPA: 3.50",
          "Attendance: 80%-100%<br>CGPA: 3.50",
          "Attendance: 80%-100%<br>CGPA: 3.78",
          "Attendance: 80%-100%<br>CGPA: 3.94"
         ],
         "type": "scatter3d",
         "visible": false,
         "x": {
          "bdata": "AwMDAgMCAgMDAwMDAwMDAwMDAwMDAwMDAwMDAwMDAwMDAwMDAwMDAwMDAgMDAwMDAwM=",
          "dtype": "i1"
         },
         "y": {
          "bdata": "AgICAgICAgICAgICAgICAgICAgICAgICAgICAgICAgICAgICAgICAgICAgICAgICAgI=",
          "dtype": "i1"
         },
         "z": {
          "bdata": "zczMzMzMCkAj2/l+arwLQM3MzMzMzPw/AAAAAAAAAEAAAAAAAAAEQFK4HoXrUQZAAAAAAAAACEDhehSuR+EIQB+F61G4HgtAAAAAAAAADEAAAAAAAAAMQFK4HoXrUQxAMzMzMzMzDUAzMzMzMzMNQD0K16NwPQ5APQrXo3A9DkBmZmZmZmYOQGZmZmZmZg5AuB6F61G4DkD2KFyPwvUOQArXo3A9Cg9ACtejcD0KD0AK16NwPQoPQArXo3A9Cg9ACtejcD0KD0AK16NwPQoPQHE9CtejcA9AhetRuB6FD0CF61G4HoUPQIXrUbgehQ9AhetRuB6FD0CF61G4HoUPQIXrUbgehQ9AhetRuB6FD0CF61G4HoUPQIXrUbgehQ9AhetRuB6FD0CF61G4HoUPQIXrUbgehQ9AhetRuB6FD0CamZmZmZkPQAAAAAAAABBApHA9CtejCkDNzMzMzMwMQGZmZmZmZg5AXI/C9ShcCUAAAAAAAAAMQAAAAAAAAAxAPQrXo3A9DkCF61G4HoUPQA==",
          "dtype": "f8"
         }
        }
       ],
       "layout": {
        "height": 700,
        "margin": {
         "t": 100
        },
        "scene": {
         "camera": {
          "eye": {
           "x": 1.4,
           "y": 1.4,
           "z": 0.9
          }
         },
         "xaxis": {
          "range": [
           -0.5,
           3.5
          ],
          "ticktext": [
           "Below 40%",
           "40%-59%",
           "60%-79%",
           "80%-100%"
          ],
          "tickvals": [
           0,
           1,
           2,
           3
          ],
          "title": {
           "text": "Attendance Group"
          }
         },
         "yaxis": {
          "range": [
           -0.5,
           2.5
          ],
          "ticktext": [
           "0-1 Hour",
           "2-3 Hours",
           "More than 3 Hours"
          ],
          "tickvals": [
           0,
           1,
           2
          ],
          "title": {
           "text": "Gaming (hours/day)"
          }
         },
         "zaxis": {
          "range": [
           0,
           4.5
          ],
          "title": {
           "text": "Overall Grade (CGPA)"
          }
         }
        },
        "template": {
         "data": {
          "bar": [
           {
            "error_x": {
             "color": "#2a3f5f"
            },
            "error_y": {
             "color": "#2a3f5f"
            },
            "marker": {
             "line": {
              "color": "#E5ECF6",
              "width": 0.5
             },
             "pattern": {
              "fillmode": "overlay",
              "size": 10,
              "solidity": 0.2
             }
            },
            "type": "bar"
           }
          ],
          "barpolar": [
           {
            "marker": {
             "line": {
              "color": "#E5ECF6",
              "width": 0.5
             },
             "pattern": {
              "fillmode": "overlay",
              "size": 10,
              "solidity": 0.2
             }
            },
            "type": "barpolar"
           }
          ],
          "carpet": [
           {
            "aaxis": {
             "endlinecolor": "#2a3f5f",
             "gridcolor": "white",
             "linecolor": "white",
             "minorgridcolor": "white",
             "startlinecolor": "#2a3f5f"
            },
            "baxis": {
             "endlinecolor": "#2a3f5f",
             "gridcolor": "white",
             "linecolor": "white",
             "minorgridcolor": "white",
             "startlinecolor": "#2a3f5f"
            },
            "type": "carpet"
           }
          ],
          "choropleth": [
           {
            "colorbar": {
             "outlinewidth": 0,
             "ticks": ""
            },
            "type": "choropleth"
           }
          ],
          "contour": [
           {
            "colorbar": {
             "outlinewidth": 0,
             "ticks": ""
            },
            "colorscale": [
             [
              0,
              "#0d0887"
             ],
             [
              0.1111111111111111,
              "#46039f"
             ],
             [
              0.2222222222222222,
              "#7201a8"
             ],
             [
              0.3333333333333333,
              "#9c179e"
             ],
             [
              0.4444444444444444,
              "#bd3786"
             ],
             [
              0.5555555555555556,
              "#d8576b"
             ],
             [
              0.6666666666666666,
              "#ed7953"
             ],
             [
              0.7777777777777778,
              "#fb9f3a"
             ],
             [
              0.8888888888888888,
              "#fdca26"
             ],
             [
              1,
              "#f0f921"
             ]
            ],
            "type": "contour"
           }
          ],
          "contourcarpet": [
           {
            "colorbar": {
             "outlinewidth": 0,
             "ticks": ""
            },
            "type": "contourcarpet"
           }
          ],
          "heatmap": [
           {
            "colorbar": {
             "outlinewidth": 0,
             "ticks": ""
            },
            "colorscale": [
             [
              0,
              "#0d0887"
             ],
             [
              0.1111111111111111,
              "#46039f"
             ],
             [
              0.2222222222222222,
              "#7201a8"
             ],
             [
              0.3333333333333333,
              "#9c179e"
             ],
             [
              0.4444444444444444,
              "#bd3786"
             ],
             [
              0.5555555555555556,
              "#d8576b"
             ],
             [
              0.6666666666666666,
              "#ed7953"
             ],
             [
              0.7777777777777778,
              "#fb9f3a"
             ],
             [
              0.8888888888888888,
              "#fdca26"
             ],
             [
              1,
              "#f0f921"
             ]
            ],
            "type": "heatmap"
           }
          ],
          "histogram": [
           {
            "marker": {
             "pattern": {
              "fillmode": "overlay",
              "size": 10,
              "solidity": 0.2
             }
            },
            "type": "histogram"
           }
          ],
          "histogram2d": [
           {
            "colorbar": {
             "outlinewidth": 0,
             "ticks": ""
            },
            "colorscale": [
             [
              0,
              "#0d0887"
             ],
             [
              0.1111111111111111,
              "#46039f"
             ],
             [
              0.2222222222222222,
              "#7201a8"
             ],
             [
              0.3333333333333333,
              "#9c179e"
             ],
             [
              0.4444444444444444,
              "#bd3786"
             ],
             [
              0.5555555555555556,
              "#d8576b"
             ],
             [
              0.6666666666666666,
              "#ed7953"
             ],
             [
              0.7777777777777778,
              "#fb9f3a"
             ],
             [
              0.8888888888888888,
              "#fdca26"
             ],
             [
              1,
              "#f0f921"
             ]
            ],
            "type": "histogram2d"
           }
          ],
          "histogram2dcontour": [
           {
            "colorbar": {
             "outlinewidth": 0,
             "ticks": ""
            },
            "colorscale": [
             [
              0,
              "#0d0887"
             ],
             [
              0.1111111111111111,
              "#46039f"
             ],
             [
              0.2222222222222222,
              "#7201a8"
             ],
             [
              0.3333333333333333,
              "#9c179e"
             ],
             [
              0.4444444444444444,
              "#bd3786"
             ],
             [
              0.5555555555555556,
              "#d8576b"
             ],
             [
              0.6666666666666666,
              "#ed7953"
             ],
             [
              0.7777777777777778,
              "#fb9f3a"
             ],
             [
              0.8888888888888888,
              "#fdca26"
             ],
             [
              1,
              "#f0f921"
             ]
            ],
            "type": "histogram2dcontour"
           }
          ],
          "mesh3d": [
           {
            "colorbar": {
             "outlinewidth": 0,
             "ticks": ""
            },
            "type": "mesh3d"
           }
          ],
          "parcoords": [
           {
            "line": {
             "colorbar": {
              "outlinewidth": 0,
              "ticks": ""
             }
            },
            "type": "parcoords"
           }
          ],
          "pie": [
           {
            "automargin": true,
            "type": "pie"
           }
          ],
          "scatter": [
           {
            "fillpattern": {
             "fillmode": "overlay",
             "size": 10,
             "solidity": 0.2
            },
            "type": "scatter"
           }
          ],
          "scatter3d": [
           {
            "line": {
             "colorbar": {
              "outlinewidth": 0,
              "ticks": ""
             }
            },
            "marker": {
             "colorbar": {
              "outlinewidth": 0,
              "ticks": ""
             }
            },
            "type": "scatter3d"
           }
          ],
          "scattercarpet": [
           {
            "marker": {
             "colorbar": {
              "outlinewidth": 0,
              "ticks": ""
             }
            },
            "type": "scattercarpet"
           }
          ],
          "scattergeo": [
           {
            "marker": {
             "colorbar": {
              "outlinewidth": 0,
              "ticks": ""
             }
            },
            "type": "scattergeo"
           }
          ],
          "scattergl": [
           {
            "marker": {
             "colorbar": {
              "outlinewidth": 0,
              "ticks": ""
             }
            },
            "type": "scattergl"
           }
          ],
          "scattermap": [
           {
            "marker": {
             "colorbar": {
              "outlinewidth": 0,
              "ticks": ""
             }
            },
            "type": "scattermap"
           }
          ],
          "scattermapbox": [
           {
            "marker": {
             "colorbar": {
              "outlinewidth": 0,
              "ticks": ""
             }
            },
            "type": "scattermapbox"
           }
          ],
          "scatterpolar": [
           {
            "marker": {
             "colorbar": {
              "outlinewidth": 0,
              "ticks": ""
             }
            },
            "type": "scatterpolar"
           }
          ],
          "scatterpolargl": [
           {
            "marker": {
             "colorbar": {
              "outlinewidth": 0,
              "ticks": ""
             }
            },
            "type": "scatterpolargl"
           }
          ],
          "scatterternary": [
           {
            "marker": {
             "colorbar": {
              "outlinewidth": 0,
              "ticks": ""
             }
            },
            "type": "scatterternary"
           }
          ],
          "surface": [
           {
            "colorbar": {
             "outlinewidth": 0,
             "ticks": ""
            },
            "colorscale": [
             [
              0,
              "#0d0887"
             ],
             [
              0.1111111111111111,
              "#46039f"
             ],
             [
              0.2222222222222222,
              "#7201a8"
             ],
             [
              0.3333333333333333,
              "#9c179e"
             ],
             [
              0.4444444444444444,
              "#bd3786"
             ],
             [
              0.5555555555555556,
              "#d8576b"
             ],
             [
              0.6666666666666666,
              "#ed7953"
             ],
             [
              0.7777777777777778,
              "#fb9f3a"
             ],
             [
              0.8888888888888888,
              "#fdca26"
             ],
             [
              1,
              "#f0f921"
             ]
            ],
            "type": "surface"
           }
          ],
          "table": [
           {
            "cells": {
             "fill": {
              "color": "#EBF0F8"
             },
             "line": {
              "color": "white"
             }
            },
            "header": {
             "fill": {
              "color": "#C8D4E3"
             },
             "line": {
              "color": "white"
             }
            },
            "type": "table"
           }
          ]
         },
         "layout": {
          "annotationdefaults": {
           "arrowcolor": "#2a3f5f",
           "arrowhead": 0,
           "arrowwidth": 1
          },
          "autotypenumbers": "strict",
          "coloraxis": {
           "colorbar": {
            "outlinewidth": 0,
            "ticks": ""
           }
          },
          "colorscale": {
           "diverging": [
            [
             0,
             "#8e0152"
            ],
            [
             0.1,
             "#c51b7d"
            ],
            [
             0.2,
             "#de77ae"
            ],
            [
             0.3,
             "#f1b6da"
            ],
            [
             0.4,
             "#fde0ef"
            ],
            [
             0.5,
             "#f7f7f7"
            ],
            [
             0.6,
             "#e6f5d0"
            ],
            [
             0.7,
             "#b8e186"
            ],
            [
             0.8,
             "#7fbc41"
            ],
            [
             0.9,
             "#4d9221"
            ],
            [
             1,
             "#276419"
            ]
           ],
           "sequential": [
            [
             0,
             "#0d0887"
            ],
            [
             0.1111111111111111,
             "#46039f"
            ],
            [
             0.2222222222222222,
             "#7201a8"
            ],
            [
             0.3333333333333333,
             "#9c179e"
            ],
            [
             0.4444444444444444,
             "#bd3786"
            ],
            [
             0.5555555555555556,
             "#d8576b"
            ],
            [
             0.6666666666666666,
             "#ed7953"
            ],
            [
             0.7777777777777778,
             "#fb9f3a"
            ],
            [
             0.8888888888888888,
             "#fdca26"
            ],
            [
             1,
             "#f0f921"
            ]
           ],
           "sequentialminus": [
            [
             0,
             "#0d0887"
            ],
            [
             0.1111111111111111,
             "#46039f"
            ],
            [
             0.2222222222222222,
             "#7201a8"
            ],
            [
             0.3333333333333333,
             "#9c179e"
            ],
            [
             0.4444444444444444,
             "#bd3786"
            ],
            [
             0.5555555555555556,
             "#d8576b"
            ],
            [
             0.6666666666666666,
             "#ed7953"
            ],
            [
             0.7777777777777778,
             "#fb9f3a"
            ],
            [
             0.8888888888888888,
             "#fdca26"
            ],
            [
             1,
             "#f0f921"
            ]
           ]
          },
          "colorway": [
           "#636efa",
           "#EF553B",
           "#00cc96",
           "#ab63fa",
           "#FFA15A",
           "#19d3f3",
           "#FF6692",
           "#B6E880",
           "#FF97FF",
           "#FECB52"
          ],
          "font": {
           "color": "#2a3f5f"
          },
          "geo": {
           "bgcolor": "white",
           "lakecolor": "white",
           "landcolor": "#E5ECF6",
           "showlakes": true,
           "showland": true,
           "subunitcolor": "white"
          },
          "hoverlabel": {
           "align": "left"
          },
          "hovermode": "closest",
          "mapbox": {
           "style": "light"
          },
          "paper_bgcolor": "white",
          "plot_bgcolor": "#E5ECF6",
          "polar": {
           "angularaxis": {
            "gridcolor": "white",
            "linecolor": "white",
            "ticks": ""
           },
           "bgcolor": "#E5ECF6",
           "radialaxis": {
            "gridcolor": "white",
            "linecolor": "white",
            "ticks": ""
           }
          },
          "scene": {
           "xaxis": {
            "backgroundcolor": "#E5ECF6",
            "gridcolor": "white",
            "gridwidth": 2,
            "linecolor": "white",
            "showbackground": true,
            "ticks": "",
            "zerolinecolor": "white"
           },
           "yaxis": {
            "backgroundcolor": "#E5ECF6",
            "gridcolor": "white",
            "gridwidth": 2,
            "linecolor": "white",
            "showbackground": true,
            "ticks": "",
            "zerolinecolor": "white"
           },
           "zaxis": {
            "backgroundcolor": "#E5ECF6",
            "gridcolor": "white",
            "gridwidth": 2,
            "linecolor": "white",
            "showbackground": true,
            "ticks": "",
            "zerolinecolor": "white"
           }
          },
          "shapedefaults": {
           "line": {
            "color": "#2a3f5f"
           }
          },
          "ternary": {
           "aaxis": {
            "gridcolor": "white",
            "linecolor": "white",
            "ticks": ""
           },
           "baxis": {
            "gridcolor": "white",
            "linecolor": "white",
            "ticks": ""
           },
           "bgcolor": "#E5ECF6",
           "caxis": {
            "gridcolor": "white",
            "linecolor": "white",
            "ticks": ""
           }
          },
          "title": {
           "x": 0.05
          },
          "xaxis": {
           "automargin": true,
           "gridcolor": "white",
           "linecolor": "white",
           "ticks": "",
           "title": {
            "standoff": 15
           },
           "zerolinecolor": "white",
           "zerolinewidth": 2
          },
          "yaxis": {
           "automargin": true,
           "gridcolor": "white",
           "linecolor": "white",
           "ticks": "",
           "title": {
            "standoff": 15
           },
           "zerolinecolor": "white",
           "zerolinewidth": 2
          }
         }
        },
        "title": {
         "text": "Gaming Group: All"
        },
        "updatemenus": [
         {
          "buttons": [
           {
            "args": [
             {
              "visible": [
               true,
               false,
               false,
               false
              ]
             },
             {
              "title": "Gaming Group: All"
             }
            ],
            "label": "All",
            "method": "update"
           },
           {
            "args": [
             {
              "visible": [
               false,
               true,
               false,
               false
              ]
             },
             {
              "title": "Gaming Group: More than 3 Hours"
             }
            ],
            "label": "More than 3 Hours",
            "method": "update"
           },
           {
            "args": [
             {
              "visible": [
               false,
               false,
               true,
               false
              ]
             },
             {
              "title": "Gaming Group: 2-3 Hours"
             }
            ],
            "label": "2-3 Hours",
            "method": "update"
           },
           {
            "args": [
             {
              "visible": [
               false,
               false,
               false,
               true
              ]
             },
             {
              "title": "Gaming Group: 0-1 Hour"
             }
            ],
            "label": "0-1 Hour",
            "method": "update"
           }
          ],
          "direction": "down",
          "showactive": true,
          "x": 0.05,
          "xanchor": "left",
          "y": 1.15,
          "yanchor": "top"
         },
         {
          "buttons": [
           {
            "args": [
             {
              "scene.dragmode": "orbit"
             }
            ],
            "label": "Free Rotate",
            "method": "relayout"
           },
           {
            "args": [
             {
              "scene.dragmode": "turntable"
             }
            ],
            "label": "Turntable",
            "method": "relayout"
           },
           {
            "args": [
             {
              "scene.dragmode": "zoom"
             }
            ],
            "label": "Zoom Only",
            "method": "relayout"
           },
           {
            "args": [
             {
              "scene.dragmode": false
             }
            ],
            "label": "Static View",
            "method": "relayout"
           }
          ],
          "direction": "right",
          "showactive": true,
          "x": 0.4,
          "xanchor": "left",
          "y": 1.15,
          "yanchor": "top"
         }
        ]
       }
      },
      "image/png": "[encoded data removed]"
     },
     "metadata": {},
     "output_type": "display_data"
    }
   ],
   "source": [
    "import pandas as pd\n",
    "import plotly.express as px\n",
    "import plotly.graph_objects as go\n",
    "\n",
    "# Hieronder laad je de datasets in\n",
    "df1 = pd.read_csv(\"StudentPerformanceFactors.csv\")\n",
    "df2 = pd.read_csv(\"gameandgrade.csv\")\n",
    "df3 = pd.read_csv(\"ResearchInformation3.csv\")\n",
    "import pandas as pd\n",
    "import plotly.graph_objects as go\n",
    "\n",
    "# Load your datasets\n",
    "df1 = pd.read_csv(\"StudentPerformanceFactors.csv\")\n",
    "df2 = pd.read_csv(\"gameandgrade.csv\")\n",
    "df3 = pd.read_csv(\"ResearchInformation3.csv\")\n",
    "\n",
    "# Select dataset with required columns\n",
    "for df_candidate in [df1, df2, df3]:\n",
    "    if {\"Gaming\", \"Attendance\", \"Overall\"}.issubset(df_candidate.columns):\n",
    "        df = df_candidate\n",
    "        break\n",
    "else:\n",
    "    raise ValueError(\"No dataset contains all required columns.\")\n",
    "\n",
    "# Clean and prepare the data\n",
    "df_clean = df[[\"Gaming\", \"Attendance\", \"Overall\"]].dropna().copy()\n",
    "\n",
    "gaming_order = [\"More than 3 Hours\", \"2-3 Hours\", \"0-1 Hour\"]\n",
    "attendance_order = [\"Below 40%\", \"40%-59%\", \"60%-79%\", \"80%-100%\"]\n",
    "\n",
    "df_clean[\"Gaming\"] = pd.Categorical(df_clean[\"Gaming\"], categories=gaming_order, ordered=True)\n",
    "df_clean[\"Attendance\"] = pd.Categorical(df_clean[\"Attendance\"], categories=attendance_order, ordered=True)\n",
    "\n",
    "# Map categories to numeric values\n",
    "df_clean[\"Gaming_num\"] = df_clean[\"Gaming\"].cat.codes\n",
    "df_clean[\"Attendance_num\"] = df_clean[\"Attendance\"].cat.codes\n",
    "\n",
    "# Create main trace (all data)\n",
    "trace_all = go.Scatter3d(\n",
    "    x=df_clean[\"Attendance_num\"],\n",
    "    y=df_clean[\"Gaming_num\"],\n",
    "    z=df_clean[\"Overall\"],\n",
    "    mode='markers',\n",
    "    name=\"All\",\n",
    "    visible=True,\n",
    "    marker=dict(\n",
    "        size=df_clean[\"Overall\"] * 5,\n",
    "        color=df_clean[\"Overall\"],\n",
    "        colorscale=\"Plasma\",\n",
    "        colorbar={\"title\": \"CGPA\"},\n",
    "        opacity=0.8\n",
    "    ),\n",
    "    text=[f\"Attendance: {a}<br>Gaming: {g}<br>CGPA: {c:.2f}\" \n",
    "          for a, g, c in zip(df_clean[\"Attendance\"], df_clean[\"Gaming\"], df_clean[\"Overall\"])],\n",
    "    hoverinfo='text'\n",
    ")\n",
    "\n",
    "# Individual group traces\n",
    "group_traces = []\n",
    "for group in gaming_order:\n",
    "    group_data = df_clean[df_clean[\"Gaming\"] == group]\n",
    "    trace = go.Scatter3d(\n",
    "        x=group_data[\"Attendance_num\"],\n",
    "        y=group_data[\"Gaming_num\"],\n",
    "        z=group_data[\"Overall\"],\n",
    "        mode='markers',\n",
    "        name=group,\n",
    "        visible=False,\n",
    "        marker=dict(\n",
    "            size=group_data[\"Overall\"] * 5,\n",
    "            color=group_data[\"Overall\"],\n",
    "            colorscale=\"Plasma\",\n",
    "            colorbar={\"title\": \"CGPA\"},\n",
    "            opacity=0.8\n",
    "        ),\n",
    "        text=[f\"Attendance: {a}<br>CGPA: {c:.2f}\" \n",
    "              for a, c in zip(group_data[\"Attendance\"], group_data[\"Overall\"])],\n",
    "        hoverinfo='text'\n",
    "    )\n",
    "    group_traces.append(trace)\n",
    "\n",
    "all_traces = [trace_all] + group_traces\n",
    "\n",
    "# Dropdown to filter by group\n",
    "dropdown_buttons = [\n",
    "    dict(\n",
    "        label=\"All\",\n",
    "        method=\"update\",\n",
    "        args=[\n",
    "            {\"visible\": [True] + [False]*len(gaming_order)},\n",
    "            {\"title\": \"Gaming Group: All\"}\n",
    "        ]\n",
    "    )\n",
    "]\n",
    "\n",
    "for i, group in enumerate(gaming_order):\n",
    "    visibility = [False] * (len(gaming_order) + 1)\n",
    "    visibility[i + 1] = True\n",
    "    dropdown_buttons.append(\n",
    "        dict(\n",
    "            label=group,\n",
    "            method=\"update\",\n",
    "            args=[\n",
    "                {\"visible\": visibility},\n",
    "                {\"title\": f\"Gaming Group: {group}\"}\n",
    "            ]\n",
    "        )\n",
    "    )\n",
    "\n",
    "# Dropdown for interaction control\n",
    "movement_buttons = [\n",
    "    dict(\n",
    "        label=\"Free Rotate\",\n",
    "        method=\"relayout\",\n",
    "        args=[{\"scene.dragmode\": \"orbit\"}]\n",
    "    ),\n",
    "    dict(\n",
    "        label=\"Turntable\",\n",
    "        method=\"relayout\",\n",
    "        args=[{\"scene.dragmode\": \"turntable\"}]\n",
    "    ),\n",
    "    dict(\n",
    "        label=\"Zoom Only\",\n",
    "        method=\"relayout\",\n",
    "        args=[{\"scene.dragmode\": \"zoom\"}]\n",
    "    ),\n",
    "    dict(\n",
    "        label=\"Static View\",\n",
    "        method=\"relayout\",\n",
    "        args=[{\"scene.dragmode\": False}]\n",
    "    )\n",
    "]\n",
    "\n",
    "# Layout\n",
    "layout = go.Layout(\n",
    "    title=\"Gaming Group: All\",\n",
    "    scene=dict(\n",
    "        xaxis=dict(\n",
    "            title=\"Attendance Group\",\n",
    "            tickvals=list(range(len(attendance_order))),\n",
    "            ticktext=attendance_order,\n",
    "            range=[-0.5, 3.5]\n",
    "        ),\n",
    "        yaxis=dict(\n",
    "            title=\"Gaming (hours/day)\",\n",
    "            tickvals=list(range(len(gaming_order))),\n",
    "            ticktext=gaming_order[::-1],\n",
    "            range=[-0.5, 2.5]\n",
    "        ),\n",
    "        zaxis=dict(\n",
    "            title=\"Overall Grade (CGPA)\",\n",
    "            range=[0, 4.5]\n",
    "        ),\n",
    "        camera=dict(\n",
    "            eye=dict(x=1.4, y=1.4, z=0.9)\n",
    "        )\n",
    "    ),\n",
    "    updatemenus=[\n",
    "        dict(\n",
    "            buttons=dropdown_buttons,\n",
    "            direction=\"down\",\n",
    "            showactive=True,\n",
    "            x=0.05,\n",
    "            xanchor=\"left\",\n",
    "            y=1.15,\n",
    "            yanchor=\"top\"\n",
    "        ),\n",
    "        dict(\n",
    "            buttons=movement_buttons,\n",
    "            direction=\"right\",\n",
    "            showactive=True,\n",
    "            x=0.4,\n",
    "            xanchor=\"left\",\n",
    "            y=1.15,\n",
    "            yanchor=\"top\"\n",
    "        )\n",
    "    ],\n",
    "    margin=dict(t=100),\n",
    "    height=700\n",
    ")\n",
    "\n",
    "# Final figure\n",
    "fig = go.Figure(data=all_traces, layout=layout)\n",
    "fig.show()\n"
   ]
  }
 ],
 "metadata": {
  "kernelspec": {
   "display_name": "Python 3",
   "language": "python",
   "name": "python3"
  },
  "language_info": {
   "codemirror_mode": {
    "name": "ipython",
    "version": 3
   },
   "file_extension": ".py",
   "mimetype": "text/x-python",
   "name": "python",
   "nbconvert_exporter": "python",
   "pygments_lexer": "ipython3",
   "version": "3.12.7"
  }
 },
 "nbformat": 4,
 "nbformat_minor": 5
}
