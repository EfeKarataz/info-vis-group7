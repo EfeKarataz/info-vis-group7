{
 "cells": [
  {
   "cell_type": "markdown",
   "id": "cf7178f4",
   "metadata": {},
   "source": [
    "# Theme\n",
    "\n",
    "De onderstaande code activeert een aangepast thema dat je bovenaan elk notebook kunt toevoegen door `%run set_theme.ipynb` toe te voegen, bij voorkeur als eerste cel om consistentie te behouden."
   ]
  },
  {
   "cell_type": "code",
   "execution_count": 2,
   "id": "0d5637c5",
   "metadata": {},
   "outputs": [],
   "source": [
    "import plotly.io as pio\n",
    "\n",
    "if 'custom' not in pio.templates:\n",
    "    transparent = 'rgba(0,0,0,0)'\n",
    "    bgcolor = '#ffffff'      # Witte achtergrond\n",
    "    black = '#2e3d49'        # Donkere tekstkleur\n",
    "    teal = '#2ca8a0'         # Primaire kleur (links, hover)\n",
    "    soft_blue = '#bcdffb'    # NIEUWE zachte blauwe kleur voor randen\n",
    "    code_bg = '#e0f7f4'      # Achtergrondkleur van codeblokken\n",
    "\n",
    "    pio.templates['custom'] = pio.templates['plotly']\n",
    "\n",
    "    pio.templates['custom'].update({\n",
    "        'layout': {\n",
    "            'paper_bgcolor': bgcolor,\n",
    "            'plot_bgcolor': transparent,\n",
    "            'font': {'color': black},\n",
    "            'xaxis': {\n",
    "                'zerolinecolor': soft_blue,\n",
    "                'gridcolor': soft_blue,\n",
    "                'zerolinewidth': 1,\n",
    "            },\n",
    "            'yaxis': {\n",
    "                'zerolinecolor': soft_blue,\n",
    "                'gridcolor': soft_blue,\n",
    "                'zerolinewidth': 1\n",
    "            },\n",
    "            'colorway': [teal, black, soft_blue],\n",
    "            'title': {'x': 0.5},\n",
    "            'annotationdefaults': {'arrowcolor': black},\n",
    "        }\n",
    "    })\n",
    "\n",
    "    pio.templates.default = 'custom'\n"
   ]
  }
 ],
 "metadata": {
  "kernelspec": {
   "display_name": "Python 3 (ipykernel)",
   "language": "python",
   "name": "python3"
  },
  "language_info": {
   "codemirror_mode": {
    "name": "ipython",
    "version": 3
   },
   "file_extension": ".py",
   "mimetype": "text/x-python",
   "name": "python",
   "nbconvert_exporter": "python",
   "pygments_lexer": "ipython3",
   "version": "3.12.3"
  }
 },
 "nbformat": 4,
 "nbformat_minor": 5
}
