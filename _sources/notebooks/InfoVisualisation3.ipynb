{
 "cells": [
  {
   "cell_type": "code",
   "execution_count": 1,
   "id": "3844d83d-ea38-4116-b0eb-24573e6d41d8",
   "metadata": {},
   "outputs": [
    {
     "data": {
      "application/vnd.plotly.v1+json": {
       "config": {
        "plotlyServerURL": "https://plot.ly"
       },
       "data": [
        {
         "alignmentgroup": "True",
         "hovertemplate": "Dagelijkse gametijd=0-1 Hour<br>Dagelijkse studietijd=%{x}<br>Gemiddeld cijfer (CGPA)=%{y}<extra></extra>",
         "legendgroup": "0-1 Hour",
         "marker": {
          "color": "#636efa"
         },
         "name": "0-1 Hour",
         "notched": false,
         "offsetgroup": "0-1 Hour",
         "orientation": "v",
         "showlegend": true,
         "type": "box",
         "x": [
          "More than 3 Hours",
          "0-1 Hour",
          "0-1 Hour",
          "0-1 Hour",
          "2-3 Hours",
          "0-1 Hour",
          "0-1 Hour",
          "More than 3 Hours",
          "0-1 Hour",
          "0-1 Hour",
          "0-1 Hour",
          "0-1 Hour",
          "2-3 Hours",
          "2-3 Hours",
          "2-3 Hours",
          "2-3 Hours",
          "0-1 Hour",
          "0-1 Hour",
          "0-1 Hour",
          "2-3 Hours",
          "2-3 Hours",
          "2-3 Hours",
          "2-3 Hours",
          "2-3 Hours",
          "2-3 Hours",
          "2-3 Hours",
          "0-1 Hour",
          "2-3 Hours",
          "2-3 Hours",
          "2-3 Hours",
          "2-3 Hours",
          "2-3 Hours",
          "2-3 Hours",
          "2-3 Hours",
          "2-3 Hours",
          "2-3 Hours",
          "2-3 Hours",
          "2-3 Hours",
          "2-3 Hours",
          "2-3 Hours",
          "More than 3 Hours",
          "0-1 Hour",
          "2-3 Hours",
          "2-3 Hours",
          "0-1 Hour",
          "2-3 Hours",
          "0-1 Hour",
          "More than 3 Hours",
          "2-3 Hours",
          "2-3 Hours"
         ],
         "x0": " ",
         "xaxis": "x",
         "y": {
          "bdata": "zczMzMzMCkAj2/l+arwLQM3MzMzMzPw/AAAAAAAAAEAAAAAAAAAEQFK4HoXrUQZAAAAAAAAACEDhehSuR+EIQB+F61G4HgtAAAAAAAAADEAAAAAAAAAMQFK4HoXrUQxAMzMzMzMzDUAzMzMzMzMNQD0K16NwPQ5APQrXo3A9DkBmZmZmZmYOQGZmZmZmZg5AuB6F61G4DkD2KFyPwvUOQArXo3A9Cg9ACtejcD0KD0AK16NwPQoPQArXo3A9Cg9ACtejcD0KD0AK16NwPQoPQHE9CtejcA9AhetRuB6FD0CF61G4HoUPQIXrUbgehQ9AhetRuB6FD0CF61G4HoUPQIXrUbgehQ9AhetRuB6FD0CF61G4HoUPQIXrUbgehQ9AhetRuB6FD0CF61G4HoUPQIXrUbgehQ9AhetRuB6FD0CamZmZmZkPQAAAAAAAABBApHA9CtejCkDNzMzMzMwMQGZmZmZmZg5AXI/C9ShcCUAAAAAAAAAMQAAAAAAAAAxAPQrXo3A9DkCF61G4HoUPQA==",
          "dtype": "f8"
         },
         "y0": " ",
         "yaxis": "y"
        },
        {
         "alignmentgroup": "True",
         "hovertemplate": "Dagelijkse gametijd=2-3 Hours<br>Dagelijkse studietijd=%{x}<br>Gemiddeld cijfer (CGPA)=%{y}<extra></extra>",
         "legendgroup": "2-3 Hours",
         "marker": {
          "color": "#EF553B"
         },
         "name": "2-3 Hours",
         "notched": false,
         "offsetgroup": "2-3 Hours",
         "orientation": "v",
         "showlegend": true,
         "type": "box",
         "x": [
          "0-1 Hour",
          "0-1 Hour",
          "2-3 Hours",
          "0-1 Hour",
          "0-1 Hour",
          "2-3 Hours",
          "2-3 Hours",
          "2-3 Hours",
          "2-3 Hours",
          "2-3 Hours",
          "2-3 Hours",
          "2-3 Hours",
          "2-3 Hours",
          "2-3 Hours",
          "2-3 Hours",
          "2-3 Hours",
          "2-3 Hours",
          "2-3 Hours",
          "0-1 Hour",
          "2-3 Hours",
          "2-3 Hours",
          "2-3 Hours",
          "2-3 Hours",
          "2-3 Hours",
          "2-3 Hours",
          "2-3 Hours",
          "2-3 Hours",
          "2-3 Hours",
          "2-3 Hours",
          "2-3 Hours",
          "2-3 Hours",
          "2-3 Hours",
          "2-3 Hours",
          "2-3 Hours",
          "2-3 Hours",
          "2-3 Hours",
          "2-3 Hours",
          "2-3 Hours",
          "More than 3 Hours",
          "2-3 Hours",
          "2-3 Hours",
          "2-3 Hours",
          "2-3 Hours",
          "2-3 Hours",
          "2-3 Hours",
          "2-3 Hours",
          "2-3 Hours",
          "2-3 Hours",
          "2-3 Hours",
          "2-3 Hours",
          "2-3 Hours",
          "2-3 Hours",
          "2-3 Hours",
          "2-3 Hours",
          "2-3 Hours",
          "2-3 Hours",
          "2-3 Hours",
          "2-3 Hours",
          "2-3 Hours",
          "2-3 Hours",
          "2-3 Hours",
          "2-3 Hours",
          "2-3 Hours",
          "2-3 Hours",
          "2-3 Hours",
          "2-3 Hours",
          "2-3 Hours",
          "2-3 Hours",
          "2-3 Hours",
          "2-3 Hours",
          "2-3 Hours",
          "2-3 Hours",
          "2-3 Hours",
          "2-3 Hours",
          "2-3 Hours",
          "0-1 Hour",
          "0-1 Hour",
          "0-1 Hour",
          "0-1 Hour",
          "0-1 Hour",
          "2-3 Hours",
          "2-3 Hours",
          "2-3 Hours",
          "2-3 Hours",
          "2-3 Hours",
          "2-3 Hours",
          "2-3 Hours",
          "More than 3 Hours",
          "0-1 Hour",
          "2-3 Hours",
          "2-3 Hours",
          "2-3 Hours",
          "2-3 Hours",
          "2-3 Hours",
          "2-3 Hours",
          "More than 3 Hours",
          "More than 3 Hours",
          "More than 3 Hours",
          "2-3 Hours",
          "0-1 Hour",
          "0-1 Hour",
          "2-3 Hours",
          "2-3 Hours",
          "More than 3 Hours",
          "2-3 Hours",
          "2-3 Hours",
          "0-1 Hour",
          "0-1 Hour",
          "0-1 Hour",
          "0-1 Hour",
          "0-1 Hour",
          "0-1 Hour",
          "0-1 Hour",
          "0-1 Hour",
          "2-3 Hours",
          "2-3 Hours",
          "0-1 Hour",
          "2-3 Hours",
          "2-3 Hours",
          "More than 3 Hours",
          "2-3 Hours",
          "2-3 Hours",
          "2-3 Hours",
          "2-3 Hours",
          "2-3 Hours",
          "0-1 Hour",
          "More than 3 Hours",
          "0-1 Hour",
          "0-1 Hour",
          "2-3 Hours",
          "0-1 Hour",
          "0-1 Hour",
          "More than 3 Hours",
          "0-1 Hour",
          "0-1 Hour",
          "2-3 Hours",
          "More than 3 Hours",
          "2-3 Hours",
          "0-1 Hour",
          "More than 3 Hours",
          "More than 3 Hours"
         ],
         "x0": " ",
         "xaxis": "x",
         "y": {
          "bdata": "hetRuB6FD0BmZmZmZmYEQAAAAAAAAAZAMzMzMzMzB0AAAAAAAAAIQKRwPQrXowhApHA9CtejCECkcD0K16MIQKRwPQrXowhApHA9CtejCECkcD0K16MIQKRwPQrXowhApHA9CtejCECkcD0K16MIQKRwPQrXowhApHA9CtejCECkcD0K16MIQLgehetRuAhAzczMzMzMCEAzMzMzMzMJQDMzMzMzMwlAMzMzMzMzCUAzMzMzMzMJQDMzMzMzMwlAMzMzMzMzCUAzMzMzMzMJQAAAAAAAAApAAAAAAAAACkAAAAAAAAAKQAAAAAAAAApAAAAAAAAACkAAAAAAAAAKQAAAAAAAAApAAAAAAAAACkAAAAAAAAAKQAAAAAAAAApAAAAAAAAACkAAAAAAAAAKQClcj8L1KApAKVyPwvUoCkApXI/C9SgKQClcj8L1KApAKVyPwvUoCkApXI/C9SgKQClcj8L1KApAZmZmZmZmCkBmZmZmZmYKQHsUrkfhegpAexSuR+F6CkB7FK5H4XoKQHsUrkfhegpAj8L1KFyPCkCkcD0K16MKQKRwPQrXowpApHA9CtejCkCkcD0K16MKQKRwPQrXowpApHA9CtejCkCkcD0K16MKQKRwPQrXowpApHA9CtejCkCkcD0K16MKQM3MzMzMzApACtejcD0KC0AK16NwPQoLQArXo3A9CgtACtejcD0KC0AK16NwPQoLQArXo3A9CgtACtejcD0KC0AK16NwPQoLQIXrUbgehQtAhetRuB6FC0CF61G4HoULQIXrUbgehQtAAAAAAAAADEAAAAAAAAAMQAAAAAAAAAxAAAAAAAAADEAAAAAAAAAMQAAAAAAAAAxAAAAAAAAADEAAAAAAAAAMQAAAAAAAAAxAAAAAAAAADEAAAAAAAAAMQAAAAAAAAAxA4XoUrkfhDEAfhetRuB4NQFyPwvUoXA1AXI/C9ShcDUBcj8L1KFwNQFyPwvUoXA1AXI/C9ShcDUBcj8L1KFwNQIXrUbgehQ1AhetRuB6FDUCamZmZmZkNQJqZmZmZmQ1AmpmZmZmZDUCamZmZmZkNQOxRuB6F6w1A7FG4HoXrDUDsUbgehesNQOxRuB6F6w1AAAAAAAAADkAAAAAAAAAOQAAAAAAAAA5AAAAAAAAADkAAAAAAAAAOQAAAAAAAAA5AAAAAAAAADkAAAAAAAAAOQAAAAAAAAA5AFK5H4XoUDkA9CtejcD0OQGZmZmZmZg5ACtejcD0KD0AfhetRuB4PQEjhehSuRw9ArkfhehSuD0AAAAAAAAAQQAAAAAAAAA5Aw/UoXI/CB0CPwvUoXI8KQJqZmZmZmQtAw/UoXI/CC0B7FK5H4XoMQHE9CtejcA1A7FG4HoXrDUAAAAAAAAACQAAAAAAAABBAhetRuB6FDUBSuB6F61EOQHsUrkfhegpACtejcD0KD0DNzMzMzMwIQFyPwvUoXA1AexSuR+F6DEAAAAAAAAAOQOF6FK5H4Q5A",
          "dtype": "f8"
         },
         "y0": " ",
         "yaxis": "y"
        },
        {
         "alignmentgroup": "True",
         "hovertemplate": "Dagelijkse gametijd=More than 3 Hours<br>Dagelijkse studietijd=%{x}<br>Gemiddeld cijfer (CGPA)=%{y}<extra></extra>",
         "legendgroup": "More than 3 Hours",
         "marker": {
          "color": "#00cc96"
         },
         "name": "More than 3 Hours",
         "notched": false,
         "offsetgroup": "More than 3 Hours",
         "orientation": "v",
         "showlegend": true,
         "type": "box",
         "x": [
          "0-1 Hour",
          "More than 3 Hours",
          "0-1 Hour",
          "0-1 Hour",
          "2-3 Hours",
          "0-1 Hour",
          "0-1 Hour",
          "0-1 Hour",
          "0-1 Hour",
          "0-1 Hour",
          "0-1 Hour",
          "0-1 Hour",
          "0-1 Hour",
          "0-1 Hour",
          "0-1 Hour",
          "0-1 Hour",
          "0-1 Hour",
          "0-1 Hour",
          "0-1 Hour",
          "0-1 Hour",
          "0-1 Hour",
          "0-1 Hour",
          "0-1 Hour",
          "0-1 Hour",
          "2-3 Hours",
          "2-3 Hours",
          "0-1 Hour",
          "0-1 Hour",
          "0-1 Hour",
          "2-3 Hours",
          "0-1 Hour",
          "0-1 Hour",
          "0-1 Hour",
          "0-1 Hour",
          "0-1 Hour",
          "0-1 Hour",
          "0-1 Hour",
          "2-3 Hours",
          "0-1 Hour",
          "0-1 Hour",
          "2-3 Hours",
          "0-1 Hour",
          "2-3 Hours",
          "0-1 Hour",
          "0-1 Hour",
          "0-1 Hour",
          "More than 3 Hours",
          "0-1 Hour",
          "0-1 Hour",
          "0-1 Hour",
          "0-1 Hour",
          "0-1 Hour",
          "0-1 Hour",
          "0-1 Hour",
          "0-1 Hour",
          "0-1 Hour",
          "0-1 Hour",
          "2-3 Hours",
          "0-1 Hour",
          "0-1 Hour",
          "0-1 Hour",
          "2-3 Hours",
          "2-3 Hours",
          "0-1 Hour",
          "0-1 Hour",
          "2-3 Hours",
          "2-3 Hours",
          "0-1 Hour",
          "0-1 Hour",
          "0-1 Hour",
          "More than 3 Hours",
          "0-1 Hour",
          "0-1 Hour",
          "0-1 Hour",
          "0-1 Hour",
          "0-1 Hour",
          "0-1 Hour",
          "0-1 Hour",
          "0-1 Hour",
          "More than 3 Hours",
          "0-1 Hour",
          "0-1 Hour",
          "0-1 Hour",
          "0-1 Hour",
          "0-1 Hour",
          "0-1 Hour",
          "0-1 Hour",
          "0-1 Hour",
          "0-1 Hour",
          "0-1 Hour",
          "0-1 Hour",
          "0-1 Hour",
          "0-1 Hour",
          "0-1 Hour",
          "0-1 Hour",
          "0-1 Hour",
          "0-1 Hour",
          "0-1 Hour",
          "0-1 Hour",
          "0-1 Hour",
          "0-1 Hour",
          "0-1 Hour",
          "0-1 Hour",
          "0-1 Hour",
          "0-1 Hour",
          "0-1 Hour",
          "0-1 Hour",
          "0-1 Hour",
          "0-1 Hour",
          "0-1 Hour",
          "0-1 Hour",
          "0-1 Hour",
          "More than 3 Hours",
          "0-1 Hour",
          "0-1 Hour",
          "0-1 Hour",
          "0-1 Hour",
          "0-1 Hour",
          "0-1 Hour",
          "0-1 Hour",
          "0-1 Hour",
          "0-1 Hour",
          "0-1 Hour",
          "0-1 Hour",
          "0-1 Hour",
          "0-1 Hour",
          "0-1 Hour",
          "0-1 Hour",
          "0-1 Hour",
          "0-1 Hour",
          "0-1 Hour",
          "0-1 Hour",
          "0-1 Hour",
          "0-1 Hour",
          "0-1 Hour",
          "0-1 Hour",
          "0-1 Hour",
          "0-1 Hour",
          "0-1 Hour",
          "0-1 Hour",
          "0-1 Hour",
          "0-1 Hour",
          "0-1 Hour",
          "0-1 Hour",
          "0-1 Hour",
          "0-1 Hour",
          "0-1 Hour",
          "0-1 Hour",
          "0-1 Hour",
          "2-3 Hours",
          "2-3 Hours",
          "0-1 Hour",
          "More than 3 Hours",
          "0-1 Hour",
          "0-1 Hour",
          "0-1 Hour",
          "0-1 Hour",
          "0-1 Hour",
          "2-3 Hours",
          "2-3 Hours",
          "2-3 Hours",
          "2-3 Hours",
          "2-3 Hours",
          "2-3 Hours",
          "2-3 Hours",
          "2-3 Hours",
          "2-3 Hours",
          "2-3 Hours",
          "2-3 Hours",
          "2-3 Hours",
          "2-3 Hours",
          "2-3 Hours",
          "2-3 Hours",
          "More than 3 Hours",
          "2-3 Hours",
          "2-3 Hours",
          "2-3 Hours",
          "0-1 Hour",
          "2-3 Hours",
          "2-3 Hours",
          "2-3 Hours",
          "2-3 Hours",
          "2-3 Hours",
          "2-3 Hours",
          "2-3 Hours",
          "0-1 Hour",
          "2-3 Hours",
          "2-3 Hours",
          "2-3 Hours",
          "2-3 Hours",
          "0-1 Hour",
          "2-3 Hours",
          "More than 3 Hours",
          "More than 3 Hours",
          "More than 3 Hours",
          "More than 3 Hours",
          "2-3 Hours",
          "More than 3 Hours",
          "2-3 Hours",
          "More than 3 Hours",
          "2-3 Hours",
          "2-3 Hours",
          "0-1 Hour",
          "More than 3 Hours",
          "0-1 Hour",
          "0-1 Hour",
          "2-3 Hours",
          "0-1 Hour",
          "More than 3 Hours",
          "0-1 Hour",
          "More than 3 Hours",
          "More than 3 Hours",
          "More than 3 Hours",
          "More than 3 Hours",
          "2-3 Hours",
          "2-3 Hours",
          "2-3 Hours",
          "2-3 Hours",
          "2-3 Hours",
          "2-3 Hours",
          "2-3 Hours",
          "2-3 Hours",
          "2-3 Hours",
          "2-3 Hours",
          "2-3 Hours",
          "0-1 Hour",
          "2-3 Hours",
          "2-3 Hours",
          "2-3 Hours",
          "2-3 Hours",
          "2-3 Hours",
          "2-3 Hours",
          "2-3 Hours",
          "2-3 Hours",
          "2-3 Hours",
          "2-3 Hours",
          "2-3 Hours",
          "2-3 Hours",
          "2-3 Hours",
          "2-3 Hours",
          "2-3 Hours",
          "2-3 Hours",
          "2-3 Hours",
          "2-3 Hours",
          "2-3 Hours",
          "2-3 Hours",
          "0-1 Hour",
          "2-3 Hours",
          "2-3 Hours",
          "2-3 Hours",
          "2-3 Hours",
          "2-3 Hours",
          "2-3 Hours",
          "2-3 Hours",
          "2-3 Hours",
          "2-3 Hours",
          "2-3 Hours",
          "0-1 Hour",
          "0-1 Hour",
          "0-1 Hour",
          "0-1 Hour",
          "0-1 Hour",
          "0-1 Hour",
          "0-1 Hour",
          "0-1 Hour",
          "More than 3 Hours",
          "More than 3 Hours",
          "More than 3 Hours",
          "More than 3 Hours",
          "More than 3 Hours",
          "More than 3 Hours",
          "More than 3 Hours",
          "More than 3 Hours",
          "0-1 Hour",
          "0-1 Hour",
          "2-3 Hours",
          "0-1 Hour",
          "0-1 Hour",
          "0-1 Hour",
          "0-1 Hour",
          "0-1 Hour",
          "0-1 Hour",
          "0-1 Hour",
          "0-1 Hour",
          "0-1 Hour",
          "0-1 Hour",
          "0-1 Hour",
          "More than 3 Hours",
          "0-1 Hour",
          "More than 3 Hours",
          "2-3 Hours",
          "2-3 Hours",
          "2-3 Hours",
          "2-3 Hours",
          "2-3 Hours",
          "2-3 Hours",
          "2-3 Hours",
          "2-3 Hours",
          "0-1 Hour",
          "More than 3 Hours",
          "More than 3 Hours",
          "0-1 Hour"
         ],
         "x0": " ",
         "xaxis": "x",
         "y": {
          "bdata": "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",
          "dtype": "f8"
         },
         "y0": " ",
         "yaxis": "y"
        }
       ],
       "layout": {
        "boxmode": "group",
        "height": 600,
        "legend": {
         "title": {
          "text": "Dagelijkse gametijd"
         },
         "tracegroupgap": 0
        },
        "template": {
         "data": {
          "bar": [
           {
            "error_x": {
             "color": "#2a3f5f"
            },
            "error_y": {
             "color": "#2a3f5f"
            },
            "marker": {
             "line": {
              "color": "#E5ECF6",
              "width": 0.5
             },
             "pattern": {
              "fillmode": "overlay",
              "size": 10,
              "solidity": 0.2
             }
            },
            "type": "bar"
           }
          ],
          "barpolar": [
           {
            "marker": {
             "line": {
              "color": "#E5ECF6",
              "width": 0.5
             },
             "pattern": {
              "fillmode": "overlay",
              "size": 10,
              "solidity": 0.2
             }
            },
            "type": "barpolar"
           }
          ],
          "carpet": [
           {
            "aaxis": {
             "endlinecolor": "#2a3f5f",
             "gridcolor": "white",
             "linecolor": "white",
             "minorgridcolor": "white",
             "startlinecolor": "#2a3f5f"
            },
            "baxis": {
             "endlinecolor": "#2a3f5f",
             "gridcolor": "white",
             "linecolor": "white",
             "minorgridcolor": "white",
             "startlinecolor": "#2a3f5f"
            },
            "type": "carpet"
           }
          ],
          "choropleth": [
           {
            "colorbar": {
             "outlinewidth": 0,
             "ticks": ""
            },
            "type": "choropleth"
           }
          ],
          "contour": [
           {
            "colorbar": {
             "outlinewidth": 0,
             "ticks": ""
            },
            "colorscale": [
             [
              0,
              "#0d0887"
             ],
             [
              0.1111111111111111,
              "#46039f"
             ],
             [
              0.2222222222222222,
              "#7201a8"
             ],
             [
              0.3333333333333333,
              "#9c179e"
             ],
             [
              0.4444444444444444,
              "#bd3786"
             ],
             [
              0.5555555555555556,
              "#d8576b"
             ],
             [
              0.6666666666666666,
              "#ed7953"
             ],
             [
              0.7777777777777778,
              "#fb9f3a"
             ],
             [
              0.8888888888888888,
              "#fdca26"
             ],
             [
              1,
              "#f0f921"
             ]
            ],
            "type": "contour"
           }
          ],
          "contourcarpet": [
           {
            "colorbar": {
             "outlinewidth": 0,
             "ticks": ""
            },
            "type": "contourcarpet"
           }
          ],
          "heatmap": [
           {
            "colorbar": {
             "outlinewidth": 0,
             "ticks": ""
            },
            "colorscale": [
             [
              0,
              "#0d0887"
             ],
             [
              0.1111111111111111,
              "#46039f"
             ],
             [
              0.2222222222222222,
              "#7201a8"
             ],
             [
              0.3333333333333333,
              "#9c179e"
             ],
             [
              0.4444444444444444,
              "#bd3786"
             ],
             [
              0.5555555555555556,
              "#d8576b"
             ],
             [
              0.6666666666666666,
              "#ed7953"
             ],
             [
              0.7777777777777778,
              "#fb9f3a"
             ],
             [
              0.8888888888888888,
              "#fdca26"
             ],
             [
              1,
              "#f0f921"
             ]
            ],
            "type": "heatmap"
           }
          ],
          "histogram": [
           {
            "marker": {
             "pattern": {
              "fillmode": "overlay",
              "size": 10,
              "solidity": 0.2
             }
            },
            "type": "histogram"
           }
          ],
          "histogram2d": [
           {
            "colorbar": {
             "outlinewidth": 0,
             "ticks": ""
            },
            "colorscale": [
             [
              0,
              "#0d0887"
             ],
             [
              0.1111111111111111,
              "#46039f"
             ],
             [
              0.2222222222222222,
              "#7201a8"
             ],
             [
              0.3333333333333333,
              "#9c179e"
             ],
             [
              0.4444444444444444,
              "#bd3786"
             ],
             [
              0.5555555555555556,
              "#d8576b"
             ],
             [
              0.6666666666666666,
              "#ed7953"
             ],
             [
              0.7777777777777778,
              "#fb9f3a"
             ],
             [
              0.8888888888888888,
              "#fdca26"
             ],
             [
              1,
              "#f0f921"
             ]
            ],
            "type": "histogram2d"
           }
          ],
          "histogram2dcontour": [
           {
            "colorbar": {
             "outlinewidth": 0,
             "ticks": ""
            },
            "colorscale": [
             [
              0,
              "#0d0887"
             ],
             [
              0.1111111111111111,
              "#46039f"
             ],
             [
              0.2222222222222222,
              "#7201a8"
             ],
             [
              0.3333333333333333,
              "#9c179e"
             ],
             [
              0.4444444444444444,
              "#bd3786"
             ],
             [
              0.5555555555555556,
              "#d8576b"
             ],
             [
              0.6666666666666666,
              "#ed7953"
             ],
             [
              0.7777777777777778,
              "#fb9f3a"
             ],
             [
              0.8888888888888888,
              "#fdca26"
             ],
             [
              1,
              "#f0f921"
             ]
            ],
            "type": "histogram2dcontour"
           }
          ],
          "mesh3d": [
           {
            "colorbar": {
             "outlinewidth": 0,
             "ticks": ""
            },
            "type": "mesh3d"
           }
          ],
          "parcoords": [
           {
            "line": {
             "colorbar": {
              "outlinewidth": 0,
              "ticks": ""
             }
            },
            "type": "parcoords"
           }
          ],
          "pie": [
           {
            "automargin": true,
            "type": "pie"
           }
          ],
          "scatter": [
           {
            "fillpattern": {
             "fillmode": "overlay",
             "size": 10,
             "solidity": 0.2
            },
            "type": "scatter"
           }
          ],
          "scatter3d": [
           {
            "line": {
             "colorbar": {
              "outlinewidth": 0,
              "ticks": ""
             }
            },
            "marker": {
             "colorbar": {
              "outlinewidth": 0,
              "ticks": ""
             }
            },
            "type": "scatter3d"
           }
          ],
          "scattercarpet": [
           {
            "marker": {
             "colorbar": {
              "outlinewidth": 0,
              "ticks": ""
             }
            },
            "type": "scattercarpet"
           }
          ],
          "scattergeo": [
           {
            "marker": {
             "colorbar": {
              "outlinewidth": 0,
              "ticks": ""
             }
            },
            "type": "scattergeo"
           }
          ],
          "scattergl": [
           {
            "marker": {
             "colorbar": {
              "outlinewidth": 0,
              "ticks": ""
             }
            },
            "type": "scattergl"
           }
          ],
          "scattermap": [
           {
            "marker": {
             "colorbar": {
              "outlinewidth": 0,
              "ticks": ""
             }
            },
            "type": "scattermap"
           }
          ],
          "scattermapbox": [
           {
            "marker": {
             "colorbar": {
              "outlinewidth": 0,
              "ticks": ""
             }
            },
            "type": "scattermapbox"
           }
          ],
          "scatterpolar": [
           {
            "marker": {
             "colorbar": {
              "outlinewidth": 0,
              "ticks": ""
             }
            },
            "type": "scatterpolar"
           }
          ],
          "scatterpolargl": [
           {
            "marker": {
             "colorbar": {
              "outlinewidth": 0,
              "ticks": ""
             }
            },
            "type": "scatterpolargl"
           }
          ],
          "scatterternary": [
           {
            "marker": {
             "colorbar": {
              "outlinewidth": 0,
              "ticks": ""
             }
            },
            "type": "scatterternary"
           }
          ],
          "surface": [
           {
            "colorbar": {
             "outlinewidth": 0,
             "ticks": ""
            },
            "colorscale": [
             [
              0,
              "#0d0887"
             ],
             [
              0.1111111111111111,
              "#46039f"
             ],
             [
              0.2222222222222222,
              "#7201a8"
             ],
             [
              0.3333333333333333,
              "#9c179e"
             ],
             [
              0.4444444444444444,
              "#bd3786"
             ],
             [
              0.5555555555555556,
              "#d8576b"
             ],
             [
              0.6666666666666666,
              "#ed7953"
             ],
             [
              0.7777777777777778,
              "#fb9f3a"
             ],
             [
              0.8888888888888888,
              "#fdca26"
             ],
             [
              1,
              "#f0f921"
             ]
            ],
            "type": "surface"
           }
          ],
          "table": [
           {
            "cells": {
             "fill": {
              "color": "#EBF0F8"
             },
             "line": {
              "color": "white"
             }
            },
            "header": {
             "fill": {
              "color": "#C8D4E3"
             },
             "line": {
              "color": "white"
             }
            },
            "type": "table"
           }
          ]
         },
         "layout": {
          "annotationdefaults": {
           "arrowcolor": "#2a3f5f",
           "arrowhead": 0,
           "arrowwidth": 1
          },
          "autotypenumbers": "strict",
          "coloraxis": {
           "colorbar": {
            "outlinewidth": 0,
            "ticks": ""
           }
          },
          "colorscale": {
           "diverging": [
            [
             0,
             "#8e0152"
            ],
            [
             0.1,
             "#c51b7d"
            ],
            [
             0.2,
             "#de77ae"
            ],
            [
             0.3,
             "#f1b6da"
            ],
            [
             0.4,
             "#fde0ef"
            ],
            [
             0.5,
             "#f7f7f7"
            ],
            [
             0.6,
             "#e6f5d0"
            ],
            [
             0.7,
             "#b8e186"
            ],
            [
             0.8,
             "#7fbc41"
            ],
            [
             0.9,
             "#4d9221"
            ],
            [
             1,
             "#276419"
            ]
           ],
           "sequential": [
            [
             0,
             "#0d0887"
            ],
            [
             0.1111111111111111,
             "#46039f"
            ],
            [
             0.2222222222222222,
             "#7201a8"
            ],
            [
             0.3333333333333333,
             "#9c179e"
            ],
            [
             0.4444444444444444,
             "#bd3786"
            ],
            [
             0.5555555555555556,
             "#d8576b"
            ],
            [
             0.6666666666666666,
             "#ed7953"
            ],
            [
             0.7777777777777778,
             "#fb9f3a"
            ],
            [
             0.8888888888888888,
             "#fdca26"
            ],
            [
             1,
             "#f0f921"
            ]
           ],
           "sequentialminus": [
            [
             0,
             "#0d0887"
            ],
            [
             0.1111111111111111,
             "#46039f"
            ],
            [
             0.2222222222222222,
             "#7201a8"
            ],
            [
             0.3333333333333333,
             "#9c179e"
            ],
            [
             0.4444444444444444,
             "#bd3786"
            ],
            [
             0.5555555555555556,
             "#d8576b"
            ],
            [
             0.6666666666666666,
             "#ed7953"
            ],
            [
             0.7777777777777778,
             "#fb9f3a"
            ],
            [
             0.8888888888888888,
             "#fdca26"
            ],
            [
             1,
             "#f0f921"
            ]
           ]
          },
          "colorway": [
           "#636efa",
           "#EF553B",
           "#00cc96",
           "#ab63fa",
           "#FFA15A",
           "#19d3f3",
           "#FF6692",
           "#B6E880",
           "#FF97FF",
           "#FECB52"
          ],
          "font": {
           "color": "#2a3f5f"
          },
          "geo": {
           "bgcolor": "white",
           "lakecolor": "white",
           "landcolor": "#E5ECF6",
           "showlakes": true,
           "showland": true,
           "subunitcolor": "white"
          },
          "hoverlabel": {
           "align": "left"
          },
          "hovermode": "closest",
          "mapbox": {
           "style": "light"
          },
          "paper_bgcolor": "white",
          "plot_bgcolor": "#E5ECF6",
          "polar": {
           "angularaxis": {
            "gridcolor": "white",
            "linecolor": "white",
            "ticks": ""
           },
           "bgcolor": "#E5ECF6",
           "radialaxis": {
            "gridcolor": "white",
            "linecolor": "white",
            "ticks": ""
           }
          },
          "scene": {
           "xaxis": {
            "backgroundcolor": "#E5ECF6",
            "gridcolor": "white",
            "gridwidth": 2,
            "linecolor": "white",
            "showbackground": true,
            "ticks": "",
            "zerolinecolor": "white"
           },
           "yaxis": {
            "backgroundcolor": "#E5ECF6",
            "gridcolor": "white",
            "gridwidth": 2,
            "linecolor": "white",
            "showbackground": true,
            "ticks": "",
            "zerolinecolor": "white"
           },
           "zaxis": {
            "backgroundcolor": "#E5ECF6",
            "gridcolor": "white",
            "gridwidth": 2,
            "linecolor": "white",
            "showbackground": true,
            "ticks": "",
            "zerolinecolor": "white"
           }
          },
          "shapedefaults": {
           "line": {
            "color": "#2a3f5f"
           }
          },
          "ternary": {
           "aaxis": {
            "gridcolor": "white",
            "linecolor": "white",
            "ticks": ""
           },
           "baxis": {
            "gridcolor": "white",
            "linecolor": "white",
            "ticks": ""
           },
           "bgcolor": "#E5ECF6",
           "caxis": {
            "gridcolor": "white",
            "linecolor": "white",
            "ticks": ""
           }
          },
          "title": {
           "x": 0.05
          },
          "xaxis": {
           "automargin": true,
           "gridcolor": "white",
           "linecolor": "white",
           "ticks": "",
           "title": {
            "standoff": 15
           },
           "zerolinecolor": "white",
           "zerolinewidth": 2
          },
          "yaxis": {
           "automargin": true,
           "gridcolor": "white",
           "linecolor": "white",
           "ticks": "",
           "title": {
            "standoff": 15
           },
           "zerolinecolor": "white",
           "zerolinewidth": 2
          }
         }
        },
        "title": {
         "text": "Overall Score vs Study Preparation (gekleurd op Gamegedrag)"
        },
        "xaxis": {
         "anchor": "y",
         "categoryarray": [
          "0-1 Hour",
          "2-3 Hours",
          "More than 3 Hours"
         ],
         "categoryorder": "array",
         "domain": [
          0,
          1
         ],
         "title": {
          "text": "Dagelijkse studietijd"
         }
        },
        "yaxis": {
         "anchor": "x",
         "domain": [
          0,
          1
         ],
         "title": {
          "text": "Gemiddeld cijfer (CGPA)"
         }
        }
       }
      },
      "image/png": "[encoded data removed]"
     },
     "metadata": {},
     "output_type": "display_data"
    }
   ],
   "source": [
    "# Run eerste deze cel voordat je verder gaat \n",
    "\n",
    "# Hieronder de libraries die gebruikt zijn\n",
    "import pandas as pd\n",
    "import plotly.express as px\n",
    "import plotly.graph_objects as go\n",
    "\n",
    "# Hieronder laad je de datasets in\n",
    "df1 = pd.read_csv(\"StudentPerformanceFactors.csv\")\n",
    "df2 = pd.read_csv(\"gameandgrade.csv\")\n",
    "df3 = pd.read_csv(\"ResearchInformation3.csv\")\n",
    "\n",
    "# Letop! krijg je een error dan heb je waarschijlijk een andere naam aan de datasets gegeven \n",
    "# of de datasets staan niet in dezelfde map als de jupyter notebook \n",
    "# Houd alleen relevante kolommen over\n",
    "df3_clean = df3[[\"Preparation\", \"Gaming\", \"Overall\"]].dropna().copy()\n",
    "\n",
    "# Standaardiseer de ordinale categorieën\n",
    "prep_order = [\"0-1 Hour\", \"2-3 Hours\", \"More than 3 Hours\"]\n",
    "game_order = [\"0-1 Hour\", \"2-3 Hours\", \"More than 3 Hours\"]\n",
    "\n",
    "df3_clean = df3_clean[df3_clean[\"Preparation\"].isin(prep_order)]\n",
    "df3_clean[\"Preparation\"] = pd.Categorical(df3_clean[\"Preparation\"], categories=prep_order, ordered=True)\n",
    "\n",
    "df3_clean = df3_clean[df3_clean[\"Gaming\"].isin(game_order)]\n",
    "df3_clean[\"Gaming\"] = pd.Categorical(df3_clean[\"Gaming\"], categories=game_order, ordered=True)\n",
    "\n",
    "# Layout aanpassen\n",
    "fig = px.box(\n",
    "    df3_clean,\n",
    "    x=\"Preparation\",\n",
    "    y=\"Overall\",\n",
    "    color=\"Gaming\",\n",
    "    title=\"Overall Score vs Study Preparation (gekleurd op Gamegedrag)\",\n",
    "    labels={\n",
    "        \"Preparation\": \"Dagelijkse studietijd\",\n",
    "        \"Overall\": \"Gemiddeld cijfer (CGPA)\",\n",
    "        \"Gaming\": \"Dagelijkse gametijd\"\n",
    "    },\n",
    "    category_orders={\n",
    "        \"Preparation\": prep_order,\n",
    "        \"Gaming\": game_order\n",
    "    },\n",
    "    height= 600\n",
    ")\n",
    "\n",
    "fig.show()"
   ]
  }
 ],
 "metadata": {
  "kernelspec": {
   "display_name": "Python 3",
   "language": "python",
   "name": "python3"
  },
  "language_info": {
   "codemirror_mode": {
    "name": "ipython",
    "version": 3
   },
   "file_extension": ".py",
   "mimetype": "text/x-python",
   "name": "python",
   "nbconvert_exporter": "python",
   "pygments_lexer": "ipython3",
   "version": "3.12.7"
  }
 },
 "nbformat": 4,
 "nbformat_minor": 5
}
