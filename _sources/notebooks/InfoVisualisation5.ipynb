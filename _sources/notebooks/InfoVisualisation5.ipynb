{
 "cells": [
  {
   "cell_type": "code",
   "execution_count": 2,
   "id": "f6b19a23-2522-496a-adc5-5c9cae582519",
   "metadata": {},
   "outputs": [
    {
     "data": {
      "application/vnd.plotly.v1+json": {
       "config": {
        "plotlyServerURL": "https://plot.ly"
       },
       "data": [
        {
         "alignmentgroup": "True",
         "hovertemplate": "Playing Years=%{x}<br>Grade=%{y}<extra></extra>",
         "legendgroup": "1",
         "marker": {
          "color": "rgb(228,26,28)"
         },
         "name": "1",
         "notched": false,
         "offsetgroup": "1",
         "orientation": "v",
         "showlegend": true,
         "type": "box",
         "x": {
          "bdata": "AQEBAQEBAQEBAQEBAQEBAQEBAQEBAQEBAQEBAQEBAQEBAQEBAQEBAQEBAQEBAQEBAQEBAQEBAQEBAQEBAQEBAQEBAQEBAQEBAQEBAQEBAQEBAQEBAQEBAQEBAQEBAQEBAQEBAQEBAQEBAQEBAQEBAQEBAQEBAQEBAQEBAQEBAQEBAQEBAQEBAQEBAQEBAQEBAQEBAQEBAQEBAQEBAQEBAQEBAQEBAQEBAQEBAQEBAQEBAQEBAQEBAQEBAQEBAQEBAQ==",
          "dtype": "i1"
         },
         "x0": " ",
         "xaxis": "x",
         "y": {
          "bdata": "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",
          "dtype": "f8"
         },
         "y0": " ",
         "yaxis": "y"
        },
        {
         "alignmentgroup": "True",
         "hovertemplate": "Playing Years=%{x}<br>Grade=%{y}<extra></extra>",
         "legendgroup": "0",
         "marker": {
          "color": "rgb(55,126,184)"
         },
         "name": "0",
         "notched": false,
         "offsetgroup": "0",
         "orientation": "v",
         "showlegend": true,
         "type": "box",
         "x": {
          "bdata": "AAAAAAAAAAAAAAAAAAAAAAAAAAAAAAAAAAAAAAAAAAAAAAAAAAAAAAAAAAAAAAAAAAAAAAAAAAAAAAAAAAAAAAAAAAAAAAAAAAAAAAAAAAAAAAAAAAAAAAAAAAAAAAAAAAAAAAAAAAAAAAAAAAAAAAAAAAAAAAAAAAAAAAAAAAAAAAAAAAAAAAAAAAAAAAAAAAAAAAAAAAAAAAAAAAAAAAAAAAAAAAAAAAAAAAAAAAAAAAAAAAAAAAAAAAAAAAAAAAAAAAAAAAAAAAAAAAAAAAAAAAAAAAAAAAAAAAAAAAAAAAA=",
          "dtype": "i1"
         },
         "x0": " ",
         "xaxis": "x",
         "y": {
          "bdata": "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",
          "dtype": "f8"
         },
         "y0": " ",
         "yaxis": "y"
        },
        {
         "alignmentgroup": "True",
         "hovertemplate": "Playing Years=%{x}<br>Grade=%{y}<extra></extra>",
         "legendgroup": "3",
         "marker": {
          "color": "rgb(77,175,74)"
         },
         "name": "3",
         "notched": false,
         "offsetgroup": "3",
         "orientation": "v",
         "showlegend": true,
         "type": "box",
         "x": {
          "bdata": "AwMDAwMDAwMDAwMDAwMDAwMDAwMDAwMDAwMDAwMDAwMDAwMDAwMDAwMDAwMDAwMDAwMDAwMDAwMDAwMDAwMDAwMDAwMDAwMDAwMDAwMDAwMDAwMDAwMDAwMDAwMDAwMDAwMD",
          "dtype": "i1"
         },
         "x0": " ",
         "xaxis": "x",
         "y": {
          "bdata": "AAAAAACARkAAAAAAAIBWQAAAAAAAwFdAAAAAAADAVUAAAAAAAIBGQAAAAAAAAFlAAAAAAABAUEAAAAAAAIBWQAAAAAAAAElAAAAAAABAUEAAAAAAAABEQAAAAAAAAEhAAAAAAACAVkAAAAAAAIBVQAAAAAAAgEtAAAAAAAAAVEAAAAAAAIBRQAAAAAAAgExAAAAAAAAAVEAAAAAAAABUQAAAAAAAAFNAAAAAAACAS0AAAAAAAIBYQAAAAAAAAElAAAAAAAAATkAAAAAAAMBSQAAAAAAAAElAAAAAAACAS0AAAAAAAIBRQAAAAAAAAElAAAAAAAAASUAAAAAAAIBWQAAAAAAAQFVAAAAAAAAATkAAAAAAAIBRQAAAAAAAIFRAAAAAAADAV0AAAAAAAMBLQAAAAAAAAFRAAAAAAADAUkAAAAAAAABKQAAAAAAAAE9AAAAAAAAAVkAAAAAAAABOQAAAAAAAwFdAAAAAAABAUEAAAAAAAKBWQAAAAAAAgFZAAAAAAAAAWUAAAAAAAABZQAAAAAAAAFdAAAAAAABAVUAAAAAAAEBVQAAAAAAAAFlAAAAAAAAAWUAAAAAAAABZQAAAAAAAAFlAAAAAAAAAWUAAAAAAAABZQAAAAAAAAFlAAAAAAABAVUAAAAAAAIBWQAAAAAAAgFZAAAAAAAAAWUAAAAAAAABZQAAAAAAAAFlAAAAAAAAASUAAAAAAAABSQAAAAAAAQFVAAAAAAACAU0AzMzMzM1NVQAAAAAAAIFdAAAAAAAAATkAAAAAAAIBWQAAAAAAAAFRAAAAAAABAUEAAAAAAAEBVQAAAAAAAwFNAAAAAAACAVkAAAAAAAIBWQAAAAAAAAFlAAAAAAAAAWUAAAAAAAEBVQAAAAAAAgFFAAAAAAAAAVEAAAAAAAIBWQAAAAAAAgFZAAAAAAACAUUAAAAAAAEBTQAAAAAAAAFhAAAAAAABAVUAAAAAAAEBVQAAAAAAAgEtAAAAAAAAATkAAAAAAAMBLQAAAAAAAQFZAAAAAAAAAREAAAAAAAIBMQAAAAAAAAElA",
          "dtype": "f8"
         },
         "y0": " ",
         "yaxis": "y"
        },
        {
         "alignmentgroup": "True",
         "hovertemplate": "Playing Years=%{x}<br>Grade=%{y}<extra></extra>",
         "legendgroup": "2",
         "marker": {
          "color": "rgb(152,78,163)"
         },
         "name": "2",
         "notched": false,
         "offsetgroup": "2",
         "orientation": "v",
         "showlegend": true,
         "type": "box",
         "x": {
          "bdata": "AgICAgICAgICAgICAgICAgICAgICAgICAgICAgICAgICAgICAgICAgICAgICAgICAgICAgICAgICAgICAgICAgICAgICAgICAgICAgICAgICAgICAgICAgICAgICAgICAgICAgICAgICAgICAgICAgICAgICAgICAgICAgICAgICAgICAgICAgI=",
          "dtype": "i1"
         },
         "x0": " ",
         "xaxis": "x",
         "y": {
          "bdata": "AAAAAAAATkAAAAAAAABWQAAAAAAAAElAAAAAAACAVkAAAAAAAMBXQAAAAAAAQFBAAAAAAACATkAAAAAAAEBTQAAAAAAAAFlAAAAAAACAUUAAAAAAAABUQAAAAAAAwFdAAAAAAAAATkAAAAAAAIBGQAAAAAAAwFNAAAAAAACAUUAAAAAAAABUQAAAAAAAgFNAAAAAAAAAUEDNzMzMzCxFQAAAAAAAQFBAAAAAAACAT0AAAAAAAIBWQAAAAAAAgFFAAAAAAACAS0AAAAAAAMBSQAAAAAAAwFZAAAAAAADAUUAAAAAAAABWQAAAAAAAwFJAAAAAAACAUUAAAAAAAMBVQArXo3A9alhAAAAAAACgWEAAAAAAAGBQQAAAAAAAgFZAAAAAAABgV0DNzMzMzKxVQAAAAAAAgFFAAAAAAAAATkAAAAAAAABJQAAAAAAAgFFAAAAAAADAUEAAAAAAAEBVQAAAAAAAgFFAAAAAAACAVkAAAAAAAIBWQAAAAAAAAFRAAAAAAADAUkAAAAAAAIBUQAAAAAAAAE5AAAAAAADAWEAAAAAAAIBRQAAAAAAAAE5AAAAAAACAWEAAAAAAAIBLQAAAAAAAYFZAAAAAAADAUkAAAAAAAABJQAAAAAAAAFRAAAAAAABAVUAAAAAAAIBFQAAAAAAAQFBAAAAAAACAUUAAAAAAAMBSQAAAAAAAwFFAAAAAAAAAWUAAAAAAAABZQAAAAAAAAFlAAAAAAABAVUAAAAAAAABZQAAAAAAAQFVAAAAAAABAVUAAAAAAAABZQAAAAAAAwFJAAAAAAAAAWUAAAAAAAIBWQAAAAAAAAFlAAAAAAAAAWUAAAAAAAIBWQAAAAAAAAFlAAAAAAABAVUAAAAAAAMBVQAAAAAAAwFdAAAAAAABAUEAAAAAAAMBSQAAAAAAAoFRAAAAAAAAATkAAAAAAAABEQAAAAAAAwFJAAAAAAACAUUAAAAAAAEBQQAAAAAAAAElAAAAAAACAQEAAAAAAAABJQGZmZmZmBlJAAAAAAAAARECF61G4HhVUQAAAAAAAgFZAAAAAAABATEAAAAAAAEBQQAAAAAAAgFFAAAAAAACAS0AAAAAAAABZQDMzMzMz81NAAAAAAACAUUAAAAAAAABUQAAAAAAAAE5AAAAAAADAVUAAAAAAAMBSQAAAAAAA4FBAAAAAAACAVkAAAAAAAABZQAAAAAAAAFlAAAAAAAAAVEAAAAAAAABUQAAAAAAAAE5AAAAAAACgWEAAAAAAACBSQAAAAAAAAE9AAAAAAAAAV0AAAAAAAOBXQAAAAAAAAFRAAAAAAACAT0AAAAAAAEBVQAAAAAAAAFRAAAAAAABAUEAAAAAAAABOQAAAAAAAgFNAAAAAAABAUEAAAAAAAIBLQAAAAAAAAElAAAAAAADARkAAAAAAAABZQAAAAAAAwFJAAAAAAABAU0AAAAAAAABZQA==",
          "dtype": "f8"
         },
         "y0": " ",
         "yaxis": "y"
        },
        {
         "alignmentgroup": "True",
         "hovertemplate": "Playing Years=%{x}<br>Grade=%{y}<extra></extra>",
         "legendgroup": "4",
         "marker": {
          "color": "rgb(255,127,0)"
         },
         "name": "4",
         "notched": false,
         "offsetgroup": "4",
         "orientation": "v",
         "showlegend": true,
         "type": "box",
         "x": {
          "bdata": "BAQEBAQEBAQEBAQEBAQEBAQEBAQEBAQEBAQEBAQEBAQEBAQEBAQEBAQEBAQEBAQEBAQEBAQEBAQEBAQEBAQEBAQEBAQEBAQEBAQEBAQEBAQEBAQEBAQEBAQEBAQEBAQEBAQEBAQEBAQEBAQEBAQEBAQE",
          "dtype": "i1"
         },
         "x0": " ",
         "xaxis": "x",
         "y": {
          "bdata": "AAAAAAAAVEAAAAAAAIBSQAAAAAAAIFNAAAAAAAAAVEAAAAAAAABJQAAAAAAAQFFAAAAAAAAATkAAAAAAAABOQAAAAAAAQFBAAAAAAADAV0AAAAAAAABUQAAAAAAAQFBAAAAAAACAUUAAAAAAAABXQAAAAAAAQFVAAAAAAABAV0AAAAAAAEBTQAAAAAAAQFdAAAAAAACAS0AAAAAAAABJQAAAAAAAQFBAAAAAAAAASUAAAAAAAIBLQAAAAAAAAERAAAAAAAAASUAAAAAAAIBGQAAAAAAAwFFAAAAAAACAUUAAAAAAAMBVQAAAAAAAgFVAAAAAAACARkAAAAAAAABWQAAAAAAAAFRAAAAAAADAUEAAAAAAAEBSQAAAAAAAAERAAAAAAAAAVEAAAAAAAIBLQAAAAAAAAElAAAAAAACAS0AAAAAAAMBSQAAAAAAAwFJAAAAAAAAAVEAAAAAAAIBYQAAAAAAAwFhAAAAAAADAVUAAAAAAAIBRQAAAAAAAAE5AAAAAAACAUUAAAAAAAIBWQAAAAAAA4FRAAAAAAACAUUAAAAAAAMBQQAAAAAAAAFZAAAAAAADAUkAAAAAAAMBWQAAAAAAAQFdAAAAAAAAASUAAAAAAAABUQAAAAAAAQFVAAAAAAADAV0AAAAAAAEBVQAAAAAAAQFBAAAAAAAAAREAAAAAAAABZQAAAAAAAAFRAAAAAAAAAWUAAAAAAAABUQAAAAAAAgFZAAAAAAABAVUAAAAAAAABZQAAAAAAAAFlAAAAAAACAUUAAAAAAAABZQAAAAAAAAFlAAAAAAABAWEAAAAAAAIBWQAAAAAAAAFRAAAAAAADAV0AAAAAAAABZQAAAAAAAAFlAAAAAAAAAWUAAAAAAAABOQAAAAAAAAFlAAAAAAAAAWUAAAAAAAMBVQAAAAAAAQFBAAAAAAACAT0AAAAAAAABJQAAAAAAAAFNAAAAAAAAAVEAAAAAAAEBQQAAAAAAAgFZAAAAAAABAVUAAAAAAAABUQAAAAAAAQFBAAAAAAABATkAAAAAAAIBLQAAAAAAAgFBAAAAAAADgVEAAAAAAAIBRQAAAAAAAwFJAZmZmZmamS0AAAAAAAIBRQAAAAAAAgFFAAAAAAAAATkAAAAAAAABOQAAAAAAAQFBAAAAAAACATkAAAAAAAIBRQAAAAAAAgFFAAAAAAADAUkAAAAAAAIBUQAAAAAAAAFlA",
          "dtype": "f8"
         },
         "y0": " ",
         "yaxis": "y"
        }
       ],
       "layout": {
        "boxmode": "overlay",
        "legend": {
         "title": {
          "text": "Playing Years"
         },
         "tracegroupgap": 0
        },
        "margin": {
         "t": 60
        },
        "showlegend": false,
        "template": {
         "data": {
          "bar": [
           {
            "error_x": {
             "color": "#2a3f5f"
            },
            "error_y": {
             "color": "#2a3f5f"
            },
            "marker": {
             "line": {
              "color": "#E5ECF6",
              "width": 0.5
             },
             "pattern": {
              "fillmode": "overlay",
              "size": 10,
              "solidity": 0.2
             }
            },
            "type": "bar"
           }
          ],
          "barpolar": [
           {
            "marker": {
             "line": {
              "color": "#E5ECF6",
              "width": 0.5
             },
             "pattern": {
              "fillmode": "overlay",
              "size": 10,
              "solidity": 0.2
             }
            },
            "type": "barpolar"
           }
          ],
          "carpet": [
           {
            "aaxis": {
             "endlinecolor": "#2a3f5f",
             "gridcolor": "white",
             "linecolor": "white",
             "minorgridcolor": "white",
             "startlinecolor": "#2a3f5f"
            },
            "baxis": {
             "endlinecolor": "#2a3f5f",
             "gridcolor": "white",
             "linecolor": "white",
             "minorgridcolor": "white",
             "startlinecolor": "#2a3f5f"
            },
            "type": "carpet"
           }
          ],
          "choropleth": [
           {
            "colorbar": {
             "outlinewidth": 0,
             "ticks": ""
            },
            "type": "choropleth"
           }
          ],
          "contour": [
           {
            "colorbar": {
             "outlinewidth": 0,
             "ticks": ""
            },
            "colorscale": [
             [
              0,
              "#0d0887"
             ],
             [
              0.1111111111111111,
              "#46039f"
             ],
             [
              0.2222222222222222,
              "#7201a8"
             ],
             [
              0.3333333333333333,
              "#9c179e"
             ],
             [
              0.4444444444444444,
              "#bd3786"
             ],
             [
              0.5555555555555556,
              "#d8576b"
             ],
             [
              0.6666666666666666,
              "#ed7953"
             ],
             [
              0.7777777777777778,
              "#fb9f3a"
             ],
             [
              0.8888888888888888,
              "#fdca26"
             ],
             [
              1,
              "#f0f921"
             ]
            ],
            "type": "contour"
           }
          ],
          "contourcarpet": [
           {
            "colorbar": {
             "outlinewidth": 0,
             "ticks": ""
            },
            "type": "contourcarpet"
           }
          ],
          "heatmap": [
           {
            "colorbar": {
             "outlinewidth": 0,
             "ticks": ""
            },
            "colorscale": [
             [
              0,
              "#0d0887"
             ],
             [
              0.1111111111111111,
              "#46039f"
             ],
             [
              0.2222222222222222,
              "#7201a8"
             ],
             [
              0.3333333333333333,
              "#9c179e"
             ],
             [
              0.4444444444444444,
              "#bd3786"
             ],
             [
              0.5555555555555556,
              "#d8576b"
             ],
             [
              0.6666666666666666,
              "#ed7953"
             ],
             [
              0.7777777777777778,
              "#fb9f3a"
             ],
             [
              0.8888888888888888,
              "#fdca26"
             ],
             [
              1,
              "#f0f921"
             ]
            ],
            "type": "heatmap"
           }
          ],
          "histogram": [
           {
            "marker": {
             "pattern": {
              "fillmode": "overlay",
              "size": 10,
              "solidity": 0.2
             }
            },
            "type": "histogram"
           }
          ],
          "histogram2d": [
           {
            "colorbar": {
             "outlinewidth": 0,
             "ticks": ""
            },
            "colorscale": [
             [
              0,
              "#0d0887"
             ],
             [
              0.1111111111111111,
              "#46039f"
             ],
             [
              0.2222222222222222,
              "#7201a8"
             ],
             [
              0.3333333333333333,
              "#9c179e"
             ],
             [
              0.4444444444444444,
              "#bd3786"
             ],
             [
              0.5555555555555556,
              "#d8576b"
             ],
             [
              0.6666666666666666,
              "#ed7953"
             ],
             [
              0.7777777777777778,
              "#fb9f3a"
             ],
             [
              0.8888888888888888,
              "#fdca26"
             ],
             [
              1,
              "#f0f921"
             ]
            ],
            "type": "histogram2d"
           }
          ],
          "histogram2dcontour": [
           {
            "colorbar": {
             "outlinewidth": 0,
             "ticks": ""
            },
            "colorscale": [
             [
              0,
              "#0d0887"
             ],
             [
              0.1111111111111111,
              "#46039f"
             ],
             [
              0.2222222222222222,
              "#7201a8"
             ],
             [
              0.3333333333333333,
              "#9c179e"
             ],
             [
              0.4444444444444444,
              "#bd3786"
             ],
             [
              0.5555555555555556,
              "#d8576b"
             ],
             [
              0.6666666666666666,
              "#ed7953"
             ],
             [
              0.7777777777777778,
              "#fb9f3a"
             ],
             [
              0.8888888888888888,
              "#fdca26"
             ],
             [
              1,
              "#f0f921"
             ]
            ],
            "type": "histogram2dcontour"
           }
          ],
          "mesh3d": [
           {
            "colorbar": {
             "outlinewidth": 0,
             "ticks": ""
            },
            "type": "mesh3d"
           }
          ],
          "parcoords": [
           {
            "line": {
             "colorbar": {
              "outlinewidth": 0,
              "ticks": ""
             }
            },
            "type": "parcoords"
           }
          ],
          "pie": [
           {
            "automargin": true,
            "type": "pie"
           }
          ],
          "scatter": [
           {
            "fillpattern": {
             "fillmode": "overlay",
             "size": 10,
             "solidity": 0.2
            },
            "type": "scatter"
           }
          ],
          "scatter3d": [
           {
            "line": {
             "colorbar": {
              "outlinewidth": 0,
              "ticks": ""
             }
            },
            "marker": {
             "colorbar": {
              "outlinewidth": 0,
              "ticks": ""
             }
            },
            "type": "scatter3d"
           }
          ],
          "scattercarpet": [
           {
            "marker": {
             "colorbar": {
              "outlinewidth": 0,
              "ticks": ""
             }
            },
            "type": "scattercarpet"
           }
          ],
          "scattergeo": [
           {
            "marker": {
             "colorbar": {
              "outlinewidth": 0,
              "ticks": ""
             }
            },
            "type": "scattergeo"
           }
          ],
          "scattergl": [
           {
            "marker": {
             "colorbar": {
              "outlinewidth": 0,
              "ticks": ""
             }
            },
            "type": "scattergl"
           }
          ],
          "scattermap": [
           {
            "marker": {
             "colorbar": {
              "outlinewidth": 0,
              "ticks": ""
             }
            },
            "type": "scattermap"
           }
          ],
          "scattermapbox": [
           {
            "marker": {
             "colorbar": {
              "outlinewidth": 0,
              "ticks": ""
             }
            },
            "type": "scattermapbox"
           }
          ],
          "scatterpolar": [
           {
            "marker": {
             "colorbar": {
              "outlinewidth": 0,
              "ticks": ""
             }
            },
            "type": "scatterpolar"
           }
          ],
          "scatterpolargl": [
           {
            "marker": {
             "colorbar": {
              "outlinewidth": 0,
              "ticks": ""
             }
            },
            "type": "scatterpolargl"
           }
          ],
          "scatterternary": [
           {
            "marker": {
             "colorbar": {
              "outlinewidth": 0,
              "ticks": ""
             }
            },
            "type": "scatterternary"
           }
          ],
          "surface": [
           {
            "colorbar": {
             "outlinewidth": 0,
             "ticks": ""
            },
            "colorscale": [
             [
              0,
              "#0d0887"
             ],
             [
              0.1111111111111111,
              "#46039f"
             ],
             [
              0.2222222222222222,
              "#7201a8"
             ],
             [
              0.3333333333333333,
              "#9c179e"
             ],
             [
              0.4444444444444444,
              "#bd3786"
             ],
             [
              0.5555555555555556,
              "#d8576b"
             ],
             [
              0.6666666666666666,
              "#ed7953"
             ],
             [
              0.7777777777777778,
              "#fb9f3a"
             ],
             [
              0.8888888888888888,
              "#fdca26"
             ],
             [
              1,
              "#f0f921"
             ]
            ],
            "type": "surface"
           }
          ],
          "table": [
           {
            "cells": {
             "fill": {
              "color": "#EBF0F8"
             },
             "line": {
              "color": "white"
             }
            },
            "header": {
             "fill": {
              "color": "#C8D4E3"
             },
             "line": {
              "color": "white"
             }
            },
            "type": "table"
           }
          ]
         },
         "layout": {
          "annotationdefaults": {
           "arrowcolor": "#2a3f5f",
           "arrowhead": 0,
           "arrowwidth": 1
          },
          "autotypenumbers": "strict",
          "coloraxis": {
           "colorbar": {
            "outlinewidth": 0,
            "ticks": ""
           }
          },
          "colorscale": {
           "diverging": [
            [
             0,
             "#8e0152"
            ],
            [
             0.1,
             "#c51b7d"
            ],
            [
             0.2,
             "#de77ae"
            ],
            [
             0.3,
             "#f1b6da"
            ],
            [
             0.4,
             "#fde0ef"
            ],
            [
             0.5,
             "#f7f7f7"
            ],
            [
             0.6,
             "#e6f5d0"
            ],
            [
             0.7,
             "#b8e186"
            ],
            [
             0.8,
             "#7fbc41"
            ],
            [
             0.9,
             "#4d9221"
            ],
            [
             1,
             "#276419"
            ]
           ],
           "sequential": [
            [
             0,
             "#0d0887"
            ],
            [
             0.1111111111111111,
             "#46039f"
            ],
            [
             0.2222222222222222,
             "#7201a8"
            ],
            [
             0.3333333333333333,
             "#9c179e"
            ],
            [
             0.4444444444444444,
             "#bd3786"
            ],
            [
             0.5555555555555556,
             "#d8576b"
            ],
            [
             0.6666666666666666,
             "#ed7953"
            ],
            [
             0.7777777777777778,
             "#fb9f3a"
            ],
            [
             0.8888888888888888,
             "#fdca26"
            ],
            [
             1,
             "#f0f921"
            ]
           ],
           "sequentialminus": [
            [
             0,
             "#0d0887"
            ],
            [
             0.1111111111111111,
             "#46039f"
            ],
            [
             0.2222222222222222,
             "#7201a8"
            ],
            [
             0.3333333333333333,
             "#9c179e"
            ],
            [
             0.4444444444444444,
             "#bd3786"
            ],
            [
             0.5555555555555556,
             "#d8576b"
            ],
            [
             0.6666666666666666,
             "#ed7953"
            ],
            [
             0.7777777777777778,
             "#fb9f3a"
            ],
            [
             0.8888888888888888,
             "#fdca26"
            ],
            [
             1,
             "#f0f921"
            ]
           ]
          },
          "colorway": [
           "#636efa",
           "#EF553B",
           "#00cc96",
           "#ab63fa",
           "#FFA15A",
           "#19d3f3",
           "#FF6692",
           "#B6E880",
           "#FF97FF",
           "#FECB52"
          ],
          "font": {
           "color": "#2a3f5f"
          },
          "geo": {
           "bgcolor": "white",
           "lakecolor": "white",
           "landcolor": "#E5ECF6",
           "showlakes": true,
           "showland": true,
           "subunitcolor": "white"
          },
          "hoverlabel": {
           "align": "left"
          },
          "hovermode": "closest",
          "mapbox": {
           "style": "light"
          },
          "paper_bgcolor": "white",
          "plot_bgcolor": "#E5ECF6",
          "polar": {
           "angularaxis": {
            "gridcolor": "white",
            "linecolor": "white",
            "ticks": ""
           },
           "bgcolor": "#E5ECF6",
           "radialaxis": {
            "gridcolor": "white",
            "linecolor": "white",
            "ticks": ""
           }
          },
          "scene": {
           "xaxis": {
            "backgroundcolor": "#E5ECF6",
            "gridcolor": "white",
            "gridwidth": 2,
            "linecolor": "white",
            "showbackground": true,
            "ticks": "",
            "zerolinecolor": "white"
           },
           "yaxis": {
            "backgroundcolor": "#E5ECF6",
            "gridcolor": "white",
            "gridwidth": 2,
            "linecolor": "white",
            "showbackground": true,
            "ticks": "",
            "zerolinecolor": "white"
           },
           "zaxis": {
            "backgroundcolor": "#E5ECF6",
            "gridcolor": "white",
            "gridwidth": 2,
            "linecolor": "white",
            "showbackground": true,
            "ticks": "",
            "zerolinecolor": "white"
           }
          },
          "shapedefaults": {
           "line": {
            "color": "#2a3f5f"
           }
          },
          "ternary": {
           "aaxis": {
            "gridcolor": "white",
            "linecolor": "white",
            "ticks": ""
           },
           "baxis": {
            "gridcolor": "white",
            "linecolor": "white",
            "ticks": ""
           },
           "bgcolor": "#E5ECF6",
           "caxis": {
            "gridcolor": "white",
            "linecolor": "white",
            "ticks": ""
           }
          },
          "title": {
           "x": 0.05
          },
          "xaxis": {
           "automargin": true,
           "gridcolor": "white",
           "linecolor": "white",
           "ticks": "",
           "title": {
            "standoff": 15
           },
           "zerolinecolor": "white",
           "zerolinewidth": 2
          },
          "yaxis": {
           "automargin": true,
           "gridcolor": "white",
           "linecolor": "white",
           "ticks": "",
           "title": {
            "standoff": 15
           },
           "zerolinecolor": "white",
           "zerolinewidth": 2
          }
         }
        },
        "title": {
         "text": "Boxplot: Playing Years vs Grade"
        },
        "xaxis": {
         "anchor": "y",
         "categoryarray": [
          1,
          0,
          3,
          2,
          4
         ],
         "categoryorder": "array",
         "domain": [
          0,
          1
         ],
         "title": {
          "text": "Playing Years"
         }
        },
        "yaxis": {
         "anchor": "x",
         "domain": [
          0,
          1
         ],
         "gridcolor": "lightgray",
         "title": {
          "text": "Grade"
         }
        }
       }
      },
      "image/png": "[encoded data removed]"
     },
     "metadata": {},
     "output_type": "display_data"
    }
   ],
   "source": [
    "# Run eerste deze cel voordat je verder gaat \n",
    "\n",
    "# Hieronder de libraries die gebruikt zijn\n",
    "import pandas as pd\n",
    "import plotly.express as px\n",
    "import plotly.graph_objects as go\n",
    "\n",
    "# Hieronder laad je de datasets in\n",
    "df1 = pd.read_csv(\"StudentPerformanceFactors.csv\")\n",
    "df2 = pd.read_csv(\"gameandgrade.csv\")\n",
    "df3 = pd.read_csv(\"ResearchInformation3.csv\")\n",
    "\n",
    "# Letop! krijg je een error dan heb je waarschijlijk een andere naam aan de datasets gegeven \n",
    "# of de datasets staan niet in dezelfde map als de jupyter notebook \n",
    "\n",
    "df2[\"Grade\"] = pd.to_numeric(df2[\"Grade\"], errors=\"coerce\")\n",
    "\n",
    "# Boxplot in Plotly\n",
    "fig = px.box(\n",
    "    df2,\n",
    "    x=\"Playing Years\",\n",
    "    y=\"Grade\",\n",
    "    color=\"Playing Years\",  # vergelijkbaar met hue in Seaborn\n",
    "    color_discrete_sequence=px.colors.qualitative.Set1\n",
    ")\n",
    "\n",
    "# Layout aanpassen\n",
    "fig.update_layout(\n",
    "    title=\"Boxplot: Playing Years vs Grade\",\n",
    "    xaxis_title=\"Playing Years\",\n",
    "    yaxis_title=\"Grade\",\n",
    "    showlegend=False,\n",
    "    yaxis=dict(gridcolor='lightgray')\n",
    ")\n",
    "\n",
    "fig.show()"
   ]
  }
 ],
 "metadata": {
  "kernelspec": {
   "display_name": "Python 3",
   "language": "python",
   "name": "python3"
  },
  "language_info": {
   "codemirror_mode": {
    "name": "ipython",
    "version": 3
   },
   "file_extension": ".py",
   "mimetype": "text/x-python",
   "name": "python",
   "nbconvert_exporter": "python",
   "pygments_lexer": "ipython3",
   "version": "3.12.7"
  }
 },
 "nbformat": 4,
 "nbformat_minor": 5
}
